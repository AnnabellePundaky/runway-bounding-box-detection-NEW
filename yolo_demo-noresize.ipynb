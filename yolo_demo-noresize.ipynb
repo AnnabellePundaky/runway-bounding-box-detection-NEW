{
 "cells": [
  {
   "cell_type": "markdown",
   "metadata": {},
   "source": [
    "Import necesary libraries "
   ]
  },
  {
   "cell_type": "code",
   "execution_count": 1,
   "metadata": {},
   "outputs": [],
   "source": [
    "import os\n",
    "import pandas as pd\n",
    "import cv2\n",
    "import random\n",
    "from ultralytics import YOLO\n"
   ]
  },
  {
   "cell_type": "markdown",
   "metadata": {},
   "source": [
    "Data Preperation "
   ]
  },
  {
   "cell_type": "markdown",
   "metadata": {},
   "source": [
    "only using the LARD_Train_Birk_LFST folder of data, since the data set is so large and will take to long to run. I will be dividing that data set into training, validation and test data"
   ]
  },
  {
   "cell_type": "code",
   "execution_count": 2,
   "metadata": {},
   "outputs": [],
   "source": [
    "# Specify the training folder to use\n",
    "root_folder = r'C:\\Users\\Annabelle\\Desktop\\runway-bounding-box-detection NEW'\n",
    "train_folder = 'LARD_train_BIRK_LFST'"
   ]
  },
  {
   "cell_type": "code",
   "execution_count": 3,
   "metadata": {},
   "outputs": [],
   "source": [
    "# Paths for images, metadata, and output\n",
    "folder_path = os.path.join(root_folder, train_folder) #path to folder 'LARD_train_BIRK_LFST'\n",
    "image_folder = os.path.join(folder_path, 'images') #path to images sub-folder in 'LARD_train_BIRK_LFST'\n",
    "csv_path = os.path.join(folder_path, 'LARD_train_BIRK_LFST.csv')  # path to CSV file\n",
    "output_folder = 'dataset_demo' #new folder for the sample of train & val images and labels taking for this\n",
    "subset_size = 20  # Number of images to sample for train/val. doing small ammount to speed up demo/training time "
   ]
  },
  {
   "cell_type": "code",
   "execution_count": 4,
   "metadata": {},
   "outputs": [
    {
     "name": "stdout",
     "output_type": "stream",
     "text": [
      "Images found in the folder:\n",
      "['BIRK_01_500_000.jpeg', 'BIRK_01_500_001.jpeg', 'BIRK_01_500_002.jpeg', 'BIRK_01_500_003.jpeg', 'BIRK_01_500_004.jpeg', 'BIRK_01_500_005.jpeg', 'BIRK_01_500_006.jpeg', 'BIRK_01_500_007.jpeg', 'BIRK_01_500_008.jpeg', 'BIRK_01_500_009.jpeg', 'BIRK_01_500_010.jpeg', 'BIRK_01_500_011.jpeg', 'BIRK_01_500_012.jpeg', 'BIRK_01_500_013.jpeg', 'BIRK_01_500_014.jpeg', 'BIRK_01_500_015.jpeg', 'BIRK_01_500_016.jpeg', 'BIRK_01_500_017.jpeg', 'BIRK_01_500_018.jpeg', 'BIRK_01_500_019.jpeg', 'BIRK_01_500_020.jpeg', 'BIRK_01_500_021.jpeg', 'BIRK_01_500_022.jpeg', 'BIRK_01_500_023.jpeg', 'BIRK_01_500_024.jpeg', 'BIRK_01_500_025.jpeg', 'BIRK_01_500_026.jpeg', 'BIRK_01_500_027.jpeg', 'BIRK_01_500_028.jpeg', 'BIRK_01_500_029.jpeg', 'BIRK_01_500_030.jpeg', 'BIRK_01_500_031.jpeg', 'BIRK_01_500_032.jpeg', 'BIRK_01_500_033.jpeg', 'BIRK_01_500_034.jpeg', 'BIRK_01_500_035.jpeg', 'BIRK_01_500_036.jpeg', 'BIRK_01_500_037.jpeg', 'BIRK_01_500_038.jpeg', 'BIRK_01_500_039.jpeg', 'BIRK_01_500_040.jpeg', 'BIRK_01_500_041.jpeg', 'BIRK_01_500_042.jpeg', 'BIRK_01_500_043.jpeg', 'BIRK_01_500_044.jpeg', 'BIRK_01_500_045.jpeg', 'BIRK_01_500_046.jpeg', 'BIRK_01_500_047.jpeg', 'BIRK_01_500_048.jpeg', 'BIRK_01_500_049.jpeg', 'BIRK_01_500_050.jpeg', 'BIRK_01_500_051.jpeg', 'BIRK_01_500_052.jpeg', 'BIRK_01_500_053.jpeg', 'BIRK_01_500_054.jpeg', 'BIRK_01_500_055.jpeg', 'BIRK_01_500_056.jpeg', 'BIRK_01_500_057.jpeg', 'BIRK_01_500_058.jpeg', 'BIRK_01_500_059.jpeg', 'BIRK_01_500_060.jpeg', 'BIRK_01_500_061.jpeg', 'BIRK_01_500_062.jpeg', 'BIRK_01_500_063.jpeg', 'BIRK_01_500_064.jpeg', 'BIRK_01_500_065.jpeg', 'BIRK_01_500_066.jpeg', 'BIRK_01_500_067.jpeg', 'BIRK_01_500_068.jpeg', 'BIRK_01_500_069.jpeg', 'BIRK_01_500_070.jpeg', 'BIRK_01_500_071.jpeg', 'BIRK_01_500_072.jpeg', 'BIRK_01_500_073.jpeg', 'BIRK_01_500_074.jpeg', 'BIRK_01_500_075.jpeg', 'BIRK_01_500_076.jpeg', 'BIRK_01_500_077.jpeg', 'BIRK_01_500_078.jpeg', 'BIRK_01_500_079.jpeg', 'BIRK_01_500_080.jpeg', 'BIRK_01_500_081.jpeg', 'BIRK_01_500_082.jpeg', 'BIRK_01_500_083.jpeg', 'BIRK_01_500_084.jpeg', 'BIRK_01_500_085.jpeg', 'BIRK_01_500_086.jpeg', 'BIRK_01_500_087.jpeg', 'BIRK_01_500_088.jpeg', 'BIRK_01_500_089.jpeg', 'BIRK_01_500_090.jpeg', 'BIRK_01_500_091.jpeg', 'BIRK_01_500_092.jpeg', 'BIRK_01_500_093.jpeg', 'BIRK_01_500_094.jpeg', 'BIRK_01_500_095.jpeg', 'BIRK_01_500_096.jpeg', 'BIRK_01_500_097.jpeg', 'BIRK_01_500_098.jpeg', 'BIRK_01_500_099.jpeg', 'BIRK_01_500_100.jpeg', 'BIRK_01_500_101.jpeg', 'BIRK_01_500_102.jpeg', 'BIRK_01_500_103.jpeg', 'BIRK_01_500_104.jpeg', 'BIRK_01_500_105.jpeg', 'BIRK_01_500_106.jpeg', 'BIRK_01_500_107.jpeg', 'BIRK_01_500_108.jpeg', 'BIRK_01_500_109.jpeg', 'BIRK_01_500_110.jpeg', 'BIRK_01_500_111.jpeg', 'BIRK_01_500_112.jpeg', 'BIRK_01_500_113.jpeg', 'BIRK_01_500_114.jpeg', 'BIRK_01_500_115.jpeg', 'BIRK_01_500_116.jpeg', 'BIRK_01_500_117.jpeg', 'BIRK_01_500_118.jpeg', 'BIRK_01_500_119.jpeg', 'BIRK_01_500_120.jpeg', 'BIRK_01_500_121.jpeg', 'BIRK_01_500_122.jpeg', 'BIRK_01_500_123.jpeg', 'BIRK_01_500_124.jpeg', 'BIRK_01_500_125.jpeg', 'BIRK_01_500_126.jpeg', 'BIRK_01_500_127.jpeg', 'BIRK_01_500_128.jpeg', 'BIRK_01_500_129.jpeg', 'BIRK_01_500_130.jpeg', 'BIRK_01_500_131.jpeg', 'BIRK_01_500_132.jpeg', 'BIRK_01_500_133.jpeg', 'BIRK_01_500_134.jpeg', 'BIRK_01_500_135.jpeg', 'BIRK_01_500_136.jpeg', 'BIRK_01_500_137.jpeg', 'BIRK_01_500_138.jpeg', 'BIRK_01_500_139.jpeg', 'BIRK_01_500_140.jpeg', 'BIRK_01_500_141.jpeg', 'BIRK_01_500_142.jpeg', 'BIRK_01_500_143.jpeg', 'BIRK_01_500_144.jpeg', 'BIRK_01_500_145.jpeg', 'BIRK_01_500_146.jpeg', 'BIRK_01_500_147.jpeg', 'BIRK_01_500_148.jpeg', 'BIRK_01_500_149.jpeg', 'BIRK_01_500_150.jpeg', 'BIRK_01_500_151.jpeg', 'BIRK_01_500_152.jpeg', 'BIRK_01_500_153.jpeg', 'BIRK_01_500_154.jpeg', 'BIRK_01_500_155.jpeg', 'BIRK_01_500_156.jpeg', 'BIRK_01_500_157.jpeg', 'BIRK_01_500_158.jpeg', 'BIRK_01_500_159.jpeg', 'BIRK_01_500_160.jpeg', 'BIRK_01_500_161.jpeg', 'BIRK_01_500_162.jpeg', 'BIRK_01_500_163.jpeg', 'BIRK_01_500_164.jpeg', 'BIRK_01_500_165.jpeg', 'BIRK_01_500_166.jpeg', 'BIRK_01_500_167.jpeg', 'BIRK_01_500_168.jpeg', 'BIRK_01_500_169.jpeg', 'BIRK_01_500_170.jpeg', 'BIRK_01_500_171.jpeg', 'BIRK_01_500_172.jpeg', 'BIRK_01_500_173.jpeg', 'BIRK_01_500_174.jpeg', 'BIRK_01_500_175.jpeg', 'BIRK_01_500_176.jpeg', 'BIRK_01_500_177.jpeg', 'BIRK_01_500_178.jpeg', 'BIRK_01_500_179.jpeg', 'BIRK_01_500_180.jpeg', 'BIRK_01_500_181.jpeg', 'BIRK_01_500_182.jpeg', 'BIRK_01_500_183.jpeg', 'BIRK_01_500_184.jpeg', 'BIRK_01_500_185.jpeg', 'BIRK_01_500_186.jpeg', 'BIRK_01_500_187.jpeg', 'BIRK_01_500_188.jpeg', 'BIRK_01_500_189.jpeg', 'BIRK_01_500_190.jpeg', 'BIRK_01_500_191.jpeg', 'BIRK_01_500_192.jpeg', 'BIRK_01_500_193.jpeg', 'BIRK_01_500_194.jpeg', 'BIRK_01_500_195.jpeg', 'BIRK_01_500_196.jpeg', 'BIRK_01_500_197.jpeg', 'BIRK_01_500_198.jpeg', 'BIRK_01_500_199.jpeg', 'BIRK_01_500_200.jpeg', 'BIRK_01_500_201.jpeg', 'BIRK_01_500_202.jpeg', 'BIRK_01_500_203.jpeg', 'BIRK_01_500_204.jpeg', 'BIRK_01_500_205.jpeg', 'BIRK_01_500_206.jpeg', 'BIRK_01_500_207.jpeg', 'BIRK_01_500_208.jpeg', 'BIRK_01_500_209.jpeg', 'BIRK_01_500_210.jpeg', 'BIRK_01_500_211.jpeg', 'BIRK_01_500_212.jpeg', 'BIRK_01_500_213.jpeg', 'BIRK_01_500_214.jpeg', 'BIRK_01_500_215.jpeg', 'BIRK_01_500_216.jpeg', 'BIRK_01_500_217.jpeg', 'BIRK_01_500_218.jpeg', 'BIRK_01_500_219.jpeg', 'BIRK_01_500_220.jpeg', 'BIRK_01_500_221.jpeg', 'BIRK_01_500_222.jpeg', 'BIRK_01_500_223.jpeg', 'BIRK_01_500_224.jpeg', 'BIRK_01_500_225.jpeg', 'BIRK_01_500_226.jpeg', 'BIRK_01_500_227.jpeg', 'BIRK_01_500_228.jpeg', 'BIRK_01_500_229.jpeg', 'BIRK_01_500_230.jpeg', 'BIRK_01_500_231.jpeg', 'BIRK_01_500_232.jpeg', 'BIRK_01_500_233.jpeg', 'BIRK_01_500_234.jpeg', 'BIRK_01_500_235.jpeg', 'BIRK_01_500_236.jpeg', 'BIRK_01_500_237.jpeg', 'BIRK_01_500_238.jpeg', 'BIRK_01_500_239.jpeg', 'BIRK_01_500_240.jpeg', 'BIRK_01_500_241.jpeg', 'BIRK_01_500_242.jpeg', 'BIRK_01_500_243.jpeg', 'BIRK_01_500_244.jpeg', 'BIRK_01_500_245.jpeg', 'BIRK_01_500_246.jpeg', 'BIRK_01_500_247.jpeg', 'BIRK_01_500_248.jpeg', 'BIRK_01_500_249.jpeg', 'BIRK_01_500_250.jpeg', 'BIRK_01_500_251.jpeg', 'BIRK_01_500_252.jpeg', 'BIRK_01_500_253.jpeg', 'BIRK_01_500_254.jpeg', 'BIRK_01_500_255.jpeg', 'BIRK_01_500_256.jpeg', 'BIRK_01_500_257.jpeg', 'BIRK_01_500_258.jpeg', 'BIRK_01_500_259.jpeg', 'BIRK_01_500_260.jpeg', 'BIRK_01_500_261.jpeg', 'BIRK_01_500_262.jpeg', 'BIRK_01_500_263.jpeg', 'BIRK_01_500_264.jpeg', 'BIRK_01_500_265.jpeg', 'BIRK_01_500_266.jpeg', 'BIRK_01_500_267.jpeg', 'BIRK_01_500_268.jpeg', 'BIRK_01_500_269.jpeg', 'BIRK_01_500_270.jpeg', 'BIRK_01_500_271.jpeg', 'BIRK_01_500_272.jpeg', 'BIRK_01_500_273.jpeg', 'BIRK_01_500_274.jpeg', 'BIRK_01_500_275.jpeg', 'BIRK_01_500_276.jpeg', 'BIRK_01_500_277.jpeg', 'BIRK_01_500_278.jpeg', 'BIRK_01_500_279.jpeg', 'BIRK_01_500_280.jpeg', 'BIRK_01_500_281.jpeg', 'BIRK_01_500_282.jpeg', 'BIRK_01_500_283.jpeg', 'BIRK_01_500_284.jpeg', 'BIRK_01_500_285.jpeg', 'BIRK_01_500_286.jpeg', 'BIRK_01_500_287.jpeg', 'BIRK_01_500_288.jpeg', 'BIRK_01_500_289.jpeg', 'BIRK_01_500_290.jpeg', 'BIRK_01_500_291.jpeg', 'BIRK_01_500_292.jpeg', 'BIRK_01_500_293.jpeg', 'BIRK_01_500_294.jpeg', 'BIRK_01_500_295.jpeg', 'BIRK_01_500_296.jpeg', 'BIRK_01_500_297.jpeg', 'BIRK_01_500_298.jpeg', 'BIRK_01_500_299.jpeg', 'BIRK_01_500_300.jpeg', 'BIRK_01_500_301.jpeg', 'BIRK_01_500_302.jpeg', 'BIRK_01_500_303.jpeg', 'BIRK_01_500_304.jpeg', 'BIRK_01_500_305.jpeg', 'BIRK_01_500_306.jpeg', 'BIRK_01_500_307.jpeg', 'BIRK_01_500_308.jpeg', 'BIRK_01_500_309.jpeg', 'BIRK_01_500_310.jpeg', 'BIRK_01_500_311.jpeg', 'BIRK_01_500_312.jpeg', 'BIRK_01_500_313.jpeg', 'BIRK_01_500_314.jpeg', 'BIRK_01_500_315.jpeg', 'BIRK_01_500_316.jpeg', 'BIRK_01_500_317.jpeg', 'BIRK_01_500_318.jpeg', 'BIRK_01_500_319.jpeg', 'BIRK_01_500_320.jpeg', 'BIRK_01_500_321.jpeg', 'BIRK_01_500_322.jpeg', 'BIRK_01_500_323.jpeg', 'BIRK_01_500_324.jpeg', 'BIRK_01_500_325.jpeg', 'BIRK_01_500_326.jpeg', 'BIRK_01_500_327.jpeg', 'BIRK_01_500_328.jpeg', 'BIRK_01_500_329.jpeg', 'BIRK_01_500_330.jpeg', 'BIRK_01_500_331.jpeg', 'BIRK_01_500_332.jpeg', 'BIRK_01_500_333.jpeg', 'BIRK_01_500_334.jpeg', 'BIRK_01_500_335.jpeg', 'BIRK_01_500_336.jpeg', 'BIRK_01_500_337.jpeg', 'BIRK_01_500_338.jpeg', 'BIRK_01_500_339.jpeg', 'BIRK_01_500_340.jpeg', 'BIRK_01_500_341.jpeg', 'BIRK_01_500_342.jpeg', 'BIRK_01_500_343.jpeg', 'BIRK_01_500_344.jpeg', 'BIRK_01_500_345.jpeg', 'BIRK_01_500_346.jpeg', 'BIRK_01_500_347.jpeg', 'BIRK_01_500_348.jpeg', 'BIRK_01_500_349.jpeg', 'BIRK_01_500_350.jpeg', 'BIRK_01_500_351.jpeg', 'BIRK_01_500_352.jpeg', 'BIRK_01_500_353.jpeg', 'BIRK_01_500_354.jpeg', 'BIRK_01_500_355.jpeg', 'BIRK_01_500_356.jpeg', 'BIRK_01_500_357.jpeg', 'BIRK_01_500_358.jpeg', 'BIRK_01_500_359.jpeg', 'BIRK_01_500_360.jpeg', 'BIRK_01_500_361.jpeg', 'BIRK_01_500_362.jpeg', 'BIRK_01_500_363.jpeg', 'BIRK_01_500_364.jpeg', 'BIRK_01_500_365.jpeg', 'BIRK_01_500_366.jpeg', 'BIRK_01_500_367.jpeg', 'BIRK_01_500_368.jpeg', 'BIRK_01_500_369.jpeg', 'BIRK_01_500_370.jpeg', 'BIRK_01_500_371.jpeg', 'BIRK_01_500_372.jpeg', 'BIRK_01_500_373.jpeg', 'BIRK_01_500_374.jpeg', 'BIRK_01_500_375.jpeg', 'BIRK_01_500_376.jpeg', 'BIRK_01_500_377.jpeg', 'BIRK_01_500_378.jpeg', 'BIRK_01_500_379.jpeg', 'BIRK_01_500_380.jpeg', 'BIRK_01_500_381.jpeg', 'BIRK_01_500_382.jpeg', 'BIRK_01_500_383.jpeg', 'BIRK_01_500_384.jpeg', 'BIRK_01_500_385.jpeg', 'BIRK_01_500_386.jpeg', 'BIRK_01_500_387.jpeg', 'BIRK_01_500_388.jpeg', 'BIRK_01_500_389.jpeg', 'BIRK_01_500_390.jpeg', 'BIRK_01_500_391.jpeg', 'BIRK_01_500_392.jpeg', 'BIRK_01_500_393.jpeg', 'BIRK_01_500_394.jpeg', 'BIRK_01_500_395.jpeg', 'BIRK_01_500_396.jpeg', 'BIRK_01_500_397.jpeg', 'BIRK_01_500_398.jpeg', 'BIRK_01_500_399.jpeg', 'BIRK_01_500_400.jpeg', 'BIRK_01_500_401.jpeg', 'BIRK_01_500_402.jpeg', 'BIRK_01_500_403.jpeg', 'BIRK_01_500_404.jpeg', 'BIRK_01_500_405.jpeg', 'BIRK_01_500_406.jpeg', 'BIRK_01_500_407.jpeg', 'BIRK_01_500_408.jpeg', 'BIRK_01_500_409.jpeg', 'BIRK_01_500_410.jpeg', 'BIRK_01_500_411.jpeg', 'BIRK_01_500_412.jpeg', 'BIRK_01_500_413.jpeg', 'BIRK_01_500_414.jpeg', 'BIRK_01_500_415.jpeg', 'BIRK_01_500_416.jpeg', 'BIRK_01_500_417.jpeg', 'BIRK_01_500_418.jpeg', 'BIRK_01_500_419.jpeg', 'BIRK_01_500_420.jpeg', 'BIRK_01_500_421.jpeg', 'BIRK_01_500_422.jpeg', 'BIRK_01_500_423.jpeg', 'BIRK_01_500_424.jpeg', 'BIRK_01_500_425.jpeg', 'BIRK_01_500_426.jpeg', 'BIRK_01_500_427.jpeg', 'BIRK_01_500_428.jpeg', 'BIRK_01_500_429.jpeg', 'BIRK_01_500_430.jpeg', 'BIRK_01_500_431.jpeg', 'BIRK_01_500_432.jpeg', 'BIRK_01_500_433.jpeg', 'BIRK_01_500_434.jpeg', 'BIRK_01_500_435.jpeg', 'BIRK_01_500_436.jpeg', 'BIRK_01_500_437.jpeg', 'BIRK_01_500_438.jpeg', 'BIRK_01_500_439.jpeg', 'BIRK_01_500_440.jpeg', 'BIRK_01_500_441.jpeg', 'BIRK_01_500_442.jpeg', 'BIRK_01_500_443.jpeg', 'BIRK_01_500_444.jpeg', 'BIRK_01_500_445.jpeg', 'BIRK_01_500_446.jpeg', 'BIRK_01_500_447.jpeg', 'BIRK_01_500_448.jpeg', 'BIRK_01_500_449.jpeg', 'BIRK_01_500_451.jpeg', 'BIRK_01_500_452.jpeg', 'BIRK_01_500_453.jpeg', 'BIRK_01_500_454.jpeg', 'BIRK_01_500_455.jpeg', 'BIRK_01_500_456.jpeg', 'BIRK_01_500_457.jpeg', 'BIRK_01_500_458.jpeg', 'BIRK_01_500_459.jpeg', 'BIRK_01_500_460.jpeg', 'BIRK_01_500_461.jpeg', 'BIRK_13_500_000.jpeg', 'BIRK_13_500_001.jpeg', 'BIRK_13_500_002.jpeg', 'BIRK_13_500_003.jpeg', 'BIRK_13_500_004.jpeg', 'BIRK_13_500_005.jpeg', 'BIRK_13_500_006.jpeg', 'BIRK_13_500_007.jpeg', 'BIRK_13_500_008.jpeg', 'BIRK_13_500_009.jpeg', 'BIRK_13_500_010.jpeg', 'BIRK_13_500_011.jpeg', 'BIRK_13_500_012.jpeg', 'BIRK_13_500_013.jpeg', 'BIRK_13_500_014.jpeg', 'BIRK_13_500_015.jpeg', 'BIRK_13_500_016.jpeg', 'BIRK_13_500_017.jpeg', 'BIRK_13_500_018.jpeg', 'BIRK_13_500_019.jpeg', 'BIRK_13_500_020.jpeg', 'BIRK_13_500_021.jpeg', 'BIRK_13_500_022.jpeg', 'BIRK_13_500_023.jpeg', 'BIRK_13_500_024.jpeg', 'BIRK_13_500_025.jpeg', 'BIRK_13_500_026.jpeg', 'BIRK_13_500_027.jpeg', 'BIRK_13_500_028.jpeg', 'BIRK_13_500_029.jpeg', 'BIRK_13_500_030.jpeg', 'BIRK_13_500_031.jpeg', 'BIRK_13_500_032.jpeg', 'BIRK_13_500_033.jpeg', 'BIRK_13_500_034.jpeg', 'BIRK_13_500_035.jpeg', 'BIRK_13_500_036.jpeg', 'BIRK_13_500_037.jpeg', 'BIRK_13_500_038.jpeg', 'BIRK_13_500_039.jpeg', 'BIRK_13_500_040.jpeg', 'BIRK_13_500_041.jpeg', 'BIRK_13_500_042.jpeg', 'BIRK_13_500_043.jpeg', 'BIRK_13_500_044.jpeg', 'BIRK_13_500_045.jpeg', 'BIRK_13_500_046.jpeg', 'BIRK_13_500_047.jpeg', 'BIRK_13_500_048.jpeg', 'BIRK_13_500_049.jpeg', 'BIRK_13_500_050.jpeg', 'BIRK_13_500_051.jpeg', 'BIRK_13_500_052.jpeg', 'BIRK_13_500_053.jpeg', 'BIRK_13_500_054.jpeg', 'BIRK_13_500_055.jpeg', 'BIRK_13_500_056.jpeg', 'BIRK_13_500_057.jpeg', 'BIRK_13_500_058.jpeg', 'BIRK_13_500_059.jpeg', 'BIRK_13_500_060.jpeg', 'BIRK_13_500_061.jpeg', 'BIRK_13_500_062.jpeg', 'BIRK_13_500_063.jpeg', 'BIRK_13_500_064.jpeg', 'BIRK_13_500_065.jpeg', 'BIRK_13_500_066.jpeg', 'BIRK_13_500_067.jpeg', 'BIRK_13_500_068.jpeg', 'BIRK_13_500_069.jpeg', 'BIRK_13_500_070.jpeg', 'BIRK_13_500_071.jpeg', 'BIRK_13_500_072.jpeg', 'BIRK_13_500_073.jpeg', 'BIRK_13_500_074.jpeg', 'BIRK_13_500_075.jpeg', 'BIRK_13_500_076.jpeg', 'BIRK_13_500_077.jpeg', 'BIRK_13_500_078.jpeg', 'BIRK_13_500_079.jpeg', 'BIRK_13_500_080.jpeg', 'BIRK_13_500_081.jpeg', 'BIRK_13_500_082.jpeg', 'BIRK_13_500_083.jpeg', 'BIRK_13_500_084.jpeg', 'BIRK_13_500_085.jpeg', 'BIRK_13_500_086.jpeg', 'BIRK_13_500_087.jpeg', 'BIRK_13_500_088.jpeg', 'BIRK_13_500_089.jpeg', 'BIRK_13_500_090.jpeg', 'BIRK_13_500_091.jpeg', 'BIRK_13_500_092.jpeg', 'BIRK_13_500_093.jpeg', 'BIRK_13_500_094.jpeg', 'BIRK_13_500_095.jpeg', 'BIRK_13_500_096.jpeg', 'BIRK_13_500_097.jpeg', 'BIRK_13_500_098.jpeg', 'BIRK_13_500_099.jpeg', 'BIRK_13_500_100.jpeg', 'BIRK_13_500_101.jpeg', 'BIRK_13_500_102.jpeg', 'BIRK_13_500_103.jpeg', 'BIRK_13_500_104.jpeg', 'BIRK_13_500_105.jpeg', 'BIRK_13_500_106.jpeg', 'BIRK_13_500_107.jpeg', 'BIRK_13_500_108.jpeg', 'BIRK_13_500_109.jpeg', 'BIRK_13_500_110.jpeg', 'BIRK_13_500_111.jpeg', 'BIRK_13_500_112.jpeg', 'BIRK_13_500_113.jpeg', 'BIRK_13_500_114.jpeg', 'BIRK_13_500_115.jpeg', 'BIRK_13_500_116.jpeg', 'BIRK_13_500_117.jpeg', 'BIRK_13_500_118.jpeg', 'BIRK_13_500_119.jpeg', 'BIRK_13_500_120.jpeg', 'BIRK_13_500_121.jpeg', 'BIRK_13_500_122.jpeg', 'BIRK_13_500_123.jpeg', 'BIRK_13_500_124.jpeg', 'BIRK_13_500_125.jpeg', 'BIRK_13_500_126.jpeg', 'BIRK_13_500_127.jpeg', 'BIRK_13_500_128.jpeg', 'BIRK_13_500_129.jpeg', 'BIRK_13_500_130.jpeg', 'BIRK_13_500_131.jpeg', 'BIRK_13_500_132.jpeg', 'BIRK_13_500_133.jpeg', 'BIRK_13_500_134.jpeg', 'BIRK_13_500_135.jpeg', 'BIRK_13_500_136.jpeg', 'BIRK_13_500_137.jpeg', 'BIRK_13_500_138.jpeg', 'BIRK_13_500_139.jpeg', 'BIRK_13_500_140.jpeg', 'BIRK_13_500_141.jpeg', 'BIRK_13_500_142.jpeg', 'BIRK_13_500_143.jpeg', 'BIRK_13_500_144.jpeg', 'BIRK_13_500_145.jpeg', 'BIRK_13_500_146.jpeg', 'BIRK_13_500_147.jpeg', 'BIRK_13_500_148.jpeg', 'BIRK_13_500_149.jpeg', 'BIRK_13_500_150.jpeg', 'BIRK_13_500_151.jpeg', 'BIRK_13_500_152.jpeg', 'BIRK_13_500_153.jpeg', 'BIRK_13_500_154.jpeg', 'BIRK_13_500_155.jpeg', 'BIRK_13_500_156.jpeg', 'BIRK_13_500_157.jpeg', 'BIRK_13_500_158.jpeg', 'BIRK_13_500_159.jpeg', 'BIRK_13_500_160.jpeg', 'BIRK_13_500_161.jpeg', 'BIRK_13_500_162.jpeg', 'BIRK_13_500_163.jpeg', 'BIRK_13_500_164.jpeg', 'BIRK_13_500_165.jpeg', 'BIRK_13_500_166.jpeg', 'BIRK_13_500_167.jpeg', 'BIRK_13_500_168.jpeg', 'BIRK_13_500_169.jpeg', 'BIRK_13_500_170.jpeg', 'BIRK_13_500_171.jpeg', 'BIRK_13_500_172.jpeg', 'BIRK_13_500_173.jpeg', 'BIRK_13_500_174.jpeg', 'BIRK_13_500_175.jpeg', 'BIRK_13_500_176.jpeg', 'BIRK_13_500_177.jpeg', 'BIRK_13_500_178.jpeg', 'BIRK_13_500_179.jpeg', 'BIRK_13_500_180.jpeg', 'BIRK_13_500_181.jpeg', 'BIRK_13_500_182.jpeg', 'BIRK_13_500_183.jpeg', 'BIRK_13_500_184.jpeg', 'BIRK_13_500_185.jpeg', 'BIRK_13_500_186.jpeg', 'BIRK_13_500_187.jpeg', 'BIRK_13_500_188.jpeg', 'BIRK_13_500_189.jpeg', 'BIRK_13_500_190.jpeg', 'BIRK_13_500_191.jpeg', 'BIRK_13_500_192.jpeg', 'BIRK_13_500_193.jpeg', 'BIRK_13_500_194.jpeg', 'BIRK_13_500_195.jpeg', 'BIRK_13_500_196.jpeg', 'BIRK_13_500_197.jpeg', 'BIRK_13_500_198.jpeg', 'BIRK_13_500_199.jpeg', 'BIRK_13_500_200.jpeg', 'BIRK_13_500_201.jpeg', 'BIRK_13_500_202.jpeg', 'BIRK_13_500_203.jpeg', 'BIRK_13_500_204.jpeg', 'BIRK_13_500_205.jpeg', 'BIRK_13_500_206.jpeg', 'BIRK_13_500_207.jpeg', 'BIRK_13_500_208.jpeg', 'BIRK_13_500_209.jpeg', 'BIRK_13_500_210.jpeg', 'BIRK_13_500_211.jpeg', 'BIRK_13_500_212.jpeg', 'BIRK_13_500_213.jpeg', 'BIRK_13_500_214.jpeg', 'BIRK_13_500_215.jpeg', 'BIRK_13_500_216.jpeg', 'BIRK_13_500_217.jpeg', 'BIRK_13_500_218.jpeg', 'BIRK_13_500_219.jpeg', 'BIRK_13_500_220.jpeg', 'BIRK_13_500_221.jpeg', 'BIRK_13_500_222.jpeg', 'BIRK_13_500_223.jpeg', 'BIRK_13_500_224.jpeg', 'BIRK_13_500_225.jpeg', 'BIRK_13_500_226.jpeg', 'BIRK_13_500_227.jpeg', 'BIRK_13_500_228.jpeg', 'BIRK_13_500_229.jpeg', 'BIRK_13_500_230.jpeg', 'BIRK_13_500_231.jpeg', 'BIRK_13_500_232.jpeg', 'BIRK_13_500_233.jpeg', 'BIRK_13_500_234.jpeg', 'BIRK_13_500_235.jpeg', 'BIRK_13_500_236.jpeg', 'BIRK_13_500_237.jpeg', 'BIRK_13_500_238.jpeg', 'BIRK_13_500_239.jpeg', 'BIRK_13_500_240.jpeg', 'BIRK_13_500_241.jpeg', 'BIRK_13_500_242.jpeg', 'BIRK_13_500_243.jpeg', 'BIRK_13_500_244.jpeg', 'BIRK_13_500_245.jpeg', 'BIRK_13_500_246.jpeg', 'BIRK_13_500_247.jpeg', 'BIRK_13_500_248.jpeg', 'BIRK_13_500_249.jpeg', 'BIRK_13_500_250.jpeg', 'BIRK_13_500_251.jpeg', 'BIRK_13_500_252.jpeg', 'BIRK_13_500_253.jpeg', 'BIRK_13_500_254.jpeg', 'BIRK_13_500_255.jpeg', 'BIRK_13_500_256.jpeg', 'BIRK_13_500_257.jpeg', 'BIRK_13_500_258.jpeg', 'BIRK_13_500_259.jpeg', 'BIRK_13_500_260.jpeg', 'BIRK_13_500_261.jpeg', 'BIRK_13_500_262.jpeg', 'BIRK_13_500_263.jpeg', 'BIRK_13_500_264.jpeg', 'BIRK_13_500_265.jpeg', 'BIRK_13_500_266.jpeg', 'BIRK_13_500_267.jpeg', 'BIRK_13_500_268.jpeg', 'BIRK_13_500_269.jpeg', 'BIRK_13_500_270.jpeg', 'BIRK_13_500_271.jpeg', 'BIRK_13_500_272.jpeg', 'BIRK_13_500_273.jpeg', 'BIRK_13_500_274.jpeg', 'BIRK_13_500_275.jpeg', 'BIRK_13_500_276.jpeg', 'BIRK_13_500_277.jpeg', 'BIRK_13_500_278.jpeg', 'BIRK_13_500_279.jpeg', 'BIRK_13_500_280.jpeg', 'BIRK_13_500_281.jpeg', 'BIRK_13_500_282.jpeg', 'BIRK_13_500_283.jpeg', 'BIRK_13_500_284.jpeg', 'BIRK_13_500_285.jpeg', 'BIRK_13_500_286.jpeg', 'BIRK_13_500_287.jpeg', 'BIRK_13_500_288.jpeg', 'BIRK_13_500_289.jpeg', 'BIRK_13_500_290.jpeg', 'BIRK_13_500_291.jpeg', 'BIRK_13_500_292.jpeg', 'BIRK_13_500_293.jpeg', 'BIRK_13_500_294.jpeg', 'BIRK_13_500_295.jpeg', 'BIRK_13_500_296.jpeg', 'BIRK_13_500_297.jpeg', 'BIRK_13_500_298.jpeg', 'BIRK_13_500_299.jpeg', 'BIRK_13_500_300.jpeg', 'BIRK_13_500_301.jpeg', 'BIRK_13_500_302.jpeg', 'BIRK_13_500_303.jpeg', 'BIRK_13_500_304.jpeg', 'BIRK_13_500_305.jpeg', 'BIRK_13_500_306.jpeg', 'BIRK_13_500_307.jpeg', 'BIRK_13_500_308.jpeg', 'BIRK_13_500_309.jpeg', 'BIRK_13_500_310.jpeg', 'BIRK_13_500_311.jpeg', 'BIRK_13_500_312.jpeg', 'BIRK_13_500_313.jpeg', 'BIRK_13_500_314.jpeg', 'BIRK_13_500_315.jpeg', 'BIRK_13_500_316.jpeg', 'BIRK_13_500_317.jpeg', 'BIRK_13_500_318.jpeg', 'BIRK_13_500_319.jpeg', 'BIRK_13_500_320.jpeg', 'BIRK_13_500_321.jpeg', 'BIRK_13_500_322.jpeg', 'BIRK_13_500_323.jpeg', 'BIRK_13_500_324.jpeg', 'BIRK_13_500_325.jpeg', 'BIRK_13_500_326.jpeg', 'BIRK_13_500_327.jpeg', 'BIRK_13_500_328.jpeg', 'BIRK_13_500_329.jpeg', 'BIRK_13_500_330.jpeg', 'BIRK_13_500_331.jpeg', 'BIRK_13_500_332.jpeg', 'BIRK_13_500_333.jpeg', 'BIRK_13_500_334.jpeg', 'BIRK_13_500_335.jpeg', 'BIRK_13_500_336.jpeg', 'BIRK_13_500_337.jpeg', 'BIRK_13_500_338.jpeg', 'BIRK_13_500_339.jpeg', 'BIRK_13_500_340.jpeg', 'BIRK_13_500_341.jpeg', 'BIRK_13_500_342.jpeg', 'BIRK_13_500_343.jpeg', 'BIRK_13_500_344.jpeg', 'BIRK_13_500_345.jpeg', 'BIRK_13_500_346.jpeg', 'BIRK_13_500_347.jpeg', 'BIRK_13_500_348.jpeg', 'BIRK_13_500_349.jpeg', 'BIRK_13_500_350.jpeg', 'BIRK_13_500_351.jpeg', 'BIRK_13_500_352.jpeg', 'BIRK_13_500_353.jpeg', 'BIRK_13_500_354.jpeg', 'BIRK_13_500_355.jpeg', 'BIRK_13_500_356.jpeg', 'BIRK_13_500_357.jpeg', 'BIRK_13_500_358.jpeg', 'BIRK_13_500_359.jpeg', 'BIRK_13_500_360.jpeg', 'BIRK_13_500_361.jpeg', 'BIRK_13_500_362.jpeg', 'BIRK_13_500_363.jpeg', 'BIRK_13_500_364.jpeg', 'BIRK_13_500_365.jpeg', 'BIRK_13_500_366.jpeg', 'BIRK_13_500_367.jpeg', 'BIRK_13_500_368.jpeg', 'BIRK_13_500_369.jpeg', 'BIRK_13_500_370.jpeg', 'BIRK_13_500_371.jpeg', 'BIRK_13_500_372.jpeg', 'BIRK_13_500_373.jpeg', 'BIRK_13_500_374.jpeg', 'BIRK_13_500_375.jpeg', 'BIRK_13_500_376.jpeg', 'BIRK_13_500_377.jpeg', 'BIRK_13_500_378.jpeg', 'BIRK_13_500_379.jpeg', 'BIRK_13_500_380.jpeg', 'BIRK_13_500_381.jpeg', 'BIRK_13_500_382.jpeg', 'BIRK_13_500_383.jpeg', 'BIRK_13_500_384.jpeg', 'BIRK_13_500_385.jpeg', 'BIRK_13_500_386.jpeg', 'BIRK_13_500_387.jpeg', 'BIRK_13_500_388.jpeg', 'BIRK_13_500_389.jpeg', 'BIRK_13_500_390.jpeg', 'BIRK_13_500_391.jpeg', 'BIRK_13_500_392.jpeg', 'BIRK_13_500_393.jpeg', 'BIRK_13_500_394.jpeg', 'BIRK_13_500_395.jpeg', 'BIRK_13_500_396.jpeg', 'BIRK_13_500_397.jpeg', 'BIRK_13_500_398.jpeg', 'BIRK_13_500_399.jpeg', 'BIRK_13_500_400.jpeg', 'BIRK_13_500_401.jpeg', 'BIRK_13_500_402.jpeg', 'BIRK_13_500_403.jpeg', 'BIRK_13_500_404.jpeg', 'BIRK_13_500_405.jpeg', 'BIRK_13_500_406.jpeg', 'BIRK_13_500_407.jpeg', 'BIRK_13_500_408.jpeg', 'BIRK_13_500_409.jpeg', 'BIRK_13_500_410.jpeg', 'BIRK_13_500_411.jpeg', 'BIRK_13_500_412.jpeg', 'BIRK_13_500_413.jpeg', 'BIRK_13_500_414.jpeg', 'BIRK_13_500_415.jpeg', 'BIRK_13_500_416.jpeg', 'BIRK_13_500_417.jpeg', 'BIRK_13_500_418.jpeg', 'BIRK_13_500_419.jpeg', 'BIRK_13_500_420.jpeg', 'BIRK_13_500_421.jpeg', 'BIRK_13_500_422.jpeg', 'BIRK_13_500_423.jpeg', 'BIRK_13_500_424.jpeg', 'BIRK_13_500_425.jpeg', 'BIRK_13_500_426.jpeg', 'BIRK_13_500_427.jpeg', 'BIRK_13_500_428.jpeg', 'BIRK_13_500_429.jpeg', 'BIRK_13_500_430.jpeg', 'BIRK_13_500_431.jpeg', 'BIRK_13_500_432.jpeg', 'BIRK_13_500_433.jpeg', 'BIRK_13_500_434.jpeg', 'BIRK_13_500_435.jpeg', 'BIRK_13_500_436.jpeg', 'BIRK_13_500_437.jpeg', 'BIRK_13_500_438.jpeg', 'BIRK_13_500_439.jpeg', 'BIRK_13_500_440.jpeg', 'BIRK_13_500_441.jpeg', 'BIRK_13_500_442.jpeg', 'BIRK_13_500_443.jpeg', 'BIRK_13_500_444.jpeg', 'BIRK_13_500_445.jpeg', 'BIRK_13_500_446.jpeg', 'BIRK_13_500_447.jpeg', 'BIRK_13_500_448.jpeg', 'BIRK_13_500_449.jpeg', 'BIRK_13_500_450.jpeg', 'BIRK_13_500_451.jpeg', 'BIRK_13_500_452.jpeg', 'BIRK_13_500_453.jpeg', 'BIRK_13_500_454.jpeg', 'BIRK_13_500_456.jpeg', 'LFST_05_500_000.jpeg', 'LFST_05_500_001.jpeg', 'LFST_05_500_002.jpeg', 'LFST_05_500_003.jpeg', 'LFST_05_500_004.jpeg', 'LFST_05_500_005.jpeg', 'LFST_05_500_006.jpeg', 'LFST_05_500_007.jpeg', 'LFST_05_500_008.jpeg', 'LFST_05_500_009.jpeg', 'LFST_05_500_010.jpeg', 'LFST_05_500_011.jpeg', 'LFST_05_500_012.jpeg', 'LFST_05_500_013.jpeg', 'LFST_05_500_014.jpeg', 'LFST_05_500_015.jpeg', 'LFST_05_500_016.jpeg', 'LFST_05_500_017.jpeg', 'LFST_05_500_018.jpeg', 'LFST_05_500_019.jpeg', 'LFST_05_500_020.jpeg', 'LFST_05_500_021.jpeg', 'LFST_05_500_022.jpeg', 'LFST_05_500_023.jpeg', 'LFST_05_500_024.jpeg', 'LFST_05_500_025.jpeg', 'LFST_05_500_026.jpeg', 'LFST_05_500_027.jpeg', 'LFST_05_500_028.jpeg', 'LFST_05_500_029.jpeg', 'LFST_05_500_030.jpeg', 'LFST_05_500_031.jpeg', 'LFST_05_500_032.jpeg', 'LFST_05_500_033.jpeg', 'LFST_05_500_034.jpeg', 'LFST_05_500_035.jpeg', 'LFST_05_500_036.jpeg', 'LFST_05_500_037.jpeg', 'LFST_05_500_038.jpeg', 'LFST_05_500_039.jpeg', 'LFST_05_500_040.jpeg', 'LFST_05_500_041.jpeg', 'LFST_05_500_042.jpeg', 'LFST_05_500_043.jpeg', 'LFST_05_500_044.jpeg', 'LFST_05_500_045.jpeg', 'LFST_05_500_046.jpeg', 'LFST_05_500_047.jpeg', 'LFST_05_500_048.jpeg', 'LFST_05_500_049.jpeg', 'LFST_05_500_050.jpeg', 'LFST_05_500_051.jpeg', 'LFST_05_500_052.jpeg', 'LFST_05_500_053.jpeg', 'LFST_05_500_054.jpeg', 'LFST_05_500_055.jpeg', 'LFST_05_500_056.jpeg', 'LFST_05_500_057.jpeg', 'LFST_05_500_058.jpeg', 'LFST_05_500_059.jpeg', 'LFST_05_500_060.jpeg', 'LFST_05_500_061.jpeg', 'LFST_05_500_062.jpeg', 'LFST_05_500_063.jpeg', 'LFST_05_500_064.jpeg', 'LFST_05_500_065.jpeg', 'LFST_05_500_066.jpeg', 'LFST_05_500_067.jpeg', 'LFST_05_500_068.jpeg', 'LFST_05_500_069.jpeg', 'LFST_05_500_070.jpeg', 'LFST_05_500_071.jpeg', 'LFST_05_500_072.jpeg', 'LFST_05_500_073.jpeg', 'LFST_05_500_074.jpeg', 'LFST_05_500_075.jpeg', 'LFST_05_500_076.jpeg', 'LFST_05_500_077.jpeg', 'LFST_05_500_078.jpeg', 'LFST_05_500_079.jpeg', 'LFST_05_500_080.jpeg', 'LFST_05_500_081.jpeg', 'LFST_05_500_082.jpeg', 'LFST_05_500_083.jpeg', 'LFST_05_500_084.jpeg', 'LFST_05_500_085.jpeg', 'LFST_05_500_086.jpeg', 'LFST_05_500_087.jpeg', 'LFST_05_500_088.jpeg', 'LFST_05_500_089.jpeg', 'LFST_05_500_090.jpeg', 'LFST_05_500_091.jpeg', 'LFST_05_500_092.jpeg', 'LFST_05_500_093.jpeg', 'LFST_05_500_094.jpeg', 'LFST_05_500_095.jpeg', 'LFST_05_500_096.jpeg', 'LFST_05_500_097.jpeg', 'LFST_05_500_098.jpeg', 'LFST_05_500_099.jpeg', 'LFST_05_500_100.jpeg', 'LFST_05_500_101.jpeg', 'LFST_05_500_102.jpeg', 'LFST_05_500_103.jpeg', 'LFST_05_500_104.jpeg', 'LFST_05_500_105.jpeg', 'LFST_05_500_106.jpeg', 'LFST_05_500_107.jpeg', 'LFST_05_500_108.jpeg', 'LFST_05_500_109.jpeg', 'LFST_05_500_110.jpeg', 'LFST_05_500_111.jpeg', 'LFST_05_500_112.jpeg', 'LFST_05_500_113.jpeg', 'LFST_05_500_114.jpeg', 'LFST_05_500_115.jpeg', 'LFST_05_500_116.jpeg', 'LFST_05_500_117.jpeg', 'LFST_05_500_118.jpeg', 'LFST_05_500_119.jpeg', 'LFST_05_500_120.jpeg', 'LFST_05_500_121.jpeg', 'LFST_05_500_122.jpeg', 'LFST_05_500_123.jpeg', 'LFST_05_500_124.jpeg', 'LFST_05_500_125.jpeg', 'LFST_05_500_126.jpeg', 'LFST_05_500_127.jpeg', 'LFST_05_500_128.jpeg', 'LFST_05_500_129.jpeg', 'LFST_05_500_130.jpeg', 'LFST_05_500_131.jpeg', 'LFST_05_500_132.jpeg', 'LFST_05_500_133.jpeg', 'LFST_05_500_134.jpeg', 'LFST_05_500_135.jpeg', 'LFST_05_500_136.jpeg', 'LFST_05_500_137.jpeg', 'LFST_05_500_138.jpeg', 'LFST_05_500_139.jpeg', 'LFST_05_500_140.jpeg', 'LFST_05_500_141.jpeg', 'LFST_05_500_142.jpeg', 'LFST_05_500_143.jpeg', 'LFST_05_500_144.jpeg', 'LFST_05_500_145.jpeg', 'LFST_05_500_146.jpeg', 'LFST_05_500_147.jpeg', 'LFST_05_500_148.jpeg', 'LFST_05_500_149.jpeg', 'LFST_05_500_150.jpeg', 'LFST_05_500_151.jpeg', 'LFST_05_500_152.jpeg', 'LFST_05_500_153.jpeg', 'LFST_05_500_154.jpeg', 'LFST_05_500_155.jpeg', 'LFST_05_500_156.jpeg', 'LFST_05_500_157.jpeg', 'LFST_05_500_158.jpeg', 'LFST_05_500_159.jpeg', 'LFST_05_500_160.jpeg', 'LFST_05_500_161.jpeg', 'LFST_05_500_162.jpeg', 'LFST_05_500_163.jpeg', 'LFST_05_500_164.jpeg', 'LFST_05_500_165.jpeg', 'LFST_05_500_166.jpeg', 'LFST_05_500_167.jpeg', 'LFST_05_500_168.jpeg', 'LFST_05_500_169.jpeg', 'LFST_05_500_170.jpeg', 'LFST_05_500_171.jpeg', 'LFST_05_500_172.jpeg', 'LFST_05_500_173.jpeg', 'LFST_05_500_174.jpeg', 'LFST_05_500_175.jpeg', 'LFST_05_500_176.jpeg', 'LFST_05_500_177.jpeg', 'LFST_05_500_178.jpeg', 'LFST_05_500_179.jpeg', 'LFST_05_500_180.jpeg', 'LFST_05_500_181.jpeg', 'LFST_05_500_182.jpeg', 'LFST_05_500_183.jpeg', 'LFST_05_500_184.jpeg', 'LFST_05_500_185.jpeg', 'LFST_05_500_186.jpeg', 'LFST_05_500_187.jpeg', 'LFST_05_500_188.jpeg', 'LFST_05_500_189.jpeg', 'LFST_05_500_190.jpeg', 'LFST_05_500_191.jpeg', 'LFST_05_500_192.jpeg', 'LFST_05_500_193.jpeg', 'LFST_05_500_194.jpeg', 'LFST_05_500_195.jpeg', 'LFST_05_500_196.jpeg', 'LFST_05_500_197.jpeg', 'LFST_05_500_198.jpeg', 'LFST_05_500_199.jpeg', 'LFST_05_500_200.jpeg', 'LFST_05_500_201.jpeg', 'LFST_05_500_202.jpeg', 'LFST_05_500_203.jpeg', 'LFST_05_500_204.jpeg', 'LFST_05_500_205.jpeg', 'LFST_05_500_206.jpeg', 'LFST_05_500_207.jpeg', 'LFST_05_500_208.jpeg', 'LFST_05_500_209.jpeg', 'LFST_05_500_210.jpeg', 'LFST_05_500_211.jpeg', 'LFST_05_500_212.jpeg', 'LFST_05_500_213.jpeg', 'LFST_05_500_214.jpeg', 'LFST_05_500_215.jpeg', 'LFST_05_500_216.jpeg', 'LFST_05_500_217.jpeg', 'LFST_05_500_218.jpeg', 'LFST_05_500_219.jpeg', 'LFST_05_500_220.jpeg', 'LFST_05_500_221.jpeg', 'LFST_05_500_222.jpeg', 'LFST_05_500_223.jpeg', 'LFST_05_500_224.jpeg', 'LFST_05_500_225.jpeg', 'LFST_05_500_226.jpeg', 'LFST_05_500_227.jpeg', 'LFST_05_500_228.jpeg', 'LFST_05_500_229.jpeg', 'LFST_05_500_230.jpeg', 'LFST_05_500_231.jpeg', 'LFST_05_500_232.jpeg', 'LFST_05_500_233.jpeg', 'LFST_05_500_234.jpeg', 'LFST_05_500_235.jpeg', 'LFST_05_500_236.jpeg', 'LFST_05_500_237.jpeg', 'LFST_05_500_238.jpeg', 'LFST_05_500_239.jpeg', 'LFST_05_500_240.jpeg', 'LFST_05_500_241.jpeg', 'LFST_05_500_242.jpeg', 'LFST_05_500_243.jpeg', 'LFST_05_500_244.jpeg', 'LFST_05_500_245.jpeg', 'LFST_05_500_246.jpeg', 'LFST_05_500_247.jpeg', 'LFST_05_500_248.jpeg', 'LFST_05_500_249.jpeg', 'LFST_05_500_250.jpeg', 'LFST_05_500_251.jpeg', 'LFST_05_500_252.jpeg', 'LFST_05_500_253.jpeg', 'LFST_05_500_254.jpeg', 'LFST_05_500_255.jpeg', 'LFST_05_500_256.jpeg', 'LFST_05_500_257.jpeg', 'LFST_05_500_258.jpeg', 'LFST_05_500_259.jpeg', 'LFST_05_500_260.jpeg', 'LFST_05_500_261.jpeg', 'LFST_05_500_262.jpeg', 'LFST_05_500_263.jpeg', 'LFST_05_500_264.jpeg', 'LFST_05_500_265.jpeg', 'LFST_05_500_266.jpeg', 'LFST_05_500_267.jpeg', 'LFST_05_500_268.jpeg', 'LFST_05_500_269.jpeg', 'LFST_05_500_270.jpeg', 'LFST_05_500_271.jpeg', 'LFST_05_500_272.jpeg', 'LFST_05_500_273.jpeg', 'LFST_05_500_274.jpeg', 'LFST_05_500_275.jpeg', 'LFST_05_500_276.jpeg', 'LFST_05_500_277.jpeg', 'LFST_05_500_278.jpeg', 'LFST_05_500_279.jpeg', 'LFST_05_500_280.jpeg', 'LFST_05_500_281.jpeg', 'LFST_05_500_282.jpeg', 'LFST_05_500_283.jpeg', 'LFST_05_500_284.jpeg', 'LFST_05_500_285.jpeg', 'LFST_05_500_286.jpeg', 'LFST_05_500_287.jpeg', 'LFST_05_500_288.jpeg', 'LFST_05_500_289.jpeg', 'LFST_05_500_290.jpeg', 'LFST_05_500_291.jpeg', 'LFST_05_500_292.jpeg', 'LFST_05_500_293.jpeg', 'LFST_05_500_294.jpeg', 'LFST_05_500_295.jpeg', 'LFST_05_500_296.jpeg', 'LFST_05_500_297.jpeg', 'LFST_05_500_298.jpeg', 'LFST_05_500_299.jpeg', 'LFST_05_500_300.jpeg', 'LFST_05_500_301.jpeg', 'LFST_05_500_302.jpeg', 'LFST_05_500_303.jpeg', 'LFST_05_500_304.jpeg', 'LFST_05_500_305.jpeg', 'LFST_05_500_306.jpeg', 'LFST_05_500_307.jpeg', 'LFST_05_500_308.jpeg', 'LFST_05_500_309.jpeg', 'LFST_05_500_310.jpeg', 'LFST_05_500_311.jpeg', 'LFST_05_500_312.jpeg', 'LFST_05_500_313.jpeg', 'LFST_05_500_314.jpeg', 'LFST_05_500_315.jpeg', 'LFST_05_500_316.jpeg', 'LFST_05_500_317.jpeg', 'LFST_05_500_318.jpeg', 'LFST_05_500_319.jpeg', 'LFST_05_500_320.jpeg', 'LFST_05_500_321.jpeg', 'LFST_05_500_322.jpeg', 'LFST_05_500_323.jpeg', 'LFST_05_500_324.jpeg', 'LFST_05_500_325.jpeg', 'LFST_05_500_326.jpeg', 'LFST_05_500_327.jpeg', 'LFST_05_500_328.jpeg', 'LFST_05_500_329.jpeg', 'LFST_05_500_330.jpeg', 'LFST_05_500_331.jpeg', 'LFST_05_500_332.jpeg', 'LFST_05_500_333.jpeg', 'LFST_05_500_334.jpeg', 'LFST_05_500_335.jpeg', 'LFST_05_500_336.jpeg', 'LFST_05_500_337.jpeg', 'LFST_05_500_338.jpeg', 'LFST_05_500_339.jpeg', 'LFST_05_500_340.jpeg', 'LFST_05_500_341.jpeg', 'LFST_05_500_342.jpeg', 'LFST_05_500_343.jpeg', 'LFST_05_500_344.jpeg', 'LFST_05_500_345.jpeg', 'LFST_05_500_346.jpeg', 'LFST_05_500_347.jpeg', 'LFST_05_500_348.jpeg', 'LFST_05_500_349.jpeg', 'LFST_05_500_350.jpeg', 'LFST_05_500_351.jpeg', 'LFST_05_500_352.jpeg', 'LFST_05_500_353.jpeg', 'LFST_05_500_354.jpeg', 'LFST_05_500_355.jpeg', 'LFST_05_500_356.jpeg', 'LFST_05_500_357.jpeg', 'LFST_05_500_358.jpeg', 'LFST_05_500_359.jpeg', 'LFST_05_500_360.jpeg', 'LFST_05_500_361.jpeg', 'LFST_05_500_362.jpeg', 'LFST_05_500_363.jpeg', 'LFST_05_500_364.jpeg', 'LFST_05_500_365.jpeg', 'LFST_05_500_366.jpeg', 'LFST_05_500_367.jpeg', 'LFST_05_500_368.jpeg', 'LFST_05_500_369.jpeg', 'LFST_05_500_370.jpeg', 'LFST_05_500_371.jpeg', 'LFST_05_500_372.jpeg', 'LFST_05_500_373.jpeg', 'LFST_05_500_374.jpeg', 'LFST_05_500_375.jpeg', 'LFST_05_500_376.jpeg', 'LFST_05_500_377.jpeg', 'LFST_05_500_378.jpeg', 'LFST_05_500_379.jpeg', 'LFST_05_500_380.jpeg', 'LFST_05_500_381.jpeg', 'LFST_05_500_382.jpeg', 'LFST_05_500_383.jpeg', 'LFST_05_500_384.jpeg', 'LFST_05_500_385.jpeg', 'LFST_05_500_386.jpeg', 'LFST_05_500_387.jpeg', 'LFST_05_500_388.jpeg', 'LFST_05_500_389.jpeg', 'LFST_05_500_390.jpeg', 'LFST_05_500_391.jpeg', 'LFST_05_500_392.jpeg', 'LFST_05_500_393.jpeg', 'LFST_05_500_394.jpeg', 'LFST_05_500_395.jpeg', 'LFST_05_500_396.jpeg', 'LFST_05_500_397.jpeg', 'LFST_05_500_398.jpeg', 'LFST_05_500_399.jpeg', 'LFST_05_500_400.jpeg', 'LFST_05_500_401.jpeg', 'LFST_05_500_402.jpeg', 'LFST_05_500_403.jpeg', 'LFST_05_500_404.jpeg', 'LFST_05_500_405.jpeg', 'LFST_05_500_406.jpeg', 'LFST_05_500_407.jpeg', 'LFST_05_500_408.jpeg', 'LFST_05_500_409.jpeg', 'LFST_05_500_410.jpeg', 'LFST_05_500_411.jpeg', 'LFST_05_500_412.jpeg', 'LFST_05_500_413.jpeg', 'LFST_05_500_414.jpeg', 'LFST_05_500_415.jpeg', 'LFST_05_500_416.jpeg', 'LFST_05_500_417.jpeg', 'LFST_05_500_418.jpeg', 'LFST_05_500_419.jpeg', 'LFST_05_500_420.jpeg', 'LFST_05_500_421.jpeg', 'LFST_05_500_422.jpeg', 'LFST_05_500_423.jpeg', 'LFST_05_500_424.jpeg', 'LFST_05_500_425.jpeg', 'LFST_05_500_426.jpeg', 'LFST_05_500_427.jpeg', 'LFST_05_500_428.jpeg', 'LFST_05_500_429.jpeg', 'LFST_05_500_430.jpeg', 'LFST_05_500_431.jpeg', 'LFST_05_500_432.jpeg', 'LFST_05_500_433.jpeg', 'LFST_05_500_434.jpeg', 'LFST_05_500_435.jpeg', 'LFST_05_500_436.jpeg', 'LFST_05_500_437.jpeg', 'LFST_05_500_438.jpeg', 'LFST_05_500_439.jpeg', 'LFST_05_500_440.jpeg', 'LFST_05_500_441.jpeg', 'LFST_05_500_442.jpeg', 'LFST_05_500_443.jpeg', 'LFST_05_500_444.jpeg', 'LFST_05_500_445.jpeg', 'LFST_05_500_446.jpeg', 'LFST_05_500_447.jpeg', 'LFST_05_500_448.jpeg', 'LFST_05_500_449.jpeg', 'LFST_05_500_451.jpeg', 'LFST_05_500_452.jpeg', 'LFST_05_500_453.jpeg', 'LFST_05_500_454.jpeg', 'LFST_23_500_000.jpeg', 'LFST_23_500_001.jpeg', 'LFST_23_500_002.jpeg', 'LFST_23_500_003.jpeg', 'LFST_23_500_004.jpeg', 'LFST_23_500_005.jpeg', 'LFST_23_500_006.jpeg', 'LFST_23_500_007.jpeg', 'LFST_23_500_008.jpeg', 'LFST_23_500_009.jpeg', 'LFST_23_500_010.jpeg', 'LFST_23_500_011.jpeg', 'LFST_23_500_012.jpeg', 'LFST_23_500_013.jpeg', 'LFST_23_500_014.jpeg', 'LFST_23_500_015.jpeg', 'LFST_23_500_016.jpeg', 'LFST_23_500_017.jpeg', 'LFST_23_500_018.jpeg', 'LFST_23_500_019.jpeg', 'LFST_23_500_020.jpeg', 'LFST_23_500_021.jpeg', 'LFST_23_500_022.jpeg', 'LFST_23_500_023.jpeg', 'LFST_23_500_024.jpeg', 'LFST_23_500_025.jpeg', 'LFST_23_500_026.jpeg', 'LFST_23_500_027.jpeg', 'LFST_23_500_028.jpeg', 'LFST_23_500_029.jpeg', 'LFST_23_500_030.jpeg', 'LFST_23_500_031.jpeg', 'LFST_23_500_032.jpeg', 'LFST_23_500_033.jpeg', 'LFST_23_500_034.jpeg', 'LFST_23_500_035.jpeg', 'LFST_23_500_036.jpeg', 'LFST_23_500_037.jpeg', 'LFST_23_500_038.jpeg', 'LFST_23_500_039.jpeg', 'LFST_23_500_040.jpeg', 'LFST_23_500_041.jpeg', 'LFST_23_500_042.jpeg', 'LFST_23_500_043.jpeg', 'LFST_23_500_044.jpeg', 'LFST_23_500_045.jpeg', 'LFST_23_500_046.jpeg', 'LFST_23_500_047.jpeg', 'LFST_23_500_048.jpeg', 'LFST_23_500_049.jpeg', 'LFST_23_500_050.jpeg', 'LFST_23_500_051.jpeg', 'LFST_23_500_052.jpeg', 'LFST_23_500_053.jpeg', 'LFST_23_500_054.jpeg', 'LFST_23_500_055.jpeg', 'LFST_23_500_056.jpeg', 'LFST_23_500_057.jpeg', 'LFST_23_500_058.jpeg', 'LFST_23_500_059.jpeg', 'LFST_23_500_060.jpeg', 'LFST_23_500_061.jpeg', 'LFST_23_500_062.jpeg', 'LFST_23_500_063.jpeg', 'LFST_23_500_064.jpeg', 'LFST_23_500_065.jpeg', 'LFST_23_500_066.jpeg', 'LFST_23_500_067.jpeg', 'LFST_23_500_068.jpeg', 'LFST_23_500_069.jpeg', 'LFST_23_500_070.jpeg', 'LFST_23_500_071.jpeg', 'LFST_23_500_072.jpeg', 'LFST_23_500_073.jpeg', 'LFST_23_500_074.jpeg', 'LFST_23_500_075.jpeg', 'LFST_23_500_076.jpeg', 'LFST_23_500_077.jpeg', 'LFST_23_500_078.jpeg', 'LFST_23_500_079.jpeg', 'LFST_23_500_080.jpeg', 'LFST_23_500_081.jpeg', 'LFST_23_500_082.jpeg', 'LFST_23_500_083.jpeg', 'LFST_23_500_084.jpeg', 'LFST_23_500_085.jpeg', 'LFST_23_500_086.jpeg', 'LFST_23_500_087.jpeg', 'LFST_23_500_088.jpeg', 'LFST_23_500_089.jpeg', 'LFST_23_500_090.jpeg', 'LFST_23_500_091.jpeg', 'LFST_23_500_092.jpeg', 'LFST_23_500_093.jpeg', 'LFST_23_500_094.jpeg', 'LFST_23_500_095.jpeg', 'LFST_23_500_096.jpeg', 'LFST_23_500_097.jpeg', 'LFST_23_500_098.jpeg', 'LFST_23_500_099.jpeg', 'LFST_23_500_100.jpeg', 'LFST_23_500_101.jpeg', 'LFST_23_500_102.jpeg', 'LFST_23_500_103.jpeg', 'LFST_23_500_104.jpeg', 'LFST_23_500_105.jpeg', 'LFST_23_500_106.jpeg', 'LFST_23_500_107.jpeg', 'LFST_23_500_108.jpeg', 'LFST_23_500_109.jpeg', 'LFST_23_500_110.jpeg', 'LFST_23_500_111.jpeg', 'LFST_23_500_112.jpeg', 'LFST_23_500_113.jpeg', 'LFST_23_500_114.jpeg', 'LFST_23_500_115.jpeg', 'LFST_23_500_116.jpeg', 'LFST_23_500_117.jpeg', 'LFST_23_500_118.jpeg', 'LFST_23_500_119.jpeg', 'LFST_23_500_120.jpeg', 'LFST_23_500_121.jpeg', 'LFST_23_500_122.jpeg', 'LFST_23_500_123.jpeg', 'LFST_23_500_124.jpeg', 'LFST_23_500_125.jpeg', 'LFST_23_500_126.jpeg', 'LFST_23_500_127.jpeg', 'LFST_23_500_128.jpeg', 'LFST_23_500_129.jpeg', 'LFST_23_500_130.jpeg', 'LFST_23_500_131.jpeg', 'LFST_23_500_132.jpeg', 'LFST_23_500_133.jpeg', 'LFST_23_500_134.jpeg', 'LFST_23_500_135.jpeg', 'LFST_23_500_136.jpeg', 'LFST_23_500_137.jpeg', 'LFST_23_500_138.jpeg', 'LFST_23_500_139.jpeg', 'LFST_23_500_140.jpeg', 'LFST_23_500_141.jpeg', 'LFST_23_500_142.jpeg', 'LFST_23_500_143.jpeg', 'LFST_23_500_144.jpeg', 'LFST_23_500_145.jpeg', 'LFST_23_500_146.jpeg', 'LFST_23_500_147.jpeg', 'LFST_23_500_148.jpeg', 'LFST_23_500_149.jpeg', 'LFST_23_500_150.jpeg', 'LFST_23_500_151.jpeg', 'LFST_23_500_152.jpeg', 'LFST_23_500_153.jpeg', 'LFST_23_500_154.jpeg', 'LFST_23_500_155.jpeg', 'LFST_23_500_156.jpeg', 'LFST_23_500_157.jpeg', 'LFST_23_500_158.jpeg', 'LFST_23_500_159.jpeg', 'LFST_23_500_160.jpeg', 'LFST_23_500_161.jpeg', 'LFST_23_500_162.jpeg', 'LFST_23_500_163.jpeg', 'LFST_23_500_164.jpeg', 'LFST_23_500_165.jpeg', 'LFST_23_500_166.jpeg', 'LFST_23_500_167.jpeg', 'LFST_23_500_168.jpeg', 'LFST_23_500_169.jpeg', 'LFST_23_500_170.jpeg', 'LFST_23_500_171.jpeg', 'LFST_23_500_172.jpeg', 'LFST_23_500_173.jpeg', 'LFST_23_500_174.jpeg', 'LFST_23_500_175.jpeg', 'LFST_23_500_176.jpeg', 'LFST_23_500_177.jpeg', 'LFST_23_500_178.jpeg', 'LFST_23_500_179.jpeg', 'LFST_23_500_180.jpeg', 'LFST_23_500_181.jpeg', 'LFST_23_500_182.jpeg', 'LFST_23_500_183.jpeg', 'LFST_23_500_184.jpeg', 'LFST_23_500_185.jpeg', 'LFST_23_500_186.jpeg', 'LFST_23_500_187.jpeg', 'LFST_23_500_188.jpeg', 'LFST_23_500_189.jpeg', 'LFST_23_500_190.jpeg', 'LFST_23_500_191.jpeg', 'LFST_23_500_192.jpeg', 'LFST_23_500_193.jpeg', 'LFST_23_500_194.jpeg', 'LFST_23_500_195.jpeg', 'LFST_23_500_196.jpeg', 'LFST_23_500_197.jpeg', 'LFST_23_500_198.jpeg', 'LFST_23_500_199.jpeg', 'LFST_23_500_200.jpeg', 'LFST_23_500_201.jpeg', 'LFST_23_500_202.jpeg', 'LFST_23_500_203.jpeg', 'LFST_23_500_204.jpeg', 'LFST_23_500_205.jpeg', 'LFST_23_500_206.jpeg', 'LFST_23_500_207.jpeg', 'LFST_23_500_208.jpeg', 'LFST_23_500_209.jpeg', 'LFST_23_500_210.jpeg', 'LFST_23_500_211.jpeg', 'LFST_23_500_212.jpeg', 'LFST_23_500_213.jpeg', 'LFST_23_500_214.jpeg', 'LFST_23_500_215.jpeg', 'LFST_23_500_216.jpeg', 'LFST_23_500_217.jpeg', 'LFST_23_500_218.jpeg', 'LFST_23_500_219.jpeg', 'LFST_23_500_220.jpeg', 'LFST_23_500_221.jpeg', 'LFST_23_500_222.jpeg', 'LFST_23_500_223.jpeg', 'LFST_23_500_224.jpeg', 'LFST_23_500_225.jpeg', 'LFST_23_500_226.jpeg', 'LFST_23_500_227.jpeg', 'LFST_23_500_228.jpeg', 'LFST_23_500_229.jpeg', 'LFST_23_500_230.jpeg', 'LFST_23_500_231.jpeg', 'LFST_23_500_232.jpeg', 'LFST_23_500_233.jpeg', 'LFST_23_500_234.jpeg', 'LFST_23_500_235.jpeg', 'LFST_23_500_236.jpeg', 'LFST_23_500_237.jpeg', 'LFST_23_500_238.jpeg', 'LFST_23_500_239.jpeg', 'LFST_23_500_240.jpeg', 'LFST_23_500_241.jpeg', 'LFST_23_500_242.jpeg', 'LFST_23_500_243.jpeg', 'LFST_23_500_244.jpeg', 'LFST_23_500_245.jpeg', 'LFST_23_500_246.jpeg', 'LFST_23_500_247.jpeg', 'LFST_23_500_248.jpeg', 'LFST_23_500_249.jpeg', 'LFST_23_500_250.jpeg', 'LFST_23_500_251.jpeg', 'LFST_23_500_252.jpeg', 'LFST_23_500_253.jpeg', 'LFST_23_500_254.jpeg', 'LFST_23_500_255.jpeg', 'LFST_23_500_256.jpeg', 'LFST_23_500_257.jpeg', 'LFST_23_500_258.jpeg', 'LFST_23_500_259.jpeg', 'LFST_23_500_260.jpeg', 'LFST_23_500_261.jpeg', 'LFST_23_500_262.jpeg', 'LFST_23_500_263.jpeg', 'LFST_23_500_264.jpeg', 'LFST_23_500_265.jpeg', 'LFST_23_500_266.jpeg', 'LFST_23_500_267.jpeg', 'LFST_23_500_268.jpeg', 'LFST_23_500_269.jpeg', 'LFST_23_500_270.jpeg', 'LFST_23_500_271.jpeg', 'LFST_23_500_272.jpeg', 'LFST_23_500_273.jpeg', 'LFST_23_500_274.jpeg', 'LFST_23_500_275.jpeg', 'LFST_23_500_276.jpeg', 'LFST_23_500_277.jpeg', 'LFST_23_500_278.jpeg', 'LFST_23_500_279.jpeg', 'LFST_23_500_280.jpeg', 'LFST_23_500_281.jpeg', 'LFST_23_500_282.jpeg', 'LFST_23_500_283.jpeg', 'LFST_23_500_284.jpeg', 'LFST_23_500_285.jpeg', 'LFST_23_500_286.jpeg', 'LFST_23_500_287.jpeg', 'LFST_23_500_288.jpeg', 'LFST_23_500_289.jpeg', 'LFST_23_500_290.jpeg', 'LFST_23_500_291.jpeg', 'LFST_23_500_292.jpeg', 'LFST_23_500_293.jpeg', 'LFST_23_500_294.jpeg', 'LFST_23_500_295.jpeg', 'LFST_23_500_296.jpeg', 'LFST_23_500_297.jpeg', 'LFST_23_500_298.jpeg', 'LFST_23_500_299.jpeg', 'LFST_23_500_300.jpeg', 'LFST_23_500_301.jpeg', 'LFST_23_500_302.jpeg', 'LFST_23_500_303.jpeg', 'LFST_23_500_304.jpeg', 'LFST_23_500_305.jpeg', 'LFST_23_500_306.jpeg', 'LFST_23_500_307.jpeg', 'LFST_23_500_308.jpeg', 'LFST_23_500_309.jpeg', 'LFST_23_500_310.jpeg', 'LFST_23_500_311.jpeg', 'LFST_23_500_312.jpeg', 'LFST_23_500_313.jpeg', 'LFST_23_500_314.jpeg', 'LFST_23_500_315.jpeg', 'LFST_23_500_316.jpeg', 'LFST_23_500_317.jpeg', 'LFST_23_500_318.jpeg', 'LFST_23_500_319.jpeg', 'LFST_23_500_320.jpeg', 'LFST_23_500_321.jpeg', 'LFST_23_500_322.jpeg', 'LFST_23_500_323.jpeg', 'LFST_23_500_324.jpeg', 'LFST_23_500_325.jpeg', 'LFST_23_500_326.jpeg', 'LFST_23_500_327.jpeg', 'LFST_23_500_328.jpeg', 'LFST_23_500_329.jpeg', 'LFST_23_500_330.jpeg', 'LFST_23_500_331.jpeg', 'LFST_23_500_332.jpeg', 'LFST_23_500_333.jpeg', 'LFST_23_500_334.jpeg', 'LFST_23_500_335.jpeg', 'LFST_23_500_336.jpeg', 'LFST_23_500_337.jpeg', 'LFST_23_500_338.jpeg', 'LFST_23_500_339.jpeg', 'LFST_23_500_340.jpeg', 'LFST_23_500_341.jpeg', 'LFST_23_500_342.jpeg', 'LFST_23_500_343.jpeg', 'LFST_23_500_344.jpeg', 'LFST_23_500_345.jpeg', 'LFST_23_500_346.jpeg', 'LFST_23_500_347.jpeg', 'LFST_23_500_348.jpeg', 'LFST_23_500_349.jpeg', 'LFST_23_500_350.jpeg', 'LFST_23_500_351.jpeg', 'LFST_23_500_352.jpeg', 'LFST_23_500_353.jpeg', 'LFST_23_500_354.jpeg', 'LFST_23_500_355.jpeg', 'LFST_23_500_356.jpeg', 'LFST_23_500_357.jpeg', 'LFST_23_500_358.jpeg', 'LFST_23_500_359.jpeg', 'LFST_23_500_360.jpeg', 'LFST_23_500_361.jpeg', 'LFST_23_500_362.jpeg', 'LFST_23_500_363.jpeg', 'LFST_23_500_364.jpeg', 'LFST_23_500_365.jpeg', 'LFST_23_500_366.jpeg', 'LFST_23_500_367.jpeg', 'LFST_23_500_368.jpeg', 'LFST_23_500_369.jpeg', 'LFST_23_500_370.jpeg', 'LFST_23_500_371.jpeg', 'LFST_23_500_372.jpeg', 'LFST_23_500_373.jpeg', 'LFST_23_500_374.jpeg', 'LFST_23_500_375.jpeg', 'LFST_23_500_376.jpeg', 'LFST_23_500_377.jpeg', 'LFST_23_500_378.jpeg', 'LFST_23_500_379.jpeg', 'LFST_23_500_380.jpeg', 'LFST_23_500_381.jpeg', 'LFST_23_500_382.jpeg', 'LFST_23_500_383.jpeg', 'LFST_23_500_384.jpeg', 'LFST_23_500_385.jpeg', 'LFST_23_500_386.jpeg', 'LFST_23_500_387.jpeg', 'LFST_23_500_388.jpeg', 'LFST_23_500_389.jpeg', 'LFST_23_500_390.jpeg', 'LFST_23_500_391.jpeg', 'LFST_23_500_392.jpeg', 'LFST_23_500_393.jpeg', 'LFST_23_500_394.jpeg', 'LFST_23_500_395.jpeg', 'LFST_23_500_396.jpeg', 'LFST_23_500_397.jpeg', 'LFST_23_500_398.jpeg', 'LFST_23_500_399.jpeg', 'LFST_23_500_400.jpeg', 'LFST_23_500_401.jpeg', 'LFST_23_500_402.jpeg', 'LFST_23_500_403.jpeg', 'LFST_23_500_404.jpeg', 'LFST_23_500_405.jpeg', 'LFST_23_500_406.jpeg', 'LFST_23_500_407.jpeg', 'LFST_23_500_408.jpeg', 'LFST_23_500_409.jpeg', 'LFST_23_500_410.jpeg', 'LFST_23_500_411.jpeg', 'LFST_23_500_412.jpeg', 'LFST_23_500_413.jpeg', 'LFST_23_500_414.jpeg', 'LFST_23_500_415.jpeg', 'LFST_23_500_416.jpeg', 'LFST_23_500_417.jpeg', 'LFST_23_500_418.jpeg', 'LFST_23_500_419.jpeg', 'LFST_23_500_420.jpeg', 'LFST_23_500_421.jpeg', 'LFST_23_500_422.jpeg', 'LFST_23_500_423.jpeg', 'LFST_23_500_424.jpeg', 'LFST_23_500_425.jpeg', 'LFST_23_500_426.jpeg', 'LFST_23_500_427.jpeg', 'LFST_23_500_428.jpeg', 'LFST_23_500_429.jpeg', 'LFST_23_500_430.jpeg', 'LFST_23_500_431.jpeg', 'LFST_23_500_432.jpeg', 'LFST_23_500_433.jpeg', 'LFST_23_500_435.jpeg', 'LFST_23_500_436.jpeg', 'LFST_23_500_437.jpeg', 'LFST_23_500_438.jpeg', 'LFST_23_500_439.jpeg', 'LFST_23_500_440.jpeg', 'LFST_23_500_441.jpeg', 'LFST_23_500_443.jpeg', 'LFST_23_500_444.jpeg', 'LFST_23_500_445.jpeg', 'LFST_23_500_447.jpeg', 'LFST_23_500_448.jpeg', 'LFST_23_500_449.jpeg', 'LFST_23_500_452.jpeg']\n",
      "Total images found: 1819\n"
     ]
    }
   ],
   "source": [
    "print(\"Images found in the folder:\")\n",
    "print(os.listdir(image_folder))  # List all images in the folder\n",
    "\n",
    "# Confirm the number of images found\n",
    "print(f\"Total images found: {len(os.listdir(image_folder))}\")\n"
   ]
  },
  {
   "cell_type": "code",
   "execution_count": 5,
   "metadata": {},
   "outputs": [],
   "source": [
    "# Create output directory structure\n",
    "os.makedirs(f'{output_folder}/images/train', exist_ok=True)\n",
    "os.makedirs(f'{output_folder}/images/val', exist_ok=True)\n",
    "os.makedirs(f'{output_folder}/labels/train', exist_ok=True)\n",
    "os.makedirs(f'{output_folder}/labels/val', exist_ok=True)"
   ]
  },
  {
   "cell_type": "code",
   "execution_count": 6,
   "metadata": {},
   "outputs": [],
   "source": [
    "# Load the CSV metadata with semicolon separator\n",
    "df = pd.read_csv(csv_path, sep=';')"
   ]
  },
  {
   "cell_type": "code",
   "execution_count": 7,
   "metadata": {},
   "outputs": [
    {
     "name": "stdout",
     "output_type": "stream",
     "text": [
      "Adjusted Filenames from the CSV:\n",
      "0    BIRK_01_500_000.jpeg\n",
      "1    BIRK_01_500_001.jpeg\n",
      "2    BIRK_01_500_002.jpeg\n",
      "3    BIRK_01_500_003.jpeg\n",
      "4    BIRK_01_500_004.jpeg\n",
      "Name: image, dtype: object\n",
      "Total images found in folder: 1819\n",
      "All CSV images match with folder images!\n"
     ]
    }
   ],
   "source": [
    "# **New code to handle 'images/' prefix in CSV filenames**\n",
    "df['image'] = df['image'].str.replace('images/', '', regex=False).str.strip()\n",
    "\n",
    "# Verify the adjustment by printing the first few filenames\n",
    "print(\"Adjusted Filenames from the CSV:\")\n",
    "print(df['image'].head())  # Confirm that 'images/' prefix is removed\n",
    "\n",
    "# Collect all images from the folder and randomly sample a subset\n",
    "images = [img for img in os.listdir(image_folder) if img.endswith(('.jpg', '.jpeg'))]\n",
    "print(f\"Total images found in folder: {len(images)}\")\n",
    "\n",
    "# Check for missing images\n",
    "missing_files = [img for img in df['image'] if img not in images]\n",
    "if missing_files:\n",
    "    print(f\"These images are listed in the CSV but not found in the folder: {missing_files}\")\n",
    "else:\n",
    "    print(\"All CSV images match with folder images!\")"
   ]
  },
  {
   "cell_type": "code",
   "execution_count": 8,
   "metadata": {},
   "outputs": [],
   "source": [
    "# Sample images for train and val sets\n",
    "sampled_images = random.sample(images, min(subset_size, len(images)))\n",
    "num_train = len(sampled_images) // 2\n",
    "train_images = sampled_images[:num_train]\n",
    "val_images = sampled_images[num_train:]\n"
   ]
  },
  {
   "cell_type": "code",
   "execution_count": 9,
   "metadata": {},
   "outputs": [],
   "source": [
    "# Helper function to convert XY coordinates to YOLO format\n",
    "def convert_to_yolo(size, corners):\n",
    "    img_w, img_h = size\n",
    "    x_min = min([corners[i] for i in range(0, 8, 2)])\n",
    "    x_max = max([corners[i] for i in range(0, 8, 2)])\n",
    "    y_min = min([corners[i] for i in range(1, 8, 2)])\n",
    "    y_max = max([corners[i] for i in range(1, 8, 2)])\n",
    "\n",
    "    # Calculate YOLO bounding box (normalized)\n",
    "    x_center = (x_min + x_max) / (2 * img_w)\n",
    "    y_center = (y_min + y_max) / (2 * img_h)\n",
    "    width = (x_max - x_min) / img_w\n",
    "    height = (y_max - y_min) / img_h\n",
    "    return 0, x_center, y_center, width, height  # class_id is 0 for \"runway\""
   ]
  },
  {
   "cell_type": "code",
   "execution_count": 10,
   "metadata": {},
   "outputs": [
    {
     "name": "stdout",
     "output_type": "stream",
     "text": [
      "Saving LFST_23_500_444.jpeg to dataset_demo/images/train/LFST_23_500_444.jpeg\n",
      "Saving label for: LFST_23_500_444.jpeg\n",
      "Label will be saved as: dataset_demo\\labels\\train\\LFST_23_500_444.txt\n",
      "Label saved successfully: dataset_demo\\labels\\train\\LFST_23_500_444.txt\n",
      "Saving LFST_23_500_277.jpeg to dataset_demo/images/train/LFST_23_500_277.jpeg\n",
      "Saving label for: LFST_23_500_277.jpeg\n",
      "Label will be saved as: dataset_demo\\labels\\train\\LFST_23_500_277.txt\n",
      "Label saved successfully: dataset_demo\\labels\\train\\LFST_23_500_277.txt\n",
      "Saving BIRK_13_500_095.jpeg to dataset_demo/images/train/BIRK_13_500_095.jpeg\n",
      "Saving label for: BIRK_13_500_095.jpeg\n",
      "Label will be saved as: dataset_demo\\labels\\train\\BIRK_13_500_095.txt\n",
      "Label saved successfully: dataset_demo\\labels\\train\\BIRK_13_500_095.txt\n",
      "Saving BIRK_13_500_361.jpeg to dataset_demo/images/train/BIRK_13_500_361.jpeg\n",
      "Saving label for: BIRK_13_500_361.jpeg\n",
      "Label will be saved as: dataset_demo\\labels\\train\\BIRK_13_500_361.txt\n",
      "Label saved successfully: dataset_demo\\labels\\train\\BIRK_13_500_361.txt\n",
      "Saving LFST_05_500_254.jpeg to dataset_demo/images/train/LFST_05_500_254.jpeg\n",
      "Saving label for: LFST_05_500_254.jpeg\n",
      "Label will be saved as: dataset_demo\\labels\\train\\LFST_05_500_254.txt\n",
      "Label saved successfully: dataset_demo\\labels\\train\\LFST_05_500_254.txt\n",
      "Saving LFST_23_500_136.jpeg to dataset_demo/images/train/LFST_23_500_136.jpeg\n",
      "Saving label for: LFST_23_500_136.jpeg\n",
      "Label will be saved as: dataset_demo\\labels\\train\\LFST_23_500_136.txt\n",
      "Label saved successfully: dataset_demo\\labels\\train\\LFST_23_500_136.txt\n",
      "Saving BIRK_13_500_006.jpeg to dataset_demo/images/train/BIRK_13_500_006.jpeg\n",
      "Saving label for: BIRK_13_500_006.jpeg\n",
      "Label will be saved as: dataset_demo\\labels\\train\\BIRK_13_500_006.txt\n",
      "Label saved successfully: dataset_demo\\labels\\train\\BIRK_13_500_006.txt\n",
      "Saving LFST_23_500_362.jpeg to dataset_demo/images/train/LFST_23_500_362.jpeg\n",
      "Saving label for: LFST_23_500_362.jpeg\n",
      "Label will be saved as: dataset_demo\\labels\\train\\LFST_23_500_362.txt\n",
      "Label saved successfully: dataset_demo\\labels\\train\\LFST_23_500_362.txt\n",
      "Saving LFST_05_500_414.jpeg to dataset_demo/images/train/LFST_05_500_414.jpeg\n",
      "Saving label for: LFST_05_500_414.jpeg\n",
      "Label will be saved as: dataset_demo\\labels\\train\\LFST_05_500_414.txt\n",
      "Label saved successfully: dataset_demo\\labels\\train\\LFST_05_500_414.txt\n",
      "Saving LFST_05_500_304.jpeg to dataset_demo/images/train/LFST_05_500_304.jpeg\n",
      "Saving label for: LFST_05_500_304.jpeg\n",
      "Label will be saved as: dataset_demo\\labels\\train\\LFST_05_500_304.txt\n",
      "Label saved successfully: dataset_demo\\labels\\train\\LFST_05_500_304.txt\n",
      "Saving BIRK_01_500_405.jpeg to dataset_demo/images/val/BIRK_01_500_405.jpeg\n",
      "Saving label for: BIRK_01_500_405.jpeg\n",
      "Label will be saved as: dataset_demo\\labels\\val\\BIRK_01_500_405.txt\n",
      "Label saved successfully: dataset_demo\\labels\\val\\BIRK_01_500_405.txt\n",
      "Saving LFST_05_500_417.jpeg to dataset_demo/images/val/LFST_05_500_417.jpeg\n",
      "Saving label for: LFST_05_500_417.jpeg\n",
      "Label will be saved as: dataset_demo\\labels\\val\\LFST_05_500_417.txt\n",
      "Label saved successfully: dataset_demo\\labels\\val\\LFST_05_500_417.txt\n",
      "Saving BIRK_13_500_308.jpeg to dataset_demo/images/val/BIRK_13_500_308.jpeg\n",
      "Saving label for: BIRK_13_500_308.jpeg\n",
      "Label will be saved as: dataset_demo\\labels\\val\\BIRK_13_500_308.txt\n",
      "Label saved successfully: dataset_demo\\labels\\val\\BIRK_13_500_308.txt\n",
      "Saving BIRK_01_500_212.jpeg to dataset_demo/images/val/BIRK_01_500_212.jpeg\n",
      "Saving label for: BIRK_01_500_212.jpeg\n",
      "Label will be saved as: dataset_demo\\labels\\val\\BIRK_01_500_212.txt\n",
      "Label saved successfully: dataset_demo\\labels\\val\\BIRK_01_500_212.txt\n",
      "Saving LFST_23_500_205.jpeg to dataset_demo/images/val/LFST_23_500_205.jpeg\n",
      "Saving label for: LFST_23_500_205.jpeg\n",
      "Label will be saved as: dataset_demo\\labels\\val\\LFST_23_500_205.txt\n",
      "Label saved successfully: dataset_demo\\labels\\val\\LFST_23_500_205.txt\n",
      "Saving LFST_23_500_267.jpeg to dataset_demo/images/val/LFST_23_500_267.jpeg\n",
      "Saving label for: LFST_23_500_267.jpeg\n",
      "Label will be saved as: dataset_demo\\labels\\val\\LFST_23_500_267.txt\n",
      "Label saved successfully: dataset_demo\\labels\\val\\LFST_23_500_267.txt\n",
      "Saving LFST_05_500_318.jpeg to dataset_demo/images/val/LFST_05_500_318.jpeg\n",
      "Saving label for: LFST_05_500_318.jpeg\n",
      "Label will be saved as: dataset_demo\\labels\\val\\LFST_05_500_318.txt\n",
      "Label saved successfully: dataset_demo\\labels\\val\\LFST_05_500_318.txt\n",
      "Saving LFST_05_500_437.jpeg to dataset_demo/images/val/LFST_05_500_437.jpeg\n",
      "Saving label for: LFST_05_500_437.jpeg\n",
      "Label will be saved as: dataset_demo\\labels\\val\\LFST_05_500_437.txt\n",
      "Label saved successfully: dataset_demo\\labels\\val\\LFST_05_500_437.txt\n",
      "Saving LFST_05_500_444.jpeg to dataset_demo/images/val/LFST_05_500_444.jpeg\n",
      "Saving label for: LFST_05_500_444.jpeg\n",
      "Label will be saved as: dataset_demo\\labels\\val\\LFST_05_500_444.txt\n",
      "Label saved successfully: dataset_demo\\labels\\val\\LFST_05_500_444.txt\n",
      "Saving BIRK_01_500_423.jpeg to dataset_demo/images/val/BIRK_01_500_423.jpeg\n",
      "Saving label for: BIRK_01_500_423.jpeg\n",
      "Label will be saved as: dataset_demo\\labels\\val\\BIRK_01_500_423.txt\n",
      "Label saved successfully: dataset_demo\\labels\\val\\BIRK_01_500_423.txt\n"
     ]
    }
   ],
   "source": [
    "# Process images and generate labels\n",
    "for subset, image_list in [('train', train_images), ('val', val_images)]:\n",
    "    for img_file in image_list:\n",
    "        img_path = os.path.join(image_folder, img_file)\n",
    "\n",
    "        # Check if the image file exists\n",
    "        if not os.path.exists(img_path):\n",
    "            print(f\"Image not found: {img_path}\")\n",
    "            continue  # Skip if the image doesn't exist\n",
    "\n",
    "        # Load image and dimensions\n",
    "        img = cv2.imread(img_path)\n",
    "        if img is None:\n",
    "            print(f\"Failed to load image: {img_file}\")\n",
    "            continue  # Skip if image loading failed\n",
    "\n",
    "        img_h, img_w = img.shape[:2]\n",
    "\n",
    "        # Save processed image\n",
    "        output_img_path = f'{output_folder}/images/{subset}/{img_file}'\n",
    "        print(f\"Saving {img_file} to {output_img_path}\")\n",
    "        cv2.imwrite(output_img_path, img)\n",
    "\n",
    "        # Insert the updated label-saving block here\n",
    "        # Correct label filename handling for both .jpg and .jpeg extensions\n",
    "        base_filename, _ = os.path.splitext(img_file)  # Get the filename without the extension\n",
    "        label_file = os.path.join(output_folder, 'labels', subset, base_filename + '.txt')\n",
    "\n",
    "        print(f\"Saving label for: {img_file}\")\n",
    "        print(f\"Label will be saved as: {label_file}\")\n",
    "\n",
    "        try:\n",
    "            # Ensure the metadata matches exactly\n",
    "            csv_filenames = df['image'].str.strip().str.lower()\n",
    "            img_file_normalized = img_file.strip().lower()\n",
    "\n",
    "            # Find the corresponding row in the CSV\n",
    "            row = df[csv_filenames == img_file_normalized].iloc[0]\n",
    "            corners = row.iloc[-8:].values.astype(float)\n",
    "\n",
    "            # Convert bounding box to YOLO format\n",
    "            label_data = convert_to_yolo((img_w, img_h), corners)\n",
    "\n",
    "            # Write the label file\n",
    "            with open(label_file, 'w') as f:\n",
    "                f.write(\" \".join(map(str, label_data)) + '\\n')\n",
    "\n",
    "            print(f\"Label saved successfully: {label_file}\")\n",
    "\n",
    "        except IndexError:\n",
    "            print(f\"No matching metadata found for image: {img_file}\")\n"
   ]
  },
  {
   "cell_type": "code",
   "execution_count": 11,
   "metadata": {},
   "outputs": [],
   "source": [
    "#SKIP FOR NOW WILL HaRDCOODE YAM FILE\n",
    "# Create YAML configuration file\n",
    "#yaml_content = f\"\"\"path: {output_folder}\n",
    "#train: images/train\n",
    "#val: images/val\n",
    "#nc: 1\n",
    "#names: ['runway']\n",
    "#\"\"\""
   ]
  },
  {
   "cell_type": "code",
   "execution_count": 12,
   "metadata": {},
   "outputs": [],
   "source": [
    "#SKIP FOR NOW WILL HaRDCOODE YAM FILE\n",
    "#with open(f'{output_folder}/runway.yaml', 'w') as f:\n",
    "   # f.write(yaml_content)\n",
    "\n",
    "#print(\"Data preparation complete!\")"
   ]
  },
  {
   "cell_type": "code",
   "execution_count": 13,
   "metadata": {},
   "outputs": [
    {
     "name": "stdout",
     "output_type": "stream",
     "text": [
      "Ultralytics 8.3.23  Python-3.11.9 torch-2.5.0+cpu CPU (AMD Ryzen 7 5800X 8-Core Processor)\n",
      "\u001b[34m\u001b[1mengine\\trainer: \u001b[0mtask=detect, mode=train, model=yolov8n.pt, data=dataset_demo\\runway.yaml, epochs=10, time=None, patience=100, batch=16, imgsz=640, save=True, save_period=-1, cache=False, device=None, workers=8, project=None, name=train16, exist_ok=False, pretrained=True, optimizer=auto, verbose=True, seed=0, deterministic=True, single_cls=False, rect=False, cos_lr=False, close_mosaic=10, resume=False, amp=True, fraction=1.0, profile=False, freeze=None, multi_scale=False, overlap_mask=True, mask_ratio=4, dropout=0.0, val=True, split=val, save_json=False, save_hybrid=False, conf=None, iou=0.7, max_det=300, half=False, dnn=False, plots=True, source=None, vid_stride=1, stream_buffer=False, visualize=False, augment=False, agnostic_nms=False, classes=None, retina_masks=False, embed=None, show=False, save_frames=False, save_txt=False, save_conf=False, save_crop=False, show_labels=True, show_conf=True, show_boxes=True, line_width=None, format=torchscript, keras=False, optimize=False, int8=False, dynamic=False, simplify=True, opset=None, workspace=4, nms=False, lr0=0.01, lrf=0.01, momentum=0.937, weight_decay=0.0005, warmup_epochs=3.0, warmup_momentum=0.8, warmup_bias_lr=0.1, box=7.5, cls=0.5, dfl=1.5, pose=12.0, kobj=1.0, label_smoothing=0.0, nbs=64, hsv_h=0.015, hsv_s=0.7, hsv_v=0.4, degrees=0.0, translate=0.1, scale=0.5, shear=0.0, perspective=0.0, flipud=0.0, fliplr=0.5, bgr=0.0, mosaic=1.0, mixup=0.0, copy_paste=0.0, copy_paste_mode=flip, auto_augment=randaugment, erasing=0.4, crop_fraction=1.0, cfg=None, tracker=botsort.yaml, save_dir=runs\\detect\\train16\n",
      "Overriding model.yaml nc=80 with nc=1\n",
      "\n",
      "                   from  n    params  module                                       arguments                     \n",
      "  0                  -1  1       464  ultralytics.nn.modules.conv.Conv             [3, 16, 3, 2]                 \n",
      "  1                  -1  1      4672  ultralytics.nn.modules.conv.Conv             [16, 32, 3, 2]                \n",
      "  2                  -1  1      7360  ultralytics.nn.modules.block.C2f             [32, 32, 1, True]             \n",
      "  3                  -1  1     18560  ultralytics.nn.modules.conv.Conv             [32, 64, 3, 2]                \n",
      "  4                  -1  2     49664  ultralytics.nn.modules.block.C2f             [64, 64, 2, True]             \n",
      "  5                  -1  1     73984  ultralytics.nn.modules.conv.Conv             [64, 128, 3, 2]               \n",
      "  6                  -1  2    197632  ultralytics.nn.modules.block.C2f             [128, 128, 2, True]           \n",
      "  7                  -1  1    295424  ultralytics.nn.modules.conv.Conv             [128, 256, 3, 2]              \n",
      "  8                  -1  1    460288  ultralytics.nn.modules.block.C2f             [256, 256, 1, True]           \n",
      "  9                  -1  1    164608  ultralytics.nn.modules.block.SPPF            [256, 256, 5]                 \n",
      " 10                  -1  1         0  torch.nn.modules.upsampling.Upsample         [None, 2, 'nearest']          \n",
      " 11             [-1, 6]  1         0  ultralytics.nn.modules.conv.Concat           [1]                           \n",
      " 12                  -1  1    148224  ultralytics.nn.modules.block.C2f             [384, 128, 1]                 \n",
      " 13                  -1  1         0  torch.nn.modules.upsampling.Upsample         [None, 2, 'nearest']          \n",
      " 14             [-1, 4]  1         0  ultralytics.nn.modules.conv.Concat           [1]                           \n",
      " 15                  -1  1     37248  ultralytics.nn.modules.block.C2f             [192, 64, 1]                  \n",
      " 16                  -1  1     36992  ultralytics.nn.modules.conv.Conv             [64, 64, 3, 2]                \n",
      " 17            [-1, 12]  1         0  ultralytics.nn.modules.conv.Concat           [1]                           \n",
      " 18                  -1  1    123648  ultralytics.nn.modules.block.C2f             [192, 128, 1]                 \n",
      " 19                  -1  1    147712  ultralytics.nn.modules.conv.Conv             [128, 128, 3, 2]              \n",
      " 20             [-1, 9]  1         0  ultralytics.nn.modules.conv.Concat           [1]                           \n",
      " 21                  -1  1    493056  ultralytics.nn.modules.block.C2f             [384, 256, 1]                 \n",
      " 22        [15, 18, 21]  1    751507  ultralytics.nn.modules.head.Detect           [1, [64, 128, 256]]           \n",
      "Model summary: 225 layers, 3,011,043 parameters, 3,011,027 gradients, 8.2 GFLOPs\n",
      "\n",
      "Transferred 319/355 items from pretrained weights\n",
      "Freezing layer 'model.22.dfl.conv.weight'\n"
     ]
    },
    {
     "name": "stderr",
     "output_type": "stream",
     "text": [
      "\u001b[34m\u001b[1mtrain: \u001b[0mScanning C:\\Users\\Annabelle\\Desktop\\runway-bounding-box-detection NEW\\dataset_demo\\labels\\train... 10 images, 0 backgrounds, 0 corrupt: 100%|██████████| 10/10 [00:00<00:00, 1242.68it/s]"
     ]
    },
    {
     "name": "stdout",
     "output_type": "stream",
     "text": [
      "\u001b[34m\u001b[1mtrain: \u001b[0mNew cache created: C:\\Users\\Annabelle\\Desktop\\runway-bounding-box-detection NEW\\dataset_demo\\labels\\train.cache\n"
     ]
    },
    {
     "name": "stderr",
     "output_type": "stream",
     "text": [
      "\n",
      "\u001b[34m\u001b[1mval: \u001b[0mScanning C:\\Users\\Annabelle\\Desktop\\runway-bounding-box-detection NEW\\dataset_demo\\labels\\val... 10 images, 0 backgrounds, 0 corrupt: 100%|██████████| 10/10 [00:00<00:00, 4899.89it/s]"
     ]
    },
    {
     "name": "stdout",
     "output_type": "stream",
     "text": [
      "\u001b[34m\u001b[1mval: \u001b[0mNew cache created: C:\\Users\\Annabelle\\Desktop\\runway-bounding-box-detection NEW\\dataset_demo\\labels\\val.cache\n"
     ]
    },
    {
     "name": "stderr",
     "output_type": "stream",
     "text": [
      "\n"
     ]
    },
    {
     "name": "stdout",
     "output_type": "stream",
     "text": [
      "Plotting labels to runs\\detect\\train16\\labels.jpg... \n",
      "\u001b[34m\u001b[1moptimizer:\u001b[0m 'optimizer=auto' found, ignoring 'lr0=0.01' and 'momentum=0.937' and determining best 'optimizer', 'lr0' and 'momentum' automatically... \n",
      "\u001b[34m\u001b[1moptimizer:\u001b[0m AdamW(lr=0.002, momentum=0.9) with parameter groups 57 weight(decay=0.0), 64 weight(decay=0.0005), 63 bias(decay=0.0)\n",
      "Image sizes 640 train, 640 val\n",
      "Using 0 dataloader workers\n",
      "Logging results to \u001b[1mruns\\detect\\train16\u001b[0m\n",
      "Starting training for 10 epochs...\n",
      "Closing dataloader mosaic\n",
      "\n",
      "      Epoch    GPU_mem   box_loss   cls_loss   dfl_loss  Instances       Size\n"
     ]
    },
    {
     "name": "stderr",
     "output_type": "stream",
     "text": [
      "       1/10         0G       2.32      6.405      1.855         10        640: 100%|██████████| 1/1 [00:03<00:00,  3.56s/it]\n",
      "                 Class     Images  Instances      Box(P          R      mAP50  mAP50-95): 100%|██████████| 1/1 [00:01<00:00,  1.43s/it]"
     ]
    },
    {
     "name": "stdout",
     "output_type": "stream",
     "text": [
      "                   all         10         10    0.00133        0.4    0.00111    0.00034\n"
     ]
    },
    {
     "name": "stderr",
     "output_type": "stream",
     "text": [
      "\n"
     ]
    },
    {
     "name": "stdout",
     "output_type": "stream",
     "text": [
      "\n",
      "      Epoch    GPU_mem   box_loss   cls_loss   dfl_loss  Instances       Size\n"
     ]
    },
    {
     "name": "stderr",
     "output_type": "stream",
     "text": [
      "       2/10         0G      2.877      7.415      1.861         10        640: 100%|██████████| 1/1 [00:02<00:00,  2.27s/it]\n",
      "                 Class     Images  Instances      Box(P          R      mAP50  mAP50-95): 100%|██████████| 1/1 [00:01<00:00,  1.45s/it]"
     ]
    },
    {
     "name": "stdout",
     "output_type": "stream",
     "text": [
      "                   all         10         10    0.00133        0.4    0.00107   0.000368\n"
     ]
    },
    {
     "name": "stderr",
     "output_type": "stream",
     "text": [
      "\n"
     ]
    },
    {
     "name": "stdout",
     "output_type": "stream",
     "text": [
      "\n",
      "      Epoch    GPU_mem   box_loss   cls_loss   dfl_loss  Instances       Size\n"
     ]
    },
    {
     "name": "stderr",
     "output_type": "stream",
     "text": [
      "       3/10         0G       2.57      6.896       1.49         10        640: 100%|██████████| 1/1 [00:01<00:00,  1.88s/it]\n",
      "                 Class     Images  Instances      Box(P          R      mAP50  mAP50-95): 100%|██████████| 1/1 [00:00<00:00,  1.00it/s]"
     ]
    },
    {
     "name": "stdout",
     "output_type": "stream",
     "text": [
      "                   all         10         10    0.00133        0.4    0.00107   0.000403\n"
     ]
    },
    {
     "name": "stderr",
     "output_type": "stream",
     "text": [
      "\n"
     ]
    },
    {
     "name": "stdout",
     "output_type": "stream",
     "text": [
      "\n",
      "      Epoch    GPU_mem   box_loss   cls_loss   dfl_loss  Instances       Size\n"
     ]
    },
    {
     "name": "stderr",
     "output_type": "stream",
     "text": [
      "       4/10         0G      2.462      6.229      1.545         10        640: 100%|██████████| 1/1 [00:01<00:00,  1.91s/it]\n",
      "                 Class     Images  Instances      Box(P          R      mAP50  mAP50-95): 100%|██████████| 1/1 [00:00<00:00,  1.01it/s]"
     ]
    },
    {
     "name": "stdout",
     "output_type": "stream",
     "text": [
      "                   all         10         10    0.00167        0.5    0.00133    0.00052\n"
     ]
    },
    {
     "name": "stderr",
     "output_type": "stream",
     "text": [
      "\n"
     ]
    },
    {
     "name": "stdout",
     "output_type": "stream",
     "text": [
      "\n",
      "      Epoch    GPU_mem   box_loss   cls_loss   dfl_loss  Instances       Size\n"
     ]
    },
    {
     "name": "stderr",
     "output_type": "stream",
     "text": [
      "       5/10         0G      1.845      6.379      1.397         10        640: 100%|██████████| 1/1 [00:01<00:00,  1.82s/it]\n",
      "                 Class     Images  Instances      Box(P          R      mAP50  mAP50-95): 100%|██████████| 1/1 [00:01<00:00,  1.01s/it]"
     ]
    },
    {
     "name": "stdout",
     "output_type": "stream",
     "text": [
      "                   all         10         10      0.002        0.6    0.00187   0.000609\n"
     ]
    },
    {
     "name": "stderr",
     "output_type": "stream",
     "text": [
      "\n"
     ]
    },
    {
     "name": "stdout",
     "output_type": "stream",
     "text": [
      "\n",
      "      Epoch    GPU_mem   box_loss   cls_loss   dfl_loss  Instances       Size\n"
     ]
    },
    {
     "name": "stderr",
     "output_type": "stream",
     "text": [
      "       6/10         0G      1.959      6.303      1.333         10        640: 100%|██████████| 1/1 [00:01<00:00,  1.96s/it]\n",
      "                 Class     Images  Instances      Box(P          R      mAP50  mAP50-95): 100%|██████████| 1/1 [00:01<00:00,  1.05s/it]"
     ]
    },
    {
     "name": "stdout",
     "output_type": "stream",
     "text": [
      "                   all         10         10    0.00233        0.7    0.00246   0.000689\n"
     ]
    },
    {
     "name": "stderr",
     "output_type": "stream",
     "text": [
      "\n"
     ]
    },
    {
     "name": "stdout",
     "output_type": "stream",
     "text": [
      "\n",
      "      Epoch    GPU_mem   box_loss   cls_loss   dfl_loss  Instances       Size\n"
     ]
    },
    {
     "name": "stderr",
     "output_type": "stream",
     "text": [
      "       7/10         0G      1.782      5.816      1.201         10        640: 100%|██████████| 1/1 [00:01<00:00,  1.82s/it]\n",
      "                 Class     Images  Instances      Box(P          R      mAP50  mAP50-95): 100%|██████████| 1/1 [00:00<00:00,  1.01it/s]"
     ]
    },
    {
     "name": "stdout",
     "output_type": "stream",
     "text": [
      "                   all         10         10    0.00233        0.7    0.00267    0.00084\n"
     ]
    },
    {
     "name": "stderr",
     "output_type": "stream",
     "text": [
      "\n"
     ]
    },
    {
     "name": "stdout",
     "output_type": "stream",
     "text": [
      "\n",
      "      Epoch    GPU_mem   box_loss   cls_loss   dfl_loss  Instances       Size\n"
     ]
    },
    {
     "name": "stderr",
     "output_type": "stream",
     "text": [
      "       8/10         0G      1.374      5.186      1.153         10        640: 100%|██████████| 1/1 [00:01<00:00,  1.82s/it]\n",
      "                 Class     Images  Instances      Box(P          R      mAP50  mAP50-95): 100%|██████████| 1/1 [00:00<00:00,  1.04it/s]"
     ]
    },
    {
     "name": "stdout",
     "output_type": "stream",
     "text": [
      "                   all         10         10      0.003        0.9    0.00331    0.00108\n"
     ]
    },
    {
     "name": "stderr",
     "output_type": "stream",
     "text": [
      "\n"
     ]
    },
    {
     "name": "stdout",
     "output_type": "stream",
     "text": [
      "\n",
      "      Epoch    GPU_mem   box_loss   cls_loss   dfl_loss  Instances       Size\n"
     ]
    },
    {
     "name": "stderr",
     "output_type": "stream",
     "text": [
      "       9/10         0G      1.627      6.029      1.269         10        640: 100%|██████████| 1/1 [00:01<00:00,  1.85s/it]\n",
      "                 Class     Images  Instances      Box(P          R      mAP50  mAP50-95): 100%|██████████| 1/1 [00:00<00:00,  1.01it/s]"
     ]
    },
    {
     "name": "stdout",
     "output_type": "stream",
     "text": [
      "                   all         10         10      0.003        0.9    0.00344    0.00108\n"
     ]
    },
    {
     "name": "stderr",
     "output_type": "stream",
     "text": [
      "\n"
     ]
    },
    {
     "name": "stdout",
     "output_type": "stream",
     "text": [
      "\n",
      "      Epoch    GPU_mem   box_loss   cls_loss   dfl_loss  Instances       Size\n"
     ]
    },
    {
     "name": "stderr",
     "output_type": "stream",
     "text": [
      "      10/10         0G      1.566      5.023      1.371         10        640: 100%|██████████| 1/1 [00:01<00:00,  1.86s/it]\n",
      "                 Class     Images  Instances      Box(P          R      mAP50  mAP50-95): 100%|██████████| 1/1 [00:00<00:00,  1.00it/s]"
     ]
    },
    {
     "name": "stdout",
     "output_type": "stream",
     "text": [
      "                   all         10         10      0.003        0.9    0.00354    0.00113\n"
     ]
    },
    {
     "name": "stderr",
     "output_type": "stream",
     "text": [
      "\n"
     ]
    },
    {
     "name": "stdout",
     "output_type": "stream",
     "text": [
      "\n",
      "10 epochs completed in 0.010 hours.\n",
      "Optimizer stripped from runs\\detect\\train16\\weights\\last.pt, 6.2MB\n",
      "Optimizer stripped from runs\\detect\\train16\\weights\\best.pt, 6.2MB\n",
      "\n",
      "Validating runs\\detect\\train16\\weights\\best.pt...\n",
      "Ultralytics 8.3.23  Python-3.11.9 torch-2.5.0+cpu CPU (AMD Ryzen 7 5800X 8-Core Processor)\n",
      "Model summary (fused): 168 layers, 3,005,843 parameters, 0 gradients, 8.1 GFLOPs\n"
     ]
    },
    {
     "name": "stderr",
     "output_type": "stream",
     "text": [
      "                 Class     Images  Instances      Box(P          R      mAP50  mAP50-95): 100%|██████████| 1/1 [00:00<00:00,  1.05it/s]\n"
     ]
    },
    {
     "name": "stdout",
     "output_type": "stream",
     "text": [
      "                   all         10         10      0.003        0.9    0.00355    0.00113\n",
      "Speed: 1.2ms preprocess, 44.0ms inference, 0.0ms loss, 3.8ms postprocess per image\n",
      "Results saved to \u001b[1mruns\\detect\\train16\u001b[0m\n"
     ]
    },
    {
     "data": {
      "text/plain": [
       "ultralytics.utils.metrics.DetMetrics object with attributes:\n",
       "\n",
       "ap_class_index: array([0])\n",
       "box: ultralytics.utils.metrics.Metric object\n",
       "confusion_matrix: <ultralytics.utils.metrics.ConfusionMatrix object at 0x00000183341D9890>\n",
       "curves: ['Precision-Recall(B)', 'F1-Confidence(B)', 'Precision-Confidence(B)', 'Recall-Confidence(B)']\n",
       "curves_results: [[array([          0,    0.001001,    0.002002,    0.003003,    0.004004,    0.005005,    0.006006,    0.007007,    0.008008,    0.009009,     0.01001,    0.011011,    0.012012,    0.013013,    0.014014,    0.015015,    0.016016,    0.017017,    0.018018,    0.019019,     0.02002,    0.021021,    0.022022,    0.023023,\n",
       "          0.024024,    0.025025,    0.026026,    0.027027,    0.028028,    0.029029,     0.03003,    0.031031,    0.032032,    0.033033,    0.034034,    0.035035,    0.036036,    0.037037,    0.038038,    0.039039,     0.04004,    0.041041,    0.042042,    0.043043,    0.044044,    0.045045,    0.046046,    0.047047,\n",
       "          0.048048,    0.049049,     0.05005,    0.051051,    0.052052,    0.053053,    0.054054,    0.055055,    0.056056,    0.057057,    0.058058,    0.059059,     0.06006,    0.061061,    0.062062,    0.063063,    0.064064,    0.065065,    0.066066,    0.067067,    0.068068,    0.069069,     0.07007,    0.071071,\n",
       "          0.072072,    0.073073,    0.074074,    0.075075,    0.076076,    0.077077,    0.078078,    0.079079,     0.08008,    0.081081,    0.082082,    0.083083,    0.084084,    0.085085,    0.086086,    0.087087,    0.088088,    0.089089,     0.09009,    0.091091,    0.092092,    0.093093,    0.094094,    0.095095,\n",
       "          0.096096,    0.097097,    0.098098,    0.099099,      0.1001,      0.1011,      0.1021,      0.1031,      0.1041,     0.10511,     0.10611,     0.10711,     0.10811,     0.10911,     0.11011,     0.11111,     0.11211,     0.11311,     0.11411,     0.11512,     0.11612,     0.11712,     0.11812,     0.11912,\n",
       "           0.12012,     0.12112,     0.12212,     0.12312,     0.12412,     0.12513,     0.12613,     0.12713,     0.12813,     0.12913,     0.13013,     0.13113,     0.13213,     0.13313,     0.13413,     0.13514,     0.13614,     0.13714,     0.13814,     0.13914,     0.14014,     0.14114,     0.14214,     0.14314,\n",
       "           0.14414,     0.14515,     0.14615,     0.14715,     0.14815,     0.14915,     0.15015,     0.15115,     0.15215,     0.15315,     0.15415,     0.15516,     0.15616,     0.15716,     0.15816,     0.15916,     0.16016,     0.16116,     0.16216,     0.16316,     0.16416,     0.16517,     0.16617,     0.16717,\n",
       "           0.16817,     0.16917,     0.17017,     0.17117,     0.17217,     0.17317,     0.17417,     0.17518,     0.17618,     0.17718,     0.17818,     0.17918,     0.18018,     0.18118,     0.18218,     0.18318,     0.18418,     0.18519,     0.18619,     0.18719,     0.18819,     0.18919,     0.19019,     0.19119,\n",
       "           0.19219,     0.19319,     0.19419,      0.1952,      0.1962,      0.1972,      0.1982,      0.1992,      0.2002,      0.2012,      0.2022,      0.2032,      0.2042,     0.20521,     0.20621,     0.20721,     0.20821,     0.20921,     0.21021,     0.21121,     0.21221,     0.21321,     0.21421,     0.21522,\n",
       "           0.21622,     0.21722,     0.21822,     0.21922,     0.22022,     0.22122,     0.22222,     0.22322,     0.22422,     0.22523,     0.22623,     0.22723,     0.22823,     0.22923,     0.23023,     0.23123,     0.23223,     0.23323,     0.23423,     0.23524,     0.23624,     0.23724,     0.23824,     0.23924,\n",
       "           0.24024,     0.24124,     0.24224,     0.24324,     0.24424,     0.24525,     0.24625,     0.24725,     0.24825,     0.24925,     0.25025,     0.25125,     0.25225,     0.25325,     0.25425,     0.25526,     0.25626,     0.25726,     0.25826,     0.25926,     0.26026,     0.26126,     0.26226,     0.26326,\n",
       "           0.26426,     0.26527,     0.26627,     0.26727,     0.26827,     0.26927,     0.27027,     0.27127,     0.27227,     0.27327,     0.27427,     0.27528,     0.27628,     0.27728,     0.27828,     0.27928,     0.28028,     0.28128,     0.28228,     0.28328,     0.28428,     0.28529,     0.28629,     0.28729,\n",
       "           0.28829,     0.28929,     0.29029,     0.29129,     0.29229,     0.29329,     0.29429,      0.2953,      0.2963,      0.2973,      0.2983,      0.2993,      0.3003,      0.3013,      0.3023,      0.3033,      0.3043,     0.30531,     0.30631,     0.30731,     0.30831,     0.30931,     0.31031,     0.31131,\n",
       "           0.31231,     0.31331,     0.31431,     0.31532,     0.31632,     0.31732,     0.31832,     0.31932,     0.32032,     0.32132,     0.32232,     0.32332,     0.32432,     0.32533,     0.32633,     0.32733,     0.32833,     0.32933,     0.33033,     0.33133,     0.33233,     0.33333,     0.33433,     0.33534,\n",
       "           0.33634,     0.33734,     0.33834,     0.33934,     0.34034,     0.34134,     0.34234,     0.34334,     0.34434,     0.34535,     0.34635,     0.34735,     0.34835,     0.34935,     0.35035,     0.35135,     0.35235,     0.35335,     0.35435,     0.35536,     0.35636,     0.35736,     0.35836,     0.35936,\n",
       "           0.36036,     0.36136,     0.36236,     0.36336,     0.36436,     0.36537,     0.36637,     0.36737,     0.36837,     0.36937,     0.37037,     0.37137,     0.37237,     0.37337,     0.37437,     0.37538,     0.37638,     0.37738,     0.37838,     0.37938,     0.38038,     0.38138,     0.38238,     0.38338,\n",
       "           0.38438,     0.38539,     0.38639,     0.38739,     0.38839,     0.38939,     0.39039,     0.39139,     0.39239,     0.39339,     0.39439,      0.3954,      0.3964,      0.3974,      0.3984,      0.3994,      0.4004,      0.4014,      0.4024,      0.4034,      0.4044,     0.40541,     0.40641,     0.40741,\n",
       "           0.40841,     0.40941,     0.41041,     0.41141,     0.41241,     0.41341,     0.41441,     0.41542,     0.41642,     0.41742,     0.41842,     0.41942,     0.42042,     0.42142,     0.42242,     0.42342,     0.42442,     0.42543,     0.42643,     0.42743,     0.42843,     0.42943,     0.43043,     0.43143,\n",
       "           0.43243,     0.43343,     0.43443,     0.43544,     0.43644,     0.43744,     0.43844,     0.43944,     0.44044,     0.44144,     0.44244,     0.44344,     0.44444,     0.44545,     0.44645,     0.44745,     0.44845,     0.44945,     0.45045,     0.45145,     0.45245,     0.45345,     0.45445,     0.45546,\n",
       "           0.45646,     0.45746,     0.45846,     0.45946,     0.46046,     0.46146,     0.46246,     0.46346,     0.46446,     0.46547,     0.46647,     0.46747,     0.46847,     0.46947,     0.47047,     0.47147,     0.47247,     0.47347,     0.47447,     0.47548,     0.47648,     0.47748,     0.47848,     0.47948,\n",
       "           0.48048,     0.48148,     0.48248,     0.48348,     0.48448,     0.48549,     0.48649,     0.48749,     0.48849,     0.48949,     0.49049,     0.49149,     0.49249,     0.49349,     0.49449,      0.4955,      0.4965,      0.4975,      0.4985,      0.4995,      0.5005,      0.5015,      0.5025,      0.5035,\n",
       "            0.5045,     0.50551,     0.50651,     0.50751,     0.50851,     0.50951,     0.51051,     0.51151,     0.51251,     0.51351,     0.51451,     0.51552,     0.51652,     0.51752,     0.51852,     0.51952,     0.52052,     0.52152,     0.52252,     0.52352,     0.52452,     0.52553,     0.52653,     0.52753,\n",
       "           0.52853,     0.52953,     0.53053,     0.53153,     0.53253,     0.53353,     0.53453,     0.53554,     0.53654,     0.53754,     0.53854,     0.53954,     0.54054,     0.54154,     0.54254,     0.54354,     0.54454,     0.54555,     0.54655,     0.54755,     0.54855,     0.54955,     0.55055,     0.55155,\n",
       "           0.55255,     0.55355,     0.55455,     0.55556,     0.55656,     0.55756,     0.55856,     0.55956,     0.56056,     0.56156,     0.56256,     0.56356,     0.56456,     0.56557,     0.56657,     0.56757,     0.56857,     0.56957,     0.57057,     0.57157,     0.57257,     0.57357,     0.57457,     0.57558,\n",
       "           0.57658,     0.57758,     0.57858,     0.57958,     0.58058,     0.58158,     0.58258,     0.58358,     0.58458,     0.58559,     0.58659,     0.58759,     0.58859,     0.58959,     0.59059,     0.59159,     0.59259,     0.59359,     0.59459,      0.5956,      0.5966,      0.5976,      0.5986,      0.5996,\n",
       "            0.6006,      0.6016,      0.6026,      0.6036,      0.6046,     0.60561,     0.60661,     0.60761,     0.60861,     0.60961,     0.61061,     0.61161,     0.61261,     0.61361,     0.61461,     0.61562,     0.61662,     0.61762,     0.61862,     0.61962,     0.62062,     0.62162,     0.62262,     0.62362,\n",
       "           0.62462,     0.62563,     0.62663,     0.62763,     0.62863,     0.62963,     0.63063,     0.63163,     0.63263,     0.63363,     0.63463,     0.63564,     0.63664,     0.63764,     0.63864,     0.63964,     0.64064,     0.64164,     0.64264,     0.64364,     0.64464,     0.64565,     0.64665,     0.64765,\n",
       "           0.64865,     0.64965,     0.65065,     0.65165,     0.65265,     0.65365,     0.65465,     0.65566,     0.65666,     0.65766,     0.65866,     0.65966,     0.66066,     0.66166,     0.66266,     0.66366,     0.66466,     0.66567,     0.66667,     0.66767,     0.66867,     0.66967,     0.67067,     0.67167,\n",
       "           0.67267,     0.67367,     0.67467,     0.67568,     0.67668,     0.67768,     0.67868,     0.67968,     0.68068,     0.68168,     0.68268,     0.68368,     0.68468,     0.68569,     0.68669,     0.68769,     0.68869,     0.68969,     0.69069,     0.69169,     0.69269,     0.69369,     0.69469,      0.6957,\n",
       "            0.6967,      0.6977,      0.6987,      0.6997,      0.7007,      0.7017,      0.7027,      0.7037,      0.7047,     0.70571,     0.70671,     0.70771,     0.70871,     0.70971,     0.71071,     0.71171,     0.71271,     0.71371,     0.71471,     0.71572,     0.71672,     0.71772,     0.71872,     0.71972,\n",
       "           0.72072,     0.72172,     0.72272,     0.72372,     0.72472,     0.72573,     0.72673,     0.72773,     0.72873,     0.72973,     0.73073,     0.73173,     0.73273,     0.73373,     0.73473,     0.73574,     0.73674,     0.73774,     0.73874,     0.73974,     0.74074,     0.74174,     0.74274,     0.74374,\n",
       "           0.74474,     0.74575,     0.74675,     0.74775,     0.74875,     0.74975,     0.75075,     0.75175,     0.75275,     0.75375,     0.75475,     0.75576,     0.75676,     0.75776,     0.75876,     0.75976,     0.76076,     0.76176,     0.76276,     0.76376,     0.76476,     0.76577,     0.76677,     0.76777,\n",
       "           0.76877,     0.76977,     0.77077,     0.77177,     0.77277,     0.77377,     0.77477,     0.77578,     0.77678,     0.77778,     0.77878,     0.77978,     0.78078,     0.78178,     0.78278,     0.78378,     0.78478,     0.78579,     0.78679,     0.78779,     0.78879,     0.78979,     0.79079,     0.79179,\n",
       "           0.79279,     0.79379,     0.79479,      0.7958,      0.7968,      0.7978,      0.7988,      0.7998,      0.8008,      0.8018,      0.8028,      0.8038,      0.8048,     0.80581,     0.80681,     0.80781,     0.80881,     0.80981,     0.81081,     0.81181,     0.81281,     0.81381,     0.81481,     0.81582,\n",
       "           0.81682,     0.81782,     0.81882,     0.81982,     0.82082,     0.82182,     0.82282,     0.82382,     0.82482,     0.82583,     0.82683,     0.82783,     0.82883,     0.82983,     0.83083,     0.83183,     0.83283,     0.83383,     0.83483,     0.83584,     0.83684,     0.83784,     0.83884,     0.83984,\n",
       "           0.84084,     0.84184,     0.84284,     0.84384,     0.84484,     0.84585,     0.84685,     0.84785,     0.84885,     0.84985,     0.85085,     0.85185,     0.85285,     0.85385,     0.85485,     0.85586,     0.85686,     0.85786,     0.85886,     0.85986,     0.86086,     0.86186,     0.86286,     0.86386,\n",
       "           0.86486,     0.86587,     0.86687,     0.86787,     0.86887,     0.86987,     0.87087,     0.87187,     0.87287,     0.87387,     0.87487,     0.87588,     0.87688,     0.87788,     0.87888,     0.87988,     0.88088,     0.88188,     0.88288,     0.88388,     0.88488,     0.88589,     0.88689,     0.88789,\n",
       "           0.88889,     0.88989,     0.89089,     0.89189,     0.89289,     0.89389,     0.89489,      0.8959,      0.8969,      0.8979,      0.8989,      0.8999,      0.9009,      0.9019,      0.9029,      0.9039,      0.9049,     0.90591,     0.90691,     0.90791,     0.90891,     0.90991,     0.91091,     0.91191,\n",
       "           0.91291,     0.91391,     0.91491,     0.91592,     0.91692,     0.91792,     0.91892,     0.91992,     0.92092,     0.92192,     0.92292,     0.92392,     0.92492,     0.92593,     0.92693,     0.92793,     0.92893,     0.92993,     0.93093,     0.93193,     0.93293,     0.93393,     0.93493,     0.93594,\n",
       "           0.93694,     0.93794,     0.93894,     0.93994,     0.94094,     0.94194,     0.94294,     0.94394,     0.94494,     0.94595,     0.94695,     0.94795,     0.94895,     0.94995,     0.95095,     0.95195,     0.95295,     0.95395,     0.95495,     0.95596,     0.95696,     0.95796,     0.95896,     0.95996,\n",
       "           0.96096,     0.96196,     0.96296,     0.96396,     0.96496,     0.96597,     0.96697,     0.96797,     0.96897,     0.96997,     0.97097,     0.97197,     0.97297,     0.97397,     0.97497,     0.97598,     0.97698,     0.97798,     0.97898,     0.97998,     0.98098,     0.98198,     0.98298,     0.98398,\n",
       "           0.98498,     0.98599,     0.98699,     0.98799,     0.98899,     0.98999,     0.99099,     0.99199,     0.99299,     0.99399,     0.99499,       0.996,       0.997,       0.998,       0.999,           1]), array([[  0.0081301,   0.0081301,   0.0081301,   0.0081301,   0.0081301,   0.0081301,   0.0081301,   0.0081301,   0.0081301,   0.0081301,   0.0081301,   0.0081301,   0.0081301,   0.0081301,   0.0081301,   0.0081301,   0.0081301,   0.0081301,   0.0081301,   0.0081301,   0.0081301,   0.0081301,   0.0081301,\n",
       "          0.0081301,   0.0081301,   0.0081301,   0.0081301,   0.0081301,   0.0081301,   0.0081301,   0.0081301,   0.0081301,   0.0081301,   0.0081301,   0.0081301,   0.0081301,   0.0081301,   0.0081301,   0.0081301,   0.0081301,   0.0081301,   0.0081301,   0.0081301,   0.0081301,   0.0081301,   0.0081301,\n",
       "          0.0081301,   0.0081301,   0.0081301,   0.0081301,   0.0081301,   0.0081301,   0.0081301,   0.0081301,   0.0081301,   0.0081301,   0.0081301,   0.0081301,   0.0081301,   0.0081301,   0.0081301,   0.0081301,   0.0081301,   0.0081301,   0.0081301,   0.0081301,   0.0081301,   0.0081301,   0.0081301,\n",
       "          0.0081301,   0.0081301,   0.0081301,   0.0081301,   0.0081301,   0.0081301,   0.0081301,   0.0081301,   0.0081301,   0.0081301,   0.0081301,   0.0081301,   0.0081301,   0.0081301,   0.0081301,   0.0081301,   0.0081301,   0.0081301,   0.0081301,   0.0081301,   0.0081301,   0.0081301,   0.0081301,\n",
       "          0.0081301,   0.0081301,   0.0081301,   0.0081301,   0.0081301,   0.0081301,   0.0081301,   0.0081301,   0.0033397,   0.0033397,   0.0033397,   0.0033397,   0.0033397,   0.0033397,   0.0033397,   0.0033397,   0.0033397,   0.0033397,   0.0033397,   0.0033397,   0.0033397,   0.0033397,   0.0033397,\n",
       "          0.0033397,   0.0033397,   0.0033397,   0.0033397,   0.0033397,   0.0033397,   0.0033397,   0.0033397,   0.0033397,   0.0033397,   0.0033397,   0.0033397,   0.0033397,   0.0033397,   0.0033397,   0.0033397,   0.0033397,   0.0033397,   0.0033397,   0.0033397,   0.0033397,   0.0033397,   0.0033397,\n",
       "          0.0033397,   0.0033397,   0.0033397,   0.0033397,   0.0033397,   0.0033397,   0.0033397,   0.0033397,   0.0033397,   0.0033397,   0.0033397,   0.0033397,   0.0033397,   0.0033397,   0.0033397,   0.0033397,   0.0033397,   0.0033397,   0.0033397,   0.0033397,   0.0033397,   0.0033397,   0.0033397,\n",
       "          0.0033397,   0.0033397,   0.0033397,   0.0033397,   0.0033397,   0.0033397,   0.0033397,   0.0033397,   0.0033397,   0.0033397,   0.0033397,   0.0033397,   0.0033397,   0.0033397,   0.0033397,   0.0033397,   0.0033397,   0.0033397,   0.0033397,   0.0033397,   0.0033397,   0.0033397,   0.0033397,\n",
       "          0.0033397,   0.0033397,   0.0033397,   0.0033397,   0.0033397,   0.0033397,   0.0033397,   0.0033397,   0.0033397,   0.0033397,   0.0033397,   0.0033397,   0.0033397,   0.0033397,   0.0033397,   0.0033397,   0.0033397,   0.0033397,   0.0033397,   0.0033397,   0.0033397,   0.0033397,   0.0033397,\n",
       "          0.0033397,   0.0033397,   0.0033397,   0.0033397,   0.0033397,   0.0033397,   0.0033397,   0.0033397,   0.0033397,   0.0033397,   0.0033397,   0.0033397,   0.0033397,   0.0033397,   0.0033397,   0.0033397,   0.0033397,   0.0033397,   0.0033397,   0.0033397,   0.0033397,   0.0033397,   0.0033397,\n",
       "          0.0033397,   0.0033397,   0.0033397,   0.0033397,   0.0033397,   0.0033397,   0.0033397,   0.0033397,   0.0033397,   0.0033397,   0.0033397,   0.0033397,   0.0033397,   0.0033397,   0.0033397,   0.0033397,   0.0033397,   0.0033397,   0.0033397,   0.0033397,   0.0033397,   0.0033397,   0.0033397,\n",
       "          0.0033397,   0.0033397,   0.0033397,   0.0033397,   0.0033397,   0.0033397,   0.0033397,   0.0033397,   0.0033397,   0.0033397,   0.0033397,   0.0033397,   0.0033397,   0.0033397,   0.0033397,   0.0033397,   0.0033397,   0.0033397,   0.0033397,   0.0033397,   0.0033397,   0.0033397,   0.0033397,\n",
       "          0.0033397,   0.0033397,   0.0033397,   0.0033397,   0.0033397,   0.0033397,   0.0033397,   0.0033397,   0.0033397,   0.0033397,   0.0033397,   0.0033397,   0.0033397,   0.0033397,   0.0033397,   0.0033397,   0.0033397,   0.0033397,   0.0033397,   0.0033397,   0.0033397,   0.0033397,   0.0033397,\n",
       "          0.0033397,   0.0033397,   0.0033397,   0.0033397,   0.0033397,   0.0033397,   0.0033397,   0.0033397,   0.0033397,   0.0033397,   0.0033397,   0.0033397,   0.0033397,   0.0033397,   0.0033397,   0.0033397,   0.0033397,   0.0033397,   0.0033397,   0.0033397,   0.0033397,   0.0033397,   0.0033397,\n",
       "          0.0033397,   0.0033397,   0.0033397,   0.0033397,   0.0033397,   0.0033397,   0.0033397,   0.0033397,   0.0033397,   0.0033397,   0.0033397,   0.0033397,   0.0033397,   0.0033397,   0.0033397,   0.0033397,   0.0033397,   0.0033397,   0.0033397,   0.0033397,   0.0033397,   0.0033397,   0.0033397,\n",
       "          0.0033397,   0.0033397,   0.0033397,   0.0033397,   0.0033397,   0.0033397,   0.0033397,   0.0033397,   0.0033397,   0.0033397,   0.0033397,   0.0033397,   0.0033397,   0.0033397,   0.0033397,   0.0033397,   0.0033397,   0.0033397,   0.0033397,   0.0033397,   0.0033397,   0.0033397,   0.0033397,\n",
       "          0.0033397,   0.0033397,   0.0033397,   0.0033397,   0.0033397,   0.0033397,   0.0033397,   0.0033397,   0.0033397,   0.0033397,   0.0033397,   0.0033397,   0.0033397,   0.0033397,   0.0033397,   0.0033397,   0.0033397,   0.0033397,   0.0033397,   0.0033397,   0.0033397,   0.0033397,   0.0033397,\n",
       "          0.0033397,   0.0033397,   0.0033397,   0.0033397,   0.0033397,   0.0033397,   0.0033397,   0.0033397,   0.0033397,   0.0033397,   0.0033397,   0.0033397,   0.0033397,   0.0033397,   0.0033397,   0.0033397,   0.0033397,   0.0033397,   0.0033397,   0.0033397,   0.0033397,   0.0033397,   0.0033397,\n",
       "          0.0033397,   0.0033397,   0.0033397,   0.0033397,   0.0033397,   0.0033397,   0.0033397,   0.0033397,   0.0033397,   0.0033397,   0.0033397,   0.0033397,   0.0033397,   0.0033397,   0.0033397,   0.0033397,   0.0033397,   0.0033397,   0.0033397,   0.0033397,   0.0033397,   0.0033397,   0.0033397,\n",
       "          0.0033397,   0.0033397,   0.0033397,   0.0033397,   0.0033397,   0.0033397,   0.0033397,   0.0033397,   0.0033397,   0.0033397,   0.0033397,   0.0033397,   0.0033397,   0.0033397,   0.0033397,   0.0033397,   0.0033397,   0.0033397,   0.0033397,   0.0033397,   0.0033397,   0.0033397,   0.0033397,\n",
       "          0.0033397,   0.0033397,   0.0033397,   0.0033397,   0.0033397,   0.0033397,   0.0033397,   0.0033397,   0.0033397,   0.0033397,   0.0033397,   0.0033397,   0.0033397,   0.0033397,   0.0033397,   0.0033397,   0.0033397,   0.0033397,   0.0033397,   0.0033397,   0.0033397,   0.0033397,   0.0033397,\n",
       "          0.0033397,   0.0033397,   0.0033397,   0.0033397,   0.0033397,   0.0033397,   0.0033397,   0.0033397,   0.0033397,   0.0033397,   0.0033397,   0.0033397,   0.0033397,   0.0033397,   0.0033397,   0.0033397,   0.0033397,   0.0033397,   0.0033397,   0.0033397,   0.0033397,   0.0033397,   0.0033397,\n",
       "          0.0033397,   0.0033397,   0.0033397,   0.0033397,   0.0033397,   0.0033397,   0.0033397,   0.0033397,   0.0033397,   0.0033397,   0.0033397,   0.0033397,   0.0033397,   0.0033397,   0.0033397,   0.0033397,   0.0033397,   0.0033397,   0.0033397,   0.0033397,   0.0033397,   0.0033397,   0.0033397,\n",
       "          0.0033397,   0.0033397,   0.0033397,   0.0033397,   0.0033397,   0.0033397,   0.0033397,   0.0033397,   0.0033397,   0.0033397,   0.0033397,   0.0033397,   0.0033397,   0.0033397,   0.0033397,   0.0033397,   0.0033397,   0.0033397,   0.0033397,   0.0033397,   0.0033397,   0.0033397,   0.0033397,\n",
       "          0.0033397,   0.0033397,   0.0033397,   0.0033397,   0.0033397,   0.0033397,   0.0033397,   0.0033397,   0.0033397,   0.0033397,   0.0033397,   0.0033397,   0.0033397,   0.0033397,   0.0033397,   0.0033397,   0.0033397,   0.0033397,   0.0033397,   0.0033397,   0.0033397,   0.0033397,   0.0033397,\n",
       "          0.0033397,   0.0033397,   0.0033397,   0.0033397,   0.0033397,   0.0033397,   0.0033397,   0.0033397,   0.0033397,   0.0033397,   0.0033397,   0.0033397,   0.0033397,   0.0033397,   0.0033397,   0.0033397,   0.0033397,   0.0033397,   0.0033397,   0.0033397,   0.0033397,   0.0033397,   0.0033397,\n",
       "          0.0033397,   0.0033397,   0.0033397,   0.0033397,   0.0033397,   0.0033397,   0.0033397,   0.0033397,   0.0033397,   0.0033397,   0.0033397,   0.0033397,   0.0033397,   0.0033397,   0.0033397,   0.0033397,   0.0033397,   0.0033397,   0.0033397,   0.0033397,   0.0033397,   0.0033397,   0.0033397,\n",
       "          0.0033397,   0.0033397,   0.0033397,   0.0033397,   0.0033397,   0.0033397,   0.0033397,   0.0033397,   0.0033397,   0.0033397,   0.0033397,   0.0033397,   0.0033397,   0.0033397,   0.0033397,   0.0033397,   0.0033397,   0.0033397,   0.0033397,   0.0033397,   0.0033397,   0.0033397,   0.0033397,\n",
       "          0.0033397,   0.0033397,   0.0033397,   0.0033397,   0.0033397,   0.0033397,   0.0033397,   0.0033397,   0.0033397,   0.0033397,   0.0033397,   0.0033397,   0.0033397,   0.0033397,   0.0033397,   0.0033397,   0.0033397,   0.0033397,   0.0033397,   0.0033397,   0.0033397,   0.0033397,   0.0033397,\n",
       "          0.0033397,   0.0033397,   0.0033397,   0.0033397,   0.0033397,   0.0033397,   0.0033397,   0.0033397,   0.0033397,   0.0033397,   0.0033397,   0.0033397,   0.0033397,   0.0033397,   0.0033397,   0.0033397,   0.0033397,   0.0033397,   0.0033397,   0.0033397,   0.0033397,   0.0033397,   0.0033397,\n",
       "          0.0033397,   0.0033397,   0.0033397,   0.0033397,   0.0033397,   0.0033397,   0.0033397,   0.0033397,   0.0033397,   0.0033397,   0.0030664,   0.0030664,   0.0030664,   0.0030664,   0.0030664,   0.0030664,   0.0030664,   0.0030664,   0.0030664,   0.0030664,   0.0030664,   0.0030664,   0.0030664,\n",
       "          0.0030664,   0.0030664,   0.0030664,   0.0030664,   0.0030664,   0.0030664,   0.0030664,   0.0030664,   0.0030664,   0.0030664,   0.0030664,   0.0030664,   0.0030664,   0.0030664,   0.0030664,   0.0030664,   0.0030664,   0.0030664,   0.0030664,   0.0030664,   0.0030664,   0.0030664,   0.0030664,\n",
       "          0.0030664,   0.0030664,   0.0030664,   0.0030664,   0.0030664,   0.0030664,   0.0030664,   0.0030664,   0.0030664,   0.0030664,   0.0030664,   0.0030664,   0.0030664,   0.0030664,   0.0030664,   0.0030664,   0.0030664,   0.0030664,   0.0030664,   0.0030664,   0.0030664,   0.0030664,   0.0030664,\n",
       "          0.0030664,   0.0030664,   0.0030664,   0.0030664,   0.0030664,   0.0030664,   0.0030664,   0.0030664,   0.0030664,   0.0030664,   0.0030664,   0.0030664,   0.0030664,   0.0030664,   0.0030664,   0.0030664,   0.0030664,   0.0030664,   0.0030664,   0.0030664,   0.0030664,   0.0030664,   0.0030664,\n",
       "          0.0030664,   0.0030664,   0.0030664,   0.0030664,   0.0030664,   0.0030664,   0.0030664,   0.0030664,   0.0030664,   0.0030664,   0.0030664,   0.0030664,   0.0030664,   0.0030664,   0.0030664,   0.0030664,   0.0030664,   0.0030664,   0.0030664,   0.0030664,   0.0030664,   0.0030664,   0.0030664,\n",
       "          0.0030664,   0.0030664,   0.0030664,   0.0030664,   0.0030664,   0.0030664,   0.0030664,   0.0030664,   0.0030664,   0.0030664,   0.0030664,   0.0030664,   0.0030664,   0.0030664,   0.0030664,   0.0030664,   0.0030664,   0.0030664,   0.0030664,   0.0030664,   0.0030664,   0.0030664,   0.0030664,\n",
       "          0.0030664,   0.0030664,   0.0030664,   0.0030664,   0.0030664,   0.0030664,   0.0030664,   0.0030664,   0.0030664,   0.0030664,   0.0030664,   0.0030664,   0.0030664,   0.0030664,   0.0030664,   0.0030664,   0.0030664,   0.0030664,   0.0030664,   0.0030664,   0.0030664,   0.0030664,   0.0030664,\n",
       "          0.0030664,   0.0030664,   0.0030664,   0.0030664,   0.0030664,   0.0030664,   0.0030664,   0.0030664,   0.0030664,   0.0030664,   0.0030664,   0.0030664,   0.0030664,   0.0030664,   0.0030664,   0.0030664,   0.0030664,   0.0030664,   0.0030664,   0.0030664,   0.0030664,   0.0030664,   0.0030664,\n",
       "          0.0030664,   0.0030664,   0.0030664,   0.0030664,   0.0030664,   0.0030664,   0.0030664,   0.0030664,   0.0030664,   0.0030664,   0.0030664,   0.0030664,   0.0030664,   0.0030664,   0.0030664,   0.0030664,   0.0030664,   0.0030664,   0.0030664,   0.0030664,   0.0030664,   0.0030664,   0.0030664,\n",
       "          0.0030664,   0.0030664,   0.0030664,    0.002973,   0.0029429,   0.0029129,   0.0028829,   0.0028529,   0.0028228,   0.0027928,   0.0027628,   0.0027327,   0.0027027,   0.0026727,   0.0026426,   0.0026126,   0.0025826,   0.0025526,   0.0025225,   0.0024925,   0.0024625,   0.0024324,   0.0024024,\n",
       "          0.0023724,   0.0023423,   0.0023123,   0.0022823,   0.0022523,   0.0022222,   0.0021922,   0.0021622,   0.0021321,   0.0021021,   0.0020721,    0.002042,    0.002012,    0.001982,    0.001952,   0.0019219,   0.0018919,   0.0018619,   0.0018318,   0.0018018,   0.0017718,   0.0017417,   0.0017117,\n",
       "          0.0016817,   0.0016517,   0.0016216,   0.0015916,   0.0015616,   0.0015315,   0.0015015,   0.0014715,   0.0014414,   0.0014114,   0.0013814,   0.0013514,   0.0013213,   0.0012913,   0.0012613,   0.0012312,   0.0012012,   0.0011712,   0.0011411,   0.0011111,   0.0010811,   0.0010511,    0.001021,\n",
       "         0.00099099,  0.00096096,  0.00093093,   0.0009009,  0.00087087,  0.00084084,  0.00081081,  0.00078078,  0.00075075,  0.00072072,  0.00069069,  0.00066066,  0.00063063,   0.0006006,  0.00057057,  0.00054054,  0.00051051,  0.00048048,  0.00045045,  0.00042042,  0.00039039,  0.00036036,  0.00033033,\n",
       "          0.0003003,  0.00027027,  0.00024024,  0.00021021,  0.00018018,  0.00015015,  0.00012012,   9.009e-05,   6.006e-05,   3.003e-05,           0]]), 'Recall', 'Precision'], [array([          0,    0.001001,    0.002002,    0.003003,    0.004004,    0.005005,    0.006006,    0.007007,    0.008008,    0.009009,     0.01001,    0.011011,    0.012012,    0.013013,    0.014014,    0.015015,    0.016016,    0.017017,    0.018018,    0.019019,     0.02002,    0.021021,    0.022022,    0.023023,\n",
       "          0.024024,    0.025025,    0.026026,    0.027027,    0.028028,    0.029029,     0.03003,    0.031031,    0.032032,    0.033033,    0.034034,    0.035035,    0.036036,    0.037037,    0.038038,    0.039039,     0.04004,    0.041041,    0.042042,    0.043043,    0.044044,    0.045045,    0.046046,    0.047047,\n",
       "          0.048048,    0.049049,     0.05005,    0.051051,    0.052052,    0.053053,    0.054054,    0.055055,    0.056056,    0.057057,    0.058058,    0.059059,     0.06006,    0.061061,    0.062062,    0.063063,    0.064064,    0.065065,    0.066066,    0.067067,    0.068068,    0.069069,     0.07007,    0.071071,\n",
       "          0.072072,    0.073073,    0.074074,    0.075075,    0.076076,    0.077077,    0.078078,    0.079079,     0.08008,    0.081081,    0.082082,    0.083083,    0.084084,    0.085085,    0.086086,    0.087087,    0.088088,    0.089089,     0.09009,    0.091091,    0.092092,    0.093093,    0.094094,    0.095095,\n",
       "          0.096096,    0.097097,    0.098098,    0.099099,      0.1001,      0.1011,      0.1021,      0.1031,      0.1041,     0.10511,     0.10611,     0.10711,     0.10811,     0.10911,     0.11011,     0.11111,     0.11211,     0.11311,     0.11411,     0.11512,     0.11612,     0.11712,     0.11812,     0.11912,\n",
       "           0.12012,     0.12112,     0.12212,     0.12312,     0.12412,     0.12513,     0.12613,     0.12713,     0.12813,     0.12913,     0.13013,     0.13113,     0.13213,     0.13313,     0.13413,     0.13514,     0.13614,     0.13714,     0.13814,     0.13914,     0.14014,     0.14114,     0.14214,     0.14314,\n",
       "           0.14414,     0.14515,     0.14615,     0.14715,     0.14815,     0.14915,     0.15015,     0.15115,     0.15215,     0.15315,     0.15415,     0.15516,     0.15616,     0.15716,     0.15816,     0.15916,     0.16016,     0.16116,     0.16216,     0.16316,     0.16416,     0.16517,     0.16617,     0.16717,\n",
       "           0.16817,     0.16917,     0.17017,     0.17117,     0.17217,     0.17317,     0.17417,     0.17518,     0.17618,     0.17718,     0.17818,     0.17918,     0.18018,     0.18118,     0.18218,     0.18318,     0.18418,     0.18519,     0.18619,     0.18719,     0.18819,     0.18919,     0.19019,     0.19119,\n",
       "           0.19219,     0.19319,     0.19419,      0.1952,      0.1962,      0.1972,      0.1982,      0.1992,      0.2002,      0.2012,      0.2022,      0.2032,      0.2042,     0.20521,     0.20621,     0.20721,     0.20821,     0.20921,     0.21021,     0.21121,     0.21221,     0.21321,     0.21421,     0.21522,\n",
       "           0.21622,     0.21722,     0.21822,     0.21922,     0.22022,     0.22122,     0.22222,     0.22322,     0.22422,     0.22523,     0.22623,     0.22723,     0.22823,     0.22923,     0.23023,     0.23123,     0.23223,     0.23323,     0.23423,     0.23524,     0.23624,     0.23724,     0.23824,     0.23924,\n",
       "           0.24024,     0.24124,     0.24224,     0.24324,     0.24424,     0.24525,     0.24625,     0.24725,     0.24825,     0.24925,     0.25025,     0.25125,     0.25225,     0.25325,     0.25425,     0.25526,     0.25626,     0.25726,     0.25826,     0.25926,     0.26026,     0.26126,     0.26226,     0.26326,\n",
       "           0.26426,     0.26527,     0.26627,     0.26727,     0.26827,     0.26927,     0.27027,     0.27127,     0.27227,     0.27327,     0.27427,     0.27528,     0.27628,     0.27728,     0.27828,     0.27928,     0.28028,     0.28128,     0.28228,     0.28328,     0.28428,     0.28529,     0.28629,     0.28729,\n",
       "           0.28829,     0.28929,     0.29029,     0.29129,     0.29229,     0.29329,     0.29429,      0.2953,      0.2963,      0.2973,      0.2983,      0.2993,      0.3003,      0.3013,      0.3023,      0.3033,      0.3043,     0.30531,     0.30631,     0.30731,     0.30831,     0.30931,     0.31031,     0.31131,\n",
       "           0.31231,     0.31331,     0.31431,     0.31532,     0.31632,     0.31732,     0.31832,     0.31932,     0.32032,     0.32132,     0.32232,     0.32332,     0.32432,     0.32533,     0.32633,     0.32733,     0.32833,     0.32933,     0.33033,     0.33133,     0.33233,     0.33333,     0.33433,     0.33534,\n",
       "           0.33634,     0.33734,     0.33834,     0.33934,     0.34034,     0.34134,     0.34234,     0.34334,     0.34434,     0.34535,     0.34635,     0.34735,     0.34835,     0.34935,     0.35035,     0.35135,     0.35235,     0.35335,     0.35435,     0.35536,     0.35636,     0.35736,     0.35836,     0.35936,\n",
       "           0.36036,     0.36136,     0.36236,     0.36336,     0.36436,     0.36537,     0.36637,     0.36737,     0.36837,     0.36937,     0.37037,     0.37137,     0.37237,     0.37337,     0.37437,     0.37538,     0.37638,     0.37738,     0.37838,     0.37938,     0.38038,     0.38138,     0.38238,     0.38338,\n",
       "           0.38438,     0.38539,     0.38639,     0.38739,     0.38839,     0.38939,     0.39039,     0.39139,     0.39239,     0.39339,     0.39439,      0.3954,      0.3964,      0.3974,      0.3984,      0.3994,      0.4004,      0.4014,      0.4024,      0.4034,      0.4044,     0.40541,     0.40641,     0.40741,\n",
       "           0.40841,     0.40941,     0.41041,     0.41141,     0.41241,     0.41341,     0.41441,     0.41542,     0.41642,     0.41742,     0.41842,     0.41942,     0.42042,     0.42142,     0.42242,     0.42342,     0.42442,     0.42543,     0.42643,     0.42743,     0.42843,     0.42943,     0.43043,     0.43143,\n",
       "           0.43243,     0.43343,     0.43443,     0.43544,     0.43644,     0.43744,     0.43844,     0.43944,     0.44044,     0.44144,     0.44244,     0.44344,     0.44444,     0.44545,     0.44645,     0.44745,     0.44845,     0.44945,     0.45045,     0.45145,     0.45245,     0.45345,     0.45445,     0.45546,\n",
       "           0.45646,     0.45746,     0.45846,     0.45946,     0.46046,     0.46146,     0.46246,     0.46346,     0.46446,     0.46547,     0.46647,     0.46747,     0.46847,     0.46947,     0.47047,     0.47147,     0.47247,     0.47347,     0.47447,     0.47548,     0.47648,     0.47748,     0.47848,     0.47948,\n",
       "           0.48048,     0.48148,     0.48248,     0.48348,     0.48448,     0.48549,     0.48649,     0.48749,     0.48849,     0.48949,     0.49049,     0.49149,     0.49249,     0.49349,     0.49449,      0.4955,      0.4965,      0.4975,      0.4985,      0.4995,      0.5005,      0.5015,      0.5025,      0.5035,\n",
       "            0.5045,     0.50551,     0.50651,     0.50751,     0.50851,     0.50951,     0.51051,     0.51151,     0.51251,     0.51351,     0.51451,     0.51552,     0.51652,     0.51752,     0.51852,     0.51952,     0.52052,     0.52152,     0.52252,     0.52352,     0.52452,     0.52553,     0.52653,     0.52753,\n",
       "           0.52853,     0.52953,     0.53053,     0.53153,     0.53253,     0.53353,     0.53453,     0.53554,     0.53654,     0.53754,     0.53854,     0.53954,     0.54054,     0.54154,     0.54254,     0.54354,     0.54454,     0.54555,     0.54655,     0.54755,     0.54855,     0.54955,     0.55055,     0.55155,\n",
       "           0.55255,     0.55355,     0.55455,     0.55556,     0.55656,     0.55756,     0.55856,     0.55956,     0.56056,     0.56156,     0.56256,     0.56356,     0.56456,     0.56557,     0.56657,     0.56757,     0.56857,     0.56957,     0.57057,     0.57157,     0.57257,     0.57357,     0.57457,     0.57558,\n",
       "           0.57658,     0.57758,     0.57858,     0.57958,     0.58058,     0.58158,     0.58258,     0.58358,     0.58458,     0.58559,     0.58659,     0.58759,     0.58859,     0.58959,     0.59059,     0.59159,     0.59259,     0.59359,     0.59459,      0.5956,      0.5966,      0.5976,      0.5986,      0.5996,\n",
       "            0.6006,      0.6016,      0.6026,      0.6036,      0.6046,     0.60561,     0.60661,     0.60761,     0.60861,     0.60961,     0.61061,     0.61161,     0.61261,     0.61361,     0.61461,     0.61562,     0.61662,     0.61762,     0.61862,     0.61962,     0.62062,     0.62162,     0.62262,     0.62362,\n",
       "           0.62462,     0.62563,     0.62663,     0.62763,     0.62863,     0.62963,     0.63063,     0.63163,     0.63263,     0.63363,     0.63463,     0.63564,     0.63664,     0.63764,     0.63864,     0.63964,     0.64064,     0.64164,     0.64264,     0.64364,     0.64464,     0.64565,     0.64665,     0.64765,\n",
       "           0.64865,     0.64965,     0.65065,     0.65165,     0.65265,     0.65365,     0.65465,     0.65566,     0.65666,     0.65766,     0.65866,     0.65966,     0.66066,     0.66166,     0.66266,     0.66366,     0.66466,     0.66567,     0.66667,     0.66767,     0.66867,     0.66967,     0.67067,     0.67167,\n",
       "           0.67267,     0.67367,     0.67467,     0.67568,     0.67668,     0.67768,     0.67868,     0.67968,     0.68068,     0.68168,     0.68268,     0.68368,     0.68468,     0.68569,     0.68669,     0.68769,     0.68869,     0.68969,     0.69069,     0.69169,     0.69269,     0.69369,     0.69469,      0.6957,\n",
       "            0.6967,      0.6977,      0.6987,      0.6997,      0.7007,      0.7017,      0.7027,      0.7037,      0.7047,     0.70571,     0.70671,     0.70771,     0.70871,     0.70971,     0.71071,     0.71171,     0.71271,     0.71371,     0.71471,     0.71572,     0.71672,     0.71772,     0.71872,     0.71972,\n",
       "           0.72072,     0.72172,     0.72272,     0.72372,     0.72472,     0.72573,     0.72673,     0.72773,     0.72873,     0.72973,     0.73073,     0.73173,     0.73273,     0.73373,     0.73473,     0.73574,     0.73674,     0.73774,     0.73874,     0.73974,     0.74074,     0.74174,     0.74274,     0.74374,\n",
       "           0.74474,     0.74575,     0.74675,     0.74775,     0.74875,     0.74975,     0.75075,     0.75175,     0.75275,     0.75375,     0.75475,     0.75576,     0.75676,     0.75776,     0.75876,     0.75976,     0.76076,     0.76176,     0.76276,     0.76376,     0.76476,     0.76577,     0.76677,     0.76777,\n",
       "           0.76877,     0.76977,     0.77077,     0.77177,     0.77277,     0.77377,     0.77477,     0.77578,     0.77678,     0.77778,     0.77878,     0.77978,     0.78078,     0.78178,     0.78278,     0.78378,     0.78478,     0.78579,     0.78679,     0.78779,     0.78879,     0.78979,     0.79079,     0.79179,\n",
       "           0.79279,     0.79379,     0.79479,      0.7958,      0.7968,      0.7978,      0.7988,      0.7998,      0.8008,      0.8018,      0.8028,      0.8038,      0.8048,     0.80581,     0.80681,     0.80781,     0.80881,     0.80981,     0.81081,     0.81181,     0.81281,     0.81381,     0.81481,     0.81582,\n",
       "           0.81682,     0.81782,     0.81882,     0.81982,     0.82082,     0.82182,     0.82282,     0.82382,     0.82482,     0.82583,     0.82683,     0.82783,     0.82883,     0.82983,     0.83083,     0.83183,     0.83283,     0.83383,     0.83483,     0.83584,     0.83684,     0.83784,     0.83884,     0.83984,\n",
       "           0.84084,     0.84184,     0.84284,     0.84384,     0.84484,     0.84585,     0.84685,     0.84785,     0.84885,     0.84985,     0.85085,     0.85185,     0.85285,     0.85385,     0.85485,     0.85586,     0.85686,     0.85786,     0.85886,     0.85986,     0.86086,     0.86186,     0.86286,     0.86386,\n",
       "           0.86486,     0.86587,     0.86687,     0.86787,     0.86887,     0.86987,     0.87087,     0.87187,     0.87287,     0.87387,     0.87487,     0.87588,     0.87688,     0.87788,     0.87888,     0.87988,     0.88088,     0.88188,     0.88288,     0.88388,     0.88488,     0.88589,     0.88689,     0.88789,\n",
       "           0.88889,     0.88989,     0.89089,     0.89189,     0.89289,     0.89389,     0.89489,      0.8959,      0.8969,      0.8979,      0.8989,      0.8999,      0.9009,      0.9019,      0.9029,      0.9039,      0.9049,     0.90591,     0.90691,     0.90791,     0.90891,     0.90991,     0.91091,     0.91191,\n",
       "           0.91291,     0.91391,     0.91491,     0.91592,     0.91692,     0.91792,     0.91892,     0.91992,     0.92092,     0.92192,     0.92292,     0.92392,     0.92492,     0.92593,     0.92693,     0.92793,     0.92893,     0.92993,     0.93093,     0.93193,     0.93293,     0.93393,     0.93493,     0.93594,\n",
       "           0.93694,     0.93794,     0.93894,     0.93994,     0.94094,     0.94194,     0.94294,     0.94394,     0.94494,     0.94595,     0.94695,     0.94795,     0.94895,     0.94995,     0.95095,     0.95195,     0.95295,     0.95395,     0.95495,     0.95596,     0.95696,     0.95796,     0.95896,     0.95996,\n",
       "           0.96096,     0.96196,     0.96296,     0.96396,     0.96496,     0.96597,     0.96697,     0.96797,     0.96897,     0.96997,     0.97097,     0.97197,     0.97297,     0.97397,     0.97497,     0.97598,     0.97698,     0.97798,     0.97898,     0.97998,     0.98098,     0.98198,     0.98298,     0.98398,\n",
       "           0.98498,     0.98599,     0.98699,     0.98799,     0.98899,     0.98999,     0.99099,     0.99199,     0.99299,     0.99399,     0.99499,       0.996,       0.997,       0.998,       0.999,           1]), array([[  0.0059801,   0.0059801,   0.0059801,   0.0059801,   0.0024287,   0.0022814,   0.0021341,   0.0019868,   0.0018395,   0.0016922,   0.0015449,   0.0013977,   0.0012798,           0,           0,           0,           0,           0,           0,           0,           0,           0,           0,\n",
       "                  0,           0,           0,           0,           0,           0,           0,           0,           0,           0,           0,           0,           0,           0,           0,           0,           0,           0,           0,           0,           0,           0,           0,\n",
       "                  0,           0,           0,           0,           0,           0,           0,           0,           0,           0,           0,           0,           0,           0,           0,           0,           0,           0,           0,           0,           0,           0,           0,\n",
       "                  0,           0,           0,           0,           0,           0,           0,           0,           0,           0,           0,           0,           0,           0,           0,           0,           0,           0,           0,           0,           0,           0,           0,\n",
       "                  0,           0,           0,           0,           0,           0,           0,           0,           0,           0,           0,           0,           0,           0,           0,           0,           0,           0,           0,           0,           0,           0,           0,\n",
       "                  0,           0,           0,           0,           0,           0,           0,           0,           0,           0,           0,           0,           0,           0,           0,           0,           0,           0,           0,           0,           0,           0,           0,\n",
       "                  0,           0,           0,           0,           0,           0,           0,           0,           0,           0,           0,           0,           0,           0,           0,           0,           0,           0,           0,           0,           0,           0,           0,\n",
       "                  0,           0,           0,           0,           0,           0,           0,           0,           0,           0,           0,           0,           0,           0,           0,           0,           0,           0,           0,           0,           0,           0,           0,\n",
       "                  0,           0,           0,           0,           0,           0,           0,           0,           0,           0,           0,           0,           0,           0,           0,           0,           0,           0,           0,           0,           0,           0,           0,\n",
       "                  0,           0,           0,           0,           0,           0,           0,           0,           0,           0,           0,           0,           0,           0,           0,           0,           0,           0,           0,           0,           0,           0,           0,\n",
       "                  0,           0,           0,           0,           0,           0,           0,           0,           0,           0,           0,           0,           0,           0,           0,           0,           0,           0,           0,           0,           0,           0,           0,\n",
       "                  0,           0,           0,           0,           0,           0,           0,           0,           0,           0,           0,           0,           0,           0,           0,           0,           0,           0,           0,           0,           0,           0,           0,\n",
       "                  0,           0,           0,           0,           0,           0,           0,           0,           0,           0,           0,           0,           0,           0,           0,           0,           0,           0,           0,           0,           0,           0,           0,\n",
       "                  0,           0,           0,           0,           0,           0,           0,           0,           0,           0,           0,           0,           0,           0,           0,           0,           0,           0,           0,           0,           0,           0,           0,\n",
       "                  0,           0,           0,           0,           0,           0,           0,           0,           0,           0,           0,           0,           0,           0,           0,           0,           0,           0,           0,           0,           0,           0,           0,\n",
       "                  0,           0,           0,           0,           0,           0,           0,           0,           0,           0,           0,           0,           0,           0,           0,           0,           0,           0,           0,           0,           0,           0,           0,\n",
       "                  0,           0,           0,           0,           0,           0,           0,           0,           0,           0,           0,           0,           0,           0,           0,           0,           0,           0,           0,           0,           0,           0,           0,\n",
       "                  0,           0,           0,           0,           0,           0,           0,           0,           0,           0,           0,           0,           0,           0,           0,           0,           0,           0,           0,           0,           0,           0,           0,\n",
       "                  0,           0,           0,           0,           0,           0,           0,           0,           0,           0,           0,           0,           0,           0,           0,           0,           0,           0,           0,           0,           0,           0,           0,\n",
       "                  0,           0,           0,           0,           0,           0,           0,           0,           0,           0,           0,           0,           0,           0,           0,           0,           0,           0,           0,           0,           0,           0,           0,\n",
       "                  0,           0,           0,           0,           0,           0,           0,           0,           0,           0,           0,           0,           0,           0,           0,           0,           0,           0,           0,           0,           0,           0,           0,\n",
       "                  0,           0,           0,           0,           0,           0,           0,           0,           0,           0,           0,           0,           0,           0,           0,           0,           0,           0,           0,           0,           0,           0,           0,\n",
       "                  0,           0,           0,           0,           0,           0,           0,           0,           0,           0,           0,           0,           0,           0,           0,           0,           0,           0,           0,           0,           0,           0,           0,\n",
       "                  0,           0,           0,           0,           0,           0,           0,           0,           0,           0,           0,           0,           0,           0,           0,           0,           0,           0,           0,           0,           0,           0,           0,\n",
       "                  0,           0,           0,           0,           0,           0,           0,           0,           0,           0,           0,           0,           0,           0,           0,           0,           0,           0,           0,           0,           0,           0,           0,\n",
       "                  0,           0,           0,           0,           0,           0,           0,           0,           0,           0,           0,           0,           0,           0,           0,           0,           0,           0,           0,           0,           0,           0,           0,\n",
       "                  0,           0,           0,           0,           0,           0,           0,           0,           0,           0,           0,           0,           0,           0,           0,           0,           0,           0,           0,           0,           0,           0,           0,\n",
       "                  0,           0,           0,           0,           0,           0,           0,           0,           0,           0,           0,           0,           0,           0,           0,           0,           0,           0,           0,           0,           0,           0,           0,\n",
       "                  0,           0,           0,           0,           0,           0,           0,           0,           0,           0,           0,           0,           0,           0,           0,           0,           0,           0,           0,           0,           0,           0,           0,\n",
       "                  0,           0,           0,           0,           0,           0,           0,           0,           0,           0,           0,           0,           0,           0,           0,           0,           0,           0,           0,           0,           0,           0,           0,\n",
       "                  0,           0,           0,           0,           0,           0,           0,           0,           0,           0,           0,           0,           0,           0,           0,           0,           0,           0,           0,           0,           0,           0,           0,\n",
       "                  0,           0,           0,           0,           0,           0,           0,           0,           0,           0,           0,           0,           0,           0,           0,           0,           0,           0,           0,           0,           0,           0,           0,\n",
       "                  0,           0,           0,           0,           0,           0,           0,           0,           0,           0,           0,           0,           0,           0,           0,           0,           0,           0,           0,           0,           0,           0,           0,\n",
       "                  0,           0,           0,           0,           0,           0,           0,           0,           0,           0,           0,           0,           0,           0,           0,           0,           0,           0,           0,           0,           0,           0,           0,\n",
       "                  0,           0,           0,           0,           0,           0,           0,           0,           0,           0,           0,           0,           0,           0,           0,           0,           0,           0,           0,           0,           0,           0,           0,\n",
       "                  0,           0,           0,           0,           0,           0,           0,           0,           0,           0,           0,           0,           0,           0,           0,           0,           0,           0,           0,           0,           0,           0,           0,\n",
       "                  0,           0,           0,           0,           0,           0,           0,           0,           0,           0,           0,           0,           0,           0,           0,           0,           0,           0,           0,           0,           0,           0,           0,\n",
       "                  0,           0,           0,           0,           0,           0,           0,           0,           0,           0,           0,           0,           0,           0,           0,           0,           0,           0,           0,           0,           0,           0,           0,\n",
       "                  0,           0,           0,           0,           0,           0,           0,           0,           0,           0,           0,           0,           0,           0,           0,           0,           0,           0,           0,           0,           0,           0,           0,\n",
       "                  0,           0,           0,           0,           0,           0,           0,           0,           0,           0,           0,           0,           0,           0,           0,           0,           0,           0,           0,           0,           0,           0,           0,\n",
       "                  0,           0,           0,           0,           0,           0,           0,           0,           0,           0,           0,           0,           0,           0,           0,           0,           0,           0,           0,           0,           0,           0,           0,\n",
       "                  0,           0,           0,           0,           0,           0,           0,           0,           0,           0,           0,           0,           0,           0,           0,           0,           0,           0,           0,           0,           0,           0,           0,\n",
       "                  0,           0,           0,           0,           0,           0,           0,           0,           0,           0,           0,           0,           0,           0,           0,           0,           0,           0,           0,           0,           0,           0,           0,\n",
       "                  0,           0,           0,           0,           0,           0,           0,           0,           0,           0,           0]]), 'Confidence', 'F1'], [array([          0,    0.001001,    0.002002,    0.003003,    0.004004,    0.005005,    0.006006,    0.007007,    0.008008,    0.009009,     0.01001,    0.011011,    0.012012,    0.013013,    0.014014,    0.015015,    0.016016,    0.017017,    0.018018,    0.019019,     0.02002,    0.021021,    0.022022,    0.023023,\n",
       "          0.024024,    0.025025,    0.026026,    0.027027,    0.028028,    0.029029,     0.03003,    0.031031,    0.032032,    0.033033,    0.034034,    0.035035,    0.036036,    0.037037,    0.038038,    0.039039,     0.04004,    0.041041,    0.042042,    0.043043,    0.044044,    0.045045,    0.046046,    0.047047,\n",
       "          0.048048,    0.049049,     0.05005,    0.051051,    0.052052,    0.053053,    0.054054,    0.055055,    0.056056,    0.057057,    0.058058,    0.059059,     0.06006,    0.061061,    0.062062,    0.063063,    0.064064,    0.065065,    0.066066,    0.067067,    0.068068,    0.069069,     0.07007,    0.071071,\n",
       "          0.072072,    0.073073,    0.074074,    0.075075,    0.076076,    0.077077,    0.078078,    0.079079,     0.08008,    0.081081,    0.082082,    0.083083,    0.084084,    0.085085,    0.086086,    0.087087,    0.088088,    0.089089,     0.09009,    0.091091,    0.092092,    0.093093,    0.094094,    0.095095,\n",
       "          0.096096,    0.097097,    0.098098,    0.099099,      0.1001,      0.1011,      0.1021,      0.1031,      0.1041,     0.10511,     0.10611,     0.10711,     0.10811,     0.10911,     0.11011,     0.11111,     0.11211,     0.11311,     0.11411,     0.11512,     0.11612,     0.11712,     0.11812,     0.11912,\n",
       "           0.12012,     0.12112,     0.12212,     0.12312,     0.12412,     0.12513,     0.12613,     0.12713,     0.12813,     0.12913,     0.13013,     0.13113,     0.13213,     0.13313,     0.13413,     0.13514,     0.13614,     0.13714,     0.13814,     0.13914,     0.14014,     0.14114,     0.14214,     0.14314,\n",
       "           0.14414,     0.14515,     0.14615,     0.14715,     0.14815,     0.14915,     0.15015,     0.15115,     0.15215,     0.15315,     0.15415,     0.15516,     0.15616,     0.15716,     0.15816,     0.15916,     0.16016,     0.16116,     0.16216,     0.16316,     0.16416,     0.16517,     0.16617,     0.16717,\n",
       "           0.16817,     0.16917,     0.17017,     0.17117,     0.17217,     0.17317,     0.17417,     0.17518,     0.17618,     0.17718,     0.17818,     0.17918,     0.18018,     0.18118,     0.18218,     0.18318,     0.18418,     0.18519,     0.18619,     0.18719,     0.18819,     0.18919,     0.19019,     0.19119,\n",
       "           0.19219,     0.19319,     0.19419,      0.1952,      0.1962,      0.1972,      0.1982,      0.1992,      0.2002,      0.2012,      0.2022,      0.2032,      0.2042,     0.20521,     0.20621,     0.20721,     0.20821,     0.20921,     0.21021,     0.21121,     0.21221,     0.21321,     0.21421,     0.21522,\n",
       "           0.21622,     0.21722,     0.21822,     0.21922,     0.22022,     0.22122,     0.22222,     0.22322,     0.22422,     0.22523,     0.22623,     0.22723,     0.22823,     0.22923,     0.23023,     0.23123,     0.23223,     0.23323,     0.23423,     0.23524,     0.23624,     0.23724,     0.23824,     0.23924,\n",
       "           0.24024,     0.24124,     0.24224,     0.24324,     0.24424,     0.24525,     0.24625,     0.24725,     0.24825,     0.24925,     0.25025,     0.25125,     0.25225,     0.25325,     0.25425,     0.25526,     0.25626,     0.25726,     0.25826,     0.25926,     0.26026,     0.26126,     0.26226,     0.26326,\n",
       "           0.26426,     0.26527,     0.26627,     0.26727,     0.26827,     0.26927,     0.27027,     0.27127,     0.27227,     0.27327,     0.27427,     0.27528,     0.27628,     0.27728,     0.27828,     0.27928,     0.28028,     0.28128,     0.28228,     0.28328,     0.28428,     0.28529,     0.28629,     0.28729,\n",
       "           0.28829,     0.28929,     0.29029,     0.29129,     0.29229,     0.29329,     0.29429,      0.2953,      0.2963,      0.2973,      0.2983,      0.2993,      0.3003,      0.3013,      0.3023,      0.3033,      0.3043,     0.30531,     0.30631,     0.30731,     0.30831,     0.30931,     0.31031,     0.31131,\n",
       "           0.31231,     0.31331,     0.31431,     0.31532,     0.31632,     0.31732,     0.31832,     0.31932,     0.32032,     0.32132,     0.32232,     0.32332,     0.32432,     0.32533,     0.32633,     0.32733,     0.32833,     0.32933,     0.33033,     0.33133,     0.33233,     0.33333,     0.33433,     0.33534,\n",
       "           0.33634,     0.33734,     0.33834,     0.33934,     0.34034,     0.34134,     0.34234,     0.34334,     0.34434,     0.34535,     0.34635,     0.34735,     0.34835,     0.34935,     0.35035,     0.35135,     0.35235,     0.35335,     0.35435,     0.35536,     0.35636,     0.35736,     0.35836,     0.35936,\n",
       "           0.36036,     0.36136,     0.36236,     0.36336,     0.36436,     0.36537,     0.36637,     0.36737,     0.36837,     0.36937,     0.37037,     0.37137,     0.37237,     0.37337,     0.37437,     0.37538,     0.37638,     0.37738,     0.37838,     0.37938,     0.38038,     0.38138,     0.38238,     0.38338,\n",
       "           0.38438,     0.38539,     0.38639,     0.38739,     0.38839,     0.38939,     0.39039,     0.39139,     0.39239,     0.39339,     0.39439,      0.3954,      0.3964,      0.3974,      0.3984,      0.3994,      0.4004,      0.4014,      0.4024,      0.4034,      0.4044,     0.40541,     0.40641,     0.40741,\n",
       "           0.40841,     0.40941,     0.41041,     0.41141,     0.41241,     0.41341,     0.41441,     0.41542,     0.41642,     0.41742,     0.41842,     0.41942,     0.42042,     0.42142,     0.42242,     0.42342,     0.42442,     0.42543,     0.42643,     0.42743,     0.42843,     0.42943,     0.43043,     0.43143,\n",
       "           0.43243,     0.43343,     0.43443,     0.43544,     0.43644,     0.43744,     0.43844,     0.43944,     0.44044,     0.44144,     0.44244,     0.44344,     0.44444,     0.44545,     0.44645,     0.44745,     0.44845,     0.44945,     0.45045,     0.45145,     0.45245,     0.45345,     0.45445,     0.45546,\n",
       "           0.45646,     0.45746,     0.45846,     0.45946,     0.46046,     0.46146,     0.46246,     0.46346,     0.46446,     0.46547,     0.46647,     0.46747,     0.46847,     0.46947,     0.47047,     0.47147,     0.47247,     0.47347,     0.47447,     0.47548,     0.47648,     0.47748,     0.47848,     0.47948,\n",
       "           0.48048,     0.48148,     0.48248,     0.48348,     0.48448,     0.48549,     0.48649,     0.48749,     0.48849,     0.48949,     0.49049,     0.49149,     0.49249,     0.49349,     0.49449,      0.4955,      0.4965,      0.4975,      0.4985,      0.4995,      0.5005,      0.5015,      0.5025,      0.5035,\n",
       "            0.5045,     0.50551,     0.50651,     0.50751,     0.50851,     0.50951,     0.51051,     0.51151,     0.51251,     0.51351,     0.51451,     0.51552,     0.51652,     0.51752,     0.51852,     0.51952,     0.52052,     0.52152,     0.52252,     0.52352,     0.52452,     0.52553,     0.52653,     0.52753,\n",
       "           0.52853,     0.52953,     0.53053,     0.53153,     0.53253,     0.53353,     0.53453,     0.53554,     0.53654,     0.53754,     0.53854,     0.53954,     0.54054,     0.54154,     0.54254,     0.54354,     0.54454,     0.54555,     0.54655,     0.54755,     0.54855,     0.54955,     0.55055,     0.55155,\n",
       "           0.55255,     0.55355,     0.55455,     0.55556,     0.55656,     0.55756,     0.55856,     0.55956,     0.56056,     0.56156,     0.56256,     0.56356,     0.56456,     0.56557,     0.56657,     0.56757,     0.56857,     0.56957,     0.57057,     0.57157,     0.57257,     0.57357,     0.57457,     0.57558,\n",
       "           0.57658,     0.57758,     0.57858,     0.57958,     0.58058,     0.58158,     0.58258,     0.58358,     0.58458,     0.58559,     0.58659,     0.58759,     0.58859,     0.58959,     0.59059,     0.59159,     0.59259,     0.59359,     0.59459,      0.5956,      0.5966,      0.5976,      0.5986,      0.5996,\n",
       "            0.6006,      0.6016,      0.6026,      0.6036,      0.6046,     0.60561,     0.60661,     0.60761,     0.60861,     0.60961,     0.61061,     0.61161,     0.61261,     0.61361,     0.61461,     0.61562,     0.61662,     0.61762,     0.61862,     0.61962,     0.62062,     0.62162,     0.62262,     0.62362,\n",
       "           0.62462,     0.62563,     0.62663,     0.62763,     0.62863,     0.62963,     0.63063,     0.63163,     0.63263,     0.63363,     0.63463,     0.63564,     0.63664,     0.63764,     0.63864,     0.63964,     0.64064,     0.64164,     0.64264,     0.64364,     0.64464,     0.64565,     0.64665,     0.64765,\n",
       "           0.64865,     0.64965,     0.65065,     0.65165,     0.65265,     0.65365,     0.65465,     0.65566,     0.65666,     0.65766,     0.65866,     0.65966,     0.66066,     0.66166,     0.66266,     0.66366,     0.66466,     0.66567,     0.66667,     0.66767,     0.66867,     0.66967,     0.67067,     0.67167,\n",
       "           0.67267,     0.67367,     0.67467,     0.67568,     0.67668,     0.67768,     0.67868,     0.67968,     0.68068,     0.68168,     0.68268,     0.68368,     0.68468,     0.68569,     0.68669,     0.68769,     0.68869,     0.68969,     0.69069,     0.69169,     0.69269,     0.69369,     0.69469,      0.6957,\n",
       "            0.6967,      0.6977,      0.6987,      0.6997,      0.7007,      0.7017,      0.7027,      0.7037,      0.7047,     0.70571,     0.70671,     0.70771,     0.70871,     0.70971,     0.71071,     0.71171,     0.71271,     0.71371,     0.71471,     0.71572,     0.71672,     0.71772,     0.71872,     0.71972,\n",
       "           0.72072,     0.72172,     0.72272,     0.72372,     0.72472,     0.72573,     0.72673,     0.72773,     0.72873,     0.72973,     0.73073,     0.73173,     0.73273,     0.73373,     0.73473,     0.73574,     0.73674,     0.73774,     0.73874,     0.73974,     0.74074,     0.74174,     0.74274,     0.74374,\n",
       "           0.74474,     0.74575,     0.74675,     0.74775,     0.74875,     0.74975,     0.75075,     0.75175,     0.75275,     0.75375,     0.75475,     0.75576,     0.75676,     0.75776,     0.75876,     0.75976,     0.76076,     0.76176,     0.76276,     0.76376,     0.76476,     0.76577,     0.76677,     0.76777,\n",
       "           0.76877,     0.76977,     0.77077,     0.77177,     0.77277,     0.77377,     0.77477,     0.77578,     0.77678,     0.77778,     0.77878,     0.77978,     0.78078,     0.78178,     0.78278,     0.78378,     0.78478,     0.78579,     0.78679,     0.78779,     0.78879,     0.78979,     0.79079,     0.79179,\n",
       "           0.79279,     0.79379,     0.79479,      0.7958,      0.7968,      0.7978,      0.7988,      0.7998,      0.8008,      0.8018,      0.8028,      0.8038,      0.8048,     0.80581,     0.80681,     0.80781,     0.80881,     0.80981,     0.81081,     0.81181,     0.81281,     0.81381,     0.81481,     0.81582,\n",
       "           0.81682,     0.81782,     0.81882,     0.81982,     0.82082,     0.82182,     0.82282,     0.82382,     0.82482,     0.82583,     0.82683,     0.82783,     0.82883,     0.82983,     0.83083,     0.83183,     0.83283,     0.83383,     0.83483,     0.83584,     0.83684,     0.83784,     0.83884,     0.83984,\n",
       "           0.84084,     0.84184,     0.84284,     0.84384,     0.84484,     0.84585,     0.84685,     0.84785,     0.84885,     0.84985,     0.85085,     0.85185,     0.85285,     0.85385,     0.85485,     0.85586,     0.85686,     0.85786,     0.85886,     0.85986,     0.86086,     0.86186,     0.86286,     0.86386,\n",
       "           0.86486,     0.86587,     0.86687,     0.86787,     0.86887,     0.86987,     0.87087,     0.87187,     0.87287,     0.87387,     0.87487,     0.87588,     0.87688,     0.87788,     0.87888,     0.87988,     0.88088,     0.88188,     0.88288,     0.88388,     0.88488,     0.88589,     0.88689,     0.88789,\n",
       "           0.88889,     0.88989,     0.89089,     0.89189,     0.89289,     0.89389,     0.89489,      0.8959,      0.8969,      0.8979,      0.8989,      0.8999,      0.9009,      0.9019,      0.9029,      0.9039,      0.9049,     0.90591,     0.90691,     0.90791,     0.90891,     0.90991,     0.91091,     0.91191,\n",
       "           0.91291,     0.91391,     0.91491,     0.91592,     0.91692,     0.91792,     0.91892,     0.91992,     0.92092,     0.92192,     0.92292,     0.92392,     0.92492,     0.92593,     0.92693,     0.92793,     0.92893,     0.92993,     0.93093,     0.93193,     0.93293,     0.93393,     0.93493,     0.93594,\n",
       "           0.93694,     0.93794,     0.93894,     0.93994,     0.94094,     0.94194,     0.94294,     0.94394,     0.94494,     0.94595,     0.94695,     0.94795,     0.94895,     0.94995,     0.95095,     0.95195,     0.95295,     0.95395,     0.95495,     0.95596,     0.95696,     0.95796,     0.95896,     0.95996,\n",
       "           0.96096,     0.96196,     0.96296,     0.96396,     0.96496,     0.96597,     0.96697,     0.96797,     0.96897,     0.96997,     0.97097,     0.97197,     0.97297,     0.97397,     0.97497,     0.97598,     0.97698,     0.97798,     0.97898,     0.97998,     0.98098,     0.98198,     0.98298,     0.98398,\n",
       "           0.98498,     0.98599,     0.98699,     0.98799,     0.98899,     0.98999,     0.99099,     0.99199,     0.99299,     0.99399,     0.99499,       0.996,       0.997,       0.998,       0.999,           1]), array([[      0.003,       0.003,       0.003,       0.003,   0.0012221,    0.001148,   0.0010738,  0.00099973,  0.00092562,  0.00085151,   0.0007774,  0.00070329,  0.00064401,           1,           1,           1,           1,           1,           1,           1,           1,           1,           1,\n",
       "                  1,           1,           1,           1,           1,           1,           1,           1,           1,           1,           1,           1,           1,           1,           1,           1,           1,           1,           1,           1,           1,           1,           1,\n",
       "                  1,           1,           1,           1,           1,           1,           1,           1,           1,           1,           1,           1,           1,           1,           1,           1,           1,           1,           1,           1,           1,           1,           1,\n",
       "                  1,           1,           1,           1,           1,           1,           1,           1,           1,           1,           1,           1,           1,           1,           1,           1,           1,           1,           1,           1,           1,           1,           1,\n",
       "                  1,           1,           1,           1,           1,           1,           1,           1,           1,           1,           1,           1,           1,           1,           1,           1,           1,           1,           1,           1,           1,           1,           1,\n",
       "                  1,           1,           1,           1,           1,           1,           1,           1,           1,           1,           1,           1,           1,           1,           1,           1,           1,           1,           1,           1,           1,           1,           1,\n",
       "                  1,           1,           1,           1,           1,           1,           1,           1,           1,           1,           1,           1,           1,           1,           1,           1,           1,           1,           1,           1,           1,           1,           1,\n",
       "                  1,           1,           1,           1,           1,           1,           1,           1,           1,           1,           1,           1,           1,           1,           1,           1,           1,           1,           1,           1,           1,           1,           1,\n",
       "                  1,           1,           1,           1,           1,           1,           1,           1,           1,           1,           1,           1,           1,           1,           1,           1,           1,           1,           1,           1,           1,           1,           1,\n",
       "                  1,           1,           1,           1,           1,           1,           1,           1,           1,           1,           1,           1,           1,           1,           1,           1,           1,           1,           1,           1,           1,           1,           1,\n",
       "                  1,           1,           1,           1,           1,           1,           1,           1,           1,           1,           1,           1,           1,           1,           1,           1,           1,           1,           1,           1,           1,           1,           1,\n",
       "                  1,           1,           1,           1,           1,           1,           1,           1,           1,           1,           1,           1,           1,           1,           1,           1,           1,           1,           1,           1,           1,           1,           1,\n",
       "                  1,           1,           1,           1,           1,           1,           1,           1,           1,           1,           1,           1,           1,           1,           1,           1,           1,           1,           1,           1,           1,           1,           1,\n",
       "                  1,           1,           1,           1,           1,           1,           1,           1,           1,           1,           1,           1,           1,           1,           1,           1,           1,           1,           1,           1,           1,           1,           1,\n",
       "                  1,           1,           1,           1,           1,           1,           1,           1,           1,           1,           1,           1,           1,           1,           1,           1,           1,           1,           1,           1,           1,           1,           1,\n",
       "                  1,           1,           1,           1,           1,           1,           1,           1,           1,           1,           1,           1,           1,           1,           1,           1,           1,           1,           1,           1,           1,           1,           1,\n",
       "                  1,           1,           1,           1,           1,           1,           1,           1,           1,           1,           1,           1,           1,           1,           1,           1,           1,           1,           1,           1,           1,           1,           1,\n",
       "                  1,           1,           1,           1,           1,           1,           1,           1,           1,           1,           1,           1,           1,           1,           1,           1,           1,           1,           1,           1,           1,           1,           1,\n",
       "                  1,           1,           1,           1,           1,           1,           1,           1,           1,           1,           1,           1,           1,           1,           1,           1,           1,           1,           1,           1,           1,           1,           1,\n",
       "                  1,           1,           1,           1,           1,           1,           1,           1,           1,           1,           1,           1,           1,           1,           1,           1,           1,           1,           1,           1,           1,           1,           1,\n",
       "                  1,           1,           1,           1,           1,           1,           1,           1,           1,           1,           1,           1,           1,           1,           1,           1,           1,           1,           1,           1,           1,           1,           1,\n",
       "                  1,           1,           1,           1,           1,           1,           1,           1,           1,           1,           1,           1,           1,           1,           1,           1,           1,           1,           1,           1,           1,           1,           1,\n",
       "                  1,           1,           1,           1,           1,           1,           1,           1,           1,           1,           1,           1,           1,           1,           1,           1,           1,           1,           1,           1,           1,           1,           1,\n",
       "                  1,           1,           1,           1,           1,           1,           1,           1,           1,           1,           1,           1,           1,           1,           1,           1,           1,           1,           1,           1,           1,           1,           1,\n",
       "                  1,           1,           1,           1,           1,           1,           1,           1,           1,           1,           1,           1,           1,           1,           1,           1,           1,           1,           1,           1,           1,           1,           1,\n",
       "                  1,           1,           1,           1,           1,           1,           1,           1,           1,           1,           1,           1,           1,           1,           1,           1,           1,           1,           1,           1,           1,           1,           1,\n",
       "                  1,           1,           1,           1,           1,           1,           1,           1,           1,           1,           1,           1,           1,           1,           1,           1,           1,           1,           1,           1,           1,           1,           1,\n",
       "                  1,           1,           1,           1,           1,           1,           1,           1,           1,           1,           1,           1,           1,           1,           1,           1,           1,           1,           1,           1,           1,           1,           1,\n",
       "                  1,           1,           1,           1,           1,           1,           1,           1,           1,           1,           1,           1,           1,           1,           1,           1,           1,           1,           1,           1,           1,           1,           1,\n",
       "                  1,           1,           1,           1,           1,           1,           1,           1,           1,           1,           1,           1,           1,           1,           1,           1,           1,           1,           1,           1,           1,           1,           1,\n",
       "                  1,           1,           1,           1,           1,           1,           1,           1,           1,           1,           1,           1,           1,           1,           1,           1,           1,           1,           1,           1,           1,           1,           1,\n",
       "                  1,           1,           1,           1,           1,           1,           1,           1,           1,           1,           1,           1,           1,           1,           1,           1,           1,           1,           1,           1,           1,           1,           1,\n",
       "                  1,           1,           1,           1,           1,           1,           1,           1,           1,           1,           1,           1,           1,           1,           1,           1,           1,           1,           1,           1,           1,           1,           1,\n",
       "                  1,           1,           1,           1,           1,           1,           1,           1,           1,           1,           1,           1,           1,           1,           1,           1,           1,           1,           1,           1,           1,           1,           1,\n",
       "                  1,           1,           1,           1,           1,           1,           1,           1,           1,           1,           1,           1,           1,           1,           1,           1,           1,           1,           1,           1,           1,           1,           1,\n",
       "                  1,           1,           1,           1,           1,           1,           1,           1,           1,           1,           1,           1,           1,           1,           1,           1,           1,           1,           1,           1,           1,           1,           1,\n",
       "                  1,           1,           1,           1,           1,           1,           1,           1,           1,           1,           1,           1,           1,           1,           1,           1,           1,           1,           1,           1,           1,           1,           1,\n",
       "                  1,           1,           1,           1,           1,           1,           1,           1,           1,           1,           1,           1,           1,           1,           1,           1,           1,           1,           1,           1,           1,           1,           1,\n",
       "                  1,           1,           1,           1,           1,           1,           1,           1,           1,           1,           1,           1,           1,           1,           1,           1,           1,           1,           1,           1,           1,           1,           1,\n",
       "                  1,           1,           1,           1,           1,           1,           1,           1,           1,           1,           1,           1,           1,           1,           1,           1,           1,           1,           1,           1,           1,           1,           1,\n",
       "                  1,           1,           1,           1,           1,           1,           1,           1,           1,           1,           1,           1,           1,           1,           1,           1,           1,           1,           1,           1,           1,           1,           1,\n",
       "                  1,           1,           1,           1,           1,           1,           1,           1,           1,           1,           1,           1,           1,           1,           1,           1,           1,           1,           1,           1,           1,           1,           1,\n",
       "                  1,           1,           1,           1,           1,           1,           1,           1,           1,           1,           1,           1,           1,           1,           1,           1,           1,           1,           1,           1,           1,           1,           1,\n",
       "                  1,           1,           1,           1,           1,           1,           1,           1,           1,           1,           1]]), 'Confidence', 'Precision'], [array([          0,    0.001001,    0.002002,    0.003003,    0.004004,    0.005005,    0.006006,    0.007007,    0.008008,    0.009009,     0.01001,    0.011011,    0.012012,    0.013013,    0.014014,    0.015015,    0.016016,    0.017017,    0.018018,    0.019019,     0.02002,    0.021021,    0.022022,    0.023023,\n",
       "          0.024024,    0.025025,    0.026026,    0.027027,    0.028028,    0.029029,     0.03003,    0.031031,    0.032032,    0.033033,    0.034034,    0.035035,    0.036036,    0.037037,    0.038038,    0.039039,     0.04004,    0.041041,    0.042042,    0.043043,    0.044044,    0.045045,    0.046046,    0.047047,\n",
       "          0.048048,    0.049049,     0.05005,    0.051051,    0.052052,    0.053053,    0.054054,    0.055055,    0.056056,    0.057057,    0.058058,    0.059059,     0.06006,    0.061061,    0.062062,    0.063063,    0.064064,    0.065065,    0.066066,    0.067067,    0.068068,    0.069069,     0.07007,    0.071071,\n",
       "          0.072072,    0.073073,    0.074074,    0.075075,    0.076076,    0.077077,    0.078078,    0.079079,     0.08008,    0.081081,    0.082082,    0.083083,    0.084084,    0.085085,    0.086086,    0.087087,    0.088088,    0.089089,     0.09009,    0.091091,    0.092092,    0.093093,    0.094094,    0.095095,\n",
       "          0.096096,    0.097097,    0.098098,    0.099099,      0.1001,      0.1011,      0.1021,      0.1031,      0.1041,     0.10511,     0.10611,     0.10711,     0.10811,     0.10911,     0.11011,     0.11111,     0.11211,     0.11311,     0.11411,     0.11512,     0.11612,     0.11712,     0.11812,     0.11912,\n",
       "           0.12012,     0.12112,     0.12212,     0.12312,     0.12412,     0.12513,     0.12613,     0.12713,     0.12813,     0.12913,     0.13013,     0.13113,     0.13213,     0.13313,     0.13413,     0.13514,     0.13614,     0.13714,     0.13814,     0.13914,     0.14014,     0.14114,     0.14214,     0.14314,\n",
       "           0.14414,     0.14515,     0.14615,     0.14715,     0.14815,     0.14915,     0.15015,     0.15115,     0.15215,     0.15315,     0.15415,     0.15516,     0.15616,     0.15716,     0.15816,     0.15916,     0.16016,     0.16116,     0.16216,     0.16316,     0.16416,     0.16517,     0.16617,     0.16717,\n",
       "           0.16817,     0.16917,     0.17017,     0.17117,     0.17217,     0.17317,     0.17417,     0.17518,     0.17618,     0.17718,     0.17818,     0.17918,     0.18018,     0.18118,     0.18218,     0.18318,     0.18418,     0.18519,     0.18619,     0.18719,     0.18819,     0.18919,     0.19019,     0.19119,\n",
       "           0.19219,     0.19319,     0.19419,      0.1952,      0.1962,      0.1972,      0.1982,      0.1992,      0.2002,      0.2012,      0.2022,      0.2032,      0.2042,     0.20521,     0.20621,     0.20721,     0.20821,     0.20921,     0.21021,     0.21121,     0.21221,     0.21321,     0.21421,     0.21522,\n",
       "           0.21622,     0.21722,     0.21822,     0.21922,     0.22022,     0.22122,     0.22222,     0.22322,     0.22422,     0.22523,     0.22623,     0.22723,     0.22823,     0.22923,     0.23023,     0.23123,     0.23223,     0.23323,     0.23423,     0.23524,     0.23624,     0.23724,     0.23824,     0.23924,\n",
       "           0.24024,     0.24124,     0.24224,     0.24324,     0.24424,     0.24525,     0.24625,     0.24725,     0.24825,     0.24925,     0.25025,     0.25125,     0.25225,     0.25325,     0.25425,     0.25526,     0.25626,     0.25726,     0.25826,     0.25926,     0.26026,     0.26126,     0.26226,     0.26326,\n",
       "           0.26426,     0.26527,     0.26627,     0.26727,     0.26827,     0.26927,     0.27027,     0.27127,     0.27227,     0.27327,     0.27427,     0.27528,     0.27628,     0.27728,     0.27828,     0.27928,     0.28028,     0.28128,     0.28228,     0.28328,     0.28428,     0.28529,     0.28629,     0.28729,\n",
       "           0.28829,     0.28929,     0.29029,     0.29129,     0.29229,     0.29329,     0.29429,      0.2953,      0.2963,      0.2973,      0.2983,      0.2993,      0.3003,      0.3013,      0.3023,      0.3033,      0.3043,     0.30531,     0.30631,     0.30731,     0.30831,     0.30931,     0.31031,     0.31131,\n",
       "           0.31231,     0.31331,     0.31431,     0.31532,     0.31632,     0.31732,     0.31832,     0.31932,     0.32032,     0.32132,     0.32232,     0.32332,     0.32432,     0.32533,     0.32633,     0.32733,     0.32833,     0.32933,     0.33033,     0.33133,     0.33233,     0.33333,     0.33433,     0.33534,\n",
       "           0.33634,     0.33734,     0.33834,     0.33934,     0.34034,     0.34134,     0.34234,     0.34334,     0.34434,     0.34535,     0.34635,     0.34735,     0.34835,     0.34935,     0.35035,     0.35135,     0.35235,     0.35335,     0.35435,     0.35536,     0.35636,     0.35736,     0.35836,     0.35936,\n",
       "           0.36036,     0.36136,     0.36236,     0.36336,     0.36436,     0.36537,     0.36637,     0.36737,     0.36837,     0.36937,     0.37037,     0.37137,     0.37237,     0.37337,     0.37437,     0.37538,     0.37638,     0.37738,     0.37838,     0.37938,     0.38038,     0.38138,     0.38238,     0.38338,\n",
       "           0.38438,     0.38539,     0.38639,     0.38739,     0.38839,     0.38939,     0.39039,     0.39139,     0.39239,     0.39339,     0.39439,      0.3954,      0.3964,      0.3974,      0.3984,      0.3994,      0.4004,      0.4014,      0.4024,      0.4034,      0.4044,     0.40541,     0.40641,     0.40741,\n",
       "           0.40841,     0.40941,     0.41041,     0.41141,     0.41241,     0.41341,     0.41441,     0.41542,     0.41642,     0.41742,     0.41842,     0.41942,     0.42042,     0.42142,     0.42242,     0.42342,     0.42442,     0.42543,     0.42643,     0.42743,     0.42843,     0.42943,     0.43043,     0.43143,\n",
       "           0.43243,     0.43343,     0.43443,     0.43544,     0.43644,     0.43744,     0.43844,     0.43944,     0.44044,     0.44144,     0.44244,     0.44344,     0.44444,     0.44545,     0.44645,     0.44745,     0.44845,     0.44945,     0.45045,     0.45145,     0.45245,     0.45345,     0.45445,     0.45546,\n",
       "           0.45646,     0.45746,     0.45846,     0.45946,     0.46046,     0.46146,     0.46246,     0.46346,     0.46446,     0.46547,     0.46647,     0.46747,     0.46847,     0.46947,     0.47047,     0.47147,     0.47247,     0.47347,     0.47447,     0.47548,     0.47648,     0.47748,     0.47848,     0.47948,\n",
       "           0.48048,     0.48148,     0.48248,     0.48348,     0.48448,     0.48549,     0.48649,     0.48749,     0.48849,     0.48949,     0.49049,     0.49149,     0.49249,     0.49349,     0.49449,      0.4955,      0.4965,      0.4975,      0.4985,      0.4995,      0.5005,      0.5015,      0.5025,      0.5035,\n",
       "            0.5045,     0.50551,     0.50651,     0.50751,     0.50851,     0.50951,     0.51051,     0.51151,     0.51251,     0.51351,     0.51451,     0.51552,     0.51652,     0.51752,     0.51852,     0.51952,     0.52052,     0.52152,     0.52252,     0.52352,     0.52452,     0.52553,     0.52653,     0.52753,\n",
       "           0.52853,     0.52953,     0.53053,     0.53153,     0.53253,     0.53353,     0.53453,     0.53554,     0.53654,     0.53754,     0.53854,     0.53954,     0.54054,     0.54154,     0.54254,     0.54354,     0.54454,     0.54555,     0.54655,     0.54755,     0.54855,     0.54955,     0.55055,     0.55155,\n",
       "           0.55255,     0.55355,     0.55455,     0.55556,     0.55656,     0.55756,     0.55856,     0.55956,     0.56056,     0.56156,     0.56256,     0.56356,     0.56456,     0.56557,     0.56657,     0.56757,     0.56857,     0.56957,     0.57057,     0.57157,     0.57257,     0.57357,     0.57457,     0.57558,\n",
       "           0.57658,     0.57758,     0.57858,     0.57958,     0.58058,     0.58158,     0.58258,     0.58358,     0.58458,     0.58559,     0.58659,     0.58759,     0.58859,     0.58959,     0.59059,     0.59159,     0.59259,     0.59359,     0.59459,      0.5956,      0.5966,      0.5976,      0.5986,      0.5996,\n",
       "            0.6006,      0.6016,      0.6026,      0.6036,      0.6046,     0.60561,     0.60661,     0.60761,     0.60861,     0.60961,     0.61061,     0.61161,     0.61261,     0.61361,     0.61461,     0.61562,     0.61662,     0.61762,     0.61862,     0.61962,     0.62062,     0.62162,     0.62262,     0.62362,\n",
       "           0.62462,     0.62563,     0.62663,     0.62763,     0.62863,     0.62963,     0.63063,     0.63163,     0.63263,     0.63363,     0.63463,     0.63564,     0.63664,     0.63764,     0.63864,     0.63964,     0.64064,     0.64164,     0.64264,     0.64364,     0.64464,     0.64565,     0.64665,     0.64765,\n",
       "           0.64865,     0.64965,     0.65065,     0.65165,     0.65265,     0.65365,     0.65465,     0.65566,     0.65666,     0.65766,     0.65866,     0.65966,     0.66066,     0.66166,     0.66266,     0.66366,     0.66466,     0.66567,     0.66667,     0.66767,     0.66867,     0.66967,     0.67067,     0.67167,\n",
       "           0.67267,     0.67367,     0.67467,     0.67568,     0.67668,     0.67768,     0.67868,     0.67968,     0.68068,     0.68168,     0.68268,     0.68368,     0.68468,     0.68569,     0.68669,     0.68769,     0.68869,     0.68969,     0.69069,     0.69169,     0.69269,     0.69369,     0.69469,      0.6957,\n",
       "            0.6967,      0.6977,      0.6987,      0.6997,      0.7007,      0.7017,      0.7027,      0.7037,      0.7047,     0.70571,     0.70671,     0.70771,     0.70871,     0.70971,     0.71071,     0.71171,     0.71271,     0.71371,     0.71471,     0.71572,     0.71672,     0.71772,     0.71872,     0.71972,\n",
       "           0.72072,     0.72172,     0.72272,     0.72372,     0.72472,     0.72573,     0.72673,     0.72773,     0.72873,     0.72973,     0.73073,     0.73173,     0.73273,     0.73373,     0.73473,     0.73574,     0.73674,     0.73774,     0.73874,     0.73974,     0.74074,     0.74174,     0.74274,     0.74374,\n",
       "           0.74474,     0.74575,     0.74675,     0.74775,     0.74875,     0.74975,     0.75075,     0.75175,     0.75275,     0.75375,     0.75475,     0.75576,     0.75676,     0.75776,     0.75876,     0.75976,     0.76076,     0.76176,     0.76276,     0.76376,     0.76476,     0.76577,     0.76677,     0.76777,\n",
       "           0.76877,     0.76977,     0.77077,     0.77177,     0.77277,     0.77377,     0.77477,     0.77578,     0.77678,     0.77778,     0.77878,     0.77978,     0.78078,     0.78178,     0.78278,     0.78378,     0.78478,     0.78579,     0.78679,     0.78779,     0.78879,     0.78979,     0.79079,     0.79179,\n",
       "           0.79279,     0.79379,     0.79479,      0.7958,      0.7968,      0.7978,      0.7988,      0.7998,      0.8008,      0.8018,      0.8028,      0.8038,      0.8048,     0.80581,     0.80681,     0.80781,     0.80881,     0.80981,     0.81081,     0.81181,     0.81281,     0.81381,     0.81481,     0.81582,\n",
       "           0.81682,     0.81782,     0.81882,     0.81982,     0.82082,     0.82182,     0.82282,     0.82382,     0.82482,     0.82583,     0.82683,     0.82783,     0.82883,     0.82983,     0.83083,     0.83183,     0.83283,     0.83383,     0.83483,     0.83584,     0.83684,     0.83784,     0.83884,     0.83984,\n",
       "           0.84084,     0.84184,     0.84284,     0.84384,     0.84484,     0.84585,     0.84685,     0.84785,     0.84885,     0.84985,     0.85085,     0.85185,     0.85285,     0.85385,     0.85485,     0.85586,     0.85686,     0.85786,     0.85886,     0.85986,     0.86086,     0.86186,     0.86286,     0.86386,\n",
       "           0.86486,     0.86587,     0.86687,     0.86787,     0.86887,     0.86987,     0.87087,     0.87187,     0.87287,     0.87387,     0.87487,     0.87588,     0.87688,     0.87788,     0.87888,     0.87988,     0.88088,     0.88188,     0.88288,     0.88388,     0.88488,     0.88589,     0.88689,     0.88789,\n",
       "           0.88889,     0.88989,     0.89089,     0.89189,     0.89289,     0.89389,     0.89489,      0.8959,      0.8969,      0.8979,      0.8989,      0.8999,      0.9009,      0.9019,      0.9029,      0.9039,      0.9049,     0.90591,     0.90691,     0.90791,     0.90891,     0.90991,     0.91091,     0.91191,\n",
       "           0.91291,     0.91391,     0.91491,     0.91592,     0.91692,     0.91792,     0.91892,     0.91992,     0.92092,     0.92192,     0.92292,     0.92392,     0.92492,     0.92593,     0.92693,     0.92793,     0.92893,     0.92993,     0.93093,     0.93193,     0.93293,     0.93393,     0.93493,     0.93594,\n",
       "           0.93694,     0.93794,     0.93894,     0.93994,     0.94094,     0.94194,     0.94294,     0.94394,     0.94494,     0.94595,     0.94695,     0.94795,     0.94895,     0.94995,     0.95095,     0.95195,     0.95295,     0.95395,     0.95495,     0.95596,     0.95696,     0.95796,     0.95896,     0.95996,\n",
       "           0.96096,     0.96196,     0.96296,     0.96396,     0.96496,     0.96597,     0.96697,     0.96797,     0.96897,     0.96997,     0.97097,     0.97197,     0.97297,     0.97397,     0.97497,     0.97598,     0.97698,     0.97798,     0.97898,     0.97998,     0.98098,     0.98198,     0.98298,     0.98398,\n",
       "           0.98498,     0.98599,     0.98699,     0.98799,     0.98899,     0.98999,     0.99099,     0.99199,     0.99299,     0.99399,     0.99499,       0.996,       0.997,       0.998,       0.999,           1]), array([[        0.9,         0.9,         0.9,         0.9,     0.19174,      0.1801,     0.16847,     0.15683,      0.1452,     0.13356,     0.12192,     0.11029,         0.1,           0,           0,           0,           0,           0,           0,           0,           0,           0,           0,\n",
       "                  0,           0,           0,           0,           0,           0,           0,           0,           0,           0,           0,           0,           0,           0,           0,           0,           0,           0,           0,           0,           0,           0,           0,\n",
       "                  0,           0,           0,           0,           0,           0,           0,           0,           0,           0,           0,           0,           0,           0,           0,           0,           0,           0,           0,           0,           0,           0,           0,\n",
       "                  0,           0,           0,           0,           0,           0,           0,           0,           0,           0,           0,           0,           0,           0,           0,           0,           0,           0,           0,           0,           0,           0,           0,\n",
       "                  0,           0,           0,           0,           0,           0,           0,           0,           0,           0,           0,           0,           0,           0,           0,           0,           0,           0,           0,           0,           0,           0,           0,\n",
       "                  0,           0,           0,           0,           0,           0,           0,           0,           0,           0,           0,           0,           0,           0,           0,           0,           0,           0,           0,           0,           0,           0,           0,\n",
       "                  0,           0,           0,           0,           0,           0,           0,           0,           0,           0,           0,           0,           0,           0,           0,           0,           0,           0,           0,           0,           0,           0,           0,\n",
       "                  0,           0,           0,           0,           0,           0,           0,           0,           0,           0,           0,           0,           0,           0,           0,           0,           0,           0,           0,           0,           0,           0,           0,\n",
       "                  0,           0,           0,           0,           0,           0,           0,           0,           0,           0,           0,           0,           0,           0,           0,           0,           0,           0,           0,           0,           0,           0,           0,\n",
       "                  0,           0,           0,           0,           0,           0,           0,           0,           0,           0,           0,           0,           0,           0,           0,           0,           0,           0,           0,           0,           0,           0,           0,\n",
       "                  0,           0,           0,           0,           0,           0,           0,           0,           0,           0,           0,           0,           0,           0,           0,           0,           0,           0,           0,           0,           0,           0,           0,\n",
       "                  0,           0,           0,           0,           0,           0,           0,           0,           0,           0,           0,           0,           0,           0,           0,           0,           0,           0,           0,           0,           0,           0,           0,\n",
       "                  0,           0,           0,           0,           0,           0,           0,           0,           0,           0,           0,           0,           0,           0,           0,           0,           0,           0,           0,           0,           0,           0,           0,\n",
       "                  0,           0,           0,           0,           0,           0,           0,           0,           0,           0,           0,           0,           0,           0,           0,           0,           0,           0,           0,           0,           0,           0,           0,\n",
       "                  0,           0,           0,           0,           0,           0,           0,           0,           0,           0,           0,           0,           0,           0,           0,           0,           0,           0,           0,           0,           0,           0,           0,\n",
       "                  0,           0,           0,           0,           0,           0,           0,           0,           0,           0,           0,           0,           0,           0,           0,           0,           0,           0,           0,           0,           0,           0,           0,\n",
       "                  0,           0,           0,           0,           0,           0,           0,           0,           0,           0,           0,           0,           0,           0,           0,           0,           0,           0,           0,           0,           0,           0,           0,\n",
       "                  0,           0,           0,           0,           0,           0,           0,           0,           0,           0,           0,           0,           0,           0,           0,           0,           0,           0,           0,           0,           0,           0,           0,\n",
       "                  0,           0,           0,           0,           0,           0,           0,           0,           0,           0,           0,           0,           0,           0,           0,           0,           0,           0,           0,           0,           0,           0,           0,\n",
       "                  0,           0,           0,           0,           0,           0,           0,           0,           0,           0,           0,           0,           0,           0,           0,           0,           0,           0,           0,           0,           0,           0,           0,\n",
       "                  0,           0,           0,           0,           0,           0,           0,           0,           0,           0,           0,           0,           0,           0,           0,           0,           0,           0,           0,           0,           0,           0,           0,\n",
       "                  0,           0,           0,           0,           0,           0,           0,           0,           0,           0,           0,           0,           0,           0,           0,           0,           0,           0,           0,           0,           0,           0,           0,\n",
       "                  0,           0,           0,           0,           0,           0,           0,           0,           0,           0,           0,           0,           0,           0,           0,           0,           0,           0,           0,           0,           0,           0,           0,\n",
       "                  0,           0,           0,           0,           0,           0,           0,           0,           0,           0,           0,           0,           0,           0,           0,           0,           0,           0,           0,           0,           0,           0,           0,\n",
       "                  0,           0,           0,           0,           0,           0,           0,           0,           0,           0,           0,           0,           0,           0,           0,           0,           0,           0,           0,           0,           0,           0,           0,\n",
       "                  0,           0,           0,           0,           0,           0,           0,           0,           0,           0,           0,           0,           0,           0,           0,           0,           0,           0,           0,           0,           0,           0,           0,\n",
       "                  0,           0,           0,           0,           0,           0,           0,           0,           0,           0,           0,           0,           0,           0,           0,           0,           0,           0,           0,           0,           0,           0,           0,\n",
       "                  0,           0,           0,           0,           0,           0,           0,           0,           0,           0,           0,           0,           0,           0,           0,           0,           0,           0,           0,           0,           0,           0,           0,\n",
       "                  0,           0,           0,           0,           0,           0,           0,           0,           0,           0,           0,           0,           0,           0,           0,           0,           0,           0,           0,           0,           0,           0,           0,\n",
       "                  0,           0,           0,           0,           0,           0,           0,           0,           0,           0,           0,           0,           0,           0,           0,           0,           0,           0,           0,           0,           0,           0,           0,\n",
       "                  0,           0,           0,           0,           0,           0,           0,           0,           0,           0,           0,           0,           0,           0,           0,           0,           0,           0,           0,           0,           0,           0,           0,\n",
       "                  0,           0,           0,           0,           0,           0,           0,           0,           0,           0,           0,           0,           0,           0,           0,           0,           0,           0,           0,           0,           0,           0,           0,\n",
       "                  0,           0,           0,           0,           0,           0,           0,           0,           0,           0,           0,           0,           0,           0,           0,           0,           0,           0,           0,           0,           0,           0,           0,\n",
       "                  0,           0,           0,           0,           0,           0,           0,           0,           0,           0,           0,           0,           0,           0,           0,           0,           0,           0,           0,           0,           0,           0,           0,\n",
       "                  0,           0,           0,           0,           0,           0,           0,           0,           0,           0,           0,           0,           0,           0,           0,           0,           0,           0,           0,           0,           0,           0,           0,\n",
       "                  0,           0,           0,           0,           0,           0,           0,           0,           0,           0,           0,           0,           0,           0,           0,           0,           0,           0,           0,           0,           0,           0,           0,\n",
       "                  0,           0,           0,           0,           0,           0,           0,           0,           0,           0,           0,           0,           0,           0,           0,           0,           0,           0,           0,           0,           0,           0,           0,\n",
       "                  0,           0,           0,           0,           0,           0,           0,           0,           0,           0,           0,           0,           0,           0,           0,           0,           0,           0,           0,           0,           0,           0,           0,\n",
       "                  0,           0,           0,           0,           0,           0,           0,           0,           0,           0,           0,           0,           0,           0,           0,           0,           0,           0,           0,           0,           0,           0,           0,\n",
       "                  0,           0,           0,           0,           0,           0,           0,           0,           0,           0,           0,           0,           0,           0,           0,           0,           0,           0,           0,           0,           0,           0,           0,\n",
       "                  0,           0,           0,           0,           0,           0,           0,           0,           0,           0,           0,           0,           0,           0,           0,           0,           0,           0,           0,           0,           0,           0,           0,\n",
       "                  0,           0,           0,           0,           0,           0,           0,           0,           0,           0,           0,           0,           0,           0,           0,           0,           0,           0,           0,           0,           0,           0,           0,\n",
       "                  0,           0,           0,           0,           0,           0,           0,           0,           0,           0,           0,           0,           0,           0,           0,           0,           0,           0,           0,           0,           0,           0,           0,\n",
       "                  0,           0,           0,           0,           0,           0,           0,           0,           0,           0,           0]]), 'Confidence', 'Recall']]\n",
       "fitness: np.float64(0.0013747983621885094)\n",
       "keys: ['metrics/precision(B)', 'metrics/recall(B)', 'metrics/mAP50(B)', 'metrics/mAP50-95(B)']\n",
       "maps: array([  0.0011326])\n",
       "names: {0: 'runway'}\n",
       "plot: True\n",
       "results_dict: {'metrics/precision(B)': np.float64(0.003), 'metrics/recall(B)': np.float64(0.9), 'metrics/mAP50(B)': np.float64(0.003554462422070026), 'metrics/mAP50-95(B)': np.float64(0.0011326134666461186), 'fitness': np.float64(0.0013747983621885094)}\n",
       "save_dir: WindowsPath('runs/detect/train16')\n",
       "speed: {'preprocess': 1.2012958526611328, 'inference': 43.971991539001465, 'loss': 0.0, 'postprocess': 3.8239479064941406}\n",
       "task: 'detect'"
      ]
     },
     "execution_count": 13,
     "metadata": {},
     "output_type": "execute_result"
    }
   ],
   "source": [
    "# Initialize YOLOv8 model and train\n",
    "model = YOLO('yolov8n.pt')  # Use nano model for fast training\n",
    "model.train(data=os.path.join(output_folder, 'runway.yaml'), epochs=10, imgsz=640)\n"
   ]
  },
  {
   "cell_type": "code",
   "execution_count": 14,
   "metadata": {},
   "outputs": [
    {
     "name": "stdout",
     "output_type": "stream",
     "text": [
      "Ultralytics 8.3.23  Python-3.11.9 torch-2.5.0+cpu CPU (AMD Ryzen 7 5800X 8-Core Processor)\n",
      "Model summary (fused): 168 layers, 3,005,843 parameters, 0 gradients, 8.1 GFLOPs\n"
     ]
    },
    {
     "name": "stderr",
     "output_type": "stream",
     "text": [
      "\u001b[34m\u001b[1mval: \u001b[0mScanning C:\\Users\\Annabelle\\Desktop\\runway-bounding-box-detection NEW\\dataset_demo\\labels\\val.cache... 10 images, 0 backgrounds, 0 corrupt: 100%|██████████| 10/10 [00:00<?, ?it/s]\n",
      "                 Class     Images  Instances      Box(P          R      mAP50  mAP50-95): 100%|██████████| 1/1 [00:00<00:00,  1.11it/s]\n"
     ]
    },
    {
     "name": "stdout",
     "output_type": "stream",
     "text": [
      "                   all         10         10      0.003        0.9    0.00355    0.00113\n",
      "Speed: 1.4ms preprocess, 40.3ms inference, 0.0ms loss, 3.4ms postprocess per image\n",
      "Results saved to \u001b[1mruns\\detect\\train162\u001b[0m\n",
      "Evaluation metrics: ultralytics.utils.metrics.DetMetrics object with attributes:\n",
      "\n",
      "ap_class_index: array([0])\n",
      "box: ultralytics.utils.metrics.Metric object\n",
      "confusion_matrix: <ultralytics.utils.metrics.ConfusionMatrix object at 0x0000018333FBB3D0>\n",
      "curves: ['Precision-Recall(B)', 'F1-Confidence(B)', 'Precision-Confidence(B)', 'Recall-Confidence(B)']\n",
      "curves_results: [[array([          0,    0.001001,    0.002002,    0.003003,    0.004004,    0.005005,    0.006006,    0.007007,    0.008008,    0.009009,     0.01001,    0.011011,    0.012012,    0.013013,    0.014014,    0.015015,    0.016016,    0.017017,    0.018018,    0.019019,     0.02002,    0.021021,    0.022022,    0.023023,\n",
      "          0.024024,    0.025025,    0.026026,    0.027027,    0.028028,    0.029029,     0.03003,    0.031031,    0.032032,    0.033033,    0.034034,    0.035035,    0.036036,    0.037037,    0.038038,    0.039039,     0.04004,    0.041041,    0.042042,    0.043043,    0.044044,    0.045045,    0.046046,    0.047047,\n",
      "          0.048048,    0.049049,     0.05005,    0.051051,    0.052052,    0.053053,    0.054054,    0.055055,    0.056056,    0.057057,    0.058058,    0.059059,     0.06006,    0.061061,    0.062062,    0.063063,    0.064064,    0.065065,    0.066066,    0.067067,    0.068068,    0.069069,     0.07007,    0.071071,\n",
      "          0.072072,    0.073073,    0.074074,    0.075075,    0.076076,    0.077077,    0.078078,    0.079079,     0.08008,    0.081081,    0.082082,    0.083083,    0.084084,    0.085085,    0.086086,    0.087087,    0.088088,    0.089089,     0.09009,    0.091091,    0.092092,    0.093093,    0.094094,    0.095095,\n",
      "          0.096096,    0.097097,    0.098098,    0.099099,      0.1001,      0.1011,      0.1021,      0.1031,      0.1041,     0.10511,     0.10611,     0.10711,     0.10811,     0.10911,     0.11011,     0.11111,     0.11211,     0.11311,     0.11411,     0.11512,     0.11612,     0.11712,     0.11812,     0.11912,\n",
      "           0.12012,     0.12112,     0.12212,     0.12312,     0.12412,     0.12513,     0.12613,     0.12713,     0.12813,     0.12913,     0.13013,     0.13113,     0.13213,     0.13313,     0.13413,     0.13514,     0.13614,     0.13714,     0.13814,     0.13914,     0.14014,     0.14114,     0.14214,     0.14314,\n",
      "           0.14414,     0.14515,     0.14615,     0.14715,     0.14815,     0.14915,     0.15015,     0.15115,     0.15215,     0.15315,     0.15415,     0.15516,     0.15616,     0.15716,     0.15816,     0.15916,     0.16016,     0.16116,     0.16216,     0.16316,     0.16416,     0.16517,     0.16617,     0.16717,\n",
      "           0.16817,     0.16917,     0.17017,     0.17117,     0.17217,     0.17317,     0.17417,     0.17518,     0.17618,     0.17718,     0.17818,     0.17918,     0.18018,     0.18118,     0.18218,     0.18318,     0.18418,     0.18519,     0.18619,     0.18719,     0.18819,     0.18919,     0.19019,     0.19119,\n",
      "           0.19219,     0.19319,     0.19419,      0.1952,      0.1962,      0.1972,      0.1982,      0.1992,      0.2002,      0.2012,      0.2022,      0.2032,      0.2042,     0.20521,     0.20621,     0.20721,     0.20821,     0.20921,     0.21021,     0.21121,     0.21221,     0.21321,     0.21421,     0.21522,\n",
      "           0.21622,     0.21722,     0.21822,     0.21922,     0.22022,     0.22122,     0.22222,     0.22322,     0.22422,     0.22523,     0.22623,     0.22723,     0.22823,     0.22923,     0.23023,     0.23123,     0.23223,     0.23323,     0.23423,     0.23524,     0.23624,     0.23724,     0.23824,     0.23924,\n",
      "           0.24024,     0.24124,     0.24224,     0.24324,     0.24424,     0.24525,     0.24625,     0.24725,     0.24825,     0.24925,     0.25025,     0.25125,     0.25225,     0.25325,     0.25425,     0.25526,     0.25626,     0.25726,     0.25826,     0.25926,     0.26026,     0.26126,     0.26226,     0.26326,\n",
      "           0.26426,     0.26527,     0.26627,     0.26727,     0.26827,     0.26927,     0.27027,     0.27127,     0.27227,     0.27327,     0.27427,     0.27528,     0.27628,     0.27728,     0.27828,     0.27928,     0.28028,     0.28128,     0.28228,     0.28328,     0.28428,     0.28529,     0.28629,     0.28729,\n",
      "           0.28829,     0.28929,     0.29029,     0.29129,     0.29229,     0.29329,     0.29429,      0.2953,      0.2963,      0.2973,      0.2983,      0.2993,      0.3003,      0.3013,      0.3023,      0.3033,      0.3043,     0.30531,     0.30631,     0.30731,     0.30831,     0.30931,     0.31031,     0.31131,\n",
      "           0.31231,     0.31331,     0.31431,     0.31532,     0.31632,     0.31732,     0.31832,     0.31932,     0.32032,     0.32132,     0.32232,     0.32332,     0.32432,     0.32533,     0.32633,     0.32733,     0.32833,     0.32933,     0.33033,     0.33133,     0.33233,     0.33333,     0.33433,     0.33534,\n",
      "           0.33634,     0.33734,     0.33834,     0.33934,     0.34034,     0.34134,     0.34234,     0.34334,     0.34434,     0.34535,     0.34635,     0.34735,     0.34835,     0.34935,     0.35035,     0.35135,     0.35235,     0.35335,     0.35435,     0.35536,     0.35636,     0.35736,     0.35836,     0.35936,\n",
      "           0.36036,     0.36136,     0.36236,     0.36336,     0.36436,     0.36537,     0.36637,     0.36737,     0.36837,     0.36937,     0.37037,     0.37137,     0.37237,     0.37337,     0.37437,     0.37538,     0.37638,     0.37738,     0.37838,     0.37938,     0.38038,     0.38138,     0.38238,     0.38338,\n",
      "           0.38438,     0.38539,     0.38639,     0.38739,     0.38839,     0.38939,     0.39039,     0.39139,     0.39239,     0.39339,     0.39439,      0.3954,      0.3964,      0.3974,      0.3984,      0.3994,      0.4004,      0.4014,      0.4024,      0.4034,      0.4044,     0.40541,     0.40641,     0.40741,\n",
      "           0.40841,     0.40941,     0.41041,     0.41141,     0.41241,     0.41341,     0.41441,     0.41542,     0.41642,     0.41742,     0.41842,     0.41942,     0.42042,     0.42142,     0.42242,     0.42342,     0.42442,     0.42543,     0.42643,     0.42743,     0.42843,     0.42943,     0.43043,     0.43143,\n",
      "           0.43243,     0.43343,     0.43443,     0.43544,     0.43644,     0.43744,     0.43844,     0.43944,     0.44044,     0.44144,     0.44244,     0.44344,     0.44444,     0.44545,     0.44645,     0.44745,     0.44845,     0.44945,     0.45045,     0.45145,     0.45245,     0.45345,     0.45445,     0.45546,\n",
      "           0.45646,     0.45746,     0.45846,     0.45946,     0.46046,     0.46146,     0.46246,     0.46346,     0.46446,     0.46547,     0.46647,     0.46747,     0.46847,     0.46947,     0.47047,     0.47147,     0.47247,     0.47347,     0.47447,     0.47548,     0.47648,     0.47748,     0.47848,     0.47948,\n",
      "           0.48048,     0.48148,     0.48248,     0.48348,     0.48448,     0.48549,     0.48649,     0.48749,     0.48849,     0.48949,     0.49049,     0.49149,     0.49249,     0.49349,     0.49449,      0.4955,      0.4965,      0.4975,      0.4985,      0.4995,      0.5005,      0.5015,      0.5025,      0.5035,\n",
      "            0.5045,     0.50551,     0.50651,     0.50751,     0.50851,     0.50951,     0.51051,     0.51151,     0.51251,     0.51351,     0.51451,     0.51552,     0.51652,     0.51752,     0.51852,     0.51952,     0.52052,     0.52152,     0.52252,     0.52352,     0.52452,     0.52553,     0.52653,     0.52753,\n",
      "           0.52853,     0.52953,     0.53053,     0.53153,     0.53253,     0.53353,     0.53453,     0.53554,     0.53654,     0.53754,     0.53854,     0.53954,     0.54054,     0.54154,     0.54254,     0.54354,     0.54454,     0.54555,     0.54655,     0.54755,     0.54855,     0.54955,     0.55055,     0.55155,\n",
      "           0.55255,     0.55355,     0.55455,     0.55556,     0.55656,     0.55756,     0.55856,     0.55956,     0.56056,     0.56156,     0.56256,     0.56356,     0.56456,     0.56557,     0.56657,     0.56757,     0.56857,     0.56957,     0.57057,     0.57157,     0.57257,     0.57357,     0.57457,     0.57558,\n",
      "           0.57658,     0.57758,     0.57858,     0.57958,     0.58058,     0.58158,     0.58258,     0.58358,     0.58458,     0.58559,     0.58659,     0.58759,     0.58859,     0.58959,     0.59059,     0.59159,     0.59259,     0.59359,     0.59459,      0.5956,      0.5966,      0.5976,      0.5986,      0.5996,\n",
      "            0.6006,      0.6016,      0.6026,      0.6036,      0.6046,     0.60561,     0.60661,     0.60761,     0.60861,     0.60961,     0.61061,     0.61161,     0.61261,     0.61361,     0.61461,     0.61562,     0.61662,     0.61762,     0.61862,     0.61962,     0.62062,     0.62162,     0.62262,     0.62362,\n",
      "           0.62462,     0.62563,     0.62663,     0.62763,     0.62863,     0.62963,     0.63063,     0.63163,     0.63263,     0.63363,     0.63463,     0.63564,     0.63664,     0.63764,     0.63864,     0.63964,     0.64064,     0.64164,     0.64264,     0.64364,     0.64464,     0.64565,     0.64665,     0.64765,\n",
      "           0.64865,     0.64965,     0.65065,     0.65165,     0.65265,     0.65365,     0.65465,     0.65566,     0.65666,     0.65766,     0.65866,     0.65966,     0.66066,     0.66166,     0.66266,     0.66366,     0.66466,     0.66567,     0.66667,     0.66767,     0.66867,     0.66967,     0.67067,     0.67167,\n",
      "           0.67267,     0.67367,     0.67467,     0.67568,     0.67668,     0.67768,     0.67868,     0.67968,     0.68068,     0.68168,     0.68268,     0.68368,     0.68468,     0.68569,     0.68669,     0.68769,     0.68869,     0.68969,     0.69069,     0.69169,     0.69269,     0.69369,     0.69469,      0.6957,\n",
      "            0.6967,      0.6977,      0.6987,      0.6997,      0.7007,      0.7017,      0.7027,      0.7037,      0.7047,     0.70571,     0.70671,     0.70771,     0.70871,     0.70971,     0.71071,     0.71171,     0.71271,     0.71371,     0.71471,     0.71572,     0.71672,     0.71772,     0.71872,     0.71972,\n",
      "           0.72072,     0.72172,     0.72272,     0.72372,     0.72472,     0.72573,     0.72673,     0.72773,     0.72873,     0.72973,     0.73073,     0.73173,     0.73273,     0.73373,     0.73473,     0.73574,     0.73674,     0.73774,     0.73874,     0.73974,     0.74074,     0.74174,     0.74274,     0.74374,\n",
      "           0.74474,     0.74575,     0.74675,     0.74775,     0.74875,     0.74975,     0.75075,     0.75175,     0.75275,     0.75375,     0.75475,     0.75576,     0.75676,     0.75776,     0.75876,     0.75976,     0.76076,     0.76176,     0.76276,     0.76376,     0.76476,     0.76577,     0.76677,     0.76777,\n",
      "           0.76877,     0.76977,     0.77077,     0.77177,     0.77277,     0.77377,     0.77477,     0.77578,     0.77678,     0.77778,     0.77878,     0.77978,     0.78078,     0.78178,     0.78278,     0.78378,     0.78478,     0.78579,     0.78679,     0.78779,     0.78879,     0.78979,     0.79079,     0.79179,\n",
      "           0.79279,     0.79379,     0.79479,      0.7958,      0.7968,      0.7978,      0.7988,      0.7998,      0.8008,      0.8018,      0.8028,      0.8038,      0.8048,     0.80581,     0.80681,     0.80781,     0.80881,     0.80981,     0.81081,     0.81181,     0.81281,     0.81381,     0.81481,     0.81582,\n",
      "           0.81682,     0.81782,     0.81882,     0.81982,     0.82082,     0.82182,     0.82282,     0.82382,     0.82482,     0.82583,     0.82683,     0.82783,     0.82883,     0.82983,     0.83083,     0.83183,     0.83283,     0.83383,     0.83483,     0.83584,     0.83684,     0.83784,     0.83884,     0.83984,\n",
      "           0.84084,     0.84184,     0.84284,     0.84384,     0.84484,     0.84585,     0.84685,     0.84785,     0.84885,     0.84985,     0.85085,     0.85185,     0.85285,     0.85385,     0.85485,     0.85586,     0.85686,     0.85786,     0.85886,     0.85986,     0.86086,     0.86186,     0.86286,     0.86386,\n",
      "           0.86486,     0.86587,     0.86687,     0.86787,     0.86887,     0.86987,     0.87087,     0.87187,     0.87287,     0.87387,     0.87487,     0.87588,     0.87688,     0.87788,     0.87888,     0.87988,     0.88088,     0.88188,     0.88288,     0.88388,     0.88488,     0.88589,     0.88689,     0.88789,\n",
      "           0.88889,     0.88989,     0.89089,     0.89189,     0.89289,     0.89389,     0.89489,      0.8959,      0.8969,      0.8979,      0.8989,      0.8999,      0.9009,      0.9019,      0.9029,      0.9039,      0.9049,     0.90591,     0.90691,     0.90791,     0.90891,     0.90991,     0.91091,     0.91191,\n",
      "           0.91291,     0.91391,     0.91491,     0.91592,     0.91692,     0.91792,     0.91892,     0.91992,     0.92092,     0.92192,     0.92292,     0.92392,     0.92492,     0.92593,     0.92693,     0.92793,     0.92893,     0.92993,     0.93093,     0.93193,     0.93293,     0.93393,     0.93493,     0.93594,\n",
      "           0.93694,     0.93794,     0.93894,     0.93994,     0.94094,     0.94194,     0.94294,     0.94394,     0.94494,     0.94595,     0.94695,     0.94795,     0.94895,     0.94995,     0.95095,     0.95195,     0.95295,     0.95395,     0.95495,     0.95596,     0.95696,     0.95796,     0.95896,     0.95996,\n",
      "           0.96096,     0.96196,     0.96296,     0.96396,     0.96496,     0.96597,     0.96697,     0.96797,     0.96897,     0.96997,     0.97097,     0.97197,     0.97297,     0.97397,     0.97497,     0.97598,     0.97698,     0.97798,     0.97898,     0.97998,     0.98098,     0.98198,     0.98298,     0.98398,\n",
      "           0.98498,     0.98599,     0.98699,     0.98799,     0.98899,     0.98999,     0.99099,     0.99199,     0.99299,     0.99399,     0.99499,       0.996,       0.997,       0.998,       0.999,           1]), array([[  0.0081301,   0.0081301,   0.0081301,   0.0081301,   0.0081301,   0.0081301,   0.0081301,   0.0081301,   0.0081301,   0.0081301,   0.0081301,   0.0081301,   0.0081301,   0.0081301,   0.0081301,   0.0081301,   0.0081301,   0.0081301,   0.0081301,   0.0081301,   0.0081301,   0.0081301,   0.0081301,\n",
      "          0.0081301,   0.0081301,   0.0081301,   0.0081301,   0.0081301,   0.0081301,   0.0081301,   0.0081301,   0.0081301,   0.0081301,   0.0081301,   0.0081301,   0.0081301,   0.0081301,   0.0081301,   0.0081301,   0.0081301,   0.0081301,   0.0081301,   0.0081301,   0.0081301,   0.0081301,   0.0081301,\n",
      "          0.0081301,   0.0081301,   0.0081301,   0.0081301,   0.0081301,   0.0081301,   0.0081301,   0.0081301,   0.0081301,   0.0081301,   0.0081301,   0.0081301,   0.0081301,   0.0081301,   0.0081301,   0.0081301,   0.0081301,   0.0081301,   0.0081301,   0.0081301,   0.0081301,   0.0081301,   0.0081301,\n",
      "          0.0081301,   0.0081301,   0.0081301,   0.0081301,   0.0081301,   0.0081301,   0.0081301,   0.0081301,   0.0081301,   0.0081301,   0.0081301,   0.0081301,   0.0081301,   0.0081301,   0.0081301,   0.0081301,   0.0081301,   0.0081301,   0.0081301,   0.0081301,   0.0081301,   0.0081301,   0.0081301,\n",
      "          0.0081301,   0.0081301,   0.0081301,   0.0081301,   0.0081301,   0.0081301,   0.0081301,   0.0081301,   0.0033397,   0.0033397,   0.0033397,   0.0033397,   0.0033397,   0.0033397,   0.0033397,   0.0033397,   0.0033397,   0.0033397,   0.0033397,   0.0033397,   0.0033397,   0.0033397,   0.0033397,\n",
      "          0.0033397,   0.0033397,   0.0033397,   0.0033397,   0.0033397,   0.0033397,   0.0033397,   0.0033397,   0.0033397,   0.0033397,   0.0033397,   0.0033397,   0.0033397,   0.0033397,   0.0033397,   0.0033397,   0.0033397,   0.0033397,   0.0033397,   0.0033397,   0.0033397,   0.0033397,   0.0033397,\n",
      "          0.0033397,   0.0033397,   0.0033397,   0.0033397,   0.0033397,   0.0033397,   0.0033397,   0.0033397,   0.0033397,   0.0033397,   0.0033397,   0.0033397,   0.0033397,   0.0033397,   0.0033397,   0.0033397,   0.0033397,   0.0033397,   0.0033397,   0.0033397,   0.0033397,   0.0033397,   0.0033397,\n",
      "          0.0033397,   0.0033397,   0.0033397,   0.0033397,   0.0033397,   0.0033397,   0.0033397,   0.0033397,   0.0033397,   0.0033397,   0.0033397,   0.0033397,   0.0033397,   0.0033397,   0.0033397,   0.0033397,   0.0033397,   0.0033397,   0.0033397,   0.0033397,   0.0033397,   0.0033397,   0.0033397,\n",
      "          0.0033397,   0.0033397,   0.0033397,   0.0033397,   0.0033397,   0.0033397,   0.0033397,   0.0033397,   0.0033397,   0.0033397,   0.0033397,   0.0033397,   0.0033397,   0.0033397,   0.0033397,   0.0033397,   0.0033397,   0.0033397,   0.0033397,   0.0033397,   0.0033397,   0.0033397,   0.0033397,\n",
      "          0.0033397,   0.0033397,   0.0033397,   0.0033397,   0.0033397,   0.0033397,   0.0033397,   0.0033397,   0.0033397,   0.0033397,   0.0033397,   0.0033397,   0.0033397,   0.0033397,   0.0033397,   0.0033397,   0.0033397,   0.0033397,   0.0033397,   0.0033397,   0.0033397,   0.0033397,   0.0033397,\n",
      "          0.0033397,   0.0033397,   0.0033397,   0.0033397,   0.0033397,   0.0033397,   0.0033397,   0.0033397,   0.0033397,   0.0033397,   0.0033397,   0.0033397,   0.0033397,   0.0033397,   0.0033397,   0.0033397,   0.0033397,   0.0033397,   0.0033397,   0.0033397,   0.0033397,   0.0033397,   0.0033397,\n",
      "          0.0033397,   0.0033397,   0.0033397,   0.0033397,   0.0033397,   0.0033397,   0.0033397,   0.0033397,   0.0033397,   0.0033397,   0.0033397,   0.0033397,   0.0033397,   0.0033397,   0.0033397,   0.0033397,   0.0033397,   0.0033397,   0.0033397,   0.0033397,   0.0033397,   0.0033397,   0.0033397,\n",
      "          0.0033397,   0.0033397,   0.0033397,   0.0033397,   0.0033397,   0.0033397,   0.0033397,   0.0033397,   0.0033397,   0.0033397,   0.0033397,   0.0033397,   0.0033397,   0.0033397,   0.0033397,   0.0033397,   0.0033397,   0.0033397,   0.0033397,   0.0033397,   0.0033397,   0.0033397,   0.0033397,\n",
      "          0.0033397,   0.0033397,   0.0033397,   0.0033397,   0.0033397,   0.0033397,   0.0033397,   0.0033397,   0.0033397,   0.0033397,   0.0033397,   0.0033397,   0.0033397,   0.0033397,   0.0033397,   0.0033397,   0.0033397,   0.0033397,   0.0033397,   0.0033397,   0.0033397,   0.0033397,   0.0033397,\n",
      "          0.0033397,   0.0033397,   0.0033397,   0.0033397,   0.0033397,   0.0033397,   0.0033397,   0.0033397,   0.0033397,   0.0033397,   0.0033397,   0.0033397,   0.0033397,   0.0033397,   0.0033397,   0.0033397,   0.0033397,   0.0033397,   0.0033397,   0.0033397,   0.0033397,   0.0033397,   0.0033397,\n",
      "          0.0033397,   0.0033397,   0.0033397,   0.0033397,   0.0033397,   0.0033397,   0.0033397,   0.0033397,   0.0033397,   0.0033397,   0.0033397,   0.0033397,   0.0033397,   0.0033397,   0.0033397,   0.0033397,   0.0033397,   0.0033397,   0.0033397,   0.0033397,   0.0033397,   0.0033397,   0.0033397,\n",
      "          0.0033397,   0.0033397,   0.0033397,   0.0033397,   0.0033397,   0.0033397,   0.0033397,   0.0033397,   0.0033397,   0.0033397,   0.0033397,   0.0033397,   0.0033397,   0.0033397,   0.0033397,   0.0033397,   0.0033397,   0.0033397,   0.0033397,   0.0033397,   0.0033397,   0.0033397,   0.0033397,\n",
      "          0.0033397,   0.0033397,   0.0033397,   0.0033397,   0.0033397,   0.0033397,   0.0033397,   0.0033397,   0.0033397,   0.0033397,   0.0033397,   0.0033397,   0.0033397,   0.0033397,   0.0033397,   0.0033397,   0.0033397,   0.0033397,   0.0033397,   0.0033397,   0.0033397,   0.0033397,   0.0033397,\n",
      "          0.0033397,   0.0033397,   0.0033397,   0.0033397,   0.0033397,   0.0033397,   0.0033397,   0.0033397,   0.0033397,   0.0033397,   0.0033397,   0.0033397,   0.0033397,   0.0033397,   0.0033397,   0.0033397,   0.0033397,   0.0033397,   0.0033397,   0.0033397,   0.0033397,   0.0033397,   0.0033397,\n",
      "          0.0033397,   0.0033397,   0.0033397,   0.0033397,   0.0033397,   0.0033397,   0.0033397,   0.0033397,   0.0033397,   0.0033397,   0.0033397,   0.0033397,   0.0033397,   0.0033397,   0.0033397,   0.0033397,   0.0033397,   0.0033397,   0.0033397,   0.0033397,   0.0033397,   0.0033397,   0.0033397,\n",
      "          0.0033397,   0.0033397,   0.0033397,   0.0033397,   0.0033397,   0.0033397,   0.0033397,   0.0033397,   0.0033397,   0.0033397,   0.0033397,   0.0033397,   0.0033397,   0.0033397,   0.0033397,   0.0033397,   0.0033397,   0.0033397,   0.0033397,   0.0033397,   0.0033397,   0.0033397,   0.0033397,\n",
      "          0.0033397,   0.0033397,   0.0033397,   0.0033397,   0.0033397,   0.0033397,   0.0033397,   0.0033397,   0.0033397,   0.0033397,   0.0033397,   0.0033397,   0.0033397,   0.0033397,   0.0033397,   0.0033397,   0.0033397,   0.0033397,   0.0033397,   0.0033397,   0.0033397,   0.0033397,   0.0033397,\n",
      "          0.0033397,   0.0033397,   0.0033397,   0.0033397,   0.0033397,   0.0033397,   0.0033397,   0.0033397,   0.0033397,   0.0033397,   0.0033397,   0.0033397,   0.0033397,   0.0033397,   0.0033397,   0.0033397,   0.0033397,   0.0033397,   0.0033397,   0.0033397,   0.0033397,   0.0033397,   0.0033397,\n",
      "          0.0033397,   0.0033397,   0.0033397,   0.0033397,   0.0033397,   0.0033397,   0.0033397,   0.0033397,   0.0033397,   0.0033397,   0.0033397,   0.0033397,   0.0033397,   0.0033397,   0.0033397,   0.0033397,   0.0033397,   0.0033397,   0.0033397,   0.0033397,   0.0033397,   0.0033397,   0.0033397,\n",
      "          0.0033397,   0.0033397,   0.0033397,   0.0033397,   0.0033397,   0.0033397,   0.0033397,   0.0033397,   0.0033397,   0.0033397,   0.0033397,   0.0033397,   0.0033397,   0.0033397,   0.0033397,   0.0033397,   0.0033397,   0.0033397,   0.0033397,   0.0033397,   0.0033397,   0.0033397,   0.0033397,\n",
      "          0.0033397,   0.0033397,   0.0033397,   0.0033397,   0.0033397,   0.0033397,   0.0033397,   0.0033397,   0.0033397,   0.0033397,   0.0033397,   0.0033397,   0.0033397,   0.0033397,   0.0033397,   0.0033397,   0.0033397,   0.0033397,   0.0033397,   0.0033397,   0.0033397,   0.0033397,   0.0033397,\n",
      "          0.0033397,   0.0033397,   0.0033397,   0.0033397,   0.0033397,   0.0033397,   0.0033397,   0.0033397,   0.0033397,   0.0033397,   0.0033397,   0.0033397,   0.0033397,   0.0033397,   0.0033397,   0.0033397,   0.0033397,   0.0033397,   0.0033397,   0.0033397,   0.0033397,   0.0033397,   0.0033397,\n",
      "          0.0033397,   0.0033397,   0.0033397,   0.0033397,   0.0033397,   0.0033397,   0.0033397,   0.0033397,   0.0033397,   0.0033397,   0.0033397,   0.0033397,   0.0033397,   0.0033397,   0.0033397,   0.0033397,   0.0033397,   0.0033397,   0.0033397,   0.0033397,   0.0033397,   0.0033397,   0.0033397,\n",
      "          0.0033397,   0.0033397,   0.0033397,   0.0033397,   0.0033397,   0.0033397,   0.0033397,   0.0033397,   0.0033397,   0.0033397,   0.0033397,   0.0033397,   0.0033397,   0.0033397,   0.0033397,   0.0033397,   0.0033397,   0.0033397,   0.0033397,   0.0033397,   0.0033397,   0.0033397,   0.0033397,\n",
      "          0.0033397,   0.0033397,   0.0033397,   0.0033397,   0.0033397,   0.0033397,   0.0033397,   0.0033397,   0.0033397,   0.0033397,   0.0033397,   0.0033397,   0.0033397,   0.0033397,   0.0033397,   0.0033397,   0.0033397,   0.0033397,   0.0033397,   0.0033397,   0.0033397,   0.0033397,   0.0033397,\n",
      "          0.0033397,   0.0033397,   0.0033397,   0.0033397,   0.0033397,   0.0033397,   0.0033397,   0.0033397,   0.0033397,   0.0033397,   0.0030664,   0.0030664,   0.0030664,   0.0030664,   0.0030664,   0.0030664,   0.0030664,   0.0030664,   0.0030664,   0.0030664,   0.0030664,   0.0030664,   0.0030664,\n",
      "          0.0030664,   0.0030664,   0.0030664,   0.0030664,   0.0030664,   0.0030664,   0.0030664,   0.0030664,   0.0030664,   0.0030664,   0.0030664,   0.0030664,   0.0030664,   0.0030664,   0.0030664,   0.0030664,   0.0030664,   0.0030664,   0.0030664,   0.0030664,   0.0030664,   0.0030664,   0.0030664,\n",
      "          0.0030664,   0.0030664,   0.0030664,   0.0030664,   0.0030664,   0.0030664,   0.0030664,   0.0030664,   0.0030664,   0.0030664,   0.0030664,   0.0030664,   0.0030664,   0.0030664,   0.0030664,   0.0030664,   0.0030664,   0.0030664,   0.0030664,   0.0030664,   0.0030664,   0.0030664,   0.0030664,\n",
      "          0.0030664,   0.0030664,   0.0030664,   0.0030664,   0.0030664,   0.0030664,   0.0030664,   0.0030664,   0.0030664,   0.0030664,   0.0030664,   0.0030664,   0.0030664,   0.0030664,   0.0030664,   0.0030664,   0.0030664,   0.0030664,   0.0030664,   0.0030664,   0.0030664,   0.0030664,   0.0030664,\n",
      "          0.0030664,   0.0030664,   0.0030664,   0.0030664,   0.0030664,   0.0030664,   0.0030664,   0.0030664,   0.0030664,   0.0030664,   0.0030664,   0.0030664,   0.0030664,   0.0030664,   0.0030664,   0.0030664,   0.0030664,   0.0030664,   0.0030664,   0.0030664,   0.0030664,   0.0030664,   0.0030664,\n",
      "          0.0030664,   0.0030664,   0.0030664,   0.0030664,   0.0030664,   0.0030664,   0.0030664,   0.0030664,   0.0030664,   0.0030664,   0.0030664,   0.0030664,   0.0030664,   0.0030664,   0.0030664,   0.0030664,   0.0030664,   0.0030664,   0.0030664,   0.0030664,   0.0030664,   0.0030664,   0.0030664,\n",
      "          0.0030664,   0.0030664,   0.0030664,   0.0030664,   0.0030664,   0.0030664,   0.0030664,   0.0030664,   0.0030664,   0.0030664,   0.0030664,   0.0030664,   0.0030664,   0.0030664,   0.0030664,   0.0030664,   0.0030664,   0.0030664,   0.0030664,   0.0030664,   0.0030664,   0.0030664,   0.0030664,\n",
      "          0.0030664,   0.0030664,   0.0030664,   0.0030664,   0.0030664,   0.0030664,   0.0030664,   0.0030664,   0.0030664,   0.0030664,   0.0030664,   0.0030664,   0.0030664,   0.0030664,   0.0030664,   0.0030664,   0.0030664,   0.0030664,   0.0030664,   0.0030664,   0.0030664,   0.0030664,   0.0030664,\n",
      "          0.0030664,   0.0030664,   0.0030664,   0.0030664,   0.0030664,   0.0030664,   0.0030664,   0.0030664,   0.0030664,   0.0030664,   0.0030664,   0.0030664,   0.0030664,   0.0030664,   0.0030664,   0.0030664,   0.0030664,   0.0030664,   0.0030664,   0.0030664,   0.0030664,   0.0030664,   0.0030664,\n",
      "          0.0030664,   0.0030664,   0.0030664,    0.002973,   0.0029429,   0.0029129,   0.0028829,   0.0028529,   0.0028228,   0.0027928,   0.0027628,   0.0027327,   0.0027027,   0.0026727,   0.0026426,   0.0026126,   0.0025826,   0.0025526,   0.0025225,   0.0024925,   0.0024625,   0.0024324,   0.0024024,\n",
      "          0.0023724,   0.0023423,   0.0023123,   0.0022823,   0.0022523,   0.0022222,   0.0021922,   0.0021622,   0.0021321,   0.0021021,   0.0020721,    0.002042,    0.002012,    0.001982,    0.001952,   0.0019219,   0.0018919,   0.0018619,   0.0018318,   0.0018018,   0.0017718,   0.0017417,   0.0017117,\n",
      "          0.0016817,   0.0016517,   0.0016216,   0.0015916,   0.0015616,   0.0015315,   0.0015015,   0.0014715,   0.0014414,   0.0014114,   0.0013814,   0.0013514,   0.0013213,   0.0012913,   0.0012613,   0.0012312,   0.0012012,   0.0011712,   0.0011411,   0.0011111,   0.0010811,   0.0010511,    0.001021,\n",
      "         0.00099099,  0.00096096,  0.00093093,   0.0009009,  0.00087087,  0.00084084,  0.00081081,  0.00078078,  0.00075075,  0.00072072,  0.00069069,  0.00066066,  0.00063063,   0.0006006,  0.00057057,  0.00054054,  0.00051051,  0.00048048,  0.00045045,  0.00042042,  0.00039039,  0.00036036,  0.00033033,\n",
      "          0.0003003,  0.00027027,  0.00024024,  0.00021021,  0.00018018,  0.00015015,  0.00012012,   9.009e-05,   6.006e-05,   3.003e-05,           0]]), 'Recall', 'Precision'], [array([          0,    0.001001,    0.002002,    0.003003,    0.004004,    0.005005,    0.006006,    0.007007,    0.008008,    0.009009,     0.01001,    0.011011,    0.012012,    0.013013,    0.014014,    0.015015,    0.016016,    0.017017,    0.018018,    0.019019,     0.02002,    0.021021,    0.022022,    0.023023,\n",
      "          0.024024,    0.025025,    0.026026,    0.027027,    0.028028,    0.029029,     0.03003,    0.031031,    0.032032,    0.033033,    0.034034,    0.035035,    0.036036,    0.037037,    0.038038,    0.039039,     0.04004,    0.041041,    0.042042,    0.043043,    0.044044,    0.045045,    0.046046,    0.047047,\n",
      "          0.048048,    0.049049,     0.05005,    0.051051,    0.052052,    0.053053,    0.054054,    0.055055,    0.056056,    0.057057,    0.058058,    0.059059,     0.06006,    0.061061,    0.062062,    0.063063,    0.064064,    0.065065,    0.066066,    0.067067,    0.068068,    0.069069,     0.07007,    0.071071,\n",
      "          0.072072,    0.073073,    0.074074,    0.075075,    0.076076,    0.077077,    0.078078,    0.079079,     0.08008,    0.081081,    0.082082,    0.083083,    0.084084,    0.085085,    0.086086,    0.087087,    0.088088,    0.089089,     0.09009,    0.091091,    0.092092,    0.093093,    0.094094,    0.095095,\n",
      "          0.096096,    0.097097,    0.098098,    0.099099,      0.1001,      0.1011,      0.1021,      0.1031,      0.1041,     0.10511,     0.10611,     0.10711,     0.10811,     0.10911,     0.11011,     0.11111,     0.11211,     0.11311,     0.11411,     0.11512,     0.11612,     0.11712,     0.11812,     0.11912,\n",
      "           0.12012,     0.12112,     0.12212,     0.12312,     0.12412,     0.12513,     0.12613,     0.12713,     0.12813,     0.12913,     0.13013,     0.13113,     0.13213,     0.13313,     0.13413,     0.13514,     0.13614,     0.13714,     0.13814,     0.13914,     0.14014,     0.14114,     0.14214,     0.14314,\n",
      "           0.14414,     0.14515,     0.14615,     0.14715,     0.14815,     0.14915,     0.15015,     0.15115,     0.15215,     0.15315,     0.15415,     0.15516,     0.15616,     0.15716,     0.15816,     0.15916,     0.16016,     0.16116,     0.16216,     0.16316,     0.16416,     0.16517,     0.16617,     0.16717,\n",
      "           0.16817,     0.16917,     0.17017,     0.17117,     0.17217,     0.17317,     0.17417,     0.17518,     0.17618,     0.17718,     0.17818,     0.17918,     0.18018,     0.18118,     0.18218,     0.18318,     0.18418,     0.18519,     0.18619,     0.18719,     0.18819,     0.18919,     0.19019,     0.19119,\n",
      "           0.19219,     0.19319,     0.19419,      0.1952,      0.1962,      0.1972,      0.1982,      0.1992,      0.2002,      0.2012,      0.2022,      0.2032,      0.2042,     0.20521,     0.20621,     0.20721,     0.20821,     0.20921,     0.21021,     0.21121,     0.21221,     0.21321,     0.21421,     0.21522,\n",
      "           0.21622,     0.21722,     0.21822,     0.21922,     0.22022,     0.22122,     0.22222,     0.22322,     0.22422,     0.22523,     0.22623,     0.22723,     0.22823,     0.22923,     0.23023,     0.23123,     0.23223,     0.23323,     0.23423,     0.23524,     0.23624,     0.23724,     0.23824,     0.23924,\n",
      "           0.24024,     0.24124,     0.24224,     0.24324,     0.24424,     0.24525,     0.24625,     0.24725,     0.24825,     0.24925,     0.25025,     0.25125,     0.25225,     0.25325,     0.25425,     0.25526,     0.25626,     0.25726,     0.25826,     0.25926,     0.26026,     0.26126,     0.26226,     0.26326,\n",
      "           0.26426,     0.26527,     0.26627,     0.26727,     0.26827,     0.26927,     0.27027,     0.27127,     0.27227,     0.27327,     0.27427,     0.27528,     0.27628,     0.27728,     0.27828,     0.27928,     0.28028,     0.28128,     0.28228,     0.28328,     0.28428,     0.28529,     0.28629,     0.28729,\n",
      "           0.28829,     0.28929,     0.29029,     0.29129,     0.29229,     0.29329,     0.29429,      0.2953,      0.2963,      0.2973,      0.2983,      0.2993,      0.3003,      0.3013,      0.3023,      0.3033,      0.3043,     0.30531,     0.30631,     0.30731,     0.30831,     0.30931,     0.31031,     0.31131,\n",
      "           0.31231,     0.31331,     0.31431,     0.31532,     0.31632,     0.31732,     0.31832,     0.31932,     0.32032,     0.32132,     0.32232,     0.32332,     0.32432,     0.32533,     0.32633,     0.32733,     0.32833,     0.32933,     0.33033,     0.33133,     0.33233,     0.33333,     0.33433,     0.33534,\n",
      "           0.33634,     0.33734,     0.33834,     0.33934,     0.34034,     0.34134,     0.34234,     0.34334,     0.34434,     0.34535,     0.34635,     0.34735,     0.34835,     0.34935,     0.35035,     0.35135,     0.35235,     0.35335,     0.35435,     0.35536,     0.35636,     0.35736,     0.35836,     0.35936,\n",
      "           0.36036,     0.36136,     0.36236,     0.36336,     0.36436,     0.36537,     0.36637,     0.36737,     0.36837,     0.36937,     0.37037,     0.37137,     0.37237,     0.37337,     0.37437,     0.37538,     0.37638,     0.37738,     0.37838,     0.37938,     0.38038,     0.38138,     0.38238,     0.38338,\n",
      "           0.38438,     0.38539,     0.38639,     0.38739,     0.38839,     0.38939,     0.39039,     0.39139,     0.39239,     0.39339,     0.39439,      0.3954,      0.3964,      0.3974,      0.3984,      0.3994,      0.4004,      0.4014,      0.4024,      0.4034,      0.4044,     0.40541,     0.40641,     0.40741,\n",
      "           0.40841,     0.40941,     0.41041,     0.41141,     0.41241,     0.41341,     0.41441,     0.41542,     0.41642,     0.41742,     0.41842,     0.41942,     0.42042,     0.42142,     0.42242,     0.42342,     0.42442,     0.42543,     0.42643,     0.42743,     0.42843,     0.42943,     0.43043,     0.43143,\n",
      "           0.43243,     0.43343,     0.43443,     0.43544,     0.43644,     0.43744,     0.43844,     0.43944,     0.44044,     0.44144,     0.44244,     0.44344,     0.44444,     0.44545,     0.44645,     0.44745,     0.44845,     0.44945,     0.45045,     0.45145,     0.45245,     0.45345,     0.45445,     0.45546,\n",
      "           0.45646,     0.45746,     0.45846,     0.45946,     0.46046,     0.46146,     0.46246,     0.46346,     0.46446,     0.46547,     0.46647,     0.46747,     0.46847,     0.46947,     0.47047,     0.47147,     0.47247,     0.47347,     0.47447,     0.47548,     0.47648,     0.47748,     0.47848,     0.47948,\n",
      "           0.48048,     0.48148,     0.48248,     0.48348,     0.48448,     0.48549,     0.48649,     0.48749,     0.48849,     0.48949,     0.49049,     0.49149,     0.49249,     0.49349,     0.49449,      0.4955,      0.4965,      0.4975,      0.4985,      0.4995,      0.5005,      0.5015,      0.5025,      0.5035,\n",
      "            0.5045,     0.50551,     0.50651,     0.50751,     0.50851,     0.50951,     0.51051,     0.51151,     0.51251,     0.51351,     0.51451,     0.51552,     0.51652,     0.51752,     0.51852,     0.51952,     0.52052,     0.52152,     0.52252,     0.52352,     0.52452,     0.52553,     0.52653,     0.52753,\n",
      "           0.52853,     0.52953,     0.53053,     0.53153,     0.53253,     0.53353,     0.53453,     0.53554,     0.53654,     0.53754,     0.53854,     0.53954,     0.54054,     0.54154,     0.54254,     0.54354,     0.54454,     0.54555,     0.54655,     0.54755,     0.54855,     0.54955,     0.55055,     0.55155,\n",
      "           0.55255,     0.55355,     0.55455,     0.55556,     0.55656,     0.55756,     0.55856,     0.55956,     0.56056,     0.56156,     0.56256,     0.56356,     0.56456,     0.56557,     0.56657,     0.56757,     0.56857,     0.56957,     0.57057,     0.57157,     0.57257,     0.57357,     0.57457,     0.57558,\n",
      "           0.57658,     0.57758,     0.57858,     0.57958,     0.58058,     0.58158,     0.58258,     0.58358,     0.58458,     0.58559,     0.58659,     0.58759,     0.58859,     0.58959,     0.59059,     0.59159,     0.59259,     0.59359,     0.59459,      0.5956,      0.5966,      0.5976,      0.5986,      0.5996,\n",
      "            0.6006,      0.6016,      0.6026,      0.6036,      0.6046,     0.60561,     0.60661,     0.60761,     0.60861,     0.60961,     0.61061,     0.61161,     0.61261,     0.61361,     0.61461,     0.61562,     0.61662,     0.61762,     0.61862,     0.61962,     0.62062,     0.62162,     0.62262,     0.62362,\n",
      "           0.62462,     0.62563,     0.62663,     0.62763,     0.62863,     0.62963,     0.63063,     0.63163,     0.63263,     0.63363,     0.63463,     0.63564,     0.63664,     0.63764,     0.63864,     0.63964,     0.64064,     0.64164,     0.64264,     0.64364,     0.64464,     0.64565,     0.64665,     0.64765,\n",
      "           0.64865,     0.64965,     0.65065,     0.65165,     0.65265,     0.65365,     0.65465,     0.65566,     0.65666,     0.65766,     0.65866,     0.65966,     0.66066,     0.66166,     0.66266,     0.66366,     0.66466,     0.66567,     0.66667,     0.66767,     0.66867,     0.66967,     0.67067,     0.67167,\n",
      "           0.67267,     0.67367,     0.67467,     0.67568,     0.67668,     0.67768,     0.67868,     0.67968,     0.68068,     0.68168,     0.68268,     0.68368,     0.68468,     0.68569,     0.68669,     0.68769,     0.68869,     0.68969,     0.69069,     0.69169,     0.69269,     0.69369,     0.69469,      0.6957,\n",
      "            0.6967,      0.6977,      0.6987,      0.6997,      0.7007,      0.7017,      0.7027,      0.7037,      0.7047,     0.70571,     0.70671,     0.70771,     0.70871,     0.70971,     0.71071,     0.71171,     0.71271,     0.71371,     0.71471,     0.71572,     0.71672,     0.71772,     0.71872,     0.71972,\n",
      "           0.72072,     0.72172,     0.72272,     0.72372,     0.72472,     0.72573,     0.72673,     0.72773,     0.72873,     0.72973,     0.73073,     0.73173,     0.73273,     0.73373,     0.73473,     0.73574,     0.73674,     0.73774,     0.73874,     0.73974,     0.74074,     0.74174,     0.74274,     0.74374,\n",
      "           0.74474,     0.74575,     0.74675,     0.74775,     0.74875,     0.74975,     0.75075,     0.75175,     0.75275,     0.75375,     0.75475,     0.75576,     0.75676,     0.75776,     0.75876,     0.75976,     0.76076,     0.76176,     0.76276,     0.76376,     0.76476,     0.76577,     0.76677,     0.76777,\n",
      "           0.76877,     0.76977,     0.77077,     0.77177,     0.77277,     0.77377,     0.77477,     0.77578,     0.77678,     0.77778,     0.77878,     0.77978,     0.78078,     0.78178,     0.78278,     0.78378,     0.78478,     0.78579,     0.78679,     0.78779,     0.78879,     0.78979,     0.79079,     0.79179,\n",
      "           0.79279,     0.79379,     0.79479,      0.7958,      0.7968,      0.7978,      0.7988,      0.7998,      0.8008,      0.8018,      0.8028,      0.8038,      0.8048,     0.80581,     0.80681,     0.80781,     0.80881,     0.80981,     0.81081,     0.81181,     0.81281,     0.81381,     0.81481,     0.81582,\n",
      "           0.81682,     0.81782,     0.81882,     0.81982,     0.82082,     0.82182,     0.82282,     0.82382,     0.82482,     0.82583,     0.82683,     0.82783,     0.82883,     0.82983,     0.83083,     0.83183,     0.83283,     0.83383,     0.83483,     0.83584,     0.83684,     0.83784,     0.83884,     0.83984,\n",
      "           0.84084,     0.84184,     0.84284,     0.84384,     0.84484,     0.84585,     0.84685,     0.84785,     0.84885,     0.84985,     0.85085,     0.85185,     0.85285,     0.85385,     0.85485,     0.85586,     0.85686,     0.85786,     0.85886,     0.85986,     0.86086,     0.86186,     0.86286,     0.86386,\n",
      "           0.86486,     0.86587,     0.86687,     0.86787,     0.86887,     0.86987,     0.87087,     0.87187,     0.87287,     0.87387,     0.87487,     0.87588,     0.87688,     0.87788,     0.87888,     0.87988,     0.88088,     0.88188,     0.88288,     0.88388,     0.88488,     0.88589,     0.88689,     0.88789,\n",
      "           0.88889,     0.88989,     0.89089,     0.89189,     0.89289,     0.89389,     0.89489,      0.8959,      0.8969,      0.8979,      0.8989,      0.8999,      0.9009,      0.9019,      0.9029,      0.9039,      0.9049,     0.90591,     0.90691,     0.90791,     0.90891,     0.90991,     0.91091,     0.91191,\n",
      "           0.91291,     0.91391,     0.91491,     0.91592,     0.91692,     0.91792,     0.91892,     0.91992,     0.92092,     0.92192,     0.92292,     0.92392,     0.92492,     0.92593,     0.92693,     0.92793,     0.92893,     0.92993,     0.93093,     0.93193,     0.93293,     0.93393,     0.93493,     0.93594,\n",
      "           0.93694,     0.93794,     0.93894,     0.93994,     0.94094,     0.94194,     0.94294,     0.94394,     0.94494,     0.94595,     0.94695,     0.94795,     0.94895,     0.94995,     0.95095,     0.95195,     0.95295,     0.95395,     0.95495,     0.95596,     0.95696,     0.95796,     0.95896,     0.95996,\n",
      "           0.96096,     0.96196,     0.96296,     0.96396,     0.96496,     0.96597,     0.96697,     0.96797,     0.96897,     0.96997,     0.97097,     0.97197,     0.97297,     0.97397,     0.97497,     0.97598,     0.97698,     0.97798,     0.97898,     0.97998,     0.98098,     0.98198,     0.98298,     0.98398,\n",
      "           0.98498,     0.98599,     0.98699,     0.98799,     0.98899,     0.98999,     0.99099,     0.99199,     0.99299,     0.99399,     0.99499,       0.996,       0.997,       0.998,       0.999,           1]), array([[  0.0059801,   0.0059801,   0.0059801,   0.0059801,   0.0024287,   0.0022814,   0.0021341,   0.0019868,   0.0018395,   0.0016922,   0.0015449,   0.0013977,   0.0012798,           0,           0,           0,           0,           0,           0,           0,           0,           0,           0,\n",
      "                  0,           0,           0,           0,           0,           0,           0,           0,           0,           0,           0,           0,           0,           0,           0,           0,           0,           0,           0,           0,           0,           0,           0,\n",
      "                  0,           0,           0,           0,           0,           0,           0,           0,           0,           0,           0,           0,           0,           0,           0,           0,           0,           0,           0,           0,           0,           0,           0,\n",
      "                  0,           0,           0,           0,           0,           0,           0,           0,           0,           0,           0,           0,           0,           0,           0,           0,           0,           0,           0,           0,           0,           0,           0,\n",
      "                  0,           0,           0,           0,           0,           0,           0,           0,           0,           0,           0,           0,           0,           0,           0,           0,           0,           0,           0,           0,           0,           0,           0,\n",
      "                  0,           0,           0,           0,           0,           0,           0,           0,           0,           0,           0,           0,           0,           0,           0,           0,           0,           0,           0,           0,           0,           0,           0,\n",
      "                  0,           0,           0,           0,           0,           0,           0,           0,           0,           0,           0,           0,           0,           0,           0,           0,           0,           0,           0,           0,           0,           0,           0,\n",
      "                  0,           0,           0,           0,           0,           0,           0,           0,           0,           0,           0,           0,           0,           0,           0,           0,           0,           0,           0,           0,           0,           0,           0,\n",
      "                  0,           0,           0,           0,           0,           0,           0,           0,           0,           0,           0,           0,           0,           0,           0,           0,           0,           0,           0,           0,           0,           0,           0,\n",
      "                  0,           0,           0,           0,           0,           0,           0,           0,           0,           0,           0,           0,           0,           0,           0,           0,           0,           0,           0,           0,           0,           0,           0,\n",
      "                  0,           0,           0,           0,           0,           0,           0,           0,           0,           0,           0,           0,           0,           0,           0,           0,           0,           0,           0,           0,           0,           0,           0,\n",
      "                  0,           0,           0,           0,           0,           0,           0,           0,           0,           0,           0,           0,           0,           0,           0,           0,           0,           0,           0,           0,           0,           0,           0,\n",
      "                  0,           0,           0,           0,           0,           0,           0,           0,           0,           0,           0,           0,           0,           0,           0,           0,           0,           0,           0,           0,           0,           0,           0,\n",
      "                  0,           0,           0,           0,           0,           0,           0,           0,           0,           0,           0,           0,           0,           0,           0,           0,           0,           0,           0,           0,           0,           0,           0,\n",
      "                  0,           0,           0,           0,           0,           0,           0,           0,           0,           0,           0,           0,           0,           0,           0,           0,           0,           0,           0,           0,           0,           0,           0,\n",
      "                  0,           0,           0,           0,           0,           0,           0,           0,           0,           0,           0,           0,           0,           0,           0,           0,           0,           0,           0,           0,           0,           0,           0,\n",
      "                  0,           0,           0,           0,           0,           0,           0,           0,           0,           0,           0,           0,           0,           0,           0,           0,           0,           0,           0,           0,           0,           0,           0,\n",
      "                  0,           0,           0,           0,           0,           0,           0,           0,           0,           0,           0,           0,           0,           0,           0,           0,           0,           0,           0,           0,           0,           0,           0,\n",
      "                  0,           0,           0,           0,           0,           0,           0,           0,           0,           0,           0,           0,           0,           0,           0,           0,           0,           0,           0,           0,           0,           0,           0,\n",
      "                  0,           0,           0,           0,           0,           0,           0,           0,           0,           0,           0,           0,           0,           0,           0,           0,           0,           0,           0,           0,           0,           0,           0,\n",
      "                  0,           0,           0,           0,           0,           0,           0,           0,           0,           0,           0,           0,           0,           0,           0,           0,           0,           0,           0,           0,           0,           0,           0,\n",
      "                  0,           0,           0,           0,           0,           0,           0,           0,           0,           0,           0,           0,           0,           0,           0,           0,           0,           0,           0,           0,           0,           0,           0,\n",
      "                  0,           0,           0,           0,           0,           0,           0,           0,           0,           0,           0,           0,           0,           0,           0,           0,           0,           0,           0,           0,           0,           0,           0,\n",
      "                  0,           0,           0,           0,           0,           0,           0,           0,           0,           0,           0,           0,           0,           0,           0,           0,           0,           0,           0,           0,           0,           0,           0,\n",
      "                  0,           0,           0,           0,           0,           0,           0,           0,           0,           0,           0,           0,           0,           0,           0,           0,           0,           0,           0,           0,           0,           0,           0,\n",
      "                  0,           0,           0,           0,           0,           0,           0,           0,           0,           0,           0,           0,           0,           0,           0,           0,           0,           0,           0,           0,           0,           0,           0,\n",
      "                  0,           0,           0,           0,           0,           0,           0,           0,           0,           0,           0,           0,           0,           0,           0,           0,           0,           0,           0,           0,           0,           0,           0,\n",
      "                  0,           0,           0,           0,           0,           0,           0,           0,           0,           0,           0,           0,           0,           0,           0,           0,           0,           0,           0,           0,           0,           0,           0,\n",
      "                  0,           0,           0,           0,           0,           0,           0,           0,           0,           0,           0,           0,           0,           0,           0,           0,           0,           0,           0,           0,           0,           0,           0,\n",
      "                  0,           0,           0,           0,           0,           0,           0,           0,           0,           0,           0,           0,           0,           0,           0,           0,           0,           0,           0,           0,           0,           0,           0,\n",
      "                  0,           0,           0,           0,           0,           0,           0,           0,           0,           0,           0,           0,           0,           0,           0,           0,           0,           0,           0,           0,           0,           0,           0,\n",
      "                  0,           0,           0,           0,           0,           0,           0,           0,           0,           0,           0,           0,           0,           0,           0,           0,           0,           0,           0,           0,           0,           0,           0,\n",
      "                  0,           0,           0,           0,           0,           0,           0,           0,           0,           0,           0,           0,           0,           0,           0,           0,           0,           0,           0,           0,           0,           0,           0,\n",
      "                  0,           0,           0,           0,           0,           0,           0,           0,           0,           0,           0,           0,           0,           0,           0,           0,           0,           0,           0,           0,           0,           0,           0,\n",
      "                  0,           0,           0,           0,           0,           0,           0,           0,           0,           0,           0,           0,           0,           0,           0,           0,           0,           0,           0,           0,           0,           0,           0,\n",
      "                  0,           0,           0,           0,           0,           0,           0,           0,           0,           0,           0,           0,           0,           0,           0,           0,           0,           0,           0,           0,           0,           0,           0,\n",
      "                  0,           0,           0,           0,           0,           0,           0,           0,           0,           0,           0,           0,           0,           0,           0,           0,           0,           0,           0,           0,           0,           0,           0,\n",
      "                  0,           0,           0,           0,           0,           0,           0,           0,           0,           0,           0,           0,           0,           0,           0,           0,           0,           0,           0,           0,           0,           0,           0,\n",
      "                  0,           0,           0,           0,           0,           0,           0,           0,           0,           0,           0,           0,           0,           0,           0,           0,           0,           0,           0,           0,           0,           0,           0,\n",
      "                  0,           0,           0,           0,           0,           0,           0,           0,           0,           0,           0,           0,           0,           0,           0,           0,           0,           0,           0,           0,           0,           0,           0,\n",
      "                  0,           0,           0,           0,           0,           0,           0,           0,           0,           0,           0,           0,           0,           0,           0,           0,           0,           0,           0,           0,           0,           0,           0,\n",
      "                  0,           0,           0,           0,           0,           0,           0,           0,           0,           0,           0,           0,           0,           0,           0,           0,           0,           0,           0,           0,           0,           0,           0,\n",
      "                  0,           0,           0,           0,           0,           0,           0,           0,           0,           0,           0,           0,           0,           0,           0,           0,           0,           0,           0,           0,           0,           0,           0,\n",
      "                  0,           0,           0,           0,           0,           0,           0,           0,           0,           0,           0]]), 'Confidence', 'F1'], [array([          0,    0.001001,    0.002002,    0.003003,    0.004004,    0.005005,    0.006006,    0.007007,    0.008008,    0.009009,     0.01001,    0.011011,    0.012012,    0.013013,    0.014014,    0.015015,    0.016016,    0.017017,    0.018018,    0.019019,     0.02002,    0.021021,    0.022022,    0.023023,\n",
      "          0.024024,    0.025025,    0.026026,    0.027027,    0.028028,    0.029029,     0.03003,    0.031031,    0.032032,    0.033033,    0.034034,    0.035035,    0.036036,    0.037037,    0.038038,    0.039039,     0.04004,    0.041041,    0.042042,    0.043043,    0.044044,    0.045045,    0.046046,    0.047047,\n",
      "          0.048048,    0.049049,     0.05005,    0.051051,    0.052052,    0.053053,    0.054054,    0.055055,    0.056056,    0.057057,    0.058058,    0.059059,     0.06006,    0.061061,    0.062062,    0.063063,    0.064064,    0.065065,    0.066066,    0.067067,    0.068068,    0.069069,     0.07007,    0.071071,\n",
      "          0.072072,    0.073073,    0.074074,    0.075075,    0.076076,    0.077077,    0.078078,    0.079079,     0.08008,    0.081081,    0.082082,    0.083083,    0.084084,    0.085085,    0.086086,    0.087087,    0.088088,    0.089089,     0.09009,    0.091091,    0.092092,    0.093093,    0.094094,    0.095095,\n",
      "          0.096096,    0.097097,    0.098098,    0.099099,      0.1001,      0.1011,      0.1021,      0.1031,      0.1041,     0.10511,     0.10611,     0.10711,     0.10811,     0.10911,     0.11011,     0.11111,     0.11211,     0.11311,     0.11411,     0.11512,     0.11612,     0.11712,     0.11812,     0.11912,\n",
      "           0.12012,     0.12112,     0.12212,     0.12312,     0.12412,     0.12513,     0.12613,     0.12713,     0.12813,     0.12913,     0.13013,     0.13113,     0.13213,     0.13313,     0.13413,     0.13514,     0.13614,     0.13714,     0.13814,     0.13914,     0.14014,     0.14114,     0.14214,     0.14314,\n",
      "           0.14414,     0.14515,     0.14615,     0.14715,     0.14815,     0.14915,     0.15015,     0.15115,     0.15215,     0.15315,     0.15415,     0.15516,     0.15616,     0.15716,     0.15816,     0.15916,     0.16016,     0.16116,     0.16216,     0.16316,     0.16416,     0.16517,     0.16617,     0.16717,\n",
      "           0.16817,     0.16917,     0.17017,     0.17117,     0.17217,     0.17317,     0.17417,     0.17518,     0.17618,     0.17718,     0.17818,     0.17918,     0.18018,     0.18118,     0.18218,     0.18318,     0.18418,     0.18519,     0.18619,     0.18719,     0.18819,     0.18919,     0.19019,     0.19119,\n",
      "           0.19219,     0.19319,     0.19419,      0.1952,      0.1962,      0.1972,      0.1982,      0.1992,      0.2002,      0.2012,      0.2022,      0.2032,      0.2042,     0.20521,     0.20621,     0.20721,     0.20821,     0.20921,     0.21021,     0.21121,     0.21221,     0.21321,     0.21421,     0.21522,\n",
      "           0.21622,     0.21722,     0.21822,     0.21922,     0.22022,     0.22122,     0.22222,     0.22322,     0.22422,     0.22523,     0.22623,     0.22723,     0.22823,     0.22923,     0.23023,     0.23123,     0.23223,     0.23323,     0.23423,     0.23524,     0.23624,     0.23724,     0.23824,     0.23924,\n",
      "           0.24024,     0.24124,     0.24224,     0.24324,     0.24424,     0.24525,     0.24625,     0.24725,     0.24825,     0.24925,     0.25025,     0.25125,     0.25225,     0.25325,     0.25425,     0.25526,     0.25626,     0.25726,     0.25826,     0.25926,     0.26026,     0.26126,     0.26226,     0.26326,\n",
      "           0.26426,     0.26527,     0.26627,     0.26727,     0.26827,     0.26927,     0.27027,     0.27127,     0.27227,     0.27327,     0.27427,     0.27528,     0.27628,     0.27728,     0.27828,     0.27928,     0.28028,     0.28128,     0.28228,     0.28328,     0.28428,     0.28529,     0.28629,     0.28729,\n",
      "           0.28829,     0.28929,     0.29029,     0.29129,     0.29229,     0.29329,     0.29429,      0.2953,      0.2963,      0.2973,      0.2983,      0.2993,      0.3003,      0.3013,      0.3023,      0.3033,      0.3043,     0.30531,     0.30631,     0.30731,     0.30831,     0.30931,     0.31031,     0.31131,\n",
      "           0.31231,     0.31331,     0.31431,     0.31532,     0.31632,     0.31732,     0.31832,     0.31932,     0.32032,     0.32132,     0.32232,     0.32332,     0.32432,     0.32533,     0.32633,     0.32733,     0.32833,     0.32933,     0.33033,     0.33133,     0.33233,     0.33333,     0.33433,     0.33534,\n",
      "           0.33634,     0.33734,     0.33834,     0.33934,     0.34034,     0.34134,     0.34234,     0.34334,     0.34434,     0.34535,     0.34635,     0.34735,     0.34835,     0.34935,     0.35035,     0.35135,     0.35235,     0.35335,     0.35435,     0.35536,     0.35636,     0.35736,     0.35836,     0.35936,\n",
      "           0.36036,     0.36136,     0.36236,     0.36336,     0.36436,     0.36537,     0.36637,     0.36737,     0.36837,     0.36937,     0.37037,     0.37137,     0.37237,     0.37337,     0.37437,     0.37538,     0.37638,     0.37738,     0.37838,     0.37938,     0.38038,     0.38138,     0.38238,     0.38338,\n",
      "           0.38438,     0.38539,     0.38639,     0.38739,     0.38839,     0.38939,     0.39039,     0.39139,     0.39239,     0.39339,     0.39439,      0.3954,      0.3964,      0.3974,      0.3984,      0.3994,      0.4004,      0.4014,      0.4024,      0.4034,      0.4044,     0.40541,     0.40641,     0.40741,\n",
      "           0.40841,     0.40941,     0.41041,     0.41141,     0.41241,     0.41341,     0.41441,     0.41542,     0.41642,     0.41742,     0.41842,     0.41942,     0.42042,     0.42142,     0.42242,     0.42342,     0.42442,     0.42543,     0.42643,     0.42743,     0.42843,     0.42943,     0.43043,     0.43143,\n",
      "           0.43243,     0.43343,     0.43443,     0.43544,     0.43644,     0.43744,     0.43844,     0.43944,     0.44044,     0.44144,     0.44244,     0.44344,     0.44444,     0.44545,     0.44645,     0.44745,     0.44845,     0.44945,     0.45045,     0.45145,     0.45245,     0.45345,     0.45445,     0.45546,\n",
      "           0.45646,     0.45746,     0.45846,     0.45946,     0.46046,     0.46146,     0.46246,     0.46346,     0.46446,     0.46547,     0.46647,     0.46747,     0.46847,     0.46947,     0.47047,     0.47147,     0.47247,     0.47347,     0.47447,     0.47548,     0.47648,     0.47748,     0.47848,     0.47948,\n",
      "           0.48048,     0.48148,     0.48248,     0.48348,     0.48448,     0.48549,     0.48649,     0.48749,     0.48849,     0.48949,     0.49049,     0.49149,     0.49249,     0.49349,     0.49449,      0.4955,      0.4965,      0.4975,      0.4985,      0.4995,      0.5005,      0.5015,      0.5025,      0.5035,\n",
      "            0.5045,     0.50551,     0.50651,     0.50751,     0.50851,     0.50951,     0.51051,     0.51151,     0.51251,     0.51351,     0.51451,     0.51552,     0.51652,     0.51752,     0.51852,     0.51952,     0.52052,     0.52152,     0.52252,     0.52352,     0.52452,     0.52553,     0.52653,     0.52753,\n",
      "           0.52853,     0.52953,     0.53053,     0.53153,     0.53253,     0.53353,     0.53453,     0.53554,     0.53654,     0.53754,     0.53854,     0.53954,     0.54054,     0.54154,     0.54254,     0.54354,     0.54454,     0.54555,     0.54655,     0.54755,     0.54855,     0.54955,     0.55055,     0.55155,\n",
      "           0.55255,     0.55355,     0.55455,     0.55556,     0.55656,     0.55756,     0.55856,     0.55956,     0.56056,     0.56156,     0.56256,     0.56356,     0.56456,     0.56557,     0.56657,     0.56757,     0.56857,     0.56957,     0.57057,     0.57157,     0.57257,     0.57357,     0.57457,     0.57558,\n",
      "           0.57658,     0.57758,     0.57858,     0.57958,     0.58058,     0.58158,     0.58258,     0.58358,     0.58458,     0.58559,     0.58659,     0.58759,     0.58859,     0.58959,     0.59059,     0.59159,     0.59259,     0.59359,     0.59459,      0.5956,      0.5966,      0.5976,      0.5986,      0.5996,\n",
      "            0.6006,      0.6016,      0.6026,      0.6036,      0.6046,     0.60561,     0.60661,     0.60761,     0.60861,     0.60961,     0.61061,     0.61161,     0.61261,     0.61361,     0.61461,     0.61562,     0.61662,     0.61762,     0.61862,     0.61962,     0.62062,     0.62162,     0.62262,     0.62362,\n",
      "           0.62462,     0.62563,     0.62663,     0.62763,     0.62863,     0.62963,     0.63063,     0.63163,     0.63263,     0.63363,     0.63463,     0.63564,     0.63664,     0.63764,     0.63864,     0.63964,     0.64064,     0.64164,     0.64264,     0.64364,     0.64464,     0.64565,     0.64665,     0.64765,\n",
      "           0.64865,     0.64965,     0.65065,     0.65165,     0.65265,     0.65365,     0.65465,     0.65566,     0.65666,     0.65766,     0.65866,     0.65966,     0.66066,     0.66166,     0.66266,     0.66366,     0.66466,     0.66567,     0.66667,     0.66767,     0.66867,     0.66967,     0.67067,     0.67167,\n",
      "           0.67267,     0.67367,     0.67467,     0.67568,     0.67668,     0.67768,     0.67868,     0.67968,     0.68068,     0.68168,     0.68268,     0.68368,     0.68468,     0.68569,     0.68669,     0.68769,     0.68869,     0.68969,     0.69069,     0.69169,     0.69269,     0.69369,     0.69469,      0.6957,\n",
      "            0.6967,      0.6977,      0.6987,      0.6997,      0.7007,      0.7017,      0.7027,      0.7037,      0.7047,     0.70571,     0.70671,     0.70771,     0.70871,     0.70971,     0.71071,     0.71171,     0.71271,     0.71371,     0.71471,     0.71572,     0.71672,     0.71772,     0.71872,     0.71972,\n",
      "           0.72072,     0.72172,     0.72272,     0.72372,     0.72472,     0.72573,     0.72673,     0.72773,     0.72873,     0.72973,     0.73073,     0.73173,     0.73273,     0.73373,     0.73473,     0.73574,     0.73674,     0.73774,     0.73874,     0.73974,     0.74074,     0.74174,     0.74274,     0.74374,\n",
      "           0.74474,     0.74575,     0.74675,     0.74775,     0.74875,     0.74975,     0.75075,     0.75175,     0.75275,     0.75375,     0.75475,     0.75576,     0.75676,     0.75776,     0.75876,     0.75976,     0.76076,     0.76176,     0.76276,     0.76376,     0.76476,     0.76577,     0.76677,     0.76777,\n",
      "           0.76877,     0.76977,     0.77077,     0.77177,     0.77277,     0.77377,     0.77477,     0.77578,     0.77678,     0.77778,     0.77878,     0.77978,     0.78078,     0.78178,     0.78278,     0.78378,     0.78478,     0.78579,     0.78679,     0.78779,     0.78879,     0.78979,     0.79079,     0.79179,\n",
      "           0.79279,     0.79379,     0.79479,      0.7958,      0.7968,      0.7978,      0.7988,      0.7998,      0.8008,      0.8018,      0.8028,      0.8038,      0.8048,     0.80581,     0.80681,     0.80781,     0.80881,     0.80981,     0.81081,     0.81181,     0.81281,     0.81381,     0.81481,     0.81582,\n",
      "           0.81682,     0.81782,     0.81882,     0.81982,     0.82082,     0.82182,     0.82282,     0.82382,     0.82482,     0.82583,     0.82683,     0.82783,     0.82883,     0.82983,     0.83083,     0.83183,     0.83283,     0.83383,     0.83483,     0.83584,     0.83684,     0.83784,     0.83884,     0.83984,\n",
      "           0.84084,     0.84184,     0.84284,     0.84384,     0.84484,     0.84585,     0.84685,     0.84785,     0.84885,     0.84985,     0.85085,     0.85185,     0.85285,     0.85385,     0.85485,     0.85586,     0.85686,     0.85786,     0.85886,     0.85986,     0.86086,     0.86186,     0.86286,     0.86386,\n",
      "           0.86486,     0.86587,     0.86687,     0.86787,     0.86887,     0.86987,     0.87087,     0.87187,     0.87287,     0.87387,     0.87487,     0.87588,     0.87688,     0.87788,     0.87888,     0.87988,     0.88088,     0.88188,     0.88288,     0.88388,     0.88488,     0.88589,     0.88689,     0.88789,\n",
      "           0.88889,     0.88989,     0.89089,     0.89189,     0.89289,     0.89389,     0.89489,      0.8959,      0.8969,      0.8979,      0.8989,      0.8999,      0.9009,      0.9019,      0.9029,      0.9039,      0.9049,     0.90591,     0.90691,     0.90791,     0.90891,     0.90991,     0.91091,     0.91191,\n",
      "           0.91291,     0.91391,     0.91491,     0.91592,     0.91692,     0.91792,     0.91892,     0.91992,     0.92092,     0.92192,     0.92292,     0.92392,     0.92492,     0.92593,     0.92693,     0.92793,     0.92893,     0.92993,     0.93093,     0.93193,     0.93293,     0.93393,     0.93493,     0.93594,\n",
      "           0.93694,     0.93794,     0.93894,     0.93994,     0.94094,     0.94194,     0.94294,     0.94394,     0.94494,     0.94595,     0.94695,     0.94795,     0.94895,     0.94995,     0.95095,     0.95195,     0.95295,     0.95395,     0.95495,     0.95596,     0.95696,     0.95796,     0.95896,     0.95996,\n",
      "           0.96096,     0.96196,     0.96296,     0.96396,     0.96496,     0.96597,     0.96697,     0.96797,     0.96897,     0.96997,     0.97097,     0.97197,     0.97297,     0.97397,     0.97497,     0.97598,     0.97698,     0.97798,     0.97898,     0.97998,     0.98098,     0.98198,     0.98298,     0.98398,\n",
      "           0.98498,     0.98599,     0.98699,     0.98799,     0.98899,     0.98999,     0.99099,     0.99199,     0.99299,     0.99399,     0.99499,       0.996,       0.997,       0.998,       0.999,           1]), array([[      0.003,       0.003,       0.003,       0.003,   0.0012221,    0.001148,   0.0010738,  0.00099973,  0.00092562,  0.00085151,   0.0007774,  0.00070329,  0.00064401,           1,           1,           1,           1,           1,           1,           1,           1,           1,           1,\n",
      "                  1,           1,           1,           1,           1,           1,           1,           1,           1,           1,           1,           1,           1,           1,           1,           1,           1,           1,           1,           1,           1,           1,           1,\n",
      "                  1,           1,           1,           1,           1,           1,           1,           1,           1,           1,           1,           1,           1,           1,           1,           1,           1,           1,           1,           1,           1,           1,           1,\n",
      "                  1,           1,           1,           1,           1,           1,           1,           1,           1,           1,           1,           1,           1,           1,           1,           1,           1,           1,           1,           1,           1,           1,           1,\n",
      "                  1,           1,           1,           1,           1,           1,           1,           1,           1,           1,           1,           1,           1,           1,           1,           1,           1,           1,           1,           1,           1,           1,           1,\n",
      "                  1,           1,           1,           1,           1,           1,           1,           1,           1,           1,           1,           1,           1,           1,           1,           1,           1,           1,           1,           1,           1,           1,           1,\n",
      "                  1,           1,           1,           1,           1,           1,           1,           1,           1,           1,           1,           1,           1,           1,           1,           1,           1,           1,           1,           1,           1,           1,           1,\n",
      "                  1,           1,           1,           1,           1,           1,           1,           1,           1,           1,           1,           1,           1,           1,           1,           1,           1,           1,           1,           1,           1,           1,           1,\n",
      "                  1,           1,           1,           1,           1,           1,           1,           1,           1,           1,           1,           1,           1,           1,           1,           1,           1,           1,           1,           1,           1,           1,           1,\n",
      "                  1,           1,           1,           1,           1,           1,           1,           1,           1,           1,           1,           1,           1,           1,           1,           1,           1,           1,           1,           1,           1,           1,           1,\n",
      "                  1,           1,           1,           1,           1,           1,           1,           1,           1,           1,           1,           1,           1,           1,           1,           1,           1,           1,           1,           1,           1,           1,           1,\n",
      "                  1,           1,           1,           1,           1,           1,           1,           1,           1,           1,           1,           1,           1,           1,           1,           1,           1,           1,           1,           1,           1,           1,           1,\n",
      "                  1,           1,           1,           1,           1,           1,           1,           1,           1,           1,           1,           1,           1,           1,           1,           1,           1,           1,           1,           1,           1,           1,           1,\n",
      "                  1,           1,           1,           1,           1,           1,           1,           1,           1,           1,           1,           1,           1,           1,           1,           1,           1,           1,           1,           1,           1,           1,           1,\n",
      "                  1,           1,           1,           1,           1,           1,           1,           1,           1,           1,           1,           1,           1,           1,           1,           1,           1,           1,           1,           1,           1,           1,           1,\n",
      "                  1,           1,           1,           1,           1,           1,           1,           1,           1,           1,           1,           1,           1,           1,           1,           1,           1,           1,           1,           1,           1,           1,           1,\n",
      "                  1,           1,           1,           1,           1,           1,           1,           1,           1,           1,           1,           1,           1,           1,           1,           1,           1,           1,           1,           1,           1,           1,           1,\n",
      "                  1,           1,           1,           1,           1,           1,           1,           1,           1,           1,           1,           1,           1,           1,           1,           1,           1,           1,           1,           1,           1,           1,           1,\n",
      "                  1,           1,           1,           1,           1,           1,           1,           1,           1,           1,           1,           1,           1,           1,           1,           1,           1,           1,           1,           1,           1,           1,           1,\n",
      "                  1,           1,           1,           1,           1,           1,           1,           1,           1,           1,           1,           1,           1,           1,           1,           1,           1,           1,           1,           1,           1,           1,           1,\n",
      "                  1,           1,           1,           1,           1,           1,           1,           1,           1,           1,           1,           1,           1,           1,           1,           1,           1,           1,           1,           1,           1,           1,           1,\n",
      "                  1,           1,           1,           1,           1,           1,           1,           1,           1,           1,           1,           1,           1,           1,           1,           1,           1,           1,           1,           1,           1,           1,           1,\n",
      "                  1,           1,           1,           1,           1,           1,           1,           1,           1,           1,           1,           1,           1,           1,           1,           1,           1,           1,           1,           1,           1,           1,           1,\n",
      "                  1,           1,           1,           1,           1,           1,           1,           1,           1,           1,           1,           1,           1,           1,           1,           1,           1,           1,           1,           1,           1,           1,           1,\n",
      "                  1,           1,           1,           1,           1,           1,           1,           1,           1,           1,           1,           1,           1,           1,           1,           1,           1,           1,           1,           1,           1,           1,           1,\n",
      "                  1,           1,           1,           1,           1,           1,           1,           1,           1,           1,           1,           1,           1,           1,           1,           1,           1,           1,           1,           1,           1,           1,           1,\n",
      "                  1,           1,           1,           1,           1,           1,           1,           1,           1,           1,           1,           1,           1,           1,           1,           1,           1,           1,           1,           1,           1,           1,           1,\n",
      "                  1,           1,           1,           1,           1,           1,           1,           1,           1,           1,           1,           1,           1,           1,           1,           1,           1,           1,           1,           1,           1,           1,           1,\n",
      "                  1,           1,           1,           1,           1,           1,           1,           1,           1,           1,           1,           1,           1,           1,           1,           1,           1,           1,           1,           1,           1,           1,           1,\n",
      "                  1,           1,           1,           1,           1,           1,           1,           1,           1,           1,           1,           1,           1,           1,           1,           1,           1,           1,           1,           1,           1,           1,           1,\n",
      "                  1,           1,           1,           1,           1,           1,           1,           1,           1,           1,           1,           1,           1,           1,           1,           1,           1,           1,           1,           1,           1,           1,           1,\n",
      "                  1,           1,           1,           1,           1,           1,           1,           1,           1,           1,           1,           1,           1,           1,           1,           1,           1,           1,           1,           1,           1,           1,           1,\n",
      "                  1,           1,           1,           1,           1,           1,           1,           1,           1,           1,           1,           1,           1,           1,           1,           1,           1,           1,           1,           1,           1,           1,           1,\n",
      "                  1,           1,           1,           1,           1,           1,           1,           1,           1,           1,           1,           1,           1,           1,           1,           1,           1,           1,           1,           1,           1,           1,           1,\n",
      "                  1,           1,           1,           1,           1,           1,           1,           1,           1,           1,           1,           1,           1,           1,           1,           1,           1,           1,           1,           1,           1,           1,           1,\n",
      "                  1,           1,           1,           1,           1,           1,           1,           1,           1,           1,           1,           1,           1,           1,           1,           1,           1,           1,           1,           1,           1,           1,           1,\n",
      "                  1,           1,           1,           1,           1,           1,           1,           1,           1,           1,           1,           1,           1,           1,           1,           1,           1,           1,           1,           1,           1,           1,           1,\n",
      "                  1,           1,           1,           1,           1,           1,           1,           1,           1,           1,           1,           1,           1,           1,           1,           1,           1,           1,           1,           1,           1,           1,           1,\n",
      "                  1,           1,           1,           1,           1,           1,           1,           1,           1,           1,           1,           1,           1,           1,           1,           1,           1,           1,           1,           1,           1,           1,           1,\n",
      "                  1,           1,           1,           1,           1,           1,           1,           1,           1,           1,           1,           1,           1,           1,           1,           1,           1,           1,           1,           1,           1,           1,           1,\n",
      "                  1,           1,           1,           1,           1,           1,           1,           1,           1,           1,           1,           1,           1,           1,           1,           1,           1,           1,           1,           1,           1,           1,           1,\n",
      "                  1,           1,           1,           1,           1,           1,           1,           1,           1,           1,           1,           1,           1,           1,           1,           1,           1,           1,           1,           1,           1,           1,           1,\n",
      "                  1,           1,           1,           1,           1,           1,           1,           1,           1,           1,           1,           1,           1,           1,           1,           1,           1,           1,           1,           1,           1,           1,           1,\n",
      "                  1,           1,           1,           1,           1,           1,           1,           1,           1,           1,           1]]), 'Confidence', 'Precision'], [array([          0,    0.001001,    0.002002,    0.003003,    0.004004,    0.005005,    0.006006,    0.007007,    0.008008,    0.009009,     0.01001,    0.011011,    0.012012,    0.013013,    0.014014,    0.015015,    0.016016,    0.017017,    0.018018,    0.019019,     0.02002,    0.021021,    0.022022,    0.023023,\n",
      "          0.024024,    0.025025,    0.026026,    0.027027,    0.028028,    0.029029,     0.03003,    0.031031,    0.032032,    0.033033,    0.034034,    0.035035,    0.036036,    0.037037,    0.038038,    0.039039,     0.04004,    0.041041,    0.042042,    0.043043,    0.044044,    0.045045,    0.046046,    0.047047,\n",
      "          0.048048,    0.049049,     0.05005,    0.051051,    0.052052,    0.053053,    0.054054,    0.055055,    0.056056,    0.057057,    0.058058,    0.059059,     0.06006,    0.061061,    0.062062,    0.063063,    0.064064,    0.065065,    0.066066,    0.067067,    0.068068,    0.069069,     0.07007,    0.071071,\n",
      "          0.072072,    0.073073,    0.074074,    0.075075,    0.076076,    0.077077,    0.078078,    0.079079,     0.08008,    0.081081,    0.082082,    0.083083,    0.084084,    0.085085,    0.086086,    0.087087,    0.088088,    0.089089,     0.09009,    0.091091,    0.092092,    0.093093,    0.094094,    0.095095,\n",
      "          0.096096,    0.097097,    0.098098,    0.099099,      0.1001,      0.1011,      0.1021,      0.1031,      0.1041,     0.10511,     0.10611,     0.10711,     0.10811,     0.10911,     0.11011,     0.11111,     0.11211,     0.11311,     0.11411,     0.11512,     0.11612,     0.11712,     0.11812,     0.11912,\n",
      "           0.12012,     0.12112,     0.12212,     0.12312,     0.12412,     0.12513,     0.12613,     0.12713,     0.12813,     0.12913,     0.13013,     0.13113,     0.13213,     0.13313,     0.13413,     0.13514,     0.13614,     0.13714,     0.13814,     0.13914,     0.14014,     0.14114,     0.14214,     0.14314,\n",
      "           0.14414,     0.14515,     0.14615,     0.14715,     0.14815,     0.14915,     0.15015,     0.15115,     0.15215,     0.15315,     0.15415,     0.15516,     0.15616,     0.15716,     0.15816,     0.15916,     0.16016,     0.16116,     0.16216,     0.16316,     0.16416,     0.16517,     0.16617,     0.16717,\n",
      "           0.16817,     0.16917,     0.17017,     0.17117,     0.17217,     0.17317,     0.17417,     0.17518,     0.17618,     0.17718,     0.17818,     0.17918,     0.18018,     0.18118,     0.18218,     0.18318,     0.18418,     0.18519,     0.18619,     0.18719,     0.18819,     0.18919,     0.19019,     0.19119,\n",
      "           0.19219,     0.19319,     0.19419,      0.1952,      0.1962,      0.1972,      0.1982,      0.1992,      0.2002,      0.2012,      0.2022,      0.2032,      0.2042,     0.20521,     0.20621,     0.20721,     0.20821,     0.20921,     0.21021,     0.21121,     0.21221,     0.21321,     0.21421,     0.21522,\n",
      "           0.21622,     0.21722,     0.21822,     0.21922,     0.22022,     0.22122,     0.22222,     0.22322,     0.22422,     0.22523,     0.22623,     0.22723,     0.22823,     0.22923,     0.23023,     0.23123,     0.23223,     0.23323,     0.23423,     0.23524,     0.23624,     0.23724,     0.23824,     0.23924,\n",
      "           0.24024,     0.24124,     0.24224,     0.24324,     0.24424,     0.24525,     0.24625,     0.24725,     0.24825,     0.24925,     0.25025,     0.25125,     0.25225,     0.25325,     0.25425,     0.25526,     0.25626,     0.25726,     0.25826,     0.25926,     0.26026,     0.26126,     0.26226,     0.26326,\n",
      "           0.26426,     0.26527,     0.26627,     0.26727,     0.26827,     0.26927,     0.27027,     0.27127,     0.27227,     0.27327,     0.27427,     0.27528,     0.27628,     0.27728,     0.27828,     0.27928,     0.28028,     0.28128,     0.28228,     0.28328,     0.28428,     0.28529,     0.28629,     0.28729,\n",
      "           0.28829,     0.28929,     0.29029,     0.29129,     0.29229,     0.29329,     0.29429,      0.2953,      0.2963,      0.2973,      0.2983,      0.2993,      0.3003,      0.3013,      0.3023,      0.3033,      0.3043,     0.30531,     0.30631,     0.30731,     0.30831,     0.30931,     0.31031,     0.31131,\n",
      "           0.31231,     0.31331,     0.31431,     0.31532,     0.31632,     0.31732,     0.31832,     0.31932,     0.32032,     0.32132,     0.32232,     0.32332,     0.32432,     0.32533,     0.32633,     0.32733,     0.32833,     0.32933,     0.33033,     0.33133,     0.33233,     0.33333,     0.33433,     0.33534,\n",
      "           0.33634,     0.33734,     0.33834,     0.33934,     0.34034,     0.34134,     0.34234,     0.34334,     0.34434,     0.34535,     0.34635,     0.34735,     0.34835,     0.34935,     0.35035,     0.35135,     0.35235,     0.35335,     0.35435,     0.35536,     0.35636,     0.35736,     0.35836,     0.35936,\n",
      "           0.36036,     0.36136,     0.36236,     0.36336,     0.36436,     0.36537,     0.36637,     0.36737,     0.36837,     0.36937,     0.37037,     0.37137,     0.37237,     0.37337,     0.37437,     0.37538,     0.37638,     0.37738,     0.37838,     0.37938,     0.38038,     0.38138,     0.38238,     0.38338,\n",
      "           0.38438,     0.38539,     0.38639,     0.38739,     0.38839,     0.38939,     0.39039,     0.39139,     0.39239,     0.39339,     0.39439,      0.3954,      0.3964,      0.3974,      0.3984,      0.3994,      0.4004,      0.4014,      0.4024,      0.4034,      0.4044,     0.40541,     0.40641,     0.40741,\n",
      "           0.40841,     0.40941,     0.41041,     0.41141,     0.41241,     0.41341,     0.41441,     0.41542,     0.41642,     0.41742,     0.41842,     0.41942,     0.42042,     0.42142,     0.42242,     0.42342,     0.42442,     0.42543,     0.42643,     0.42743,     0.42843,     0.42943,     0.43043,     0.43143,\n",
      "           0.43243,     0.43343,     0.43443,     0.43544,     0.43644,     0.43744,     0.43844,     0.43944,     0.44044,     0.44144,     0.44244,     0.44344,     0.44444,     0.44545,     0.44645,     0.44745,     0.44845,     0.44945,     0.45045,     0.45145,     0.45245,     0.45345,     0.45445,     0.45546,\n",
      "           0.45646,     0.45746,     0.45846,     0.45946,     0.46046,     0.46146,     0.46246,     0.46346,     0.46446,     0.46547,     0.46647,     0.46747,     0.46847,     0.46947,     0.47047,     0.47147,     0.47247,     0.47347,     0.47447,     0.47548,     0.47648,     0.47748,     0.47848,     0.47948,\n",
      "           0.48048,     0.48148,     0.48248,     0.48348,     0.48448,     0.48549,     0.48649,     0.48749,     0.48849,     0.48949,     0.49049,     0.49149,     0.49249,     0.49349,     0.49449,      0.4955,      0.4965,      0.4975,      0.4985,      0.4995,      0.5005,      0.5015,      0.5025,      0.5035,\n",
      "            0.5045,     0.50551,     0.50651,     0.50751,     0.50851,     0.50951,     0.51051,     0.51151,     0.51251,     0.51351,     0.51451,     0.51552,     0.51652,     0.51752,     0.51852,     0.51952,     0.52052,     0.52152,     0.52252,     0.52352,     0.52452,     0.52553,     0.52653,     0.52753,\n",
      "           0.52853,     0.52953,     0.53053,     0.53153,     0.53253,     0.53353,     0.53453,     0.53554,     0.53654,     0.53754,     0.53854,     0.53954,     0.54054,     0.54154,     0.54254,     0.54354,     0.54454,     0.54555,     0.54655,     0.54755,     0.54855,     0.54955,     0.55055,     0.55155,\n",
      "           0.55255,     0.55355,     0.55455,     0.55556,     0.55656,     0.55756,     0.55856,     0.55956,     0.56056,     0.56156,     0.56256,     0.56356,     0.56456,     0.56557,     0.56657,     0.56757,     0.56857,     0.56957,     0.57057,     0.57157,     0.57257,     0.57357,     0.57457,     0.57558,\n",
      "           0.57658,     0.57758,     0.57858,     0.57958,     0.58058,     0.58158,     0.58258,     0.58358,     0.58458,     0.58559,     0.58659,     0.58759,     0.58859,     0.58959,     0.59059,     0.59159,     0.59259,     0.59359,     0.59459,      0.5956,      0.5966,      0.5976,      0.5986,      0.5996,\n",
      "            0.6006,      0.6016,      0.6026,      0.6036,      0.6046,     0.60561,     0.60661,     0.60761,     0.60861,     0.60961,     0.61061,     0.61161,     0.61261,     0.61361,     0.61461,     0.61562,     0.61662,     0.61762,     0.61862,     0.61962,     0.62062,     0.62162,     0.62262,     0.62362,\n",
      "           0.62462,     0.62563,     0.62663,     0.62763,     0.62863,     0.62963,     0.63063,     0.63163,     0.63263,     0.63363,     0.63463,     0.63564,     0.63664,     0.63764,     0.63864,     0.63964,     0.64064,     0.64164,     0.64264,     0.64364,     0.64464,     0.64565,     0.64665,     0.64765,\n",
      "           0.64865,     0.64965,     0.65065,     0.65165,     0.65265,     0.65365,     0.65465,     0.65566,     0.65666,     0.65766,     0.65866,     0.65966,     0.66066,     0.66166,     0.66266,     0.66366,     0.66466,     0.66567,     0.66667,     0.66767,     0.66867,     0.66967,     0.67067,     0.67167,\n",
      "           0.67267,     0.67367,     0.67467,     0.67568,     0.67668,     0.67768,     0.67868,     0.67968,     0.68068,     0.68168,     0.68268,     0.68368,     0.68468,     0.68569,     0.68669,     0.68769,     0.68869,     0.68969,     0.69069,     0.69169,     0.69269,     0.69369,     0.69469,      0.6957,\n",
      "            0.6967,      0.6977,      0.6987,      0.6997,      0.7007,      0.7017,      0.7027,      0.7037,      0.7047,     0.70571,     0.70671,     0.70771,     0.70871,     0.70971,     0.71071,     0.71171,     0.71271,     0.71371,     0.71471,     0.71572,     0.71672,     0.71772,     0.71872,     0.71972,\n",
      "           0.72072,     0.72172,     0.72272,     0.72372,     0.72472,     0.72573,     0.72673,     0.72773,     0.72873,     0.72973,     0.73073,     0.73173,     0.73273,     0.73373,     0.73473,     0.73574,     0.73674,     0.73774,     0.73874,     0.73974,     0.74074,     0.74174,     0.74274,     0.74374,\n",
      "           0.74474,     0.74575,     0.74675,     0.74775,     0.74875,     0.74975,     0.75075,     0.75175,     0.75275,     0.75375,     0.75475,     0.75576,     0.75676,     0.75776,     0.75876,     0.75976,     0.76076,     0.76176,     0.76276,     0.76376,     0.76476,     0.76577,     0.76677,     0.76777,\n",
      "           0.76877,     0.76977,     0.77077,     0.77177,     0.77277,     0.77377,     0.77477,     0.77578,     0.77678,     0.77778,     0.77878,     0.77978,     0.78078,     0.78178,     0.78278,     0.78378,     0.78478,     0.78579,     0.78679,     0.78779,     0.78879,     0.78979,     0.79079,     0.79179,\n",
      "           0.79279,     0.79379,     0.79479,      0.7958,      0.7968,      0.7978,      0.7988,      0.7998,      0.8008,      0.8018,      0.8028,      0.8038,      0.8048,     0.80581,     0.80681,     0.80781,     0.80881,     0.80981,     0.81081,     0.81181,     0.81281,     0.81381,     0.81481,     0.81582,\n",
      "           0.81682,     0.81782,     0.81882,     0.81982,     0.82082,     0.82182,     0.82282,     0.82382,     0.82482,     0.82583,     0.82683,     0.82783,     0.82883,     0.82983,     0.83083,     0.83183,     0.83283,     0.83383,     0.83483,     0.83584,     0.83684,     0.83784,     0.83884,     0.83984,\n",
      "           0.84084,     0.84184,     0.84284,     0.84384,     0.84484,     0.84585,     0.84685,     0.84785,     0.84885,     0.84985,     0.85085,     0.85185,     0.85285,     0.85385,     0.85485,     0.85586,     0.85686,     0.85786,     0.85886,     0.85986,     0.86086,     0.86186,     0.86286,     0.86386,\n",
      "           0.86486,     0.86587,     0.86687,     0.86787,     0.86887,     0.86987,     0.87087,     0.87187,     0.87287,     0.87387,     0.87487,     0.87588,     0.87688,     0.87788,     0.87888,     0.87988,     0.88088,     0.88188,     0.88288,     0.88388,     0.88488,     0.88589,     0.88689,     0.88789,\n",
      "           0.88889,     0.88989,     0.89089,     0.89189,     0.89289,     0.89389,     0.89489,      0.8959,      0.8969,      0.8979,      0.8989,      0.8999,      0.9009,      0.9019,      0.9029,      0.9039,      0.9049,     0.90591,     0.90691,     0.90791,     0.90891,     0.90991,     0.91091,     0.91191,\n",
      "           0.91291,     0.91391,     0.91491,     0.91592,     0.91692,     0.91792,     0.91892,     0.91992,     0.92092,     0.92192,     0.92292,     0.92392,     0.92492,     0.92593,     0.92693,     0.92793,     0.92893,     0.92993,     0.93093,     0.93193,     0.93293,     0.93393,     0.93493,     0.93594,\n",
      "           0.93694,     0.93794,     0.93894,     0.93994,     0.94094,     0.94194,     0.94294,     0.94394,     0.94494,     0.94595,     0.94695,     0.94795,     0.94895,     0.94995,     0.95095,     0.95195,     0.95295,     0.95395,     0.95495,     0.95596,     0.95696,     0.95796,     0.95896,     0.95996,\n",
      "           0.96096,     0.96196,     0.96296,     0.96396,     0.96496,     0.96597,     0.96697,     0.96797,     0.96897,     0.96997,     0.97097,     0.97197,     0.97297,     0.97397,     0.97497,     0.97598,     0.97698,     0.97798,     0.97898,     0.97998,     0.98098,     0.98198,     0.98298,     0.98398,\n",
      "           0.98498,     0.98599,     0.98699,     0.98799,     0.98899,     0.98999,     0.99099,     0.99199,     0.99299,     0.99399,     0.99499,       0.996,       0.997,       0.998,       0.999,           1]), array([[        0.9,         0.9,         0.9,         0.9,     0.19174,      0.1801,     0.16847,     0.15683,      0.1452,     0.13356,     0.12192,     0.11029,         0.1,           0,           0,           0,           0,           0,           0,           0,           0,           0,           0,\n",
      "                  0,           0,           0,           0,           0,           0,           0,           0,           0,           0,           0,           0,           0,           0,           0,           0,           0,           0,           0,           0,           0,           0,           0,\n",
      "                  0,           0,           0,           0,           0,           0,           0,           0,           0,           0,           0,           0,           0,           0,           0,           0,           0,           0,           0,           0,           0,           0,           0,\n",
      "                  0,           0,           0,           0,           0,           0,           0,           0,           0,           0,           0,           0,           0,           0,           0,           0,           0,           0,           0,           0,           0,           0,           0,\n",
      "                  0,           0,           0,           0,           0,           0,           0,           0,           0,           0,           0,           0,           0,           0,           0,           0,           0,           0,           0,           0,           0,           0,           0,\n",
      "                  0,           0,           0,           0,           0,           0,           0,           0,           0,           0,           0,           0,           0,           0,           0,           0,           0,           0,           0,           0,           0,           0,           0,\n",
      "                  0,           0,           0,           0,           0,           0,           0,           0,           0,           0,           0,           0,           0,           0,           0,           0,           0,           0,           0,           0,           0,           0,           0,\n",
      "                  0,           0,           0,           0,           0,           0,           0,           0,           0,           0,           0,           0,           0,           0,           0,           0,           0,           0,           0,           0,           0,           0,           0,\n",
      "                  0,           0,           0,           0,           0,           0,           0,           0,           0,           0,           0,           0,           0,           0,           0,           0,           0,           0,           0,           0,           0,           0,           0,\n",
      "                  0,           0,           0,           0,           0,           0,           0,           0,           0,           0,           0,           0,           0,           0,           0,           0,           0,           0,           0,           0,           0,           0,           0,\n",
      "                  0,           0,           0,           0,           0,           0,           0,           0,           0,           0,           0,           0,           0,           0,           0,           0,           0,           0,           0,           0,           0,           0,           0,\n",
      "                  0,           0,           0,           0,           0,           0,           0,           0,           0,           0,           0,           0,           0,           0,           0,           0,           0,           0,           0,           0,           0,           0,           0,\n",
      "                  0,           0,           0,           0,           0,           0,           0,           0,           0,           0,           0,           0,           0,           0,           0,           0,           0,           0,           0,           0,           0,           0,           0,\n",
      "                  0,           0,           0,           0,           0,           0,           0,           0,           0,           0,           0,           0,           0,           0,           0,           0,           0,           0,           0,           0,           0,           0,           0,\n",
      "                  0,           0,           0,           0,           0,           0,           0,           0,           0,           0,           0,           0,           0,           0,           0,           0,           0,           0,           0,           0,           0,           0,           0,\n",
      "                  0,           0,           0,           0,           0,           0,           0,           0,           0,           0,           0,           0,           0,           0,           0,           0,           0,           0,           0,           0,           0,           0,           0,\n",
      "                  0,           0,           0,           0,           0,           0,           0,           0,           0,           0,           0,           0,           0,           0,           0,           0,           0,           0,           0,           0,           0,           0,           0,\n",
      "                  0,           0,           0,           0,           0,           0,           0,           0,           0,           0,           0,           0,           0,           0,           0,           0,           0,           0,           0,           0,           0,           0,           0,\n",
      "                  0,           0,           0,           0,           0,           0,           0,           0,           0,           0,           0,           0,           0,           0,           0,           0,           0,           0,           0,           0,           0,           0,           0,\n",
      "                  0,           0,           0,           0,           0,           0,           0,           0,           0,           0,           0,           0,           0,           0,           0,           0,           0,           0,           0,           0,           0,           0,           0,\n",
      "                  0,           0,           0,           0,           0,           0,           0,           0,           0,           0,           0,           0,           0,           0,           0,           0,           0,           0,           0,           0,           0,           0,           0,\n",
      "                  0,           0,           0,           0,           0,           0,           0,           0,           0,           0,           0,           0,           0,           0,           0,           0,           0,           0,           0,           0,           0,           0,           0,\n",
      "                  0,           0,           0,           0,           0,           0,           0,           0,           0,           0,           0,           0,           0,           0,           0,           0,           0,           0,           0,           0,           0,           0,           0,\n",
      "                  0,           0,           0,           0,           0,           0,           0,           0,           0,           0,           0,           0,           0,           0,           0,           0,           0,           0,           0,           0,           0,           0,           0,\n",
      "                  0,           0,           0,           0,           0,           0,           0,           0,           0,           0,           0,           0,           0,           0,           0,           0,           0,           0,           0,           0,           0,           0,           0,\n",
      "                  0,           0,           0,           0,           0,           0,           0,           0,           0,           0,           0,           0,           0,           0,           0,           0,           0,           0,           0,           0,           0,           0,           0,\n",
      "                  0,           0,           0,           0,           0,           0,           0,           0,           0,           0,           0,           0,           0,           0,           0,           0,           0,           0,           0,           0,           0,           0,           0,\n",
      "                  0,           0,           0,           0,           0,           0,           0,           0,           0,           0,           0,           0,           0,           0,           0,           0,           0,           0,           0,           0,           0,           0,           0,\n",
      "                  0,           0,           0,           0,           0,           0,           0,           0,           0,           0,           0,           0,           0,           0,           0,           0,           0,           0,           0,           0,           0,           0,           0,\n",
      "                  0,           0,           0,           0,           0,           0,           0,           0,           0,           0,           0,           0,           0,           0,           0,           0,           0,           0,           0,           0,           0,           0,           0,\n",
      "                  0,           0,           0,           0,           0,           0,           0,           0,           0,           0,           0,           0,           0,           0,           0,           0,           0,           0,           0,           0,           0,           0,           0,\n",
      "                  0,           0,           0,           0,           0,           0,           0,           0,           0,           0,           0,           0,           0,           0,           0,           0,           0,           0,           0,           0,           0,           0,           0,\n",
      "                  0,           0,           0,           0,           0,           0,           0,           0,           0,           0,           0,           0,           0,           0,           0,           0,           0,           0,           0,           0,           0,           0,           0,\n",
      "                  0,           0,           0,           0,           0,           0,           0,           0,           0,           0,           0,           0,           0,           0,           0,           0,           0,           0,           0,           0,           0,           0,           0,\n",
      "                  0,           0,           0,           0,           0,           0,           0,           0,           0,           0,           0,           0,           0,           0,           0,           0,           0,           0,           0,           0,           0,           0,           0,\n",
      "                  0,           0,           0,           0,           0,           0,           0,           0,           0,           0,           0,           0,           0,           0,           0,           0,           0,           0,           0,           0,           0,           0,           0,\n",
      "                  0,           0,           0,           0,           0,           0,           0,           0,           0,           0,           0,           0,           0,           0,           0,           0,           0,           0,           0,           0,           0,           0,           0,\n",
      "                  0,           0,           0,           0,           0,           0,           0,           0,           0,           0,           0,           0,           0,           0,           0,           0,           0,           0,           0,           0,           0,           0,           0,\n",
      "                  0,           0,           0,           0,           0,           0,           0,           0,           0,           0,           0,           0,           0,           0,           0,           0,           0,           0,           0,           0,           0,           0,           0,\n",
      "                  0,           0,           0,           0,           0,           0,           0,           0,           0,           0,           0,           0,           0,           0,           0,           0,           0,           0,           0,           0,           0,           0,           0,\n",
      "                  0,           0,           0,           0,           0,           0,           0,           0,           0,           0,           0,           0,           0,           0,           0,           0,           0,           0,           0,           0,           0,           0,           0,\n",
      "                  0,           0,           0,           0,           0,           0,           0,           0,           0,           0,           0,           0,           0,           0,           0,           0,           0,           0,           0,           0,           0,           0,           0,\n",
      "                  0,           0,           0,           0,           0,           0,           0,           0,           0,           0,           0,           0,           0,           0,           0,           0,           0,           0,           0,           0,           0,           0,           0,\n",
      "                  0,           0,           0,           0,           0,           0,           0,           0,           0,           0,           0]]), 'Confidence', 'Recall']]\n",
      "fitness: np.float64(0.0013747983621885094)\n",
      "keys: ['metrics/precision(B)', 'metrics/recall(B)', 'metrics/mAP50(B)', 'metrics/mAP50-95(B)']\n",
      "maps: array([  0.0011326])\n",
      "names: {0: 'runway'}\n",
      "plot: True\n",
      "results_dict: {'metrics/precision(B)': np.float64(0.003), 'metrics/recall(B)': np.float64(0.9), 'metrics/mAP50(B)': np.float64(0.003554462422070026), 'metrics/mAP50-95(B)': np.float64(0.0011326134666461186), 'fitness': np.float64(0.0013747983621885094)}\n",
      "save_dir: WindowsPath('runs/detect/train162')\n",
      "speed: {'preprocess': 1.4017581939697266, 'inference': 40.26968479156494, 'loss': 0.0, 'postprocess': 3.4152746200561523}\n",
      "task: 'detect'\n",
      "\n",
      "image 1/1 C:\\Users\\Annabelle\\Desktop\\runway-bounding-box-detection NEW\\test_image.jpeg: 640x608 (no detections), 42.6ms\n",
      "Speed: 3.0ms preprocess, 42.6ms inference, 1.0ms postprocess per image at shape (1, 3, 640, 608)\n",
      "Training, evaluation, and testing complete!\n"
     ]
    }
   ],
   "source": [
    "# Evaluate the model\n",
    "metrics = model.val()\n",
    "print(\"Evaluation metrics:\", metrics)\n",
    "\n",
    "# Save the trained model\n",
    "model.save('yolov8_runway_detector.pt')\n",
    "\n",
    "# Test the model on a sample image (Optional)\n",
    "test_image = r'C:\\Users\\Annabelle\\Desktop\\runway-bounding-box-detection NEW\\test_image.jpeg' \n",
    "results = model.predict(source=test_image)\n",
    "for r in results:\n",
    "    r.show()\n",
    "print(\"Training, evaluation, and testing complete!\")"
   ]
  }
 ],
 "metadata": {
  "kernelspec": {
   "display_name": "venv",
   "language": "python",
   "name": "python3"
  },
  "language_info": {
   "codemirror_mode": {
    "name": "ipython",
    "version": 3
   },
   "file_extension": ".py",
   "mimetype": "text/x-python",
   "name": "python",
   "nbconvert_exporter": "python",
   "pygments_lexer": "ipython3",
   "version": "3.11.9"
  }
 },
 "nbformat": 4,
 "nbformat_minor": 2
}
