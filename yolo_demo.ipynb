{
 "cells": [
  {
   "cell_type": "markdown",
   "metadata": {},
   "source": [
    "Import necesary libraries "
   ]
  },
  {
   "cell_type": "code",
   "execution_count": 67,
   "metadata": {},
   "outputs": [],
   "source": [
    "import os\n",
    "import pandas as pd\n",
    "import cv2\n",
    "import random\n",
    "from ultralytics import YOLO\n"
   ]
  },
  {
   "cell_type": "markdown",
   "metadata": {},
   "source": [
    "Data Preperation "
   ]
  },
  {
   "cell_type": "markdown",
   "metadata": {},
   "source": [
    "only using the LARD_Train_Birk_LFST folder of data, since the data set is so large and will take to long to run. I will be dividing that data set into training, validation and test data"
   ]
  },
  {
   "cell_type": "code",
   "execution_count": 68,
   "metadata": {},
   "outputs": [],
   "source": [
    "# Specify the training folder to use\n",
    "root_folder = r'C:\\Users\\Annabelle\\Desktop\\runway-bounding-box-detection NEW'\n",
    "train_folder = 'LARD_train_BIRK_LFST'"
   ]
  },
  {
   "cell_type": "code",
   "execution_count": 69,
   "metadata": {},
   "outputs": [],
   "source": [
    "# Paths for images, metadata, and output\n",
    "folder_path = os.path.join(root_folder, train_folder) #path to folder 'LARD_train_BIRK_LFST'\n",
    "image_folder = os.path.join(folder_path, 'images') #path to images sub-folder in 'LARD_train_BIRK_LFST'\n",
    "csv_path = os.path.join(folder_path, 'LARD_train_BIRK_LFST.csv')  # path to CSV file\n",
    "output_folder = 'dataset_demo' #new folder for the sample of train & val images and labels taking for this\n",
    "subset_size = 20  # Number of images to sample for train/val. doing small ammount to speed up demo/training time "
   ]
  },
  {
   "cell_type": "code",
   "execution_count": 70,
   "metadata": {},
   "outputs": [
    {
     "name": "stdout",
     "output_type": "stream",
     "text": [
      "Images found in the folder:\n",
      "['BIRK_01_500_000.jpeg', 'BIRK_01_500_001.jpeg', 'BIRK_01_500_002.jpeg', 'BIRK_01_500_003.jpeg', 'BIRK_01_500_004.jpeg', 'BIRK_01_500_005.jpeg', 'BIRK_01_500_006.jpeg', 'BIRK_01_500_007.jpeg', 'BIRK_01_500_008.jpeg', 'BIRK_01_500_009.jpeg', 'BIRK_01_500_010.jpeg', 'BIRK_01_500_011.jpeg', 'BIRK_01_500_012.jpeg', 'BIRK_01_500_013.jpeg', 'BIRK_01_500_014.jpeg', 'BIRK_01_500_015.jpeg', 'BIRK_01_500_016.jpeg', 'BIRK_01_500_017.jpeg', 'BIRK_01_500_018.jpeg', 'BIRK_01_500_019.jpeg', 'BIRK_01_500_020.jpeg', 'BIRK_01_500_021.jpeg', 'BIRK_01_500_022.jpeg', 'BIRK_01_500_023.jpeg', 'BIRK_01_500_024.jpeg', 'BIRK_01_500_025.jpeg', 'BIRK_01_500_026.jpeg', 'BIRK_01_500_027.jpeg', 'BIRK_01_500_028.jpeg', 'BIRK_01_500_029.jpeg', 'BIRK_01_500_030.jpeg', 'BIRK_01_500_031.jpeg', 'BIRK_01_500_032.jpeg', 'BIRK_01_500_033.jpeg', 'BIRK_01_500_034.jpeg', 'BIRK_01_500_035.jpeg', 'BIRK_01_500_036.jpeg', 'BIRK_01_500_037.jpeg', 'BIRK_01_500_038.jpeg', 'BIRK_01_500_039.jpeg', 'BIRK_01_500_040.jpeg', 'BIRK_01_500_041.jpeg', 'BIRK_01_500_042.jpeg', 'BIRK_01_500_043.jpeg', 'BIRK_01_500_044.jpeg', 'BIRK_01_500_045.jpeg', 'BIRK_01_500_046.jpeg', 'BIRK_01_500_047.jpeg', 'BIRK_01_500_048.jpeg', 'BIRK_01_500_049.jpeg', 'BIRK_01_500_050.jpeg', 'BIRK_01_500_051.jpeg', 'BIRK_01_500_052.jpeg', 'BIRK_01_500_053.jpeg', 'BIRK_01_500_054.jpeg', 'BIRK_01_500_055.jpeg', 'BIRK_01_500_056.jpeg', 'BIRK_01_500_057.jpeg', 'BIRK_01_500_058.jpeg', 'BIRK_01_500_059.jpeg', 'BIRK_01_500_060.jpeg', 'BIRK_01_500_061.jpeg', 'BIRK_01_500_062.jpeg', 'BIRK_01_500_063.jpeg', 'BIRK_01_500_064.jpeg', 'BIRK_01_500_065.jpeg', 'BIRK_01_500_066.jpeg', 'BIRK_01_500_067.jpeg', 'BIRK_01_500_068.jpeg', 'BIRK_01_500_069.jpeg', 'BIRK_01_500_070.jpeg', 'BIRK_01_500_071.jpeg', 'BIRK_01_500_072.jpeg', 'BIRK_01_500_073.jpeg', 'BIRK_01_500_074.jpeg', 'BIRK_01_500_075.jpeg', 'BIRK_01_500_076.jpeg', 'BIRK_01_500_077.jpeg', 'BIRK_01_500_078.jpeg', 'BIRK_01_500_079.jpeg', 'BIRK_01_500_080.jpeg', 'BIRK_01_500_081.jpeg', 'BIRK_01_500_082.jpeg', 'BIRK_01_500_083.jpeg', 'BIRK_01_500_084.jpeg', 'BIRK_01_500_085.jpeg', 'BIRK_01_500_086.jpeg', 'BIRK_01_500_087.jpeg', 'BIRK_01_500_088.jpeg', 'BIRK_01_500_089.jpeg', 'BIRK_01_500_090.jpeg', 'BIRK_01_500_091.jpeg', 'BIRK_01_500_092.jpeg', 'BIRK_01_500_093.jpeg', 'BIRK_01_500_094.jpeg', 'BIRK_01_500_095.jpeg', 'BIRK_01_500_096.jpeg', 'BIRK_01_500_097.jpeg', 'BIRK_01_500_098.jpeg', 'BIRK_01_500_099.jpeg', 'BIRK_01_500_100.jpeg', 'BIRK_01_500_101.jpeg', 'BIRK_01_500_102.jpeg', 'BIRK_01_500_103.jpeg', 'BIRK_01_500_104.jpeg', 'BIRK_01_500_105.jpeg', 'BIRK_01_500_106.jpeg', 'BIRK_01_500_107.jpeg', 'BIRK_01_500_108.jpeg', 'BIRK_01_500_109.jpeg', 'BIRK_01_500_110.jpeg', 'BIRK_01_500_111.jpeg', 'BIRK_01_500_112.jpeg', 'BIRK_01_500_113.jpeg', 'BIRK_01_500_114.jpeg', 'BIRK_01_500_115.jpeg', 'BIRK_01_500_116.jpeg', 'BIRK_01_500_117.jpeg', 'BIRK_01_500_118.jpeg', 'BIRK_01_500_119.jpeg', 'BIRK_01_500_120.jpeg', 'BIRK_01_500_121.jpeg', 'BIRK_01_500_122.jpeg', 'BIRK_01_500_123.jpeg', 'BIRK_01_500_124.jpeg', 'BIRK_01_500_125.jpeg', 'BIRK_01_500_126.jpeg', 'BIRK_01_500_127.jpeg', 'BIRK_01_500_128.jpeg', 'BIRK_01_500_129.jpeg', 'BIRK_01_500_130.jpeg', 'BIRK_01_500_131.jpeg', 'BIRK_01_500_132.jpeg', 'BIRK_01_500_133.jpeg', 'BIRK_01_500_134.jpeg', 'BIRK_01_500_135.jpeg', 'BIRK_01_500_136.jpeg', 'BIRK_01_500_137.jpeg', 'BIRK_01_500_138.jpeg', 'BIRK_01_500_139.jpeg', 'BIRK_01_500_140.jpeg', 'BIRK_01_500_141.jpeg', 'BIRK_01_500_142.jpeg', 'BIRK_01_500_143.jpeg', 'BIRK_01_500_144.jpeg', 'BIRK_01_500_145.jpeg', 'BIRK_01_500_146.jpeg', 'BIRK_01_500_147.jpeg', 'BIRK_01_500_148.jpeg', 'BIRK_01_500_149.jpeg', 'BIRK_01_500_150.jpeg', 'BIRK_01_500_151.jpeg', 'BIRK_01_500_152.jpeg', 'BIRK_01_500_153.jpeg', 'BIRK_01_500_154.jpeg', 'BIRK_01_500_155.jpeg', 'BIRK_01_500_156.jpeg', 'BIRK_01_500_157.jpeg', 'BIRK_01_500_158.jpeg', 'BIRK_01_500_159.jpeg', 'BIRK_01_500_160.jpeg', 'BIRK_01_500_161.jpeg', 'BIRK_01_500_162.jpeg', 'BIRK_01_500_163.jpeg', 'BIRK_01_500_164.jpeg', 'BIRK_01_500_165.jpeg', 'BIRK_01_500_166.jpeg', 'BIRK_01_500_167.jpeg', 'BIRK_01_500_168.jpeg', 'BIRK_01_500_169.jpeg', 'BIRK_01_500_170.jpeg', 'BIRK_01_500_171.jpeg', 'BIRK_01_500_172.jpeg', 'BIRK_01_500_173.jpeg', 'BIRK_01_500_174.jpeg', 'BIRK_01_500_175.jpeg', 'BIRK_01_500_176.jpeg', 'BIRK_01_500_177.jpeg', 'BIRK_01_500_178.jpeg', 'BIRK_01_500_179.jpeg', 'BIRK_01_500_180.jpeg', 'BIRK_01_500_181.jpeg', 'BIRK_01_500_182.jpeg', 'BIRK_01_500_183.jpeg', 'BIRK_01_500_184.jpeg', 'BIRK_01_500_185.jpeg', 'BIRK_01_500_186.jpeg', 'BIRK_01_500_187.jpeg', 'BIRK_01_500_188.jpeg', 'BIRK_01_500_189.jpeg', 'BIRK_01_500_190.jpeg', 'BIRK_01_500_191.jpeg', 'BIRK_01_500_192.jpeg', 'BIRK_01_500_193.jpeg', 'BIRK_01_500_194.jpeg', 'BIRK_01_500_195.jpeg', 'BIRK_01_500_196.jpeg', 'BIRK_01_500_197.jpeg', 'BIRK_01_500_198.jpeg', 'BIRK_01_500_199.jpeg', 'BIRK_01_500_200.jpeg', 'BIRK_01_500_201.jpeg', 'BIRK_01_500_202.jpeg', 'BIRK_01_500_203.jpeg', 'BIRK_01_500_204.jpeg', 'BIRK_01_500_205.jpeg', 'BIRK_01_500_206.jpeg', 'BIRK_01_500_207.jpeg', 'BIRK_01_500_208.jpeg', 'BIRK_01_500_209.jpeg', 'BIRK_01_500_210.jpeg', 'BIRK_01_500_211.jpeg', 'BIRK_01_500_212.jpeg', 'BIRK_01_500_213.jpeg', 'BIRK_01_500_214.jpeg', 'BIRK_01_500_215.jpeg', 'BIRK_01_500_216.jpeg', 'BIRK_01_500_217.jpeg', 'BIRK_01_500_218.jpeg', 'BIRK_01_500_219.jpeg', 'BIRK_01_500_220.jpeg', 'BIRK_01_500_221.jpeg', 'BIRK_01_500_222.jpeg', 'BIRK_01_500_223.jpeg', 'BIRK_01_500_224.jpeg', 'BIRK_01_500_225.jpeg', 'BIRK_01_500_226.jpeg', 'BIRK_01_500_227.jpeg', 'BIRK_01_500_228.jpeg', 'BIRK_01_500_229.jpeg', 'BIRK_01_500_230.jpeg', 'BIRK_01_500_231.jpeg', 'BIRK_01_500_232.jpeg', 'BIRK_01_500_233.jpeg', 'BIRK_01_500_234.jpeg', 'BIRK_01_500_235.jpeg', 'BIRK_01_500_236.jpeg', 'BIRK_01_500_237.jpeg', 'BIRK_01_500_238.jpeg', 'BIRK_01_500_239.jpeg', 'BIRK_01_500_240.jpeg', 'BIRK_01_500_241.jpeg', 'BIRK_01_500_242.jpeg', 'BIRK_01_500_243.jpeg', 'BIRK_01_500_244.jpeg', 'BIRK_01_500_245.jpeg', 'BIRK_01_500_246.jpeg', 'BIRK_01_500_247.jpeg', 'BIRK_01_500_248.jpeg', 'BIRK_01_500_249.jpeg', 'BIRK_01_500_250.jpeg', 'BIRK_01_500_251.jpeg', 'BIRK_01_500_252.jpeg', 'BIRK_01_500_253.jpeg', 'BIRK_01_500_254.jpeg', 'BIRK_01_500_255.jpeg', 'BIRK_01_500_256.jpeg', 'BIRK_01_500_257.jpeg', 'BIRK_01_500_258.jpeg', 'BIRK_01_500_259.jpeg', 'BIRK_01_500_260.jpeg', 'BIRK_01_500_261.jpeg', 'BIRK_01_500_262.jpeg', 'BIRK_01_500_263.jpeg', 'BIRK_01_500_264.jpeg', 'BIRK_01_500_265.jpeg', 'BIRK_01_500_266.jpeg', 'BIRK_01_500_267.jpeg', 'BIRK_01_500_268.jpeg', 'BIRK_01_500_269.jpeg', 'BIRK_01_500_270.jpeg', 'BIRK_01_500_271.jpeg', 'BIRK_01_500_272.jpeg', 'BIRK_01_500_273.jpeg', 'BIRK_01_500_274.jpeg', 'BIRK_01_500_275.jpeg', 'BIRK_01_500_276.jpeg', 'BIRK_01_500_277.jpeg', 'BIRK_01_500_278.jpeg', 'BIRK_01_500_279.jpeg', 'BIRK_01_500_280.jpeg', 'BIRK_01_500_281.jpeg', 'BIRK_01_500_282.jpeg', 'BIRK_01_500_283.jpeg', 'BIRK_01_500_284.jpeg', 'BIRK_01_500_285.jpeg', 'BIRK_01_500_286.jpeg', 'BIRK_01_500_287.jpeg', 'BIRK_01_500_288.jpeg', 'BIRK_01_500_289.jpeg', 'BIRK_01_500_290.jpeg', 'BIRK_01_500_291.jpeg', 'BIRK_01_500_292.jpeg', 'BIRK_01_500_293.jpeg', 'BIRK_01_500_294.jpeg', 'BIRK_01_500_295.jpeg', 'BIRK_01_500_296.jpeg', 'BIRK_01_500_297.jpeg', 'BIRK_01_500_298.jpeg', 'BIRK_01_500_299.jpeg', 'BIRK_01_500_300.jpeg', 'BIRK_01_500_301.jpeg', 'BIRK_01_500_302.jpeg', 'BIRK_01_500_303.jpeg', 'BIRK_01_500_304.jpeg', 'BIRK_01_500_305.jpeg', 'BIRK_01_500_306.jpeg', 'BIRK_01_500_307.jpeg', 'BIRK_01_500_308.jpeg', 'BIRK_01_500_309.jpeg', 'BIRK_01_500_310.jpeg', 'BIRK_01_500_311.jpeg', 'BIRK_01_500_312.jpeg', 'BIRK_01_500_313.jpeg', 'BIRK_01_500_314.jpeg', 'BIRK_01_500_315.jpeg', 'BIRK_01_500_316.jpeg', 'BIRK_01_500_317.jpeg', 'BIRK_01_500_318.jpeg', 'BIRK_01_500_319.jpeg', 'BIRK_01_500_320.jpeg', 'BIRK_01_500_321.jpeg', 'BIRK_01_500_322.jpeg', 'BIRK_01_500_323.jpeg', 'BIRK_01_500_324.jpeg', 'BIRK_01_500_325.jpeg', 'BIRK_01_500_326.jpeg', 'BIRK_01_500_327.jpeg', 'BIRK_01_500_328.jpeg', 'BIRK_01_500_329.jpeg', 'BIRK_01_500_330.jpeg', 'BIRK_01_500_331.jpeg', 'BIRK_01_500_332.jpeg', 'BIRK_01_500_333.jpeg', 'BIRK_01_500_334.jpeg', 'BIRK_01_500_335.jpeg', 'BIRK_01_500_336.jpeg', 'BIRK_01_500_337.jpeg', 'BIRK_01_500_338.jpeg', 'BIRK_01_500_339.jpeg', 'BIRK_01_500_340.jpeg', 'BIRK_01_500_341.jpeg', 'BIRK_01_500_342.jpeg', 'BIRK_01_500_343.jpeg', 'BIRK_01_500_344.jpeg', 'BIRK_01_500_345.jpeg', 'BIRK_01_500_346.jpeg', 'BIRK_01_500_347.jpeg', 'BIRK_01_500_348.jpeg', 'BIRK_01_500_349.jpeg', 'BIRK_01_500_350.jpeg', 'BIRK_01_500_351.jpeg', 'BIRK_01_500_352.jpeg', 'BIRK_01_500_353.jpeg', 'BIRK_01_500_354.jpeg', 'BIRK_01_500_355.jpeg', 'BIRK_01_500_356.jpeg', 'BIRK_01_500_357.jpeg', 'BIRK_01_500_358.jpeg', 'BIRK_01_500_359.jpeg', 'BIRK_01_500_360.jpeg', 'BIRK_01_500_361.jpeg', 'BIRK_01_500_362.jpeg', 'BIRK_01_500_363.jpeg', 'BIRK_01_500_364.jpeg', 'BIRK_01_500_365.jpeg', 'BIRK_01_500_366.jpeg', 'BIRK_01_500_367.jpeg', 'BIRK_01_500_368.jpeg', 'BIRK_01_500_369.jpeg', 'BIRK_01_500_370.jpeg', 'BIRK_01_500_371.jpeg', 'BIRK_01_500_372.jpeg', 'BIRK_01_500_373.jpeg', 'BIRK_01_500_374.jpeg', 'BIRK_01_500_375.jpeg', 'BIRK_01_500_376.jpeg', 'BIRK_01_500_377.jpeg', 'BIRK_01_500_378.jpeg', 'BIRK_01_500_379.jpeg', 'BIRK_01_500_380.jpeg', 'BIRK_01_500_381.jpeg', 'BIRK_01_500_382.jpeg', 'BIRK_01_500_383.jpeg', 'BIRK_01_500_384.jpeg', 'BIRK_01_500_385.jpeg', 'BIRK_01_500_386.jpeg', 'BIRK_01_500_387.jpeg', 'BIRK_01_500_388.jpeg', 'BIRK_01_500_389.jpeg', 'BIRK_01_500_390.jpeg', 'BIRK_01_500_391.jpeg', 'BIRK_01_500_392.jpeg', 'BIRK_01_500_393.jpeg', 'BIRK_01_500_394.jpeg', 'BIRK_01_500_395.jpeg', 'BIRK_01_500_396.jpeg', 'BIRK_01_500_397.jpeg', 'BIRK_01_500_398.jpeg', 'BIRK_01_500_399.jpeg', 'BIRK_01_500_400.jpeg', 'BIRK_01_500_401.jpeg', 'BIRK_01_500_402.jpeg', 'BIRK_01_500_403.jpeg', 'BIRK_01_500_404.jpeg', 'BIRK_01_500_405.jpeg', 'BIRK_01_500_406.jpeg', 'BIRK_01_500_407.jpeg', 'BIRK_01_500_408.jpeg', 'BIRK_01_500_409.jpeg', 'BIRK_01_500_410.jpeg', 'BIRK_01_500_411.jpeg', 'BIRK_01_500_412.jpeg', 'BIRK_01_500_413.jpeg', 'BIRK_01_500_414.jpeg', 'BIRK_01_500_415.jpeg', 'BIRK_01_500_416.jpeg', 'BIRK_01_500_417.jpeg', 'BIRK_01_500_418.jpeg', 'BIRK_01_500_419.jpeg', 'BIRK_01_500_420.jpeg', 'BIRK_01_500_421.jpeg', 'BIRK_01_500_422.jpeg', 'BIRK_01_500_423.jpeg', 'BIRK_01_500_424.jpeg', 'BIRK_01_500_425.jpeg', 'BIRK_01_500_426.jpeg', 'BIRK_01_500_427.jpeg', 'BIRK_01_500_428.jpeg', 'BIRK_01_500_429.jpeg', 'BIRK_01_500_430.jpeg', 'BIRK_01_500_431.jpeg', 'BIRK_01_500_432.jpeg', 'BIRK_01_500_433.jpeg', 'BIRK_01_500_434.jpeg', 'BIRK_01_500_435.jpeg', 'BIRK_01_500_436.jpeg', 'BIRK_01_500_437.jpeg', 'BIRK_01_500_438.jpeg', 'BIRK_01_500_439.jpeg', 'BIRK_01_500_440.jpeg', 'BIRK_01_500_441.jpeg', 'BIRK_01_500_442.jpeg', 'BIRK_01_500_443.jpeg', 'BIRK_01_500_444.jpeg', 'BIRK_01_500_445.jpeg', 'BIRK_01_500_446.jpeg', 'BIRK_01_500_447.jpeg', 'BIRK_01_500_448.jpeg', 'BIRK_01_500_449.jpeg', 'BIRK_01_500_451.jpeg', 'BIRK_01_500_452.jpeg', 'BIRK_01_500_453.jpeg', 'BIRK_01_500_454.jpeg', 'BIRK_01_500_455.jpeg', 'BIRK_01_500_456.jpeg', 'BIRK_01_500_457.jpeg', 'BIRK_01_500_458.jpeg', 'BIRK_01_500_459.jpeg', 'BIRK_01_500_460.jpeg', 'BIRK_01_500_461.jpeg', 'BIRK_13_500_000.jpeg', 'BIRK_13_500_001.jpeg', 'BIRK_13_500_002.jpeg', 'BIRK_13_500_003.jpeg', 'BIRK_13_500_004.jpeg', 'BIRK_13_500_005.jpeg', 'BIRK_13_500_006.jpeg', 'BIRK_13_500_007.jpeg', 'BIRK_13_500_008.jpeg', 'BIRK_13_500_009.jpeg', 'BIRK_13_500_010.jpeg', 'BIRK_13_500_011.jpeg', 'BIRK_13_500_012.jpeg', 'BIRK_13_500_013.jpeg', 'BIRK_13_500_014.jpeg', 'BIRK_13_500_015.jpeg', 'BIRK_13_500_016.jpeg', 'BIRK_13_500_017.jpeg', 'BIRK_13_500_018.jpeg', 'BIRK_13_500_019.jpeg', 'BIRK_13_500_020.jpeg', 'BIRK_13_500_021.jpeg', 'BIRK_13_500_022.jpeg', 'BIRK_13_500_023.jpeg', 'BIRK_13_500_024.jpeg', 'BIRK_13_500_025.jpeg', 'BIRK_13_500_026.jpeg', 'BIRK_13_500_027.jpeg', 'BIRK_13_500_028.jpeg', 'BIRK_13_500_029.jpeg', 'BIRK_13_500_030.jpeg', 'BIRK_13_500_031.jpeg', 'BIRK_13_500_032.jpeg', 'BIRK_13_500_033.jpeg', 'BIRK_13_500_034.jpeg', 'BIRK_13_500_035.jpeg', 'BIRK_13_500_036.jpeg', 'BIRK_13_500_037.jpeg', 'BIRK_13_500_038.jpeg', 'BIRK_13_500_039.jpeg', 'BIRK_13_500_040.jpeg', 'BIRK_13_500_041.jpeg', 'BIRK_13_500_042.jpeg', 'BIRK_13_500_043.jpeg', 'BIRK_13_500_044.jpeg', 'BIRK_13_500_045.jpeg', 'BIRK_13_500_046.jpeg', 'BIRK_13_500_047.jpeg', 'BIRK_13_500_048.jpeg', 'BIRK_13_500_049.jpeg', 'BIRK_13_500_050.jpeg', 'BIRK_13_500_051.jpeg', 'BIRK_13_500_052.jpeg', 'BIRK_13_500_053.jpeg', 'BIRK_13_500_054.jpeg', 'BIRK_13_500_055.jpeg', 'BIRK_13_500_056.jpeg', 'BIRK_13_500_057.jpeg', 'BIRK_13_500_058.jpeg', 'BIRK_13_500_059.jpeg', 'BIRK_13_500_060.jpeg', 'BIRK_13_500_061.jpeg', 'BIRK_13_500_062.jpeg', 'BIRK_13_500_063.jpeg', 'BIRK_13_500_064.jpeg', 'BIRK_13_500_065.jpeg', 'BIRK_13_500_066.jpeg', 'BIRK_13_500_067.jpeg', 'BIRK_13_500_068.jpeg', 'BIRK_13_500_069.jpeg', 'BIRK_13_500_070.jpeg', 'BIRK_13_500_071.jpeg', 'BIRK_13_500_072.jpeg', 'BIRK_13_500_073.jpeg', 'BIRK_13_500_074.jpeg', 'BIRK_13_500_075.jpeg', 'BIRK_13_500_076.jpeg', 'BIRK_13_500_077.jpeg', 'BIRK_13_500_078.jpeg', 'BIRK_13_500_079.jpeg', 'BIRK_13_500_080.jpeg', 'BIRK_13_500_081.jpeg', 'BIRK_13_500_082.jpeg', 'BIRK_13_500_083.jpeg', 'BIRK_13_500_084.jpeg', 'BIRK_13_500_085.jpeg', 'BIRK_13_500_086.jpeg', 'BIRK_13_500_087.jpeg', 'BIRK_13_500_088.jpeg', 'BIRK_13_500_089.jpeg', 'BIRK_13_500_090.jpeg', 'BIRK_13_500_091.jpeg', 'BIRK_13_500_092.jpeg', 'BIRK_13_500_093.jpeg', 'BIRK_13_500_094.jpeg', 'BIRK_13_500_095.jpeg', 'BIRK_13_500_096.jpeg', 'BIRK_13_500_097.jpeg', 'BIRK_13_500_098.jpeg', 'BIRK_13_500_099.jpeg', 'BIRK_13_500_100.jpeg', 'BIRK_13_500_101.jpeg', 'BIRK_13_500_102.jpeg', 'BIRK_13_500_103.jpeg', 'BIRK_13_500_104.jpeg', 'BIRK_13_500_105.jpeg', 'BIRK_13_500_106.jpeg', 'BIRK_13_500_107.jpeg', 'BIRK_13_500_108.jpeg', 'BIRK_13_500_109.jpeg', 'BIRK_13_500_110.jpeg', 'BIRK_13_500_111.jpeg', 'BIRK_13_500_112.jpeg', 'BIRK_13_500_113.jpeg', 'BIRK_13_500_114.jpeg', 'BIRK_13_500_115.jpeg', 'BIRK_13_500_116.jpeg', 'BIRK_13_500_117.jpeg', 'BIRK_13_500_118.jpeg', 'BIRK_13_500_119.jpeg', 'BIRK_13_500_120.jpeg', 'BIRK_13_500_121.jpeg', 'BIRK_13_500_122.jpeg', 'BIRK_13_500_123.jpeg', 'BIRK_13_500_124.jpeg', 'BIRK_13_500_125.jpeg', 'BIRK_13_500_126.jpeg', 'BIRK_13_500_127.jpeg', 'BIRK_13_500_128.jpeg', 'BIRK_13_500_129.jpeg', 'BIRK_13_500_130.jpeg', 'BIRK_13_500_131.jpeg', 'BIRK_13_500_132.jpeg', 'BIRK_13_500_133.jpeg', 'BIRK_13_500_134.jpeg', 'BIRK_13_500_135.jpeg', 'BIRK_13_500_136.jpeg', 'BIRK_13_500_137.jpeg', 'BIRK_13_500_138.jpeg', 'BIRK_13_500_139.jpeg', 'BIRK_13_500_140.jpeg', 'BIRK_13_500_141.jpeg', 'BIRK_13_500_142.jpeg', 'BIRK_13_500_143.jpeg', 'BIRK_13_500_144.jpeg', 'BIRK_13_500_145.jpeg', 'BIRK_13_500_146.jpeg', 'BIRK_13_500_147.jpeg', 'BIRK_13_500_148.jpeg', 'BIRK_13_500_149.jpeg', 'BIRK_13_500_150.jpeg', 'BIRK_13_500_151.jpeg', 'BIRK_13_500_152.jpeg', 'BIRK_13_500_153.jpeg', 'BIRK_13_500_154.jpeg', 'BIRK_13_500_155.jpeg', 'BIRK_13_500_156.jpeg', 'BIRK_13_500_157.jpeg', 'BIRK_13_500_158.jpeg', 'BIRK_13_500_159.jpeg', 'BIRK_13_500_160.jpeg', 'BIRK_13_500_161.jpeg', 'BIRK_13_500_162.jpeg', 'BIRK_13_500_163.jpeg', 'BIRK_13_500_164.jpeg', 'BIRK_13_500_165.jpeg', 'BIRK_13_500_166.jpeg', 'BIRK_13_500_167.jpeg', 'BIRK_13_500_168.jpeg', 'BIRK_13_500_169.jpeg', 'BIRK_13_500_170.jpeg', 'BIRK_13_500_171.jpeg', 'BIRK_13_500_172.jpeg', 'BIRK_13_500_173.jpeg', 'BIRK_13_500_174.jpeg', 'BIRK_13_500_175.jpeg', 'BIRK_13_500_176.jpeg', 'BIRK_13_500_177.jpeg', 'BIRK_13_500_178.jpeg', 'BIRK_13_500_179.jpeg', 'BIRK_13_500_180.jpeg', 'BIRK_13_500_181.jpeg', 'BIRK_13_500_182.jpeg', 'BIRK_13_500_183.jpeg', 'BIRK_13_500_184.jpeg', 'BIRK_13_500_185.jpeg', 'BIRK_13_500_186.jpeg', 'BIRK_13_500_187.jpeg', 'BIRK_13_500_188.jpeg', 'BIRK_13_500_189.jpeg', 'BIRK_13_500_190.jpeg', 'BIRK_13_500_191.jpeg', 'BIRK_13_500_192.jpeg', 'BIRK_13_500_193.jpeg', 'BIRK_13_500_194.jpeg', 'BIRK_13_500_195.jpeg', 'BIRK_13_500_196.jpeg', 'BIRK_13_500_197.jpeg', 'BIRK_13_500_198.jpeg', 'BIRK_13_500_199.jpeg', 'BIRK_13_500_200.jpeg', 'BIRK_13_500_201.jpeg', 'BIRK_13_500_202.jpeg', 'BIRK_13_500_203.jpeg', 'BIRK_13_500_204.jpeg', 'BIRK_13_500_205.jpeg', 'BIRK_13_500_206.jpeg', 'BIRK_13_500_207.jpeg', 'BIRK_13_500_208.jpeg', 'BIRK_13_500_209.jpeg', 'BIRK_13_500_210.jpeg', 'BIRK_13_500_211.jpeg', 'BIRK_13_500_212.jpeg', 'BIRK_13_500_213.jpeg', 'BIRK_13_500_214.jpeg', 'BIRK_13_500_215.jpeg', 'BIRK_13_500_216.jpeg', 'BIRK_13_500_217.jpeg', 'BIRK_13_500_218.jpeg', 'BIRK_13_500_219.jpeg', 'BIRK_13_500_220.jpeg', 'BIRK_13_500_221.jpeg', 'BIRK_13_500_222.jpeg', 'BIRK_13_500_223.jpeg', 'BIRK_13_500_224.jpeg', 'BIRK_13_500_225.jpeg', 'BIRK_13_500_226.jpeg', 'BIRK_13_500_227.jpeg', 'BIRK_13_500_228.jpeg', 'BIRK_13_500_229.jpeg', 'BIRK_13_500_230.jpeg', 'BIRK_13_500_231.jpeg', 'BIRK_13_500_232.jpeg', 'BIRK_13_500_233.jpeg', 'BIRK_13_500_234.jpeg', 'BIRK_13_500_235.jpeg', 'BIRK_13_500_236.jpeg', 'BIRK_13_500_237.jpeg', 'BIRK_13_500_238.jpeg', 'BIRK_13_500_239.jpeg', 'BIRK_13_500_240.jpeg', 'BIRK_13_500_241.jpeg', 'BIRK_13_500_242.jpeg', 'BIRK_13_500_243.jpeg', 'BIRK_13_500_244.jpeg', 'BIRK_13_500_245.jpeg', 'BIRK_13_500_246.jpeg', 'BIRK_13_500_247.jpeg', 'BIRK_13_500_248.jpeg', 'BIRK_13_500_249.jpeg', 'BIRK_13_500_250.jpeg', 'BIRK_13_500_251.jpeg', 'BIRK_13_500_252.jpeg', 'BIRK_13_500_253.jpeg', 'BIRK_13_500_254.jpeg', 'BIRK_13_500_255.jpeg', 'BIRK_13_500_256.jpeg', 'BIRK_13_500_257.jpeg', 'BIRK_13_500_258.jpeg', 'BIRK_13_500_259.jpeg', 'BIRK_13_500_260.jpeg', 'BIRK_13_500_261.jpeg', 'BIRK_13_500_262.jpeg', 'BIRK_13_500_263.jpeg', 'BIRK_13_500_264.jpeg', 'BIRK_13_500_265.jpeg', 'BIRK_13_500_266.jpeg', 'BIRK_13_500_267.jpeg', 'BIRK_13_500_268.jpeg', 'BIRK_13_500_269.jpeg', 'BIRK_13_500_270.jpeg', 'BIRK_13_500_271.jpeg', 'BIRK_13_500_272.jpeg', 'BIRK_13_500_273.jpeg', 'BIRK_13_500_274.jpeg', 'BIRK_13_500_275.jpeg', 'BIRK_13_500_276.jpeg', 'BIRK_13_500_277.jpeg', 'BIRK_13_500_278.jpeg', 'BIRK_13_500_279.jpeg', 'BIRK_13_500_280.jpeg', 'BIRK_13_500_281.jpeg', 'BIRK_13_500_282.jpeg', 'BIRK_13_500_283.jpeg', 'BIRK_13_500_284.jpeg', 'BIRK_13_500_285.jpeg', 'BIRK_13_500_286.jpeg', 'BIRK_13_500_287.jpeg', 'BIRK_13_500_288.jpeg', 'BIRK_13_500_289.jpeg', 'BIRK_13_500_290.jpeg', 'BIRK_13_500_291.jpeg', 'BIRK_13_500_292.jpeg', 'BIRK_13_500_293.jpeg', 'BIRK_13_500_294.jpeg', 'BIRK_13_500_295.jpeg', 'BIRK_13_500_296.jpeg', 'BIRK_13_500_297.jpeg', 'BIRK_13_500_298.jpeg', 'BIRK_13_500_299.jpeg', 'BIRK_13_500_300.jpeg', 'BIRK_13_500_301.jpeg', 'BIRK_13_500_302.jpeg', 'BIRK_13_500_303.jpeg', 'BIRK_13_500_304.jpeg', 'BIRK_13_500_305.jpeg', 'BIRK_13_500_306.jpeg', 'BIRK_13_500_307.jpeg', 'BIRK_13_500_308.jpeg', 'BIRK_13_500_309.jpeg', 'BIRK_13_500_310.jpeg', 'BIRK_13_500_311.jpeg', 'BIRK_13_500_312.jpeg', 'BIRK_13_500_313.jpeg', 'BIRK_13_500_314.jpeg', 'BIRK_13_500_315.jpeg', 'BIRK_13_500_316.jpeg', 'BIRK_13_500_317.jpeg', 'BIRK_13_500_318.jpeg', 'BIRK_13_500_319.jpeg', 'BIRK_13_500_320.jpeg', 'BIRK_13_500_321.jpeg', 'BIRK_13_500_322.jpeg', 'BIRK_13_500_323.jpeg', 'BIRK_13_500_324.jpeg', 'BIRK_13_500_325.jpeg', 'BIRK_13_500_326.jpeg', 'BIRK_13_500_327.jpeg', 'BIRK_13_500_328.jpeg', 'BIRK_13_500_329.jpeg', 'BIRK_13_500_330.jpeg', 'BIRK_13_500_331.jpeg', 'BIRK_13_500_332.jpeg', 'BIRK_13_500_333.jpeg', 'BIRK_13_500_334.jpeg', 'BIRK_13_500_335.jpeg', 'BIRK_13_500_336.jpeg', 'BIRK_13_500_337.jpeg', 'BIRK_13_500_338.jpeg', 'BIRK_13_500_339.jpeg', 'BIRK_13_500_340.jpeg', 'BIRK_13_500_341.jpeg', 'BIRK_13_500_342.jpeg', 'BIRK_13_500_343.jpeg', 'BIRK_13_500_344.jpeg', 'BIRK_13_500_345.jpeg', 'BIRK_13_500_346.jpeg', 'BIRK_13_500_347.jpeg', 'BIRK_13_500_348.jpeg', 'BIRK_13_500_349.jpeg', 'BIRK_13_500_350.jpeg', 'BIRK_13_500_351.jpeg', 'BIRK_13_500_352.jpeg', 'BIRK_13_500_353.jpeg', 'BIRK_13_500_354.jpeg', 'BIRK_13_500_355.jpeg', 'BIRK_13_500_356.jpeg', 'BIRK_13_500_357.jpeg', 'BIRK_13_500_358.jpeg', 'BIRK_13_500_359.jpeg', 'BIRK_13_500_360.jpeg', 'BIRK_13_500_361.jpeg', 'BIRK_13_500_362.jpeg', 'BIRK_13_500_363.jpeg', 'BIRK_13_500_364.jpeg', 'BIRK_13_500_365.jpeg', 'BIRK_13_500_366.jpeg', 'BIRK_13_500_367.jpeg', 'BIRK_13_500_368.jpeg', 'BIRK_13_500_369.jpeg', 'BIRK_13_500_370.jpeg', 'BIRK_13_500_371.jpeg', 'BIRK_13_500_372.jpeg', 'BIRK_13_500_373.jpeg', 'BIRK_13_500_374.jpeg', 'BIRK_13_500_375.jpeg', 'BIRK_13_500_376.jpeg', 'BIRK_13_500_377.jpeg', 'BIRK_13_500_378.jpeg', 'BIRK_13_500_379.jpeg', 'BIRK_13_500_380.jpeg', 'BIRK_13_500_381.jpeg', 'BIRK_13_500_382.jpeg', 'BIRK_13_500_383.jpeg', 'BIRK_13_500_384.jpeg', 'BIRK_13_500_385.jpeg', 'BIRK_13_500_386.jpeg', 'BIRK_13_500_387.jpeg', 'BIRK_13_500_388.jpeg', 'BIRK_13_500_389.jpeg', 'BIRK_13_500_390.jpeg', 'BIRK_13_500_391.jpeg', 'BIRK_13_500_392.jpeg', 'BIRK_13_500_393.jpeg', 'BIRK_13_500_394.jpeg', 'BIRK_13_500_395.jpeg', 'BIRK_13_500_396.jpeg', 'BIRK_13_500_397.jpeg', 'BIRK_13_500_398.jpeg', 'BIRK_13_500_399.jpeg', 'BIRK_13_500_400.jpeg', 'BIRK_13_500_401.jpeg', 'BIRK_13_500_402.jpeg', 'BIRK_13_500_403.jpeg', 'BIRK_13_500_404.jpeg', 'BIRK_13_500_405.jpeg', 'BIRK_13_500_406.jpeg', 'BIRK_13_500_407.jpeg', 'BIRK_13_500_408.jpeg', 'BIRK_13_500_409.jpeg', 'BIRK_13_500_410.jpeg', 'BIRK_13_500_411.jpeg', 'BIRK_13_500_412.jpeg', 'BIRK_13_500_413.jpeg', 'BIRK_13_500_414.jpeg', 'BIRK_13_500_415.jpeg', 'BIRK_13_500_416.jpeg', 'BIRK_13_500_417.jpeg', 'BIRK_13_500_418.jpeg', 'BIRK_13_500_419.jpeg', 'BIRK_13_500_420.jpeg', 'BIRK_13_500_421.jpeg', 'BIRK_13_500_422.jpeg', 'BIRK_13_500_423.jpeg', 'BIRK_13_500_424.jpeg', 'BIRK_13_500_425.jpeg', 'BIRK_13_500_426.jpeg', 'BIRK_13_500_427.jpeg', 'BIRK_13_500_428.jpeg', 'BIRK_13_500_429.jpeg', 'BIRK_13_500_430.jpeg', 'BIRK_13_500_431.jpeg', 'BIRK_13_500_432.jpeg', 'BIRK_13_500_433.jpeg', 'BIRK_13_500_434.jpeg', 'BIRK_13_500_435.jpeg', 'BIRK_13_500_436.jpeg', 'BIRK_13_500_437.jpeg', 'BIRK_13_500_438.jpeg', 'BIRK_13_500_439.jpeg', 'BIRK_13_500_440.jpeg', 'BIRK_13_500_441.jpeg', 'BIRK_13_500_442.jpeg', 'BIRK_13_500_443.jpeg', 'BIRK_13_500_444.jpeg', 'BIRK_13_500_445.jpeg', 'BIRK_13_500_446.jpeg', 'BIRK_13_500_447.jpeg', 'BIRK_13_500_448.jpeg', 'BIRK_13_500_449.jpeg', 'BIRK_13_500_450.jpeg', 'BIRK_13_500_451.jpeg', 'BIRK_13_500_452.jpeg', 'BIRK_13_500_453.jpeg', 'BIRK_13_500_454.jpeg', 'BIRK_13_500_456.jpeg', 'LFST_05_500_000.jpeg', 'LFST_05_500_001.jpeg', 'LFST_05_500_002.jpeg', 'LFST_05_500_003.jpeg', 'LFST_05_500_004.jpeg', 'LFST_05_500_005.jpeg', 'LFST_05_500_006.jpeg', 'LFST_05_500_007.jpeg', 'LFST_05_500_008.jpeg', 'LFST_05_500_009.jpeg', 'LFST_05_500_010.jpeg', 'LFST_05_500_011.jpeg', 'LFST_05_500_012.jpeg', 'LFST_05_500_013.jpeg', 'LFST_05_500_014.jpeg', 'LFST_05_500_015.jpeg', 'LFST_05_500_016.jpeg', 'LFST_05_500_017.jpeg', 'LFST_05_500_018.jpeg', 'LFST_05_500_019.jpeg', 'LFST_05_500_020.jpeg', 'LFST_05_500_021.jpeg', 'LFST_05_500_022.jpeg', 'LFST_05_500_023.jpeg', 'LFST_05_500_024.jpeg', 'LFST_05_500_025.jpeg', 'LFST_05_500_026.jpeg', 'LFST_05_500_027.jpeg', 'LFST_05_500_028.jpeg', 'LFST_05_500_029.jpeg', 'LFST_05_500_030.jpeg', 'LFST_05_500_031.jpeg', 'LFST_05_500_032.jpeg', 'LFST_05_500_033.jpeg', 'LFST_05_500_034.jpeg', 'LFST_05_500_035.jpeg', 'LFST_05_500_036.jpeg', 'LFST_05_500_037.jpeg', 'LFST_05_500_038.jpeg', 'LFST_05_500_039.jpeg', 'LFST_05_500_040.jpeg', 'LFST_05_500_041.jpeg', 'LFST_05_500_042.jpeg', 'LFST_05_500_043.jpeg', 'LFST_05_500_044.jpeg', 'LFST_05_500_045.jpeg', 'LFST_05_500_046.jpeg', 'LFST_05_500_047.jpeg', 'LFST_05_500_048.jpeg', 'LFST_05_500_049.jpeg', 'LFST_05_500_050.jpeg', 'LFST_05_500_051.jpeg', 'LFST_05_500_052.jpeg', 'LFST_05_500_053.jpeg', 'LFST_05_500_054.jpeg', 'LFST_05_500_055.jpeg', 'LFST_05_500_056.jpeg', 'LFST_05_500_057.jpeg', 'LFST_05_500_058.jpeg', 'LFST_05_500_059.jpeg', 'LFST_05_500_060.jpeg', 'LFST_05_500_061.jpeg', 'LFST_05_500_062.jpeg', 'LFST_05_500_063.jpeg', 'LFST_05_500_064.jpeg', 'LFST_05_500_065.jpeg', 'LFST_05_500_066.jpeg', 'LFST_05_500_067.jpeg', 'LFST_05_500_068.jpeg', 'LFST_05_500_069.jpeg', 'LFST_05_500_070.jpeg', 'LFST_05_500_071.jpeg', 'LFST_05_500_072.jpeg', 'LFST_05_500_073.jpeg', 'LFST_05_500_074.jpeg', 'LFST_05_500_075.jpeg', 'LFST_05_500_076.jpeg', 'LFST_05_500_077.jpeg', 'LFST_05_500_078.jpeg', 'LFST_05_500_079.jpeg', 'LFST_05_500_080.jpeg', 'LFST_05_500_081.jpeg', 'LFST_05_500_082.jpeg', 'LFST_05_500_083.jpeg', 'LFST_05_500_084.jpeg', 'LFST_05_500_085.jpeg', 'LFST_05_500_086.jpeg', 'LFST_05_500_087.jpeg', 'LFST_05_500_088.jpeg', 'LFST_05_500_089.jpeg', 'LFST_05_500_090.jpeg', 'LFST_05_500_091.jpeg', 'LFST_05_500_092.jpeg', 'LFST_05_500_093.jpeg', 'LFST_05_500_094.jpeg', 'LFST_05_500_095.jpeg', 'LFST_05_500_096.jpeg', 'LFST_05_500_097.jpeg', 'LFST_05_500_098.jpeg', 'LFST_05_500_099.jpeg', 'LFST_05_500_100.jpeg', 'LFST_05_500_101.jpeg', 'LFST_05_500_102.jpeg', 'LFST_05_500_103.jpeg', 'LFST_05_500_104.jpeg', 'LFST_05_500_105.jpeg', 'LFST_05_500_106.jpeg', 'LFST_05_500_107.jpeg', 'LFST_05_500_108.jpeg', 'LFST_05_500_109.jpeg', 'LFST_05_500_110.jpeg', 'LFST_05_500_111.jpeg', 'LFST_05_500_112.jpeg', 'LFST_05_500_113.jpeg', 'LFST_05_500_114.jpeg', 'LFST_05_500_115.jpeg', 'LFST_05_500_116.jpeg', 'LFST_05_500_117.jpeg', 'LFST_05_500_118.jpeg', 'LFST_05_500_119.jpeg', 'LFST_05_500_120.jpeg', 'LFST_05_500_121.jpeg', 'LFST_05_500_122.jpeg', 'LFST_05_500_123.jpeg', 'LFST_05_500_124.jpeg', 'LFST_05_500_125.jpeg', 'LFST_05_500_126.jpeg', 'LFST_05_500_127.jpeg', 'LFST_05_500_128.jpeg', 'LFST_05_500_129.jpeg', 'LFST_05_500_130.jpeg', 'LFST_05_500_131.jpeg', 'LFST_05_500_132.jpeg', 'LFST_05_500_133.jpeg', 'LFST_05_500_134.jpeg', 'LFST_05_500_135.jpeg', 'LFST_05_500_136.jpeg', 'LFST_05_500_137.jpeg', 'LFST_05_500_138.jpeg', 'LFST_05_500_139.jpeg', 'LFST_05_500_140.jpeg', 'LFST_05_500_141.jpeg', 'LFST_05_500_142.jpeg', 'LFST_05_500_143.jpeg', 'LFST_05_500_144.jpeg', 'LFST_05_500_145.jpeg', 'LFST_05_500_146.jpeg', 'LFST_05_500_147.jpeg', 'LFST_05_500_148.jpeg', 'LFST_05_500_149.jpeg', 'LFST_05_500_150.jpeg', 'LFST_05_500_151.jpeg', 'LFST_05_500_152.jpeg', 'LFST_05_500_153.jpeg', 'LFST_05_500_154.jpeg', 'LFST_05_500_155.jpeg', 'LFST_05_500_156.jpeg', 'LFST_05_500_157.jpeg', 'LFST_05_500_158.jpeg', 'LFST_05_500_159.jpeg', 'LFST_05_500_160.jpeg', 'LFST_05_500_161.jpeg', 'LFST_05_500_162.jpeg', 'LFST_05_500_163.jpeg', 'LFST_05_500_164.jpeg', 'LFST_05_500_165.jpeg', 'LFST_05_500_166.jpeg', 'LFST_05_500_167.jpeg', 'LFST_05_500_168.jpeg', 'LFST_05_500_169.jpeg', 'LFST_05_500_170.jpeg', 'LFST_05_500_171.jpeg', 'LFST_05_500_172.jpeg', 'LFST_05_500_173.jpeg', 'LFST_05_500_174.jpeg', 'LFST_05_500_175.jpeg', 'LFST_05_500_176.jpeg', 'LFST_05_500_177.jpeg', 'LFST_05_500_178.jpeg', 'LFST_05_500_179.jpeg', 'LFST_05_500_180.jpeg', 'LFST_05_500_181.jpeg', 'LFST_05_500_182.jpeg', 'LFST_05_500_183.jpeg', 'LFST_05_500_184.jpeg', 'LFST_05_500_185.jpeg', 'LFST_05_500_186.jpeg', 'LFST_05_500_187.jpeg', 'LFST_05_500_188.jpeg', 'LFST_05_500_189.jpeg', 'LFST_05_500_190.jpeg', 'LFST_05_500_191.jpeg', 'LFST_05_500_192.jpeg', 'LFST_05_500_193.jpeg', 'LFST_05_500_194.jpeg', 'LFST_05_500_195.jpeg', 'LFST_05_500_196.jpeg', 'LFST_05_500_197.jpeg', 'LFST_05_500_198.jpeg', 'LFST_05_500_199.jpeg', 'LFST_05_500_200.jpeg', 'LFST_05_500_201.jpeg', 'LFST_05_500_202.jpeg', 'LFST_05_500_203.jpeg', 'LFST_05_500_204.jpeg', 'LFST_05_500_205.jpeg', 'LFST_05_500_206.jpeg', 'LFST_05_500_207.jpeg', 'LFST_05_500_208.jpeg', 'LFST_05_500_209.jpeg', 'LFST_05_500_210.jpeg', 'LFST_05_500_211.jpeg', 'LFST_05_500_212.jpeg', 'LFST_05_500_213.jpeg', 'LFST_05_500_214.jpeg', 'LFST_05_500_215.jpeg', 'LFST_05_500_216.jpeg', 'LFST_05_500_217.jpeg', 'LFST_05_500_218.jpeg', 'LFST_05_500_219.jpeg', 'LFST_05_500_220.jpeg', 'LFST_05_500_221.jpeg', 'LFST_05_500_222.jpeg', 'LFST_05_500_223.jpeg', 'LFST_05_500_224.jpeg', 'LFST_05_500_225.jpeg', 'LFST_05_500_226.jpeg', 'LFST_05_500_227.jpeg', 'LFST_05_500_228.jpeg', 'LFST_05_500_229.jpeg', 'LFST_05_500_230.jpeg', 'LFST_05_500_231.jpeg', 'LFST_05_500_232.jpeg', 'LFST_05_500_233.jpeg', 'LFST_05_500_234.jpeg', 'LFST_05_500_235.jpeg', 'LFST_05_500_236.jpeg', 'LFST_05_500_237.jpeg', 'LFST_05_500_238.jpeg', 'LFST_05_500_239.jpeg', 'LFST_05_500_240.jpeg', 'LFST_05_500_241.jpeg', 'LFST_05_500_242.jpeg', 'LFST_05_500_243.jpeg', 'LFST_05_500_244.jpeg', 'LFST_05_500_245.jpeg', 'LFST_05_500_246.jpeg', 'LFST_05_500_247.jpeg', 'LFST_05_500_248.jpeg', 'LFST_05_500_249.jpeg', 'LFST_05_500_250.jpeg', 'LFST_05_500_251.jpeg', 'LFST_05_500_252.jpeg', 'LFST_05_500_253.jpeg', 'LFST_05_500_254.jpeg', 'LFST_05_500_255.jpeg', 'LFST_05_500_256.jpeg', 'LFST_05_500_257.jpeg', 'LFST_05_500_258.jpeg', 'LFST_05_500_259.jpeg', 'LFST_05_500_260.jpeg', 'LFST_05_500_261.jpeg', 'LFST_05_500_262.jpeg', 'LFST_05_500_263.jpeg', 'LFST_05_500_264.jpeg', 'LFST_05_500_265.jpeg', 'LFST_05_500_266.jpeg', 'LFST_05_500_267.jpeg', 'LFST_05_500_268.jpeg', 'LFST_05_500_269.jpeg', 'LFST_05_500_270.jpeg', 'LFST_05_500_271.jpeg', 'LFST_05_500_272.jpeg', 'LFST_05_500_273.jpeg', 'LFST_05_500_274.jpeg', 'LFST_05_500_275.jpeg', 'LFST_05_500_276.jpeg', 'LFST_05_500_277.jpeg', 'LFST_05_500_278.jpeg', 'LFST_05_500_279.jpeg', 'LFST_05_500_280.jpeg', 'LFST_05_500_281.jpeg', 'LFST_05_500_282.jpeg', 'LFST_05_500_283.jpeg', 'LFST_05_500_284.jpeg', 'LFST_05_500_285.jpeg', 'LFST_05_500_286.jpeg', 'LFST_05_500_287.jpeg', 'LFST_05_500_288.jpeg', 'LFST_05_500_289.jpeg', 'LFST_05_500_290.jpeg', 'LFST_05_500_291.jpeg', 'LFST_05_500_292.jpeg', 'LFST_05_500_293.jpeg', 'LFST_05_500_294.jpeg', 'LFST_05_500_295.jpeg', 'LFST_05_500_296.jpeg', 'LFST_05_500_297.jpeg', 'LFST_05_500_298.jpeg', 'LFST_05_500_299.jpeg', 'LFST_05_500_300.jpeg', 'LFST_05_500_301.jpeg', 'LFST_05_500_302.jpeg', 'LFST_05_500_303.jpeg', 'LFST_05_500_304.jpeg', 'LFST_05_500_305.jpeg', 'LFST_05_500_306.jpeg', 'LFST_05_500_307.jpeg', 'LFST_05_500_308.jpeg', 'LFST_05_500_309.jpeg', 'LFST_05_500_310.jpeg', 'LFST_05_500_311.jpeg', 'LFST_05_500_312.jpeg', 'LFST_05_500_313.jpeg', 'LFST_05_500_314.jpeg', 'LFST_05_500_315.jpeg', 'LFST_05_500_316.jpeg', 'LFST_05_500_317.jpeg', 'LFST_05_500_318.jpeg', 'LFST_05_500_319.jpeg', 'LFST_05_500_320.jpeg', 'LFST_05_500_321.jpeg', 'LFST_05_500_322.jpeg', 'LFST_05_500_323.jpeg', 'LFST_05_500_324.jpeg', 'LFST_05_500_325.jpeg', 'LFST_05_500_326.jpeg', 'LFST_05_500_327.jpeg', 'LFST_05_500_328.jpeg', 'LFST_05_500_329.jpeg', 'LFST_05_500_330.jpeg', 'LFST_05_500_331.jpeg', 'LFST_05_500_332.jpeg', 'LFST_05_500_333.jpeg', 'LFST_05_500_334.jpeg', 'LFST_05_500_335.jpeg', 'LFST_05_500_336.jpeg', 'LFST_05_500_337.jpeg', 'LFST_05_500_338.jpeg', 'LFST_05_500_339.jpeg', 'LFST_05_500_340.jpeg', 'LFST_05_500_341.jpeg', 'LFST_05_500_342.jpeg', 'LFST_05_500_343.jpeg', 'LFST_05_500_344.jpeg', 'LFST_05_500_345.jpeg', 'LFST_05_500_346.jpeg', 'LFST_05_500_347.jpeg', 'LFST_05_500_348.jpeg', 'LFST_05_500_349.jpeg', 'LFST_05_500_350.jpeg', 'LFST_05_500_351.jpeg', 'LFST_05_500_352.jpeg', 'LFST_05_500_353.jpeg', 'LFST_05_500_354.jpeg', 'LFST_05_500_355.jpeg', 'LFST_05_500_356.jpeg', 'LFST_05_500_357.jpeg', 'LFST_05_500_358.jpeg', 'LFST_05_500_359.jpeg', 'LFST_05_500_360.jpeg', 'LFST_05_500_361.jpeg', 'LFST_05_500_362.jpeg', 'LFST_05_500_363.jpeg', 'LFST_05_500_364.jpeg', 'LFST_05_500_365.jpeg', 'LFST_05_500_366.jpeg', 'LFST_05_500_367.jpeg', 'LFST_05_500_368.jpeg', 'LFST_05_500_369.jpeg', 'LFST_05_500_370.jpeg', 'LFST_05_500_371.jpeg', 'LFST_05_500_372.jpeg', 'LFST_05_500_373.jpeg', 'LFST_05_500_374.jpeg', 'LFST_05_500_375.jpeg', 'LFST_05_500_376.jpeg', 'LFST_05_500_377.jpeg', 'LFST_05_500_378.jpeg', 'LFST_05_500_379.jpeg', 'LFST_05_500_380.jpeg', 'LFST_05_500_381.jpeg', 'LFST_05_500_382.jpeg', 'LFST_05_500_383.jpeg', 'LFST_05_500_384.jpeg', 'LFST_05_500_385.jpeg', 'LFST_05_500_386.jpeg', 'LFST_05_500_387.jpeg', 'LFST_05_500_388.jpeg', 'LFST_05_500_389.jpeg', 'LFST_05_500_390.jpeg', 'LFST_05_500_391.jpeg', 'LFST_05_500_392.jpeg', 'LFST_05_500_393.jpeg', 'LFST_05_500_394.jpeg', 'LFST_05_500_395.jpeg', 'LFST_05_500_396.jpeg', 'LFST_05_500_397.jpeg', 'LFST_05_500_398.jpeg', 'LFST_05_500_399.jpeg', 'LFST_05_500_400.jpeg', 'LFST_05_500_401.jpeg', 'LFST_05_500_402.jpeg', 'LFST_05_500_403.jpeg', 'LFST_05_500_404.jpeg', 'LFST_05_500_405.jpeg', 'LFST_05_500_406.jpeg', 'LFST_05_500_407.jpeg', 'LFST_05_500_408.jpeg', 'LFST_05_500_409.jpeg', 'LFST_05_500_410.jpeg', 'LFST_05_500_411.jpeg', 'LFST_05_500_412.jpeg', 'LFST_05_500_413.jpeg', 'LFST_05_500_414.jpeg', 'LFST_05_500_415.jpeg', 'LFST_05_500_416.jpeg', 'LFST_05_500_417.jpeg', 'LFST_05_500_418.jpeg', 'LFST_05_500_419.jpeg', 'LFST_05_500_420.jpeg', 'LFST_05_500_421.jpeg', 'LFST_05_500_422.jpeg', 'LFST_05_500_423.jpeg', 'LFST_05_500_424.jpeg', 'LFST_05_500_425.jpeg', 'LFST_05_500_426.jpeg', 'LFST_05_500_427.jpeg', 'LFST_05_500_428.jpeg', 'LFST_05_500_429.jpeg', 'LFST_05_500_430.jpeg', 'LFST_05_500_431.jpeg', 'LFST_05_500_432.jpeg', 'LFST_05_500_433.jpeg', 'LFST_05_500_434.jpeg', 'LFST_05_500_435.jpeg', 'LFST_05_500_436.jpeg', 'LFST_05_500_437.jpeg', 'LFST_05_500_438.jpeg', 'LFST_05_500_439.jpeg', 'LFST_05_500_440.jpeg', 'LFST_05_500_441.jpeg', 'LFST_05_500_442.jpeg', 'LFST_05_500_443.jpeg', 'LFST_05_500_444.jpeg', 'LFST_05_500_445.jpeg', 'LFST_05_500_446.jpeg', 'LFST_05_500_447.jpeg', 'LFST_05_500_448.jpeg', 'LFST_05_500_449.jpeg', 'LFST_05_500_451.jpeg', 'LFST_05_500_452.jpeg', 'LFST_05_500_453.jpeg', 'LFST_05_500_454.jpeg', 'LFST_23_500_000.jpeg', 'LFST_23_500_001.jpeg', 'LFST_23_500_002.jpeg', 'LFST_23_500_003.jpeg', 'LFST_23_500_004.jpeg', 'LFST_23_500_005.jpeg', 'LFST_23_500_006.jpeg', 'LFST_23_500_007.jpeg', 'LFST_23_500_008.jpeg', 'LFST_23_500_009.jpeg', 'LFST_23_500_010.jpeg', 'LFST_23_500_011.jpeg', 'LFST_23_500_012.jpeg', 'LFST_23_500_013.jpeg', 'LFST_23_500_014.jpeg', 'LFST_23_500_015.jpeg', 'LFST_23_500_016.jpeg', 'LFST_23_500_017.jpeg', 'LFST_23_500_018.jpeg', 'LFST_23_500_019.jpeg', 'LFST_23_500_020.jpeg', 'LFST_23_500_021.jpeg', 'LFST_23_500_022.jpeg', 'LFST_23_500_023.jpeg', 'LFST_23_500_024.jpeg', 'LFST_23_500_025.jpeg', 'LFST_23_500_026.jpeg', 'LFST_23_500_027.jpeg', 'LFST_23_500_028.jpeg', 'LFST_23_500_029.jpeg', 'LFST_23_500_030.jpeg', 'LFST_23_500_031.jpeg', 'LFST_23_500_032.jpeg', 'LFST_23_500_033.jpeg', 'LFST_23_500_034.jpeg', 'LFST_23_500_035.jpeg', 'LFST_23_500_036.jpeg', 'LFST_23_500_037.jpeg', 'LFST_23_500_038.jpeg', 'LFST_23_500_039.jpeg', 'LFST_23_500_040.jpeg', 'LFST_23_500_041.jpeg', 'LFST_23_500_042.jpeg', 'LFST_23_500_043.jpeg', 'LFST_23_500_044.jpeg', 'LFST_23_500_045.jpeg', 'LFST_23_500_046.jpeg', 'LFST_23_500_047.jpeg', 'LFST_23_500_048.jpeg', 'LFST_23_500_049.jpeg', 'LFST_23_500_050.jpeg', 'LFST_23_500_051.jpeg', 'LFST_23_500_052.jpeg', 'LFST_23_500_053.jpeg', 'LFST_23_500_054.jpeg', 'LFST_23_500_055.jpeg', 'LFST_23_500_056.jpeg', 'LFST_23_500_057.jpeg', 'LFST_23_500_058.jpeg', 'LFST_23_500_059.jpeg', 'LFST_23_500_060.jpeg', 'LFST_23_500_061.jpeg', 'LFST_23_500_062.jpeg', 'LFST_23_500_063.jpeg', 'LFST_23_500_064.jpeg', 'LFST_23_500_065.jpeg', 'LFST_23_500_066.jpeg', 'LFST_23_500_067.jpeg', 'LFST_23_500_068.jpeg', 'LFST_23_500_069.jpeg', 'LFST_23_500_070.jpeg', 'LFST_23_500_071.jpeg', 'LFST_23_500_072.jpeg', 'LFST_23_500_073.jpeg', 'LFST_23_500_074.jpeg', 'LFST_23_500_075.jpeg', 'LFST_23_500_076.jpeg', 'LFST_23_500_077.jpeg', 'LFST_23_500_078.jpeg', 'LFST_23_500_079.jpeg', 'LFST_23_500_080.jpeg', 'LFST_23_500_081.jpeg', 'LFST_23_500_082.jpeg', 'LFST_23_500_083.jpeg', 'LFST_23_500_084.jpeg', 'LFST_23_500_085.jpeg', 'LFST_23_500_086.jpeg', 'LFST_23_500_087.jpeg', 'LFST_23_500_088.jpeg', 'LFST_23_500_089.jpeg', 'LFST_23_500_090.jpeg', 'LFST_23_500_091.jpeg', 'LFST_23_500_092.jpeg', 'LFST_23_500_093.jpeg', 'LFST_23_500_094.jpeg', 'LFST_23_500_095.jpeg', 'LFST_23_500_096.jpeg', 'LFST_23_500_097.jpeg', 'LFST_23_500_098.jpeg', 'LFST_23_500_099.jpeg', 'LFST_23_500_100.jpeg', 'LFST_23_500_101.jpeg', 'LFST_23_500_102.jpeg', 'LFST_23_500_103.jpeg', 'LFST_23_500_104.jpeg', 'LFST_23_500_105.jpeg', 'LFST_23_500_106.jpeg', 'LFST_23_500_107.jpeg', 'LFST_23_500_108.jpeg', 'LFST_23_500_109.jpeg', 'LFST_23_500_110.jpeg', 'LFST_23_500_111.jpeg', 'LFST_23_500_112.jpeg', 'LFST_23_500_113.jpeg', 'LFST_23_500_114.jpeg', 'LFST_23_500_115.jpeg', 'LFST_23_500_116.jpeg', 'LFST_23_500_117.jpeg', 'LFST_23_500_118.jpeg', 'LFST_23_500_119.jpeg', 'LFST_23_500_120.jpeg', 'LFST_23_500_121.jpeg', 'LFST_23_500_122.jpeg', 'LFST_23_500_123.jpeg', 'LFST_23_500_124.jpeg', 'LFST_23_500_125.jpeg', 'LFST_23_500_126.jpeg', 'LFST_23_500_127.jpeg', 'LFST_23_500_128.jpeg', 'LFST_23_500_129.jpeg', 'LFST_23_500_130.jpeg', 'LFST_23_500_131.jpeg', 'LFST_23_500_132.jpeg', 'LFST_23_500_133.jpeg', 'LFST_23_500_134.jpeg', 'LFST_23_500_135.jpeg', 'LFST_23_500_136.jpeg', 'LFST_23_500_137.jpeg', 'LFST_23_500_138.jpeg', 'LFST_23_500_139.jpeg', 'LFST_23_500_140.jpeg', 'LFST_23_500_141.jpeg', 'LFST_23_500_142.jpeg', 'LFST_23_500_143.jpeg', 'LFST_23_500_144.jpeg', 'LFST_23_500_145.jpeg', 'LFST_23_500_146.jpeg', 'LFST_23_500_147.jpeg', 'LFST_23_500_148.jpeg', 'LFST_23_500_149.jpeg', 'LFST_23_500_150.jpeg', 'LFST_23_500_151.jpeg', 'LFST_23_500_152.jpeg', 'LFST_23_500_153.jpeg', 'LFST_23_500_154.jpeg', 'LFST_23_500_155.jpeg', 'LFST_23_500_156.jpeg', 'LFST_23_500_157.jpeg', 'LFST_23_500_158.jpeg', 'LFST_23_500_159.jpeg', 'LFST_23_500_160.jpeg', 'LFST_23_500_161.jpeg', 'LFST_23_500_162.jpeg', 'LFST_23_500_163.jpeg', 'LFST_23_500_164.jpeg', 'LFST_23_500_165.jpeg', 'LFST_23_500_166.jpeg', 'LFST_23_500_167.jpeg', 'LFST_23_500_168.jpeg', 'LFST_23_500_169.jpeg', 'LFST_23_500_170.jpeg', 'LFST_23_500_171.jpeg', 'LFST_23_500_172.jpeg', 'LFST_23_500_173.jpeg', 'LFST_23_500_174.jpeg', 'LFST_23_500_175.jpeg', 'LFST_23_500_176.jpeg', 'LFST_23_500_177.jpeg', 'LFST_23_500_178.jpeg', 'LFST_23_500_179.jpeg', 'LFST_23_500_180.jpeg', 'LFST_23_500_181.jpeg', 'LFST_23_500_182.jpeg', 'LFST_23_500_183.jpeg', 'LFST_23_500_184.jpeg', 'LFST_23_500_185.jpeg', 'LFST_23_500_186.jpeg', 'LFST_23_500_187.jpeg', 'LFST_23_500_188.jpeg', 'LFST_23_500_189.jpeg', 'LFST_23_500_190.jpeg', 'LFST_23_500_191.jpeg', 'LFST_23_500_192.jpeg', 'LFST_23_500_193.jpeg', 'LFST_23_500_194.jpeg', 'LFST_23_500_195.jpeg', 'LFST_23_500_196.jpeg', 'LFST_23_500_197.jpeg', 'LFST_23_500_198.jpeg', 'LFST_23_500_199.jpeg', 'LFST_23_500_200.jpeg', 'LFST_23_500_201.jpeg', 'LFST_23_500_202.jpeg', 'LFST_23_500_203.jpeg', 'LFST_23_500_204.jpeg', 'LFST_23_500_205.jpeg', 'LFST_23_500_206.jpeg', 'LFST_23_500_207.jpeg', 'LFST_23_500_208.jpeg', 'LFST_23_500_209.jpeg', 'LFST_23_500_210.jpeg', 'LFST_23_500_211.jpeg', 'LFST_23_500_212.jpeg', 'LFST_23_500_213.jpeg', 'LFST_23_500_214.jpeg', 'LFST_23_500_215.jpeg', 'LFST_23_500_216.jpeg', 'LFST_23_500_217.jpeg', 'LFST_23_500_218.jpeg', 'LFST_23_500_219.jpeg', 'LFST_23_500_220.jpeg', 'LFST_23_500_221.jpeg', 'LFST_23_500_222.jpeg', 'LFST_23_500_223.jpeg', 'LFST_23_500_224.jpeg', 'LFST_23_500_225.jpeg', 'LFST_23_500_226.jpeg', 'LFST_23_500_227.jpeg', 'LFST_23_500_228.jpeg', 'LFST_23_500_229.jpeg', 'LFST_23_500_230.jpeg', 'LFST_23_500_231.jpeg', 'LFST_23_500_232.jpeg', 'LFST_23_500_233.jpeg', 'LFST_23_500_234.jpeg', 'LFST_23_500_235.jpeg', 'LFST_23_500_236.jpeg', 'LFST_23_500_237.jpeg', 'LFST_23_500_238.jpeg', 'LFST_23_500_239.jpeg', 'LFST_23_500_240.jpeg', 'LFST_23_500_241.jpeg', 'LFST_23_500_242.jpeg', 'LFST_23_500_243.jpeg', 'LFST_23_500_244.jpeg', 'LFST_23_500_245.jpeg', 'LFST_23_500_246.jpeg', 'LFST_23_500_247.jpeg', 'LFST_23_500_248.jpeg', 'LFST_23_500_249.jpeg', 'LFST_23_500_250.jpeg', 'LFST_23_500_251.jpeg', 'LFST_23_500_252.jpeg', 'LFST_23_500_253.jpeg', 'LFST_23_500_254.jpeg', 'LFST_23_500_255.jpeg', 'LFST_23_500_256.jpeg', 'LFST_23_500_257.jpeg', 'LFST_23_500_258.jpeg', 'LFST_23_500_259.jpeg', 'LFST_23_500_260.jpeg', 'LFST_23_500_261.jpeg', 'LFST_23_500_262.jpeg', 'LFST_23_500_263.jpeg', 'LFST_23_500_264.jpeg', 'LFST_23_500_265.jpeg', 'LFST_23_500_266.jpeg', 'LFST_23_500_267.jpeg', 'LFST_23_500_268.jpeg', 'LFST_23_500_269.jpeg', 'LFST_23_500_270.jpeg', 'LFST_23_500_271.jpeg', 'LFST_23_500_272.jpeg', 'LFST_23_500_273.jpeg', 'LFST_23_500_274.jpeg', 'LFST_23_500_275.jpeg', 'LFST_23_500_276.jpeg', 'LFST_23_500_277.jpeg', 'LFST_23_500_278.jpeg', 'LFST_23_500_279.jpeg', 'LFST_23_500_280.jpeg', 'LFST_23_500_281.jpeg', 'LFST_23_500_282.jpeg', 'LFST_23_500_283.jpeg', 'LFST_23_500_284.jpeg', 'LFST_23_500_285.jpeg', 'LFST_23_500_286.jpeg', 'LFST_23_500_287.jpeg', 'LFST_23_500_288.jpeg', 'LFST_23_500_289.jpeg', 'LFST_23_500_290.jpeg', 'LFST_23_500_291.jpeg', 'LFST_23_500_292.jpeg', 'LFST_23_500_293.jpeg', 'LFST_23_500_294.jpeg', 'LFST_23_500_295.jpeg', 'LFST_23_500_296.jpeg', 'LFST_23_500_297.jpeg', 'LFST_23_500_298.jpeg', 'LFST_23_500_299.jpeg', 'LFST_23_500_300.jpeg', 'LFST_23_500_301.jpeg', 'LFST_23_500_302.jpeg', 'LFST_23_500_303.jpeg', 'LFST_23_500_304.jpeg', 'LFST_23_500_305.jpeg', 'LFST_23_500_306.jpeg', 'LFST_23_500_307.jpeg', 'LFST_23_500_308.jpeg', 'LFST_23_500_309.jpeg', 'LFST_23_500_310.jpeg', 'LFST_23_500_311.jpeg', 'LFST_23_500_312.jpeg', 'LFST_23_500_313.jpeg', 'LFST_23_500_314.jpeg', 'LFST_23_500_315.jpeg', 'LFST_23_500_316.jpeg', 'LFST_23_500_317.jpeg', 'LFST_23_500_318.jpeg', 'LFST_23_500_319.jpeg', 'LFST_23_500_320.jpeg', 'LFST_23_500_321.jpeg', 'LFST_23_500_322.jpeg', 'LFST_23_500_323.jpeg', 'LFST_23_500_324.jpeg', 'LFST_23_500_325.jpeg', 'LFST_23_500_326.jpeg', 'LFST_23_500_327.jpeg', 'LFST_23_500_328.jpeg', 'LFST_23_500_329.jpeg', 'LFST_23_500_330.jpeg', 'LFST_23_500_331.jpeg', 'LFST_23_500_332.jpeg', 'LFST_23_500_333.jpeg', 'LFST_23_500_334.jpeg', 'LFST_23_500_335.jpeg', 'LFST_23_500_336.jpeg', 'LFST_23_500_337.jpeg', 'LFST_23_500_338.jpeg', 'LFST_23_500_339.jpeg', 'LFST_23_500_340.jpeg', 'LFST_23_500_341.jpeg', 'LFST_23_500_342.jpeg', 'LFST_23_500_343.jpeg', 'LFST_23_500_344.jpeg', 'LFST_23_500_345.jpeg', 'LFST_23_500_346.jpeg', 'LFST_23_500_347.jpeg', 'LFST_23_500_348.jpeg', 'LFST_23_500_349.jpeg', 'LFST_23_500_350.jpeg', 'LFST_23_500_351.jpeg', 'LFST_23_500_352.jpeg', 'LFST_23_500_353.jpeg', 'LFST_23_500_354.jpeg', 'LFST_23_500_355.jpeg', 'LFST_23_500_356.jpeg', 'LFST_23_500_357.jpeg', 'LFST_23_500_358.jpeg', 'LFST_23_500_359.jpeg', 'LFST_23_500_360.jpeg', 'LFST_23_500_361.jpeg', 'LFST_23_500_362.jpeg', 'LFST_23_500_363.jpeg', 'LFST_23_500_364.jpeg', 'LFST_23_500_365.jpeg', 'LFST_23_500_366.jpeg', 'LFST_23_500_367.jpeg', 'LFST_23_500_368.jpeg', 'LFST_23_500_369.jpeg', 'LFST_23_500_370.jpeg', 'LFST_23_500_371.jpeg', 'LFST_23_500_372.jpeg', 'LFST_23_500_373.jpeg', 'LFST_23_500_374.jpeg', 'LFST_23_500_375.jpeg', 'LFST_23_500_376.jpeg', 'LFST_23_500_377.jpeg', 'LFST_23_500_378.jpeg', 'LFST_23_500_379.jpeg', 'LFST_23_500_380.jpeg', 'LFST_23_500_381.jpeg', 'LFST_23_500_382.jpeg', 'LFST_23_500_383.jpeg', 'LFST_23_500_384.jpeg', 'LFST_23_500_385.jpeg', 'LFST_23_500_386.jpeg', 'LFST_23_500_387.jpeg', 'LFST_23_500_388.jpeg', 'LFST_23_500_389.jpeg', 'LFST_23_500_390.jpeg', 'LFST_23_500_391.jpeg', 'LFST_23_500_392.jpeg', 'LFST_23_500_393.jpeg', 'LFST_23_500_394.jpeg', 'LFST_23_500_395.jpeg', 'LFST_23_500_396.jpeg', 'LFST_23_500_397.jpeg', 'LFST_23_500_398.jpeg', 'LFST_23_500_399.jpeg', 'LFST_23_500_400.jpeg', 'LFST_23_500_401.jpeg', 'LFST_23_500_402.jpeg', 'LFST_23_500_403.jpeg', 'LFST_23_500_404.jpeg', 'LFST_23_500_405.jpeg', 'LFST_23_500_406.jpeg', 'LFST_23_500_407.jpeg', 'LFST_23_500_408.jpeg', 'LFST_23_500_409.jpeg', 'LFST_23_500_410.jpeg', 'LFST_23_500_411.jpeg', 'LFST_23_500_412.jpeg', 'LFST_23_500_413.jpeg', 'LFST_23_500_414.jpeg', 'LFST_23_500_415.jpeg', 'LFST_23_500_416.jpeg', 'LFST_23_500_417.jpeg', 'LFST_23_500_418.jpeg', 'LFST_23_500_419.jpeg', 'LFST_23_500_420.jpeg', 'LFST_23_500_421.jpeg', 'LFST_23_500_422.jpeg', 'LFST_23_500_423.jpeg', 'LFST_23_500_424.jpeg', 'LFST_23_500_425.jpeg', 'LFST_23_500_426.jpeg', 'LFST_23_500_427.jpeg', 'LFST_23_500_428.jpeg', 'LFST_23_500_429.jpeg', 'LFST_23_500_430.jpeg', 'LFST_23_500_431.jpeg', 'LFST_23_500_432.jpeg', 'LFST_23_500_433.jpeg', 'LFST_23_500_435.jpeg', 'LFST_23_500_436.jpeg', 'LFST_23_500_437.jpeg', 'LFST_23_500_438.jpeg', 'LFST_23_500_439.jpeg', 'LFST_23_500_440.jpeg', 'LFST_23_500_441.jpeg', 'LFST_23_500_443.jpeg', 'LFST_23_500_444.jpeg', 'LFST_23_500_445.jpeg', 'LFST_23_500_447.jpeg', 'LFST_23_500_448.jpeg', 'LFST_23_500_449.jpeg', 'LFST_23_500_452.jpeg']\n",
      "Total images found: 1819\n"
     ]
    }
   ],
   "source": [
    "print(\"Images found in the folder:\")\n",
    "print(os.listdir(image_folder))  # List all images in the folder\n",
    "\n",
    "# Confirm the number of images found\n",
    "print(f\"Total images found: {len(os.listdir(image_folder))}\")\n"
   ]
  },
  {
   "cell_type": "code",
   "execution_count": 71,
   "metadata": {},
   "outputs": [],
   "source": [
    "# Create output directory structure\n",
    "os.makedirs(f'{output_folder}/images/train', exist_ok=True)\n",
    "os.makedirs(f'{output_folder}/images/val', exist_ok=True)\n",
    "os.makedirs(f'{output_folder}/labels/train', exist_ok=True)\n",
    "os.makedirs(f'{output_folder}/labels/val', exist_ok=True)"
   ]
  },
  {
   "cell_type": "code",
   "execution_count": 72,
   "metadata": {},
   "outputs": [],
   "source": [
    "# Load the CSV metadata with semicolon separator\n",
    "df = pd.read_csv(csv_path, sep=';')"
   ]
  },
  {
   "cell_type": "code",
   "execution_count": 73,
   "metadata": {},
   "outputs": [
    {
     "name": "stdout",
     "output_type": "stream",
     "text": [
      "Adjusted Filenames from the CSV:\n",
      "0    BIRK_01_500_000.jpeg\n",
      "1    BIRK_01_500_001.jpeg\n",
      "2    BIRK_01_500_002.jpeg\n",
      "3    BIRK_01_500_003.jpeg\n",
      "4    BIRK_01_500_004.jpeg\n",
      "Name: image, dtype: object\n",
      "Total images found in folder: 1819\n",
      "All CSV images match with folder images!\n"
     ]
    }
   ],
   "source": [
    "# **New code to handle 'images/' prefix in CSV filenames**\n",
    "df['image'] = df['image'].str.replace('images/', '', regex=False).str.strip()\n",
    "\n",
    "# Verify the adjustment by printing the first few filenames\n",
    "print(\"Adjusted Filenames from the CSV:\")\n",
    "print(df['image'].head())  # Confirm that 'images/' prefix is removed\n",
    "\n",
    "# Collect all images from the folder and randomly sample a subset\n",
    "images = [img for img in os.listdir(image_folder) if img.endswith(('.jpg', '.jpeg'))]\n",
    "print(f\"Total images found in folder: {len(images)}\")\n",
    "\n",
    "# Check for missing images\n",
    "missing_files = [img for img in df['image'] if img not in images]\n",
    "if missing_files:\n",
    "    print(f\"These images are listed in the CSV but not found in the folder: {missing_files}\")\n",
    "else:\n",
    "    print(\"All CSV images match with folder images!\")"
   ]
  },
  {
   "cell_type": "code",
   "execution_count": 74,
   "metadata": {},
   "outputs": [],
   "source": [
    "# Sample images for train and val sets\n",
    "sampled_images = random.sample(images, min(subset_size, len(images)))\n",
    "num_train = len(sampled_images) // 2\n",
    "train_images = sampled_images[:num_train]\n",
    "val_images = sampled_images[num_train:]\n"
   ]
  },
  {
   "cell_type": "code",
   "execution_count": 75,
   "metadata": {},
   "outputs": [],
   "source": [
    "# Helper function to scale bounding boxes with image resizing\n",
    "def scale_bbox(corners, original_size, new_size):\n",
    "    orig_w, orig_h = original_size\n",
    "    new_w, new_h = new_size\n",
    "    x_scale = new_w / orig_w\n",
    "    y_scale = new_h / orig_h\n",
    "\n",
    "    # Scale each corner's X and Y coordinates\n",
    "    return [\n",
    "        corners[i] * x_scale if i % 2 == 0 else corners[i] * y_scale\n",
    "        for i in range(8)\n",
    "    ]\n",
    "\n",
    "# Helper function to convert scaled corners to YOLO format\n",
    "def convert_to_yolo(size, corners):\n",
    "    img_w, img_h = size\n",
    "    x_min = min([corners[i] for i in range(0, 8, 2)])\n",
    "    x_max = max([corners[i] for i in range(0, 8, 2)])\n",
    "    y_min = min([corners[i] for i in range(1, 8, 2)])\n",
    "    y_max = max([corners[i] for i in range(1, 8, 2)])\n",
    "\n",
    "    x_center = (x_min + x_max) / (2 * img_w)\n",
    "    y_center = (y_min + y_max) / (2 * img_h)\n",
    "    width = (x_max - x_min) / img_w\n",
    "    height = (y_max - y_min) / img_h\n",
    "    return 0, x_center, y_center, width, height  # Class ID is 0 for runway"
   ]
  },
  {
   "cell_type": "code",
   "execution_count": 76,
   "metadata": {},
   "outputs": [],
   "source": [
    "# Process images and generate labels for train/val sets\n",
    "for subset, image_list in [('train', train_images), ('val', val_images)]:\n",
    "    for img_file in image_list:\n",
    "        img_path = os.path.join(image_folder, img_file)\n",
    "\n",
    "        if not os.path.exists(img_path):\n",
    "            print(f\"Image not found: {img_path}\")\n",
    "            continue\n",
    "\n",
    "        img = cv2.imread(img_path)\n",
    "        if img is None:\n",
    "            print(f\"Failed to load image: {img_file}\")\n",
    "            continue\n",
    "\n",
    "        orig_h, orig_w = img.shape[:2]\n",
    "        img_resized = cv2.resize(img, (640, 640))\n",
    "        output_img_path = f'{output_folder}/images/{subset}/{img_file}'\n",
    "        cv2.imwrite(output_img_path, img_resized)\n",
    "\n",
    "        base_filename, _ = os.path.splitext(img_file)\n",
    "        label_file = os.path.join(output_folder, 'labels', subset, base_filename + '.txt')\n",
    "\n",
    "        try:\n",
    "            row = df[df['image'].str.strip().str.lower() == img_file.strip().lower()].iloc[0]\n",
    "            corners = row.iloc[-8:].values.astype(float)\n",
    "            scaled_corners = scale_bbox(corners, (orig_w, orig_h), (640, 640))\n",
    "            label_data = convert_to_yolo((640, 640), scaled_corners)\n",
    "\n",
    "            with open(label_file, 'w') as f:\n",
    "                f.write(\" \".join(map(str, label_data)) + '\\n')\n",
    "\n",
    "        except IndexError:\n",
    "            print(f\"No matching metadata found for image: {img_file}\")"
   ]
  },
  {
   "cell_type": "code",
   "execution_count": 77,
   "metadata": {},
   "outputs": [
    {
     "name": "stdout",
     "output_type": "stream",
     "text": [
      "Visualizing bounding boxes for train set:\n",
      "Label data for BIRK_13_500_009.jpeg: ['0', '0.4852941176470589', '0.4592145015105741', '0.017973856209150353', '0.011329305135951716']\n"
     ]
    },
    {
     "data": {
      "text/plain": [
       "<Figure size 600x600 with 1 Axes>"
      ]
     },
     "metadata": {},
     "output_type": "display_data"
    },
    {
     "name": "stdout",
     "output_type": "stream",
     "text": [
      "Label data for BIRK_01_500_326.jpeg: ['0', '0.588031045751634', '0.3972809667673716', '0.05024509803921564', '0.03625377643504528']\n"
     ]
    },
    {
     "data": {
      "text/plain": [
       "<Figure size 600x600 with 1 Axes>"
      ]
     },
     "metadata": {},
     "output_type": "display_data"
    },
    {
     "name": "stdout",
     "output_type": "stream",
     "text": [
      "Label data for BIRK_13_500_158.jpeg: ['0', '0.36131535947712423', '0.4679003021148036', '0.01674836601307188', '0.014350453172205402']\n"
     ]
    },
    {
     "data": {
      "text/plain": [
       "<Figure size 600x600 with 1 Axes>"
      ]
     },
     "metadata": {},
     "output_type": "display_data"
    },
    {
     "name": "stdout",
     "output_type": "stream",
     "text": [
      "Visualizing bounding boxes for val set:\n",
      "Label data for BIRK_13_500_082.jpeg: ['0', '0.644812091503268', '0.4097432024169184', '0.02246732026143796', '0.01283987915407856']\n"
     ]
    },
    {
     "data": {
      "text/plain": [
       "<Figure size 600x600 with 1 Axes>"
      ]
     },
     "metadata": {},
     "output_type": "display_data"
    },
    {
     "name": "stdout",
     "output_type": "stream",
     "text": [
      "Label data for LFST_05_500_018.jpeg: ['0', '0.5516748366013072', '0.41597432024169195', '0.02083333333333339', '0.0154833836858006']\n"
     ]
    },
    {
     "data": {
      "text/plain": [
       "<Figure size 600x600 with 1 Axes>"
      ]
     },
     "metadata": {},
     "output_type": "display_data"
    },
    {
     "name": "stdout",
     "output_type": "stream",
     "text": [
      "Label data for BIRK_01_500_188.jpeg: ['0', '0.15972222222222224', '0.5521148036253777', '0.025326797385620915', '0.02794561933534743']\n"
     ]
    },
    {
     "data": {
      "text/plain": [
       "<Figure size 600x600 with 1 Axes>"
      ]
     },
     "metadata": {},
     "output_type": "display_data"
    }
   ],
   "source": [
    "import matplotlib.pyplot as plt\n",
    "\n",
    "def visualize_resized_images_with_labels(image_path, corners):\n",
    "    \"\"\"Function to visualize resized images with their bounding boxes.\"\"\"\n",
    "    # Load and resize the image\n",
    "    img = cv2.imread(image_path)\n",
    "    img_resized = cv2.resize(img, (640, 640))\n",
    "\n",
    "    # Draw the bounding box on the image\n",
    "    points = [(int(corners[i]), int(corners[i + 1])) for i in range(0, 8, 2)]\n",
    "    for j in range(len(points)):\n",
    "        cv2.line(img_resized, points[j], points[(j + 1) % 4], (0, 255, 0), 2)\n",
    "\n",
    "    # Display the image with the bounding box\n",
    "    plt.figure(figsize=(6, 6))\n",
    "    plt.imshow(cv2.cvtColor(img_resized, cv2.COLOR_BGR2RGB))\n",
    "    plt.axis('off')\n",
    "    plt.show()\n",
    "\n",
    "for subset in ['train', 'val']:\n",
    "    print(f\"Visualizing bounding boxes for {subset} set:\")\n",
    "    image_list = os.listdir(f'{output_folder}/images/{subset}')\n",
    "\n",
    "    # Visualize up to 3 random images from the subset\n",
    "    for img_file in random.sample(image_list, min(3, len(image_list))):\n",
    "        img_path = os.path.join(output_folder, 'images', subset, img_file)\n",
    "\n",
    "        # Load the corresponding label file\n",
    "        label_file = os.path.join(\n",
    "            output_folder, 'labels', subset, \n",
    "            img_file.replace('.jpeg', '.txt').replace('.jpg', '.txt')\n",
    "        )\n",
    "\n",
    "        with open(label_file, 'r') as f:\n",
    "            label_data = f.readline().strip().split()\n",
    "\n",
    "        # Print the label data to debug\n",
    "        print(f\"Label data for {img_file}: {label_data}\")\n",
    "\n",
    "        # Ensure the label is valid\n",
    "        if len(label_data) == 5:\n",
    "            # Extract class_id as integer and bounding box values as floats\n",
    "            class_id = int(label_data[0])\n",
    "            x_center, y_center, width, height = map(float, label_data[1:])\n",
    "\n",
    "            # Convert YOLO format back to corner points for visualization\n",
    "            img_w, img_h = 640, 640  # Resized dimensions\n",
    "            x_min = int((x_center - width / 2) * img_w)\n",
    "            x_max = int((x_center + width / 2) * img_w)\n",
    "            y_min = int((y_center - height / 2) * img_h)\n",
    "            y_max = int((y_center + height / 2) * img_h)\n",
    "\n",
    "            # Prepare corner coordinates for visualization\n",
    "            corners = [x_min, y_min, x_max, y_min, x_max, y_max, x_min, y_max]\n",
    "\n",
    "            # Visualize the image with bounding box using the helper function\n",
    "            visualize_resized_images_with_labels(img_path, corners)\n",
    "        else:\n",
    "            print(f\"Skipping {img_file} due to invalid label format.\")\n",
    "\n"
   ]
  },
  {
   "cell_type": "code",
   "execution_count": 78,
   "metadata": {},
   "outputs": [],
   "source": [
    "#SKIP FOR NOW WILL HaRDCOODE YAM FILE\n",
    "# Create YAML configuration file\n",
    "#yaml_content = f\"\"\"path: {output_folder}\n",
    "#train: images/train\n",
    "#val: images/val\n",
    "#nc: 1\n",
    "#names: ['runway']\n",
    "#\"\"\""
   ]
  },
  {
   "cell_type": "code",
   "execution_count": 79,
   "metadata": {},
   "outputs": [],
   "source": [
    "#SKIP FOR NOW WILL HaRDCOODE YAM FILE\n",
    "#with open(f'{output_folder}/runway.yaml', 'w') as f:\n",
    "   # f.write(yaml_content)\n",
    "\n",
    "#print(\"Data preparation complete!\")"
   ]
  },
  {
   "cell_type": "code",
   "execution_count": 80,
   "metadata": {},
   "outputs": [
    {
     "name": "stdout",
     "output_type": "stream",
     "text": [
      "Ultralytics 8.3.23  Python-3.11.9 torch-2.5.0+cpu CPU (AMD Ryzen 7 5800X 8-Core Processor)\n",
      "\u001b[34m\u001b[1mengine\\trainer: \u001b[0mtask=detect, mode=train, model=yolov8n.pt, data=dataset_demo\\runway.yaml, epochs=10, time=None, patience=100, batch=16, imgsz=640, save=True, save_period=-1, cache=False, device=None, workers=8, project=None, name=train18, exist_ok=False, pretrained=True, optimizer=auto, verbose=True, seed=0, deterministic=True, single_cls=False, rect=False, cos_lr=False, close_mosaic=10, resume=False, amp=True, fraction=1.0, profile=False, freeze=None, multi_scale=False, overlap_mask=True, mask_ratio=4, dropout=0.0, val=True, split=val, save_json=False, save_hybrid=False, conf=None, iou=0.7, max_det=300, half=False, dnn=False, plots=True, source=None, vid_stride=1, stream_buffer=False, visualize=False, augment=False, agnostic_nms=False, classes=None, retina_masks=False, embed=None, show=False, save_frames=False, save_txt=False, save_conf=False, save_crop=False, show_labels=True, show_conf=True, show_boxes=True, line_width=None, format=torchscript, keras=False, optimize=False, int8=False, dynamic=False, simplify=True, opset=None, workspace=4, nms=False, lr0=0.01, lrf=0.01, momentum=0.937, weight_decay=0.0005, warmup_epochs=3.0, warmup_momentum=0.8, warmup_bias_lr=0.1, box=7.5, cls=0.5, dfl=1.5, pose=12.0, kobj=1.0, label_smoothing=0.0, nbs=64, hsv_h=0.015, hsv_s=0.7, hsv_v=0.4, degrees=0.0, translate=0.1, scale=0.5, shear=0.0, perspective=0.0, flipud=0.0, fliplr=0.5, bgr=0.0, mosaic=1.0, mixup=0.0, copy_paste=0.0, copy_paste_mode=flip, auto_augment=randaugment, erasing=0.4, crop_fraction=1.0, cfg=None, tracker=botsort.yaml, save_dir=runs\\detect\\train18\n",
      "Overriding model.yaml nc=80 with nc=1\n",
      "\n",
      "                   from  n    params  module                                       arguments                     \n",
      "  0                  -1  1       464  ultralytics.nn.modules.conv.Conv             [3, 16, 3, 2]                 \n",
      "  1                  -1  1      4672  ultralytics.nn.modules.conv.Conv             [16, 32, 3, 2]                \n",
      "  2                  -1  1      7360  ultralytics.nn.modules.block.C2f             [32, 32, 1, True]             \n",
      "  3                  -1  1     18560  ultralytics.nn.modules.conv.Conv             [32, 64, 3, 2]                \n",
      "  4                  -1  2     49664  ultralytics.nn.modules.block.C2f             [64, 64, 2, True]             \n",
      "  5                  -1  1     73984  ultralytics.nn.modules.conv.Conv             [64, 128, 3, 2]               \n",
      "  6                  -1  2    197632  ultralytics.nn.modules.block.C2f             [128, 128, 2, True]           \n",
      "  7                  -1  1    295424  ultralytics.nn.modules.conv.Conv             [128, 256, 3, 2]              \n",
      "  8                  -1  1    460288  ultralytics.nn.modules.block.C2f             [256, 256, 1, True]           \n",
      "  9                  -1  1    164608  ultralytics.nn.modules.block.SPPF            [256, 256, 5]                 \n",
      " 10                  -1  1         0  torch.nn.modules.upsampling.Upsample         [None, 2, 'nearest']          \n",
      " 11             [-1, 6]  1         0  ultralytics.nn.modules.conv.Concat           [1]                           \n",
      " 12                  -1  1    148224  ultralytics.nn.modules.block.C2f             [384, 128, 1]                 \n",
      " 13                  -1  1         0  torch.nn.modules.upsampling.Upsample         [None, 2, 'nearest']          \n",
      " 14             [-1, 4]  1         0  ultralytics.nn.modules.conv.Concat           [1]                           \n",
      " 15                  -1  1     37248  ultralytics.nn.modules.block.C2f             [192, 64, 1]                  \n",
      " 16                  -1  1     36992  ultralytics.nn.modules.conv.Conv             [64, 64, 3, 2]                \n",
      " 17            [-1, 12]  1         0  ultralytics.nn.modules.conv.Concat           [1]                           \n",
      " 18                  -1  1    123648  ultralytics.nn.modules.block.C2f             [192, 128, 1]                 \n",
      " 19                  -1  1    147712  ultralytics.nn.modules.conv.Conv             [128, 128, 3, 2]              \n",
      " 20             [-1, 9]  1         0  ultralytics.nn.modules.conv.Concat           [1]                           \n",
      " 21                  -1  1    493056  ultralytics.nn.modules.block.C2f             [384, 256, 1]                 \n",
      " 22        [15, 18, 21]  1    751507  ultralytics.nn.modules.head.Detect           [1, [64, 128, 256]]           \n",
      "Model summary: 225 layers, 3,011,043 parameters, 3,011,027 gradients, 8.2 GFLOPs\n",
      "\n",
      "Transferred 319/355 items from pretrained weights\n",
      "Freezing layer 'model.22.dfl.conv.weight'\n"
     ]
    },
    {
     "name": "stderr",
     "output_type": "stream",
     "text": [
      "\u001b[34m\u001b[1mtrain: \u001b[0mScanning C:\\Users\\Annabelle\\Desktop\\runway-bounding-box-detection NEW\\dataset_demo\\labels\\train... 10 images, 0 backgrounds, 0 corrupt: 100%|██████████| 10/10 [00:00<00:00, 3329.87it/s]"
     ]
    },
    {
     "name": "stdout",
     "output_type": "stream",
     "text": [
      "\u001b[34m\u001b[1mtrain: \u001b[0mNew cache created: C:\\Users\\Annabelle\\Desktop\\runway-bounding-box-detection NEW\\dataset_demo\\labels\\train.cache\n"
     ]
    },
    {
     "name": "stderr",
     "output_type": "stream",
     "text": [
      "\n",
      "\u001b[34m\u001b[1mval: \u001b[0mScanning C:\\Users\\Annabelle\\Desktop\\runway-bounding-box-detection NEW\\dataset_demo\\labels\\val... 10 images, 0 backgrounds, 0 corrupt: 100%|██████████| 10/10 [00:00<00:00, 3330.93it/s]"
     ]
    },
    {
     "name": "stdout",
     "output_type": "stream",
     "text": [
      "\u001b[34m\u001b[1mval: \u001b[0mNew cache created: C:\\Users\\Annabelle\\Desktop\\runway-bounding-box-detection NEW\\dataset_demo\\labels\\val.cache\n",
      "Plotting labels to runs\\detect\\train18\\labels.jpg... \n"
     ]
    },
    {
     "name": "stderr",
     "output_type": "stream",
     "text": [
      "\n"
     ]
    },
    {
     "name": "stdout",
     "output_type": "stream",
     "text": [
      "\u001b[34m\u001b[1moptimizer:\u001b[0m 'optimizer=auto' found, ignoring 'lr0=0.01' and 'momentum=0.937' and determining best 'optimizer', 'lr0' and 'momentum' automatically... \n",
      "\u001b[34m\u001b[1moptimizer:\u001b[0m AdamW(lr=0.002, momentum=0.9) with parameter groups 57 weight(decay=0.0), 64 weight(decay=0.0005), 63 bias(decay=0.0)\n",
      "Image sizes 640 train, 640 val\n",
      "Using 0 dataloader workers\n",
      "Logging results to \u001b[1mruns\\detect\\train18\u001b[0m\n",
      "Starting training for 10 epochs...\n",
      "Closing dataloader mosaic\n",
      "\n",
      "      Epoch    GPU_mem   box_loss   cls_loss   dfl_loss  Instances       Size\n"
     ]
    },
    {
     "name": "stderr",
     "output_type": "stream",
     "text": [
      "       1/10         0G       2.99      7.855      1.929         10        640: 100%|██████████| 1/1 [00:01<00:00,  1.89s/it]\n",
      "                 Class     Images  Instances      Box(P          R      mAP50  mAP50-95): 100%|██████████| 1/1 [00:00<00:00,  1.52it/s]"
     ]
    },
    {
     "name": "stdout",
     "output_type": "stream",
     "text": [
      "                   all         10         10          0          0          0          0\n"
     ]
    },
    {
     "name": "stderr",
     "output_type": "stream",
     "text": [
      "\n"
     ]
    },
    {
     "name": "stdout",
     "output_type": "stream",
     "text": [
      "\n",
      "      Epoch    GPU_mem   box_loss   cls_loss   dfl_loss  Instances       Size\n"
     ]
    },
    {
     "name": "stderr",
     "output_type": "stream",
     "text": [
      "       2/10         0G      3.079      7.743      1.855         10        640: 100%|██████████| 1/1 [00:01<00:00,  1.80s/it]\n",
      "                 Class     Images  Instances      Box(P          R      mAP50  mAP50-95): 100%|██████████| 1/1 [00:00<00:00,  1.54it/s]"
     ]
    },
    {
     "name": "stdout",
     "output_type": "stream",
     "text": [
      "                   all         10         10   0.000333        0.1   0.000201   2.01e-05\n"
     ]
    },
    {
     "name": "stderr",
     "output_type": "stream",
     "text": [
      "\n"
     ]
    },
    {
     "name": "stdout",
     "output_type": "stream",
     "text": [
      "\n",
      "      Epoch    GPU_mem   box_loss   cls_loss   dfl_loss  Instances       Size\n"
     ]
    },
    {
     "name": "stderr",
     "output_type": "stream",
     "text": [
      "       3/10         0G      2.792      7.004      1.738         10        640: 100%|██████████| 1/1 [00:01<00:00,  1.79s/it]\n",
      "                 Class     Images  Instances      Box(P          R      mAP50  mAP50-95): 100%|██████████| 1/1 [00:00<00:00,  1.55it/s]"
     ]
    },
    {
     "name": "stdout",
     "output_type": "stream",
     "text": [
      "                   all         10         10      0.001        0.3   0.000653   0.000263\n"
     ]
    },
    {
     "name": "stderr",
     "output_type": "stream",
     "text": [
      "\n"
     ]
    },
    {
     "name": "stdout",
     "output_type": "stream",
     "text": [
      "\n",
      "      Epoch    GPU_mem   box_loss   cls_loss   dfl_loss  Instances       Size\n"
     ]
    },
    {
     "name": "stderr",
     "output_type": "stream",
     "text": [
      "       4/10         0G      2.954      7.891      1.839         10        640: 100%|██████████| 1/1 [00:01<00:00,  1.76s/it]\n",
      "                 Class     Images  Instances      Box(P          R      mAP50  mAP50-95): 100%|██████████| 1/1 [00:00<00:00,  1.55it/s]"
     ]
    },
    {
     "name": "stdout",
     "output_type": "stream",
     "text": [
      "                   all         10         10      0.001        0.3    0.00067   0.000337\n"
     ]
    },
    {
     "name": "stderr",
     "output_type": "stream",
     "text": [
      "\n"
     ]
    },
    {
     "name": "stdout",
     "output_type": "stream",
     "text": [
      "\n",
      "      Epoch    GPU_mem   box_loss   cls_loss   dfl_loss  Instances       Size\n"
     ]
    },
    {
     "name": "stderr",
     "output_type": "stream",
     "text": [
      "       5/10         0G      2.672      6.295      1.676         10        640: 100%|██████████| 1/1 [00:01<00:00,  1.77s/it]\n",
      "                 Class     Images  Instances      Box(P          R      mAP50  mAP50-95): 100%|██████████| 1/1 [00:00<00:00,  1.57it/s]"
     ]
    },
    {
     "name": "stdout",
     "output_type": "stream",
     "text": [
      "                   all         10         10      0.001        0.3   0.000719   0.000357\n"
     ]
    },
    {
     "name": "stderr",
     "output_type": "stream",
     "text": [
      "\n"
     ]
    },
    {
     "name": "stdout",
     "output_type": "stream",
     "text": [
      "\n",
      "      Epoch    GPU_mem   box_loss   cls_loss   dfl_loss  Instances       Size\n"
     ]
    },
    {
     "name": "stderr",
     "output_type": "stream",
     "text": [
      "       6/10         0G      2.386      6.087      1.469         10        640: 100%|██████████| 1/1 [00:01<00:00,  1.78s/it]\n",
      "                 Class     Images  Instances      Box(P          R      mAP50  mAP50-95): 100%|██████████| 1/1 [00:00<00:00,  1.52it/s]"
     ]
    },
    {
     "name": "stdout",
     "output_type": "stream",
     "text": [
      "                   all         10         10    0.00133        0.4   0.000997   0.000444\n"
     ]
    },
    {
     "name": "stderr",
     "output_type": "stream",
     "text": [
      "\n"
     ]
    },
    {
     "name": "stdout",
     "output_type": "stream",
     "text": [
      "\n",
      "      Epoch    GPU_mem   box_loss   cls_loss   dfl_loss  Instances       Size\n"
     ]
    },
    {
     "name": "stderr",
     "output_type": "stream",
     "text": [
      "       7/10         0G       2.38      6.476      1.377         10        640: 100%|██████████| 1/1 [00:01<00:00,  1.78s/it]\n",
      "                 Class     Images  Instances      Box(P          R      mAP50  mAP50-95): 100%|██████████| 1/1 [00:00<00:00,  1.57it/s]"
     ]
    },
    {
     "name": "stdout",
     "output_type": "stream",
     "text": [
      "                   all         10         10    0.00167        0.5    0.00142   0.000555\n"
     ]
    },
    {
     "name": "stderr",
     "output_type": "stream",
     "text": [
      "\n"
     ]
    },
    {
     "name": "stdout",
     "output_type": "stream",
     "text": [
      "\n",
      "      Epoch    GPU_mem   box_loss   cls_loss   dfl_loss  Instances       Size\n"
     ]
    },
    {
     "name": "stderr",
     "output_type": "stream",
     "text": [
      "       8/10         0G      2.116      6.099      1.319         10        640: 100%|██████████| 1/1 [00:01<00:00,  1.78s/it]\n",
      "                 Class     Images  Instances      Box(P          R      mAP50  mAP50-95): 100%|██████████| 1/1 [00:00<00:00,  1.54it/s]"
     ]
    },
    {
     "name": "stdout",
     "output_type": "stream",
     "text": [
      "                   all         10         10    0.00167        0.5    0.00149    0.00059\n"
     ]
    },
    {
     "name": "stderr",
     "output_type": "stream",
     "text": [
      "\n"
     ]
    },
    {
     "name": "stdout",
     "output_type": "stream",
     "text": [
      "\n",
      "      Epoch    GPU_mem   box_loss   cls_loss   dfl_loss  Instances       Size\n"
     ]
    },
    {
     "name": "stderr",
     "output_type": "stream",
     "text": [
      "       9/10         0G      1.959      6.252      1.148         10        640: 100%|██████████| 1/1 [00:01<00:00,  1.78s/it]\n",
      "                 Class     Images  Instances      Box(P          R      mAP50  mAP50-95): 100%|██████████| 1/1 [00:00<00:00,  1.56it/s]"
     ]
    },
    {
     "name": "stdout",
     "output_type": "stream",
     "text": [
      "                   all         10         10      0.002        0.6    0.00177   0.000781\n"
     ]
    },
    {
     "name": "stderr",
     "output_type": "stream",
     "text": [
      "\n"
     ]
    },
    {
     "name": "stdout",
     "output_type": "stream",
     "text": [
      "\n",
      "      Epoch    GPU_mem   box_loss   cls_loss   dfl_loss  Instances       Size\n"
     ]
    },
    {
     "name": "stderr",
     "output_type": "stream",
     "text": [
      "      10/10         0G      1.934      5.683      1.282         10        640: 100%|██████████| 1/1 [00:01<00:00,  1.78s/it]\n",
      "                 Class     Images  Instances      Box(P          R      mAP50  mAP50-95): 100%|██████████| 1/1 [00:00<00:00,  1.57it/s]"
     ]
    },
    {
     "name": "stdout",
     "output_type": "stream",
     "text": [
      "                   all         10         10      0.002        0.6    0.00187   0.000832\n"
     ]
    },
    {
     "name": "stderr",
     "output_type": "stream",
     "text": [
      "\n"
     ]
    },
    {
     "name": "stdout",
     "output_type": "stream",
     "text": [
      "\n",
      "10 epochs completed in 0.008 hours.\n",
      "Optimizer stripped from runs\\detect\\train18\\weights\\last.pt, 6.2MB\n",
      "Optimizer stripped from runs\\detect\\train18\\weights\\best.pt, 6.2MB\n",
      "\n",
      "Validating runs\\detect\\train18\\weights\\best.pt...\n",
      "Ultralytics 8.3.23  Python-3.11.9 torch-2.5.0+cpu CPU (AMD Ryzen 7 5800X 8-Core Processor)\n",
      "Model summary (fused): 168 layers, 3,005,843 parameters, 0 gradients, 8.1 GFLOPs\n"
     ]
    },
    {
     "name": "stderr",
     "output_type": "stream",
     "text": [
      "                 Class     Images  Instances      Box(P          R      mAP50  mAP50-95): 100%|██████████| 1/1 [00:00<00:00,  1.59it/s]\n"
     ]
    },
    {
     "name": "stdout",
     "output_type": "stream",
     "text": [
      "                   all         10         10      0.002        0.6    0.00185   0.000849\n",
      "Speed: 1.5ms preprocess, 49.9ms inference, 0.0ms loss, 5.8ms postprocess per image\n",
      "Results saved to \u001b[1mruns\\detect\\train18\u001b[0m\n",
      "\n",
      "image 1/1 c:\\Users\\Annabelle\\Desktop\\runway-bounding-box-detection NEW\\test_image_resized.jpeg: 640x640 (no detections), 37.5ms\n",
      "Speed: 2.0ms preprocess, 37.5ms inference, 0.0ms postprocess per image at shape (1, 3, 640, 640)\n",
      "Detected boxes: ultralytics.engine.results.Boxes object with attributes:\n",
      "\n",
      "cls: tensor([])\n",
      "conf: tensor([])\n",
      "data: tensor([], size=(0, 6))\n",
      "id: None\n",
      "is_track: False\n",
      "orig_shape: (640, 640)\n",
      "shape: torch.Size([0, 6])\n",
      "xywh: tensor([], size=(0, 4))\n",
      "xywhn: tensor([], size=(0, 4))\n",
      "xyxy: tensor([], size=(0, 4))\n",
      "xyxyn: tensor([], size=(0, 4))\n"
     ]
    }
   ],
   "source": [
    "# Initialize the YOLOv8 model and train it\n",
    "model = YOLO('yolov8n.pt')\n",
    "model.train(data=os.path.join(output_folder, 'runway.yaml'), epochs=10, imgsz=640)\n",
    "\n",
    "# Test the model on a resized test image\n",
    "test_image = r'C:\\Users\\Annabelle\\Desktop\\runway-bounding-box-detection NEW\\test_image.jpeg'\n",
    "img = cv2.imread(test_image)\n",
    "img_resized = cv2.resize(img, (640, 640))\n",
    "cv2.imwrite('test_image_resized.jpeg', img_resized)\n",
    "\n",
    "# Run prediction on the resized test image\n",
    "results = model.predict(source='test_image_resized.jpeg', show=True)\n",
    "for r in results:\n",
    "    print(f\"Detected boxes: {r.boxes}\")\n",
    "    r.show()"
   ]
  }
 ],
 "metadata": {
  "kernelspec": {
   "display_name": "venv",
   "language": "python",
   "name": "python3"
  },
  "language_info": {
   "codemirror_mode": {
    "name": "ipython",
    "version": 3
   },
   "file_extension": ".py",
   "mimetype": "text/x-python",
   "name": "python",
   "nbconvert_exporter": "python",
   "pygments_lexer": "ipython3",
   "version": "3.11.9"
  }
 },
 "nbformat": 4,
 "nbformat_minor": 2
}
